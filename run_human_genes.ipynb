{
 "cells": [
  {
   "cell_type": "code",
   "execution_count": 1,
   "id": "8a960741-324b-43d8-a5f9-0cdbb7d8cd50",
   "metadata": {},
   "outputs": [],
   "source": [
    "import os"
   ]
  },
  {
   "cell_type": "markdown",
   "id": "bd4772f8-f0d7-43e0-84e7-09ec9d64c359",
   "metadata": {},
   "source": [
    "# Dask Configuration"
   ]
  },
  {
   "cell_type": "code",
   "execution_count": 2,
   "id": "a7b14736-19b8-4d0a-8013-ce2d1ec8ca75",
   "metadata": {},
   "outputs": [],
   "source": [
    "from dask_jobqueue import PBSCluster\n",
    "from pathlib import Path\n",
    "\n",
    "# Define the working directory path\n",
    "working_directory = str(Path.cwd())\n",
    "\n",
    "# Launch a scheduler and workers on HPC via PBS\n",
    "cluster = PBSCluster(\n",
    "     cores=4,\n",
    "     memory=\"8GB\",\n",
    "     processes=1,\n",
    "     queue=\"tamirQ\",\n",
    "     walltime=\"02:30:00\",\n",
    "     scheduler_options={\"dashboard_address\": \":12435\"},  # FIXME - this is the port we need to define...\n",
    "     # Additional custom options\n",
    "     log_directory=\"dask-logs\",\n",
    "     #worker_extra_args=[\"--lifetime\", \"25m\", \"--lifetime-stagger\", \"4m\"],  # for walltime=\"00:30:00\"\n",
    "     job_script_prologue=[f\"cd {working_directory}\"]\n",
    ")"
   ]
  },
  {
   "cell_type": "code",
   "execution_count": 3,
   "id": "29aa0486-2fe4-4cd9-b8cc-b7ef00b8f0a6",
   "metadata": {},
   "outputs": [
    {
     "data": {
      "application/vnd.jupyter.widget-view+json": {
       "model_id": "aae9dbbd9c4145ee8b4db04649e736de",
       "version_major": 2,
       "version_minor": 0
      },
      "text/html": [
       "<div class=\"jp-RenderedHTMLCommon jp-RenderedHTML jp-mod-trusted jp-OutputArea-output\">\n",
       "    <div style=\"width: 24px; height: 24px; background-color: #e1e1e1; border: 3px solid #9D9D9D; border-radius: 5px; position: absolute;\">\n",
       "    </div>\n",
       "    <div style=\"margin-left: 48px;\">\n",
       "        <h3 style=\"margin-bottom: 0px; margin-top: 0px;\">PBSCluster</h3>\n",
       "        <p style=\"color: #9D9D9D; margin-bottom: 0px;\">c1a322c3</p>\n",
       "        <table style=\"width: 100%; text-align: left;\">\n",
       "            <tr>\n",
       "                <td style=\"text-align: left;\">\n",
       "                    <strong>Dashboard:</strong> <a href=\"http://132.66.112.146:12435/status\" target=\"_blank\">http://132.66.112.146:12435/status</a>\n",
       "                </td>\n",
       "                <td style=\"text-align: left;\">\n",
       "                    <strong>Workers:</strong> 0\n",
       "                </td>\n",
       "            </tr>\n",
       "            <tr>\n",
       "                <td style=\"text-align: left;\">\n",
       "                    <strong>Total threads:</strong> 0\n",
       "                </td>\n",
       "                <td style=\"text-align: left;\">\n",
       "                    <strong>Total memory:</strong> 0 B\n",
       "                </td>\n",
       "            </tr>\n",
       "            \n",
       "        </table>\n",
       "\n",
       "        <details>\n",
       "            <summary style=\"margin-bottom: 20px;\">\n",
       "                <h3 style=\"display: inline;\">Scheduler Info</h3>\n",
       "            </summary>\n",
       "\n",
       "            <div style=\"\">\n",
       "    <div>\n",
       "        <div style=\"width: 24px; height: 24px; background-color: #FFF7E5; border: 3px solid #FF6132; border-radius: 5px; position: absolute;\"> </div>\n",
       "        <div style=\"margin-left: 48px;\">\n",
       "            <h3 style=\"margin-bottom: 0px;\">Scheduler</h3>\n",
       "            <p style=\"color: #9D9D9D; margin-bottom: 0px;\">Scheduler-e2aea3e9-4339-4f2a-b44b-4b2785b5c9eb</p>\n",
       "            <table style=\"width: 100%; text-align: left;\">\n",
       "                <tr>\n",
       "                    <td style=\"text-align: left;\">\n",
       "                        <strong>Comm:</strong> tcp://132.66.112.146:40465\n",
       "                    </td>\n",
       "                    <td style=\"text-align: left;\">\n",
       "                        <strong>Workers:</strong> 0\n",
       "                    </td>\n",
       "                </tr>\n",
       "                <tr>\n",
       "                    <td style=\"text-align: left;\">\n",
       "                        <strong>Dashboard:</strong> <a href=\"http://132.66.112.146:12435/status\" target=\"_blank\">http://132.66.112.146:12435/status</a>\n",
       "                    </td>\n",
       "                    <td style=\"text-align: left;\">\n",
       "                        <strong>Total threads:</strong> 0\n",
       "                    </td>\n",
       "                </tr>\n",
       "                <tr>\n",
       "                    <td style=\"text-align: left;\">\n",
       "                        <strong>Started:</strong> Just now\n",
       "                    </td>\n",
       "                    <td style=\"text-align: left;\">\n",
       "                        <strong>Total memory:</strong> 0 B\n",
       "                    </td>\n",
       "                </tr>\n",
       "            </table>\n",
       "        </div>\n",
       "    </div>\n",
       "\n",
       "    <details style=\"margin-left: 48px;\">\n",
       "        <summary style=\"margin-bottom: 20px;\">\n",
       "            <h3 style=\"display: inline;\">Workers</h3>\n",
       "        </summary>\n",
       "\n",
       "        \n",
       "\n",
       "    </details>\n",
       "</div>\n",
       "\n",
       "        </details>\n",
       "    </div>\n",
       "</div>"
      ],
      "text/plain": [
       "PBSCluster(c1a322c3, 'tcp://132.66.112.146:40465', workers=0, threads=0, memory=0 B)"
      ]
     },
     "metadata": {},
     "output_type": "display_data"
    }
   ],
   "source": [
    "cluster"
   ]
  },
  {
   "cell_type": "code",
   "execution_count": 4,
   "id": "fccffd2e-c459-4c2d-86bf-310ce9785428",
   "metadata": {},
   "outputs": [
    {
     "name": "stdout",
     "output_type": "stream",
     "text": [
      "#!/usr/bin/env bash\n",
      "\n",
      "#PBS -N dask-worker\n",
      "#PBS -q tamirQ\n",
      "#PBS -l select=1:ncpus=4:mem=7630MB\n",
      "#PBS -l walltime=02:30:00\n",
      "#PBS -e dask-logs/\n",
      "#PBS -o dask-logs/\n",
      "cd /tamir2/moranb/microbiome/Igem_TAU_2021\n",
      "/tamir2/moranb/microbiome/Igem_TAU_2021/venv/bin/python -m distributed.cli.dask_worker tcp://132.66.112.146:40465 --nthreads 4 --memory-limit 7.45GiB --name dummy-name --nanny --death-timeout 60\n",
      "\n"
     ]
    }
   ],
   "source": [
    "cluster.adapt(minimum=30, maximum=60)\n",
    "print(cluster.job_script())"
   ]
  },
  {
   "cell_type": "code",
   "execution_count": 5,
   "id": "c98d4ca8-a2e6-47e2-8d2a-2130e31cce08",
   "metadata": {},
   "outputs": [],
   "source": [
    "from dask.distributed import Client, progress, wait, get_client, get_worker\n",
    "client = Client(cluster)"
   ]
  },
  {
   "cell_type": "code",
   "execution_count": 6,
   "id": "aae6f110-24fb-4f40-8a72-5623a081cc73",
   "metadata": {},
   "outputs": [
    {
     "data": {
      "text/html": [
       "<div>\n",
       "    <div style=\"width: 24px; height: 24px; background-color: #e1e1e1; border: 3px solid #9D9D9D; border-radius: 5px; position: absolute;\"> </div>\n",
       "    <div style=\"margin-left: 48px;\">\n",
       "        <h3 style=\"margin-bottom: 0px;\">Client</h3>\n",
       "        <p style=\"color: #9D9D9D; margin-bottom: 0px;\">Client-5a42061b-24e0-11ee-bdeb-b4969140d316</p>\n",
       "        <table style=\"width: 100%; text-align: left;\">\n",
       "\n",
       "        <tr>\n",
       "        \n",
       "            <td style=\"text-align: left;\"><strong>Connection method:</strong> Cluster object</td>\n",
       "            <td style=\"text-align: left;\"><strong>Cluster type:</strong> dask_jobqueue.PBSCluster</td>\n",
       "        \n",
       "        </tr>\n",
       "\n",
       "        \n",
       "            <tr>\n",
       "                <td style=\"text-align: left;\">\n",
       "                    <strong>Dashboard: </strong> <a href=\"http://132.66.112.146:12435/status\" target=\"_blank\">http://132.66.112.146:12435/status</a>\n",
       "                </td>\n",
       "                <td style=\"text-align: left;\"></td>\n",
       "            </tr>\n",
       "        \n",
       "\n",
       "        </table>\n",
       "\n",
       "        \n",
       "            <button style=\"margin-bottom: 12px;\" data-commandlinker-command=\"dask:populate-and-launch-layout\" data-commandlinker-args='{\"url\": \"http://132.66.112.146:12435/status\" }'>\n",
       "                Launch dashboard in JupyterLab\n",
       "            </button>\n",
       "        \n",
       "\n",
       "        \n",
       "            <details>\n",
       "            <summary style=\"margin-bottom: 20px;\"><h3 style=\"display: inline;\">Cluster Info</h3></summary>\n",
       "            <div class=\"jp-RenderedHTMLCommon jp-RenderedHTML jp-mod-trusted jp-OutputArea-output\">\n",
       "    <div style=\"width: 24px; height: 24px; background-color: #e1e1e1; border: 3px solid #9D9D9D; border-radius: 5px; position: absolute;\">\n",
       "    </div>\n",
       "    <div style=\"margin-left: 48px;\">\n",
       "        <h3 style=\"margin-bottom: 0px; margin-top: 0px;\">PBSCluster</h3>\n",
       "        <p style=\"color: #9D9D9D; margin-bottom: 0px;\">c1a322c3</p>\n",
       "        <table style=\"width: 100%; text-align: left;\">\n",
       "            <tr>\n",
       "                <td style=\"text-align: left;\">\n",
       "                    <strong>Dashboard:</strong> <a href=\"http://132.66.112.146:12435/status\" target=\"_blank\">http://132.66.112.146:12435/status</a>\n",
       "                </td>\n",
       "                <td style=\"text-align: left;\">\n",
       "                    <strong>Workers:</strong> 0\n",
       "                </td>\n",
       "            </tr>\n",
       "            <tr>\n",
       "                <td style=\"text-align: left;\">\n",
       "                    <strong>Total threads:</strong> 0\n",
       "                </td>\n",
       "                <td style=\"text-align: left;\">\n",
       "                    <strong>Total memory:</strong> 0 B\n",
       "                </td>\n",
       "            </tr>\n",
       "            \n",
       "        </table>\n",
       "\n",
       "        <details>\n",
       "            <summary style=\"margin-bottom: 20px;\">\n",
       "                <h3 style=\"display: inline;\">Scheduler Info</h3>\n",
       "            </summary>\n",
       "\n",
       "            <div style=\"\">\n",
       "    <div>\n",
       "        <div style=\"width: 24px; height: 24px; background-color: #FFF7E5; border: 3px solid #FF6132; border-radius: 5px; position: absolute;\"> </div>\n",
       "        <div style=\"margin-left: 48px;\">\n",
       "            <h3 style=\"margin-bottom: 0px;\">Scheduler</h3>\n",
       "            <p style=\"color: #9D9D9D; margin-bottom: 0px;\">Scheduler-e2aea3e9-4339-4f2a-b44b-4b2785b5c9eb</p>\n",
       "            <table style=\"width: 100%; text-align: left;\">\n",
       "                <tr>\n",
       "                    <td style=\"text-align: left;\">\n",
       "                        <strong>Comm:</strong> tcp://132.66.112.146:40465\n",
       "                    </td>\n",
       "                    <td style=\"text-align: left;\">\n",
       "                        <strong>Workers:</strong> 0\n",
       "                    </td>\n",
       "                </tr>\n",
       "                <tr>\n",
       "                    <td style=\"text-align: left;\">\n",
       "                        <strong>Dashboard:</strong> <a href=\"http://132.66.112.146:12435/status\" target=\"_blank\">http://132.66.112.146:12435/status</a>\n",
       "                    </td>\n",
       "                    <td style=\"text-align: left;\">\n",
       "                        <strong>Total threads:</strong> 0\n",
       "                    </td>\n",
       "                </tr>\n",
       "                <tr>\n",
       "                    <td style=\"text-align: left;\">\n",
       "                        <strong>Started:</strong> Just now\n",
       "                    </td>\n",
       "                    <td style=\"text-align: left;\">\n",
       "                        <strong>Total memory:</strong> 0 B\n",
       "                    </td>\n",
       "                </tr>\n",
       "            </table>\n",
       "        </div>\n",
       "    </div>\n",
       "\n",
       "    <details style=\"margin-left: 48px;\">\n",
       "        <summary style=\"margin-bottom: 20px;\">\n",
       "            <h3 style=\"display: inline;\">Workers</h3>\n",
       "        </summary>\n",
       "\n",
       "        \n",
       "\n",
       "    </details>\n",
       "</div>\n",
       "\n",
       "        </details>\n",
       "    </div>\n",
       "</div>\n",
       "            </details>\n",
       "        \n",
       "\n",
       "    </div>\n",
       "</div>"
      ],
      "text/plain": [
       "<Client: 'tcp://132.66.112.146:40465' processes=0 threads=0, memory=0 B>"
      ]
     },
     "execution_count": 6,
     "metadata": {},
     "output_type": "execute_result"
    }
   ],
   "source": [
    "client"
   ]
  },
  {
   "cell_type": "code",
   "execution_count": 7,
   "id": "7d5c3d2c-6e52-418a-a2d4-16a23b5f3548",
   "metadata": {},
   "outputs": [],
   "source": [
    "import dask.bag as db\n",
    "import dask.dataframe as dd\n",
    "from dask import delayed, compute, persist\n",
    "import json\n",
    "from collections import defaultdict\n",
    "import matplotlib\n",
    "import numpy as np\n",
    "import pandas as pd\n",
    "import re\n"
   ]
  },
  {
   "cell_type": "markdown",
   "id": "d746f6c8-06fd-4a18-be7f-483410889006",
   "metadata": {},
   "source": [
    "# Analysis for homo sapiens genome"
   ]
  },
  {
   "cell_type": "code",
   "execution_count": 8,
   "id": "41e6b579-562a-47ae-bd4f-a0f71c08c262",
   "metadata": {},
   "outputs": [],
   "source": [
    "from Bio import SeqIO\n",
    "from analysis.orf_model_analysis.input_testing_data.generate_input_testing_data_for_modules import generate_testing_data\n",
    "from analysis.orf_model_analysis.input_testing_data.generate_input_testing_data_for_modules import generate_testing_data_for_ecoli_and_bacillus\n",
    "\n",
    "from modules.main import run_modules"
   ]
  },
  {
   "cell_type": "code",
   "execution_count": 9,
   "id": "01b8186c-16b0-4098-bdd7-d1c5d39f72b1",
   "metadata": {},
   "outputs": [],
   "source": [
    "output_path = \"/tamir2/moranb/microbiome/Igem_TAU_2021/analysis/results/homo_sapiens\""
   ]
  },
  {
   "cell_type": "code",
   "execution_count": 10,
   "id": "add03b90-4555-48ef-9eeb-9120bed24b56",
   "metadata": {},
   "outputs": [],
   "source": [
    "def convert_to_json_result(x):\n",
    "    gene_name = x[0]\n",
    "    result = run_modules(x[1], should_run_output_module=False)\n",
    "    return {\n",
    "        \"initial_optimization_score\": result.get(\"initial_optimization_score\"),\n",
    "        \"final_optimization_score\": result.get(\"final_optimization_score\"),\n",
    "        \"average_distance_score\": result.get(\"average_distance_score\"),\n",
    "        \"weakest_link_score\": result.get(\"weakest_link_score\"),\n",
    "        \"gene_name\": gene_name,\n",
    "    }"
   ]
  },
  {
   "cell_type": "code",
   "execution_count": 11,
   "id": "7e568102-9447-48f7-8ecd-871935637b22",
   "metadata": {},
   "outputs": [],
   "source": [
    "def extract_ncbi_sequences_for_analysis(fasta_file_path: str) -> None:\n",
    "    with open(fasta_file_path, \"r\") as fasta_handle:\n",
    "        genome_dict = SeqIO.to_dict(SeqIO.parse(fasta_handle, \"fasta\"))\n",
    "\n",
    "    missing_genes = []\n",
    "    gene_mapping = defaultdict(list)\n",
    "    description_to_gene_mapping = {}\n",
    "\n",
    "    for record, value in genome_dict.items():\n",
    "        if \"NC\" not in record or \"XP\" in record:\n",
    "            continue\n",
    "        parameters = re.findall(\"gene=.*]\", value.description)\n",
    "        if not parameters:\n",
    "            missing_genes.append(record)\n",
    "            continue\n",
    "        gene_parameter = parameters[0].split(\"]\")[0]\n",
    "        gene_name = gene_parameter.strip(\"gene=\")\n",
    "\n",
    "        if len(value.seq) % 3 != 0:\n",
    "            print(F\"Skip sequence {record} for {gene_name} because of length not divisible by 3.\")\n",
    "            continue\n",
    "\n",
    "        gene_mapping[gene_name].append(record)\n",
    "        description_to_gene_mapping[record] = gene_name\n",
    "\n",
    "    with open(\"gene_mapping.json\", \"w\") as genes_file:\n",
    "        json.dump(gene_mapping, genes_file)\n",
    "    with open(\"description_to_gene_mapping.json\", \"w\") as description_to_genes_file:\n",
    "        json.dump(description_to_gene_mapping, description_to_genes_file)\n",
    "    with open(\"missing_genes.txt\", \"w\") as missing_genes_file:\n",
    "        for gene in missing_genes:\n",
    "            missing_genes_file.write(gene)\n",
    "            \n",
    "    gene_to_longest_sequence = {\n",
    "        key: max(value, key=lambda x: len(genome_dict[x].seq)) for key, value in gene_mapping.items()\n",
    "    }\n",
    "    with open(\"gene_to_longest_sequence.json\", \"w\") as genes_file:\n",
    "        json.dump(gene_to_longest_sequence, genes_file)"
   ]
  },
  {
   "cell_type": "code",
   "execution_count": 12,
   "id": "7c1599fd-c96e-4a0a-bce4-686964609765",
   "metadata": {},
   "outputs": [],
   "source": [
    "homo_sapiens_fasta = \"/tamir2/moranb/microbiome/homo_sapiens_genome/cds_from_genomic.fna\"\n",
    "selected_homo_sapiens_genes = \"gene_to_longest_sequence.json\""
   ]
  },
  {
   "cell_type": "code",
   "execution_count": 13,
   "id": "44919529-462f-4bb3-aa93-d7263a318f81",
   "metadata": {},
   "outputs": [],
   "source": [
    "# extract_ncbi_sequences_for_analysis(homo_sapiens_fasta)"
   ]
  },
  {
   "cell_type": "markdown",
   "id": "caccc881-53ea-4677-8a71-3c45365a3709",
   "metadata": {},
   "source": [
    "## Paenibacillus-prosopidis"
   ]
  },
  {
   "cell_type": "code",
   "execution_count": 14,
   "id": "a9774149-6d4d-460b-9360-f0d1aaf5ac95",
   "metadata": {},
   "outputs": [],
   "source": [
    "# # organism = \"Paenibacillus-aceris\"\n",
    "# organism = \"Terrabacter-tumescens\"\n"
   ]
  },
  {
   "cell_type": "markdown",
   "id": "9b23d41e-60a7-4e56-ae75-f21605f334f4",
   "metadata": {},
   "source": [
    "### Two wanted hosts and two unwanted hosts"
   ]
  },
  {
   "cell_type": "code",
   "execution_count": 15,
   "id": "aab46773-de9a-4e05-be4f-43a05cede40c",
   "metadata": {},
   "outputs": [],
   "source": [
    "# optimization_cub_index = \"CAI\"\n",
    "\n",
    "# wanted_hosts = [\n",
    "#     \"Paenibacillus-aceris.gb\", \n",
    "#     \"Arthrobacter-luteolus.gb\",\n",
    "# ]\n",
    "# unwanted_hosts = [\n",
    "#     \"Terrabacter-tumescens.gb\", \n",
    "#     \"Rhodanobacter-denitrificans.gb\",\n",
    "# ]\n",
    "\n",
    "# configuration = f\"wanted_{'_'.join([host[:-3] for host in wanted_hosts])}_unwanted_{'_'.join([host[:-3] for host in unwanted_hosts])}\"\n",
    "# configuration_output_path = os.path.join(output_path, configuration, organism)"
   ]
  },
  {
   "cell_type": "code",
   "execution_count": 16,
   "id": "386f13a0-ddfc-4544-903b-76dc796d6104",
   "metadata": {},
   "outputs": [],
   "source": [
    "# inputs = [(gene_name, generate_testing_data(\n",
    "#     optimization_method=optimization_method,\n",
    "#     optimization_cub_index=optimization_cub_index,\n",
    "#     wanted_hosts=wanted_hosts,\n",
    "#     unwanted_hosts=unwanted_hosts,\n",
    "#     tuning_param=0.5,\n",
    "#     sequence=str(orf_sequence.seq),\n",
    "#     output_path=os.path.join(configuration_output_path,gene_name))) for gene_name, orf_sequence in genome_dict.items()]"
   ]
  },
  {
   "cell_type": "code",
   "execution_count": 17,
   "id": "81232488-b15c-427e-9740-037fbfde09d9",
   "metadata": {},
   "outputs": [],
   "source": [
    "# inputs_series = pd.Series(inputs)\n",
    "# inputs_db = db.from_sequence(inputs)"
   ]
  },
  {
   "cell_type": "markdown",
   "id": "f024a439-ac16-4318-ad1c-b26762e55fea",
   "metadata": {},
   "source": [
    "An example for running the code on some inputs and saving the results to a file:"
   ]
  },
  {
   "cell_type": "code",
   "execution_count": 18,
   "id": "9a5aabad-22ac-46cb-aa0a-39eca7f9d95e",
   "metadata": {},
   "outputs": [],
   "source": [
    "# %%time\n",
    "# partial_inputs = inputs_db.take(10)\n",
    "# results_db = db.from_sequence(partial_inputs).map(lambda x: {x[0]: run_modules(x[1], should_run_output_module=False)})\n",
    "# results_db.map(json.dumps).to_textfiles(os.path.join(configuration_output_path, 'results/*.json')) "
   ]
  },
  {
   "cell_type": "markdown",
   "id": "1c41f17b-513e-4474-a00a-57499326a8fb",
   "metadata": {},
   "source": [
    "An example for reading and plotting the results:"
   ]
  },
  {
   "cell_type": "code",
   "execution_count": 19,
   "id": "583c9ef8-aee3-4fa8-b663-3a4f0056cb17",
   "metadata": {},
   "outputs": [],
   "source": [
    "# df = dd.read_json([F\"{configuration_output_path}/results/{i}.json\" for i in range(3)], orient='index')\n",
    "# df[[\"weakest_link_score\", \"average_distance_score\"]].compute().hist()"
   ]
  },
  {
   "cell_type": "code",
   "execution_count": 20,
   "id": "ebcbf63a-11cf-4525-9329-622c1c28b83d",
   "metadata": {
    "scrolled": true
   },
   "outputs": [],
   "source": [
    "# %%time\n",
    "# results_db = inputs_db.map(convert_to_json_result)\n",
    "# results_db.map(json.dumps).to_textfiles(os.path.join(configuration_output_path, 'results/*.json')) "
   ]
  },
  {
   "cell_type": "code",
   "execution_count": 21,
   "id": "8602bfe0-fcaf-456c-ace8-b5151bd04189",
   "metadata": {},
   "outputs": [],
   "source": [
    "# results_dir = F\"{configuration_output_path}/zscore_bulk_aa_diff/\"\n",
    "# df = dd.read_json([F\"{results_dir}/{file}\" for file in os.listdir(results_dir)], orient='index')\n",
    "# df[[\"weakest_link_score\", \"average_distance_score\"]].compute().hist()"
   ]
  },
  {
   "cell_type": "markdown",
   "id": "853ba5da-ed92-4fa7-ad97-3755ab99cbe8",
   "metadata": {},
   "source": [
    "## Bacillus and E.coli"
   ]
  },
  {
   "cell_type": "code",
   "execution_count": null,
   "id": "37a5fb3c-5280-4488-b81c-86a38529d61e",
   "metadata": {},
   "outputs": [
    {
     "name": "stderr",
     "output_type": "stream",
     "text": [
      "/tamir2/moranb/microbiome/Igem_TAU_2021/venv/lib/python3.9/site-packages/distributed/client.py:3125: UserWarning: Sending large graph of size 47.18 MiB.\n",
      "This may cause some slowdown.\n",
      "Consider scattering data ahead of time and using futures.\n",
      "  warnings.warn(\n",
      "Resource specification for PBS not set, initializing it to select=1:ncpus=4:mem=7630MB\n",
      "Resource specification for PBS not set, initializing it to select=1:ncpus=4:mem=7630MB\n",
      "Resource specification for PBS not set, initializing it to select=1:ncpus=4:mem=7630MB\n",
      "Resource specification for PBS not set, initializing it to select=1:ncpus=4:mem=7630MB\n",
      "Resource specification for PBS not set, initializing it to select=1:ncpus=4:mem=7630MB\n",
      "Resource specification for PBS not set, initializing it to select=1:ncpus=4:mem=7630MB\n",
      "Resource specification for PBS not set, initializing it to select=1:ncpus=4:mem=7630MB\n",
      "Resource specification for PBS not set, initializing it to select=1:ncpus=4:mem=7630MB\n",
      "Resource specification for PBS not set, initializing it to select=1:ncpus=4:mem=7630MB\n",
      "Resource specification for PBS not set, initializing it to select=1:ncpus=4:mem=7630MB\n",
      "Resource specification for PBS not set, initializing it to select=1:ncpus=4:mem=7630MB\n",
      "Resource specification for PBS not set, initializing it to select=1:ncpus=4:mem=7630MB\n",
      "Resource specification for PBS not set, initializing it to select=1:ncpus=4:mem=7630MB\n",
      "Resource specification for PBS not set, initializing it to select=1:ncpus=4:mem=7630MB\n",
      "Resource specification for PBS not set, initializing it to select=1:ncpus=4:mem=7630MB\n",
      "Resource specification for PBS not set, initializing it to select=1:ncpus=4:mem=7630MB\n",
      "Resource specification for PBS not set, initializing it to select=1:ncpus=4:mem=7630MB\n",
      "Resource specification for PBS not set, initializing it to select=1:ncpus=4:mem=7630MB\n",
      "Resource specification for PBS not set, initializing it to select=1:ncpus=4:mem=7630MB\n",
      "Resource specification for PBS not set, initializing it to select=1:ncpus=4:mem=7630MB\n",
      "Resource specification for PBS not set, initializing it to select=1:ncpus=4:mem=7630MB\n",
      "Resource specification for PBS not set, initializing it to select=1:ncpus=4:mem=7630MB\n",
      "Resource specification for PBS not set, initializing it to select=1:ncpus=4:mem=7630MB\n",
      "Resource specification for PBS not set, initializing it to select=1:ncpus=4:mem=7630MB\n",
      "Resource specification for PBS not set, initializing it to select=1:ncpus=4:mem=7630MB\n",
      "Resource specification for PBS not set, initializing it to select=1:ncpus=4:mem=7630MB\n",
      "Resource specification for PBS not set, initializing it to select=1:ncpus=4:mem=7630MB\n",
      "Resource specification for PBS not set, initializing it to select=1:ncpus=4:mem=7630MB\n",
      "Resource specification for PBS not set, initializing it to select=1:ncpus=4:mem=7630MB\n",
      "Resource specification for PBS not set, initializing it to select=1:ncpus=4:mem=7630MB\n",
      "Resource specification for PBS not set, initializing it to select=1:ncpus=4:mem=7630MB\n",
      "Resource specification for PBS not set, initializing it to select=1:ncpus=4:mem=7630MB\n",
      "Resource specification for PBS not set, initializing it to select=1:ncpus=4:mem=7630MB\n",
      "Resource specification for PBS not set, initializing it to select=1:ncpus=4:mem=7630MB\n",
      "Resource specification for PBS not set, initializing it to select=1:ncpus=4:mem=7630MB\n",
      "Resource specification for PBS not set, initializing it to select=1:ncpus=4:mem=7630MB\n",
      "Resource specification for PBS not set, initializing it to select=1:ncpus=4:mem=7630MB\n",
      "Resource specification for PBS not set, initializing it to select=1:ncpus=4:mem=7630MB\n",
      "Resource specification for PBS not set, initializing it to select=1:ncpus=4:mem=7630MB\n",
      "Resource specification for PBS not set, initializing it to select=1:ncpus=4:mem=7630MB\n",
      "Resource specification for PBS not set, initializing it to select=1:ncpus=4:mem=7630MB\n",
      "Resource specification for PBS not set, initializing it to select=1:ncpus=4:mem=7630MB\n",
      "Resource specification for PBS not set, initializing it to select=1:ncpus=4:mem=7630MB\n",
      "Resource specification for PBS not set, initializing it to select=1:ncpus=4:mem=7630MB\n",
      "Resource specification for PBS not set, initializing it to select=1:ncpus=4:mem=7630MB\n",
      "Resource specification for PBS not set, initializing it to select=1:ncpus=4:mem=7630MB\n",
      "Resource specification for PBS not set, initializing it to select=1:ncpus=4:mem=7630MB\n",
      "Resource specification for PBS not set, initializing it to select=1:ncpus=4:mem=7630MB\n",
      "Resource specification for PBS not set, initializing it to select=1:ncpus=4:mem=7630MB\n",
      "Resource specification for PBS not set, initializing it to select=1:ncpus=4:mem=7630MB\n",
      "Resource specification for PBS not set, initializing it to select=1:ncpus=4:mem=7630MB\n",
      "Resource specification for PBS not set, initializing it to select=1:ncpus=4:mem=7630MB\n",
      "Resource specification for PBS not set, initializing it to select=1:ncpus=4:mem=7630MB\n",
      "Resource specification for PBS not set, initializing it to select=1:ncpus=4:mem=7630MB\n",
      "Resource specification for PBS not set, initializing it to select=1:ncpus=4:mem=7630MB\n",
      "Resource specification for PBS not set, initializing it to select=1:ncpus=4:mem=7630MB\n",
      "Resource specification for PBS not set, initializing it to select=1:ncpus=4:mem=7630MB\n"
     ]
    }
   ],
   "source": [
    "with open(homo_sapiens_fasta, \"r\") as fasta_handle:\n",
    "    genome_dict = SeqIO.to_dict(SeqIO.parse(fasta_handle, \"fasta\"))\n",
    "\n",
    "with open(selected_homo_sapiens_genes, \"r\") as selected_genes_file:\n",
    "    selected_genes = json.load(selected_genes_file)\n",
    "\n",
    "optimization_cub_index = \"CAI\"\n",
    "\n",
    "for optimization_method in [\"single_codon_ratio\",\n",
    "                            \"single_codon_diff\", \n",
    "                            \"zscore_bulk_aa_ratio\", \n",
    "                            \"zscore_bulk_aa_diff\"]:\n",
    "    for is_ecoli_optimized in [True, False]:\n",
    "        configuration = f\"e_coli_optimized_{is_ecoli_optimized}_bacillus_optimized_{not is_ecoli_optimized}\"\n",
    "        configuration_output_path = os.path.join(output_path, configuration)\n",
    "        \n",
    "        inputs = [(gene_name, generate_testing_data_for_ecoli_and_bacillus(\n",
    "            optimization_method=optimization_method,\n",
    "            optimization_cub_index=optimization_cub_index,\n",
    "            is_ecoli_optimized=is_ecoli_optimized,\n",
    "            tuning_param=0.5,\n",
    "            sequence=str(genome_dict[gene_name].seq),\n",
    "            output_path=os.path.join(configuration_output_path, gene_name))) for gene_name in selected_genes.values()]\n",
    "        \n",
    "        inputs_series = pd.Series(inputs)\n",
    "        inputs_db = db.from_sequence(inputs)\n",
    "        \n",
    "        results_db = inputs_db.map(convert_to_json_result)\n",
    "        results_db.map(json.dumps).to_textfiles(os.path.join(configuration_output_path, 'results/*.json'))\n",
    "        results_dir = F\"{configuration_output_path}/{optimization_method}/\"\n",
    "        os.rename(F\"{configuration_output_path}/results\", results_dir)"
   ]
  },
  {
   "cell_type": "code",
   "execution_count": null,
   "id": "8d696534-231b-4f45-b88d-3386a5e71790",
   "metadata": {
    "scrolled": true
   },
   "outputs": [],
   "source": [
    "# For testing on partial inputs set\n",
    "\n",
    "# partial_inputs = inputs_db.take(3)\n",
    "# results_db = db.from_sequence(partial_inputs).map(convert_to_json_result).compute()"
   ]
  },
  {
   "cell_type": "code",
   "execution_count": null,
   "id": "0df8143d-6328-46c0-bf21-929b65a8e6ad",
   "metadata": {},
   "outputs": [],
   "source": [
    "# df = dd.read_json([F\"{results_dir}/{file}\" for file in os.listdir(results_dir)], orient='records', lines=True)"
   ]
  }
 ],
 "metadata": {
  "kernelspec": {
   "display_name": "Python 3 (ipykernel)",
   "language": "python",
   "name": "python3"
  },
  "language_info": {
   "codemirror_mode": {
    "name": "ipython",
    "version": 3
   },
   "file_extension": ".py",
   "mimetype": "text/x-python",
   "name": "python",
   "nbconvert_exporter": "python",
   "pygments_lexer": "ipython3",
   "version": "3.9.12"
  }
 },
 "nbformat": 4,
 "nbformat_minor": 5
}
