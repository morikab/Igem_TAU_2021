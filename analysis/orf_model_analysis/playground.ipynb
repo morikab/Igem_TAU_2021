{
 "cells": [
  {
   "cell_type": "code",
   "execution_count": 1,
   "id": "204e5dce-77bb-464b-8ef0-6faaa14216dc",
   "metadata": {},
   "outputs": [],
   "source": [
    "from RNA import RNA"
   ]
  },
  {
   "cell_type": "code",
   "execution_count": 18,
   "id": "777a3324-accd-4aee-937b-65a18426df15",
   "metadata": {},
   "outputs": [],
   "source": [
    "from Bio import SeqIO\n",
    "import os\n",
    "from pathlib import Path\n",
    "import sys"
   ]
  },
  {
   "cell_type": "code",
   "execution_count": 24,
   "id": "02699d75-837c-4a85-a7d8-fe9a381ec890",
   "metadata": {},
   "outputs": [],
   "source": [
    "sys.path.append(str(Path(os.path.dirname(os.getcwd())).parent))\n",
    "base_path = Path(os.getcwd())/\"analysis\"/\"example_data\"\n",
    "macherry_file_path = os.path.join(base_path, \"mCherry_original.fasta\")"
   ]
  },
  {
   "cell_type": "code",
   "execution_count": 23,
   "id": "22f26c7d-c518-4003-a516-1c2e492a21ac",
   "metadata": {},
   "outputs": [
    {
     "data": {
      "text/plain": [
       "'/tamir2/moranb/microbiome/Igem_TAU_2021/analasis/example_data/mCherry_original.fasta'"
      ]
     },
     "execution_count": 23,
     "metadata": {},
     "output_type": "execute_result"
    }
   ],
   "source": [
    "macherry_file_path"
   ]
  },
  {
   "cell_type": "code",
   "execution_count": 25,
   "id": "93cf514d-ac5b-4b5e-825c-f30d7a6b595d",
   "metadata": {},
   "outputs": [],
   "source": [
    "with open(macherry_file_path, \"r\") as mcherry_fasta_file:\n",
    "    mcherry_dict = SeqIO.to_dict(SeqIO.parse(mcherry_fasta_file, \"fasta\"))\n",
    "\n",
    "original_mcherry_seq = list(mcherry_dict.values())[0].seq"
   ]
  },
  {
   "cell_type": "code",
   "execution_count": 26,
   "id": "b9910454-c220-46a1-87b6-2c227698f88a",
   "metadata": {},
   "outputs": [
    {
     "data": {
      "text/plain": [
       "Seq('ATGGTTTCCAAGGGCGAGGAGGATAACATGGCTATCATTAAAGAGTTCATGCGC...TAA')"
      ]
     },
     "execution_count": 26,
     "metadata": {},
     "output_type": "execute_result"
    }
   ],
   "source": [
    "original_mcherry_seq"
   ]
  },
  {
   "cell_type": "code",
   "execution_count": 30,
   "id": "5e9ad3a2-07f9-4479-92d4-de2187e54875",
   "metadata": {},
   "outputs": [],
   "source": [
    "fc  = RNA.fold_compound(str(original_mcherry_seq))\n",
    "(ss, mfe) = fc.mfe()"
   ]
  },
  {
   "cell_type": "code",
   "execution_count": 31,
   "id": "cc1e1242-eaa3-40ed-b7c5-428106623fdf",
   "metadata": {},
   "outputs": [
    {
     "data": {
      "text/plain": [
       "'..((((((....(((...((((....(((((...((......))..)))))..))))........((.(((((((((((...(((((((((..((((....)))).(((((((((.((((((.((......((.(((.(((.........)))...))).))...))))))))..)))).)))))(((((.(.......)))))).....(((((((.((...)).)))))))...(((((...(((.....))).(((((((((((((.(((.....))).))))))..(((....)))..............)))))))))))))))))))))....)))))).))))).))..((((((.....))))))............((((((((....(((((...(((((((((((.(((((((.......(((.....))).....)))))(((((.((.(((.(.......).))))).)))))..(((((...........)))))...........)).).)))))))).))....)))))....))))))))....)))..))))))(((((((((((((..(((((.....((((...............))))..((((((.((..((((....))))......)).)))))).)))))..)))).((((((.....)))))).......))))))))).....'"
      ]
     },
     "execution_count": 31,
     "metadata": {},
     "output_type": "execute_result"
    }
   ],
   "source": [
    "ss"
   ]
  },
  {
   "cell_type": "code",
   "execution_count": 32,
   "id": "abedb782-ce0d-47a2-ba12-222a44c32aeb",
   "metadata": {},
   "outputs": [
    {
     "data": {
      "text/plain": [
       "-208.1999969482422"
      ]
     },
     "execution_count": 32,
     "metadata": {},
     "output_type": "execute_result"
    }
   ],
   "source": [
    "mfe"
   ]
  },
  {
   "cell_type": "code",
   "execution_count": null,
   "id": "b998eba2-052c-4f8e-b119-3a52902a16eb",
   "metadata": {},
   "outputs": [],
   "source": []
  }
 ],
 "metadata": {
  "kernelspec": {
   "display_name": "Python 3 (ipykernel)",
   "language": "python",
   "name": "python3"
  },
  "language_info": {
   "codemirror_mode": {
    "name": "ipython",
    "version": 3
   },
   "file_extension": ".py",
   "mimetype": "text/x-python",
   "name": "python",
   "nbconvert_exporter": "python",
   "pygments_lexer": "ipython3",
   "version": "3.9.12"
  }
 },
 "nbformat": 4,
 "nbformat_minor": 5
}
