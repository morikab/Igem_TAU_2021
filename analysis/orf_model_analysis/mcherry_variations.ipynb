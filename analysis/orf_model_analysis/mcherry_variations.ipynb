{
 "cells": [
  {
   "cell_type": "code",
   "execution_count": 1,
   "metadata": {},
   "outputs": [],
   "source": [
    "import json\n",
    "import matplotlib.pyplot as plt\n",
    "import operator\n",
    "import os\n",
    "import sys\n",
    "import typing\n",
    "from collections import defaultdict\n",
    "from scipy import stats\n",
    "import numpy as np\n",
    "import pandas as pd\n",
    "from pathlib import Path\n",
    "\n",
    "from Bio import SeqIO\n",
    " "
   ]
  },
  {
   "cell_type": "code",
   "execution_count": 2,
   "metadata": {},
   "outputs": [],
   "source": [
    "sys.path.append(str(Path(os.path.dirname(os.getcwd())).parent))"
   ]
  },
  {
   "cell_type": "code",
   "execution_count": 3,
   "metadata": {},
   "outputs": [],
   "source": [
    "from generate_summary_file import generate_summary\n",
    "from analysis.input_testing_data.generate_input_testing_data_for_modules import generate_testing_data_for_ecoli_and_bacillus\n",
    "from modules.main import run_modules\n",
    "from modules.main import run_input_processing\n",
    "from modules.main import EvaluationModule\n",
    "from modules.run_summary import RunSummary\n",
    "from modules import shared_functions_and_vars\n",
    "from modules import models"
   ]
  },
  {
   "cell_type": "code",
   "execution_count": 4,
   "metadata": {},
   "outputs": [],
   "source": [
    "def get_user_input(optimization_method: str,\n",
    "                   is_ecoli_optimized: bool,\n",
    "                   orf_sequence: typing.Optional[str] = None,\n",
    "                   orf_sequence_file: typing.Optional[str] = None,\n",
    "                   output_path: typing.Optional[str] = None,\n",
    "                   optimization_cub_index: str = \"CAI\",\n",
    "                   tuning_param: float = 0.5,\n",
    "                   should_use_mrna_levels = True,\n",
    "                   should_use_protein_abundance = False):\n",
    "    default_user_inp_raw = generate_testing_data_for_ecoli_and_bacillus(\n",
    "        orf_optimization_method=optimization_method,\n",
    "        orf_optimization_cub_index=optimization_cub_index,\n",
    "        clusters_count=1,\n",
    "        tuning_param=tuning_param,\n",
    "        is_ecoli_optimized=is_ecoli_optimized,\n",
    "        sequence=orf_sequence,\n",
    "        sequence_file_path=orf_sequence_file,\n",
    "        output_path=os.path.join(\"results\", output_path),\n",
    "        should_use_mrna_levels=should_use_mrna_levels,\n",
    "        should_use_protein_abundance=should_use_protein_abundance,\n",
    "    )\n",
    "    return run_input_processing(default_user_inp_raw) "
   ]
  },
  {
   "cell_type": "code",
   "execution_count": 5,
   "metadata": {},
   "outputs": [],
   "source": [
    "def evaluate_score_for_sequence(sequence: str,\n",
    "                                user_input: models.ModuleInput,\n",
    "                                optimization_method: str,\n",
    "                                is_ecoli_optimized: bool,\n",
    "                                orf_sequence: typing.Optional[str] = None,\n",
    "                                orf_sequence_file: typing.Optional[str] = None,\n",
    "                                output_path: typing.Optional[str] = None,\n",
    "                                optimization_cub_index: str = \"CAI\",\n",
    "                                tuning_param: float = 0.5,\n",
    "                                should_use_mrna_levels = True,\n",
    "                                should_use_protein_abundance = False):\n",
    "    run_summary = RunSummary()\n",
    "    return EvaluationModule.run_module(final_sequence=sequence, \n",
    "                                       user_input=user_input,\n",
    "                                       optimization_cub_index=user_input.optimization_cub_index,\n",
    "                                       run_summary=run_summary)"
   ]
  },
  {
   "cell_type": "code",
   "execution_count": 6,
   "metadata": {},
   "outputs": [],
   "source": [
    "def run_single_method_for_orf_sequence(optimization_method: str,\n",
    "                                       is_ecoli_optimized: bool,\n",
    "                                       orf_sequence: typing.Optional[str] = None,\n",
    "                                       orf_sequence_file: typing.Optional[str] = None,\n",
    "                                       output_path: typing.Optional[str] = None,\n",
    "                                       optimization_cub_index: str = \"CAI\",\n",
    "                                       tuning_param: float = 0.5,\n",
    "                                       should_use_mrna_levels = True,\n",
    "                                       should_use_protein_abundance = False):\n",
    "    default_user_inp_raw = generate_testing_data_for_ecoli_and_bacillus(\n",
    "        orf_optimization_method=optimization_method,\n",
    "        orf_optimization_cub_index=optimization_cub_index,\n",
    "        clusters_count=1,\n",
    "        tuning_param=tuning_param,\n",
    "        is_ecoli_optimized=is_ecoli_optimized,\n",
    "        sequence=orf_sequence,\n",
    "        sequence_file_path=orf_sequence_file,\n",
    "        output_path=os.path.join(\"results\", output_path),\n",
    "        should_use_mrna_levels=should_use_mrna_levels,\n",
    "        should_use_protein_abundance=should_use_protein_abundance,\n",
    "    )\n",
    "    return run_modules(default_user_inp_raw)"
   ]
  },
  {
   "cell_type": "code",
   "execution_count": 7,
   "metadata": {},
   "outputs": [],
   "source": [
    "def run_all_methods(orf_sequence = None, orf_sequence_file = None, output_path = None, tuning_param: int = 0.5, should_use_mrna_levels: bool = True, should_use_protein_abundance: bool = False):\n",
    "    for optimization_method in [\n",
    "        \"single_codon_ratio\",\n",
    "        \"single_codon_diff\",\n",
    "        # \"single_codon_weakest_link\",\n",
    "        # \"zscore_single_aa_ratio\",\n",
    "        \"zscore_bulk_aa_ratio\",\n",
    "        # \"zscore_single_aa_diff\",\n",
    "        \"zscore_bulk_aa_diff\",\n",
    "        # \"zscore_single_aa_weakest_link\",\n",
    "        # \"zscore_bulk_aa_weakest_link\",\n",
    "    ]:\n",
    "        for optimization_cub_index in [\"CAI\", \"tAI\"]:\n",
    "            for direction in [True, False]:\n",
    "                run_single_method_for_orf_sequence(optimization_method=optimization_method,\n",
    "                                                   optimization_cub_index=optimization_cub_index,\n",
    "                                                   is_ecoli_optimized=direction,\n",
    "                                                   orf_sequence=orf_sequence,\n",
    "                                                   orf_sequence_file=orf_sequence_file,\n",
    "                                                   output_path=output_path,\n",
    "                                                   tuning_param=tuning_param,\n",
    "                                                   should_use_mrna_levels=should_use_mrna_levels,\n",
    "                                                   should_use_protein_abundance=should_use_protein_abundance)"
   ]
  },
  {
   "cell_type": "code",
   "execution_count": 8,
   "metadata": {},
   "outputs": [],
   "source": [
    "def generate_sequences_fasta_file(root_dir) -> None:\n",
    "    filename = \"run_summary.json\"\n",
    "\n",
    "    sequences = []\n",
    "    sequences_names = []\n",
    "    for root, dirs, files in os.walk(root_dir):\n",
    "        for file in files:\n",
    "            if file == filename:\n",
    "                directory_name = Path(root).name\n",
    "                file_path = os.path.join(root, file)\n",
    "                with open(file_path, \"r\") as summary_file:\n",
    "                    results_json = json.load(summary_file)\n",
    "\n",
    "                seq = results_json[\"final_evaluation\"][\"final_sequence\"]\n",
    "                sequences.append(seq)\n",
    "                sequences_names.append(directory_name[:-5])\n",
    "\n",
    "    shared_functions_and_vars.write_fasta(os.path.join(root_dir, \"mcherry_variants\"), sequences, sequences_names)"
   ]
  },
  {
   "cell_type": "code",
   "execution_count": 9,
   "metadata": {},
   "outputs": [],
   "source": [
    "def calculate_codon_frequencies(referece_cds: typing.Sequence[str]):\n",
    "    codons_counter = defaultdict(int)\n",
    "    \n",
    "    for cds in referece_cds:\n",
    "        if len(cds) % 3 != 0:\n",
    "            continue\n",
    "        for i in range(0, len(cds), 3):\n",
    "            codon = cds[i:i+3]\n",
    "            codons_counter[codon] += 1\n",
    "    \n",
    "    # Calculate relative frequncies\n",
    "    for amino_acid, codons in shared_functions_and_vars.synonymous_codons.items():\n",
    "        total_amino_acid_codons = 0\n",
    "        for amino_acid_codon in codons:\n",
    "            total_amino_acid_codons += codons_counter[amino_acid_codon]\n",
    "        \n",
    "        # In case a certain amino acid is missing from the reference cds collection, no need to normalize\n",
    "        if total_amino_acid_codons == 0:\n",
    "            continue\n",
    "        \n",
    "        for amino_acid_codon in codons:\n",
    "            codons_counter[amino_acid_codon] /= total_amino_acid_codons\n",
    "    \n",
    "    codons = list(codons_counter.keys())\n",
    "    df_dict = {\"codon\": codons, \"amino_acid\": [shared_functions_and_vars.nt_to_aa[codon] for codon in codons], \"frequency\": [codons_counter[codon] for codon in codons]}\n",
    "\n",
    "    return pd.DataFrame(df_dict)"
   ]
  },
  {
   "cell_type": "code",
   "execution_count": 10,
   "metadata": {},
   "outputs": [],
   "source": [
    "def calculate_codon_frequencies_lamda(referece_cds: typing.Sequence[str]):\n",
    "    codons_counter = defaultdict(int)\n",
    "    \n",
    "    for cds in referece_cds:\n",
    "        if len(cds) % 3 != 0:\n",
    "            continue\n",
    "        for i in range(0, len(cds), 3):\n",
    "            codon = cds[i:i+3]\n",
    "            codons_counter[codon] += 1\n",
    "    \n",
    "    # Calculate relative frequncies\n",
    "    for amino_acid, codons in shared_functions_and_vars.synonymous_codons.items():\n",
    "        amino_acid_codon_to_count = {codon: codons_counter[codon] for codon in codons}\n",
    "        most_frequent_codon = max(amino_acid_codon_to_count, key=amino_acid_codon_to_count.get)\n",
    "        \n",
    "        if amino_acid_codon_to_count[most_frequent_codon] == 0:\n",
    "            # In case a certain amino acid is missing from the reference cds collection, no need to normalize\n",
    "            continue\n",
    "            \n",
    "        for amino_acid_codon in codons:\n",
    "            codons_counter[amino_acid_codon] = 1 if amino_acid_codon == most_frequent_codon else 0 \n",
    "    \n",
    "    codons = list(codons_counter.keys())\n",
    "    df_dict = {\"codon\": codons, \"amino_acid\": [shared_functions_and_vars.nt_to_aa[codon] for codon in codons], \"frequency\": [codons_counter[codon] for codon in codons]}\n",
    "    \n",
    "    return pd.DataFrame(df_dict)"
   ]
  },
  {
   "cell_type": "code",
   "execution_count": 11,
   "metadata": {},
   "outputs": [],
   "source": [
    "def plot_frequency_map(frequency_df):\n",
    "    sorted_df = frequency_df.sort_values(\"amino_acid\")\n",
    "    \n",
    "    plt.rcParams[\"figure.figsize\"] = [10, 5]\n",
    "    plt.rcParams[\"figure.autolayout\"] = True\n",
    "\n",
    "    sorted_df.plot(\"codon\", \"frequency\", kind=\"bar\", color = \"b\")"
   ]
  },
  {
   "cell_type": "code",
   "execution_count": 12,
   "metadata": {},
   "outputs": [],
   "source": [
    "def calculate_distance_between_frequencies(first_codons_freq, second_codons_freq):\n",
    "    return np.linalg.norm(first_codons_freq-second_codons_freq)"
   ]
  },
  {
   "cell_type": "code",
   "execution_count": 13,
   "metadata": {},
   "outputs": [],
   "source": [
    "def get_variants_df_dict(variants_root_path, ecoli_codon_frequencies, bacillus_codon_frequencies, ecoli_codon_frequencies_lamda, bacillus_codon_frequencies_lamda):\n",
    "    with open(variants_root_path, \"r\") as mcherry_variants_fasta_file:\n",
    "        mcherry_variants_dict = SeqIO.to_dict(SeqIO.parse(mcherry_variants_fasta_file, \"fasta\"))\n",
    "\n",
    "    unified_variants_dict = defaultdict(dict)\n",
    "\n",
    "    for variant_name, variant_seq in mcherry_variants_dict.items():  \n",
    "        stripped_name = variant_name.replace(\"_False\", \"\").replace(\"_True\", \"\").replace(\"_ecoli_opt\", \"\")\n",
    "       \n",
    "        mcherry_variant_codon_frequencies = calculate_codon_frequencies((str(variant_seq.seq),)).sort_values(\"codon\")\n",
    "        mcherry_variant_codon_frequencies_lamda = calculate_codon_frequencies_lamda((str(variant_seq.seq),)).sort_values(\"codon\")\n",
    "\n",
    "        series1 = mcherry_variant_codon_frequencies[\"frequency\"].reset_index(drop=True)\n",
    "        series2 =  ecoli_codon_frequencies[\"frequency\"].reset_index(drop=True)\n",
    "        series3 =  bacillus_codon_frequencies[\"frequency\"].reset_index(drop=True)\n",
    "        \n",
    "        ecoli_dist = calculate_distance_between_frequencies(series1, series2)\n",
    "        bacillus_dist = calculate_distance_between_frequencies(series1, series3)\n",
    "        \n",
    "        series1_lamda = mcherry_variant_codon_frequencies_lamda[\"frequency\"].reset_index(drop=True)\n",
    "        series2_lamda =  ecoli_codon_frequencies_lamda[\"frequency\"].reset_index(drop=True)\n",
    "        series3_lamda =  bacillus_codon_frequencies_lamda[\"frequency\"].reset_index(drop=True)\n",
    "        \n",
    "        ecoli_dist_lamda = calculate_distance_between_frequencies(series1_lamda, series2_lamda)\n",
    "        bacillus_dist_lamda = calculate_distance_between_frequencies(series1_lamda, series3_lamda)\n",
    "\n",
    "        if variant_name.endswith(\"True\"):\n",
    "            unified_variants_dict[stripped_name][\"ecoli_dist_for_optimized_ecoli\"] = ecoli_dist\n",
    "            unified_variants_dict[stripped_name][\"bacillus_dist_for_optimized_ecoli\"] = bacillus_dist\n",
    "            unified_variants_dict[stripped_name][\"ecoli_dist_lamda_for_optimized_ecoli\"] = ecoli_dist_lamda\n",
    "            unified_variants_dict[stripped_name][\"bacillus_dist_lamda_for_optimized_ecoli\"] = bacillus_dist_lamda\n",
    "        else:\n",
    "            unified_variants_dict[stripped_name][\"ecoli_dist_for_optimized_bacillus\"] = ecoli_dist\n",
    "            unified_variants_dict[stripped_name][\"bacillus_dist_for_optimized_bacillus\"] = bacillus_dist\n",
    "            unified_variants_dict[stripped_name][\"ecoli_dist_lamda_for_optimized_bacillus\"] = ecoli_dist_lamda\n",
    "            unified_variants_dict[stripped_name][\"bacillus_dist_lamda_for_optimized_bacillus\"] = bacillus_dist_lamda\n",
    "\n",
    "    df_dict = defaultdict(list)\n",
    "    for variant_name in unified_variants_dict.keys():\n",
    "        df_dict[\"variant\"].append(variant_name)\n",
    "        df_dict[\"ecoli_dist_for_original_mcherry\"].append(original_ecoli_dist)\n",
    "        df_dict[\"ecoli_dist_for_optimized_ecoli\"].append(unified_variants_dict[variant_name][\"ecoli_dist_for_optimized_ecoli\"])\n",
    "        df_dict[\"ecoli_dist_for_optimized_bacillus\"].append(unified_variants_dict[variant_name][\"ecoli_dist_for_optimized_bacillus\"])\n",
    "        df_dict[\"ecoli_dist_lamda_for_original_mcherry\"].append(original_ecoli_dist_lamda)\n",
    "        df_dict[\"ecoli_dist_lamda_for_optimized_ecoli\"].append(unified_variants_dict[variant_name][\"ecoli_dist_lamda_for_optimized_ecoli\"])\n",
    "        df_dict[\"ecoli_dist_lamda_for_optimized_bacillus\"].append(unified_variants_dict[variant_name][\"ecoli_dist_lamda_for_optimized_bacillus\"])\n",
    "\n",
    "        df_dict[\"bacillus_dist_for_original_mcherry\"].append(original_bacillus_dist)\n",
    "        df_dict[\"bacillus_dist_for_optimized_ecoli\"].append(unified_variants_dict[variant_name][\"bacillus_dist_for_optimized_ecoli\"])\n",
    "        df_dict[\"bacillus_dist_for_optimized_bacillus\"].append(unified_variants_dict[variant_name][\"bacillus_dist_for_optimized_bacillus\"])\n",
    "        df_dict[\"bacillus_dist_lamda_for_original_mcherry\"].append(original_bacillus_dist_lamda)\n",
    "        df_dict[\"bacillus_dist_lamda_for_optimized_ecoli\"].append(unified_variants_dict[variant_name][\"bacillus_dist_lamda_for_optimized_ecoli\"])\n",
    "        df_dict[\"bacillus_dist_lamda_for_optimized_bacillus\"].append(unified_variants_dict[variant_name][\"bacillus_dist_lamda_for_optimized_bacillus\"])\n",
    "    \n",
    "    return df_dict"
   ]
  },
  {
   "cell_type": "code",
   "execution_count": 14,
   "metadata": {},
   "outputs": [],
   "source": [
    "# def get_variants_df_dict_highly_expressed(variants_root_path):\n",
    "#     with open(variants_root_path, \"r\") as mcherry_variants_fasta_file:\n",
    "#         mcherry_variants_dict = SeqIO.to_dict(SeqIO.parse(mcherry_variants_fasta_file, \"fasta\"))\n",
    "\n",
    "#     unified_variants_dict = defaultdict(dict)\n",
    "\n",
    "#     for variant_name, variant_seq in mcherry_variants_dict.items():\n",
    "#         stripped_name = variant_name.replace(\"_False\", \"\").replace(\"_True\", \"\").replace(\"_ecoli_opt\", \"\")\n",
    "       \n",
    "#         mcherry_variant_codon_frequencies = calculate_codon_frequencies((str(variant_seq.seq),)).sort_values(\"codon\")\n",
    "#         mcherry_variant_codon_frequencies_lamda = calculate_codon_frequencies_lamda((str(variant_seq.seq),)).sort_values(\"codon\")\n",
    "\n",
    "#         series1 = mcherry_variant_codon_frequencies[\"frequency\"].reset_index(drop=True)\n",
    "#         series2 =  ecoli_highly_expressed_genes_codon_frequencies[\"frequency\"].reset_index(drop=True)\n",
    "#         series3 =  bacillus_highly_expressed_genes_codon_frequencies[\"frequency\"].reset_index(drop=True)\n",
    "\n",
    "#         ecoli_dist = calculate_distance_between_frequencies(series1, series2)\n",
    "#         bacillus_dist = calculate_distance_between_frequencies(series1, series3)\n",
    "        \n",
    "#         series1_lamda = mcherry_variant_codon_frequencies_lamda[\"frequency\"].reset_index(drop=True)\n",
    "#         series2_lamda =  ecoli_highly_expressed_genes_codon_frequencies_lamda[\"frequency\"].reset_index(drop=True)\n",
    "#         series3_lamda =  bacillus_highly_expressed_genes_codon_frequencies_lamda[\"frequency\"].reset_index(drop=True)\n",
    "\n",
    "#         ecoli_dist_lamda = calculate_distance_between_frequencies(series1_lamda, series2_lamda)\n",
    "#         bacillus_dist_lamda = calculate_distance_between_frequencies(series1_lamda, series3_lamda)\n",
    "\n",
    "#         if variant_name.endswith(\"True\"):\n",
    "#             unified_variants_dict[stripped_name][\"ecoli_dist_for_optimized_ecoli\"] = ecoli_dist\n",
    "#             unified_variants_dict[stripped_name][\"bacillus_dist_for_optimized_ecoli\"] = bacillus_dist\n",
    "#             unified_variants_dict[stripped_name][\"ecoli_dist_lamda_for_optimized_ecoli\"] = ecoli_dist_lamda\n",
    "#             unified_variants_dict[stripped_name][\"bacillus_dist_lamda_for_optimized_ecoli\"] = bacillus_dist_lamda\n",
    "#         else:\n",
    "#             unified_variants_dict[stripped_name][\"ecoli_dist_for_optimized_bacillus\"] = ecoli_dist\n",
    "#             unified_variants_dict[stripped_name][\"bacillus_dist_for_optimized_bacillus\"] = bacillus_dist\n",
    "#             unified_variants_dict[stripped_name][\"ecoli_dist_lamda_for_optimized_bacillus\"] = ecoli_dist_lamda\n",
    "#             unified_variants_dict[stripped_name][\"bacillus_dist_lamda_for_optimized_bacillus\"] = bacillus_dist_lamda\n",
    "\n",
    "#     df_dict = defaultdict(list)\n",
    "#     for variant_name in unified_variants_dict.keys():\n",
    "#         df_dict[\"variant\"].append(variant_name)\n",
    "#         df_dict[\"ecoli_dist_for_original_mcherry\"].append(original_ecoli_dist)\n",
    "#         df_dict[\"ecoli_dist_for_optimized_ecoli\"].append(unified_variants_dict[variant_name][\"ecoli_dist_for_optimized_ecoli\"])\n",
    "#         df_dict[\"ecoli_dist_for_optimized_bacillus\"].append(unified_variants_dict[variant_name][\"ecoli_dist_for_optimized_bacillus\"])\n",
    "#         df_dict[\"ecoli_dist_lamda_for_original_mcherry\"].append(original_ecoli_dist_lamda)\n",
    "#         df_dict[\"ecoli_dist_lamda_for_optimized_ecoli\"].append(unified_variants_dict[variant_name][\"ecoli_dist_lamda_for_optimized_ecoli\"])\n",
    "#         df_dict[\"ecoli_dist_lamda_for_optimized_bacillus\"].append(unified_variants_dict[variant_name][\"ecoli_dist_lamda_for_optimized_bacillus\"])\n",
    "\n",
    "#         df_dict[\"bacillus_dist_for_original_mcherry\"].append(original_bacillus_dist)\n",
    "#         df_dict[\"bacillus_dist_for_optimized_ecoli\"].append(unified_variants_dict[variant_name][\"bacillus_dist_for_optimized_ecoli\"])\n",
    "#         df_dict[\"bacillus_dist_for_optimized_bacillus\"].append(unified_variants_dict[variant_name][\"bacillus_dist_for_optimized_bacillus\"])\n",
    "#         df_dict[\"bacillus_dist_lamda_for_original_mcherry\"].append(original_bacillus_dist_lamda)\n",
    "#         df_dict[\"bacillus_dist_lamda_for_optimized_ecoli\"].append(unified_variants_dict[variant_name][\"bacillus_dist_lamda_for_optimized_ecoli\"])\n",
    "#         df_dict[\"bacillus_dist_lamda_for_optimized_bacillus\"].append(unified_variants_dict[variant_name][\"bacillus_dist_lamda_for_optimized_bacillus\"])\n",
    "    \n",
    "#     return df_dict"
   ]
  },
  {
   "cell_type": "code",
   "execution_count": 15,
   "metadata": {},
   "outputs": [],
   "source": [
    "def get_codon_frequencies_df_dict(variants_root_path):\n",
    "    with open(variants_root_path, \"r\") as mcherry_variants_fasta_file:\n",
    "        mcherry_variants_dict = SeqIO.to_dict(SeqIO.parse(mcherry_variants_fasta_file, \"fasta\"))\n",
    "\n",
    "    unified_variants_dict = defaultdict(dict)\n",
    "\n",
    "    for variant_name, variant_seq in mcherry_variants_dict.items():\n",
    "        if \"weakest_link\" in variant_name:\n",
    "            continue\n",
    "        \n",
    "        stripped_name = variant_name.replace(\"_False\", \"\").replace(\"_True\", \"\").replace(\"_ecoli_opt\", \"\")\n",
    "       \n",
    "        mcherry_variant_codon_frequencies = calculate_codon_frequencies((str(variant_seq.seq),)).sort_values(\"codon\")\n",
    "        \n",
    "        return mcherry_variant_codon_frequencies \n",
    "    \n",
    "        series1 = mcherry_variant_codon_frequencies[\"frequency\"].reset_index(drop=True)\n",
    "        \n",
    "        if variant_name.endswith(\"True\"):\n",
    "            unified_variants_dict[stripped_name][\"codon_frequencies_for_optimized_ecoli\"] = mcherry_variant_codon_frequencies\n",
    "        else:\n",
    "            unified_variants_dict[stripped_name][\"codon_frequencies_for_optimized_bacillus\"] = mcherry_variant_codon_frequencies\n",
    "\n",
    "    df_dict = defaultdict(list)\n",
    "    for variant_name in unified_variants_dict.keys():\n",
    "        df_dict[\"variant\"].append(variant_name)\n",
    "        df_dict[\"codon_frequencies_for_optimized_ecoli\"].append(unified_variants_dict[variant_name][\"codon_frequencies_for_optimized_ecoli\"])\n",
    "        df_dict[\"codon_frequencies_for_optimized_bacillus\"].append(unified_variants_dict[variant_name][\"codon_frequencies_for_optimized_bacillus\"])\n",
    "    \n",
    "    return df_dict"
   ]
  },
  {
   "cell_type": "code",
   "execution_count": 16,
   "metadata": {},
   "outputs": [],
   "source": [
    "def get_evaluation_summary(summary: typing.Dict[str, typing.Any], evaluation_method: str = \"average_distance_score\") -> typing.Dict[str, typing.Any]:\n",
    "    final_evaluation = summary[\"final_evaluation\"]\n",
    "    for evaluation_summary in summary[\"evaluation\"]:\n",
    "        if evaluation_summary[evaluation_method] == final_evaluation[evaluation_method]:\n",
    "            return evaluation_summary\n",
    "    raise RuntimeError(F\"Did not find a final evaluation for: {summary}\")"
   ]
  },
  {
   "cell_type": "code",
   "execution_count": 17,
   "metadata": {},
   "outputs": [],
   "source": [
    "def get_cub_score_df_dict(root_dir, evaluation_method: str = \"average_distance_score\"):\n",
    "    filename = \"run_summary.json\"\n",
    "    \n",
    "    unified_variants_dict = defaultdict(dict)\n",
    "    \n",
    "    for root, dirs, files in os.walk(root_dir):\n",
    "        for file in files:\n",
    "            if file == filename:\n",
    "                directory_name = Path(root).name\n",
    "                file_path = os.path.join(root, file)\n",
    "                with open(file_path, \"r\") as summary_file:\n",
    "                    results_json = json.load(summary_file)\n",
    "                \n",
    "                is_cai = directory_name.startswith(\"CAI\")\n",
    "                evaluation_summary = get_evaluation_summary(results_json)\n",
    "                organisms = evaluation_summary[\"organisms\"]\n",
    "                for organism in organisms:\n",
    "                    if organism[\"name\"] == \"Bacillus subtilis\":\n",
    "                        if is_cai:\n",
    "                            bacillus_initial_score = organism[\"cai_initial_score\"]\n",
    "                            bacillus_final_score = organism[\"cai_final_score\"]\n",
    "                        else:\n",
    "                            bacillus_initial_score = organism[\"tai_initial_score\"]\n",
    "                            bacillus_final_score = organism[\"tai_final_score\"]\n",
    "                    else:\n",
    "                        if is_cai:\n",
    "                            ecoli_initial_score = organism[\"cai_initial_score\"]\n",
    "                            ecoli_final_score = organism[\"cai_final_score\"]\n",
    "                        else:\n",
    "                            ecoli_initial_score = organism[\"tai_initial_score\"]\n",
    "                            ecoli_final_score = organism[\"tai_final_score\"]\n",
    "                            \n",
    "                \n",
    "                variant_name = directory_name[:-5]\n",
    "                stripped_name = variant_name.replace(\"_False\", \"\").replace(\"_True\", \"\").replace(\"_ecoli_opt\", \"\")\n",
    "                \n",
    "                if \"weakest_link\" in variant_name:\n",
    "                    continue\n",
    "                \n",
    "                if variant_name.endswith(\"True\"):\n",
    "                    suffix = \"_for_optimized_ecoli\"\n",
    "                else:\n",
    "                    suffix = \"_for_optimized_bacillus\"\n",
    "                \n",
    "                unified_variants_dict[stripped_name][\"bacillus_initial_score\" + suffix] = bacillus_initial_score\n",
    "                unified_variants_dict[stripped_name][\"bacillus_final_score\" + suffix] = bacillus_final_score\n",
    "                unified_variants_dict[stripped_name][\"ecoli_initial_score\" + suffix] = ecoli_initial_score\n",
    "                unified_variants_dict[stripped_name][\"ecoli_final_score\" + suffix] = ecoli_final_score\n",
    "                unified_variants_dict[stripped_name][\"average_distance_evaluation_score\" + suffix] = evaluation_summary[\"average_distance_score\"]\n",
    "                unified_variants_dict[stripped_name][\"weakest_link_evaluation_score\" + suffix] = evaluation_summary[\"weakest_link_score\"]\n",
    "                unified_variants_dict[stripped_name][\"ratio_evaluation_score\" + suffix] = evaluation_summary[\"ratio_score\"]\n",
    "                \n",
    "    \n",
    "    df_dict = defaultdict(list)\n",
    "    for variant_name in unified_variants_dict.keys():\n",
    "        df_dict[\"variant\"].append(variant_name)\n",
    "        df_dict[\"ecoli_initial_score_for_optimized_ecoli\"].append(unified_variants_dict[variant_name][\"ecoli_initial_score_for_optimized_ecoli\"])\n",
    "        df_dict[\"ecoli_final_score_for_optimized_ecoli\"].append(unified_variants_dict[variant_name][\"ecoli_final_score_for_optimized_ecoli\"])\n",
    "        df_dict[\"ecoli_initial_score_for_optimized_bacillus\"].append(unified_variants_dict[variant_name][\"ecoli_initial_score_for_optimized_bacillus\"])\n",
    "        df_dict[\"ecoli_final_score_for_optimized_bacillus\"].append(unified_variants_dict[variant_name][\"ecoli_final_score_for_optimized_bacillus\"])\n",
    "        df_dict[\"bacillus_initial_score_for_optimized_ecoli\"].append(unified_variants_dict[variant_name][\"bacillus_initial_score_for_optimized_ecoli\"])\n",
    "        df_dict[\"bacillus_final_score_for_optimized_ecoli\"].append(unified_variants_dict[variant_name][\"bacillus_final_score_for_optimized_ecoli\"])\n",
    "        df_dict[\"bacillus_initial_score_for_optimized_bacillus\"].append(unified_variants_dict[variant_name][\"bacillus_initial_score_for_optimized_bacillus\"])\n",
    "        df_dict[\"bacillus_final_score_for_optimized_bacillus\"].append(unified_variants_dict[variant_name][\"bacillus_final_score_for_optimized_bacillus\"])\n",
    "        df_dict[\"average_distance_evaluation_score_for_optimized_ecoli\"].append(unified_variants_dict[variant_name][\"average_distance_evaluation_score_for_optimized_ecoli\"])\n",
    "        df_dict[\"average_distance_evaluation_score_for_optimized_bacillus\"].append(unified_variants_dict[variant_name][\"average_distance_evaluation_score_for_optimized_bacillus\"])\n",
    "        df_dict[\"weakest_link_evaluation_score_for_optimized_ecoli\"].append(unified_variants_dict[variant_name][\"weakest_link_evaluation_score_for_optimized_ecoli\"])\n",
    "        df_dict[\"weakest_link_evaluation_score_for_optimized_bacillus\"].append(unified_variants_dict[variant_name][\"weakest_link_evaluation_score_for_optimized_bacillus\"])\n",
    "        df_dict[\"ratio_evaluation_score_for_optimized_ecoli\"].append(unified_variants_dict[variant_name][\"ratio_evaluation_score_for_optimized_ecoli\"])\n",
    "        df_dict[\"ratio_evaluation_score_for_optimized_bacillus\"].append(unified_variants_dict[variant_name][\"ratio_evaluation_score_for_optimized_bacillus\"])\n",
    "    \n",
    "    return df_dict"
   ]
  },
  {
   "cell_type": "code",
   "execution_count": 18,
   "metadata": {},
   "outputs": [],
   "source": [
    "def get_cub_weights(organism_summary_file_path: str):\n",
    "    with open(organism_summary_file_path, \"r\") as organism_summary_file:\n",
    "        organism_summary = json.load(organism_summary_file)\n",
    "    \n",
    "    cai_profile = organism_summary[\"cai_weights\"]\n",
    "    tai_profile = organism_summary[\"tai_weights\"]\n",
    "    \n",
    "    return cai_profile, tai_profile"
   ]
  },
  {
   "cell_type": "code",
   "execution_count": 19,
   "metadata": {},
   "outputs": [],
   "source": [
    "def get_cub_scores(organism_summary_file_path: str):\n",
    "    with open(organism_summary_file_path, \"r\") as organism_summary_file:\n",
    "        organism_summary = json.load(organism_summary_file)\n",
    "    \n",
    "    cai_scores = organism_summary[\"cai_scores\"]\n",
    "    tai_scores = organism_summary[\"tai_scores\"]\n",
    "    \n",
    "    return cai_scores, tai_scores"
   ]
  },
  {
   "cell_type": "code",
   "execution_count": 20,
   "metadata": {},
   "outputs": [],
   "source": [
    "def get_mrna_estimated_expression(endogenous_genes_fasta_file_path, mrna_levels_file_path):\n",
    "    expression_df = pd.read_csv(mrna_levels_file_path)\n",
    "    gene_name_to_mrna_level = {}\n",
    "    for _, pair in enumerate(zip(expression_df.gene.to_list(), expression_df.mRNA_level.to_list())):\n",
    "        measured_gene_name, expression_level = pair\n",
    "        try:\n",
    "            gene_name_to_mrna_level[measured_gene_name.lower()] = float(expression_level)\n",
    "        except:\n",
    "            continue\n",
    "            \n",
    "    with open(endogenous_genes_fasta_file_path, \"r\") as endogenous_genes_fasta_file:\n",
    "        endogenous_genes_dict = SeqIO.to_dict(SeqIO.parse(endogenous_genes_fasta_file, \"fasta\"), lambda x: x.description)\n",
    "        \n",
    "    estimated_expression = {description: {\"cds\": cds, \"mrna_level\": gene_name_to_mrna_level[description.split(\"|\")[0].lower()]}  for description, cds in endogenous_genes_dict.items() if description.split(\"|\")[0].lower() in gene_name_to_mrna_level}\n",
    "    return estimated_expression"
   ]
  },
  {
   "cell_type": "code",
   "execution_count": 21,
   "metadata": {},
   "outputs": [],
   "source": [
    "def get_pa_estimated_expression(endogenous_genes_fasta_file_path, pa_file_path):\n",
    "    expression_df = pd.read_json(pa_file_path)\n",
    "    gene_name_to_pa = {}\n",
    "    for _, pair in enumerate(zip(expression_df.name.to_list(), expression_df.abundance.to_list())):\n",
    "        measured_gene_name, expression_level = pair\n",
    "        try:\n",
    "            gene_name_to_pa[measured_gene_name.lower()] = float(expression_level)\n",
    "        except:\n",
    "            continue\n",
    "            \n",
    "    with open(endogenous_genes_fasta_file_path, \"r\") as endogenous_genes_fasta_file:\n",
    "        endogenous_genes_dict = SeqIO.to_dict(SeqIO.parse(endogenous_genes_fasta_file, \"fasta\"), lambda x: x.description)\n",
    "        \n",
    "    estimated_expression = {description: {\"cds\": cds, \"pa\": gene_name_to_pa[description.split(\"|\")[0].lower()]}  for description, cds in endogenous_genes_dict.items() if description.split(\"|\")[0].lower() in gene_name_to_pa}\n",
    "    return estimated_expression"
   ]
  },
  {
   "cell_type": "code",
   "execution_count": 22,
   "metadata": {},
   "outputs": [],
   "source": [
    "def get_estimated_expression(endogenous_genes_fasta_file_path, expression_levels_file_path, expression_type: str):\n",
    "    if expression_type == \"mrna_levels\":\n",
    "        return get_mrna_estimated_expression(endogenous_genes_fasta_file_path, expression_levels_file_path)\n",
    "    elif expression_type == \"protein_abundance\":\n",
    "        return get_pa_estimated_expression(endogenous_genes_fasta_file_path, expression_levels_file_path)\n",
    "    raise ValueError(\"Missing expression type support\")"
   ]
  },
  {
   "cell_type": "code",
   "execution_count": 23,
   "metadata": {},
   "outputs": [],
   "source": [
    "def get_highly_expressed_genes(endogenous_genes_fasta_file_path, expression_levels_file_path, expression_type):\n",
    "    estimated_expression = get_estimated_expression(endogenous_genes_fasta_file_path=endogenous_genes_fasta_file_path, expression_levels_file_path=expression_levels_file_path, expression_type=expression_type)\n",
    "    estimated_expression_threshold = 0.15\n",
    "    \n",
    "    expression_key = \"mrna_level\" if expression_type == \"mrna_levels\" else \"pa\"\n",
    "    sorted_estimated_expression = dict(\n",
    "        sorted(estimated_expression.items(), key=lambda x: x[1][expression_key], reverse=True)\n",
    "    )\n",
    "    highly_expressed_genes_count = round(len(sorted_estimated_expression) * estimated_expression_threshold)\n",
    "    \n",
    "    highly_expressed_names = list(sorted_estimated_expression.keys())[:highly_expressed_genes_count]\n",
    "    highly_expressed_genes = {key: value for key, value in estimated_expression.items() if key in highly_expressed_names}\n",
    "    return highly_expressed_genes"
   ]
  },
  {
   "cell_type": "code",
   "execution_count": 24,
   "metadata": {},
   "outputs": [],
   "source": [
    "base_path = os.path.join(Path(os.getcwd()).parent.resolve(), \"example_data\")\n",
    "macherry_file_path = os.path.join(base_path, \"mCherry_original.fasta\")"
   ]
  },
  {
   "cell_type": "code",
   "execution_count": 25,
   "metadata": {},
   "outputs": [],
   "source": [
    "with open(macherry_file_path, \"r\") as mcherry_fasta_file:\n",
    "    mcherry_dict = SeqIO.to_dict(SeqIO.parse(mcherry_fasta_file, \"fasta\"))\n",
    "\n",
    "original_mcherry_seq = list(mcherry_dict.values())[0].seq"
   ]
  },
  {
   "cell_type": "markdown",
   "metadata": {},
   "source": [
    "# Generating mcherry variants"
   ]
  },
  {
   "cell_type": "markdown",
   "metadata": {},
   "source": [
    "### Tuning parameter = 0.5"
   ]
  },
  {
   "cell_type": "markdown",
   "metadata": {},
   "source": [
    "#### Using protein abundance"
   ]
  },
  {
   "cell_type": "code",
   "execution_count": 26,
   "metadata": {},
   "outputs": [],
   "source": [
    "# run_all_methods(orf_sequence_file=macherry_file_path, output_path=\"mcherry\", should_use_protein_abundance=True, should_use_mrna_levels=False)"
   ]
  },
  {
   "cell_type": "code",
   "execution_count": 29,
   "metadata": {},
   "outputs": [],
   "source": [
    "mcherry_root_dir = r\"C:\\projects\\Igem_TAU_2021_moran\\analysis\\orf_model_analysis\\results\\mcherry\"\n",
    "mcherry_variants_file = os.path.join(mcherry_root_dir, \"mcherry_variants.fasta\")\n",
    "generate_sequences_fasta_file(mcherry_root_dir)\n",
    "generate_summary(results_directory=mcherry_root_dir)"
   ]
  },
  {
   "cell_type": "markdown",
   "metadata": {},
   "source": [
    "### Tuning parameter = 1 (optimizing only wanted host and neglecting unwanted host)"
   ]
  },
  {
   "cell_type": "markdown",
   "metadata": {},
   "source": [
    "#### Using protein abundance"
   ]
  },
  {
   "cell_type": "code",
   "execution_count": 28,
   "metadata": {},
   "outputs": [],
   "source": [
    "# run_all_methods(orf_sequence_file=macherry_file_path, output_path=\"mcherry_greater_alpha\", tuning_param=1, should_use_protein_abundance=True, should_use_mrna_levels=False)"
   ]
  },
  {
   "cell_type": "code",
   "execution_count": null,
   "metadata": {},
   "outputs": [],
   "source": [
    "mcherry_greater_alpha_root_dir = r\"C:\\projects\\Igem_TAU_2021_moran\\analysis\\orf_model_analysis\\results\\mcherry_greater_alpha\"\n",
    "mcherry_greater_alpha_variants_file = os.path.join(mcherry_greater_alpha_root_dir, \"mcherry_variants.fasta\")\n",
    "generate_sequences_fasta_file(mcherry_greater_alpha_root_dir)\n",
    "generate_summary(results_directory=mcherry_greater_alpha_root_dir)"
   ]
  },
  {
   "cell_type": "markdown",
   "metadata": {},
   "source": [
    "### Tuning parameter = 0 (de-optimizing uwanted host and neglecting wanted host)"
   ]
  },
  {
   "cell_type": "markdown",
   "metadata": {},
   "source": [
    "#### Using protein abundance"
   ]
  },
  {
   "cell_type": "code",
   "execution_count": null,
   "metadata": {},
   "outputs": [],
   "source": [
    "# run_all_methods(orf_sequence_file=macherry_file_path, output_path=\"mcherry_lower_alpha\", tuning_param=0, should_use_protein_abundance=True, should_use_mrna_levels=False)"
   ]
  },
  {
   "cell_type": "code",
   "execution_count": null,
   "metadata": {},
   "outputs": [],
   "source": [
    "mcherry_lower_alpha_root_dir = r\"C:\\projects\\Igem_TAU_2021_moran\\analysis\\orf_model_analysis\\results\\mcherry_lower_alpha\"\n",
    "mcherry_lower_alpha_variants_file = os.path.join(mcherry_lower_alpha_root_dir, \"mcherry_variants.fasta\")\n",
    "generate_sequences_fasta_file(mcherry_lower_alpha_root_dir)\n",
    "generate_summary(results_directory=mcherry_lower_alpha_root_dir)"
   ]
  },
  {
   "cell_type": "markdown",
   "metadata": {},
   "source": [
    "### Using ribosomal genes as highly expressed genes (instead of mRNA levels)"
   ]
  },
  {
   "cell_type": "code",
   "execution_count": null,
   "metadata": {},
   "outputs": [],
   "source": [
    "# run_all_methods(orf_sequence_file=macherry_file_path, output_path=\"ribosomal\", should_use_mrna_levels=False)"
   ]
  },
  {
   "cell_type": "code",
   "execution_count": null,
   "metadata": {},
   "outputs": [],
   "source": [
    "# mcherry_ribosomal_root_dir = r\"C:\\projects\\Igem_TAU_2021_moran\\analysis\\orf_model_analysis\\results\\mrna\\ribosomal\"\n",
    "# mcherry_ribosomal_variants_file = os.path.join(mcherry_ribosomal_root_dir, \"mcherry_variants.fasta\")\n",
    "# generate_sequences_fasta_file(mcherry_ribosomal_root_dir)\n",
    "# generate_summary(results_directory=mcherry_ribosomal_root_dir)"
   ]
  },
  {
   "cell_type": "markdown",
   "metadata": {},
   "source": [
    "# CUB and codon frequencies of Bacillus and E.coli"
   ]
  },
  {
   "cell_type": "code",
   "execution_count": null,
   "metadata": {},
   "outputs": [],
   "source": [
    "bacillus_endogenous_genes_fasta_file_path = r\"C:\\projects\\Igem_TAU_2021_moran\\analysis\\example_data\\Bacillus-subtilis.fasta\"\n",
    "ecoli_endogenous_genes_fasta_file_path =  r\"C:\\projects\\Igem_TAU_2021_moran\\analysis\\example_data\\Escherichia-coli.fasta\""
   ]
  },
  {
   "cell_type": "code",
   "execution_count": null,
   "metadata": {},
   "outputs": [],
   "source": [
    "with open(bacillus_endogenous_genes_fasta_file_path, \"r\") as bacillus_endogenous_genes_fasta_file:\n",
    "    bacillus_endogenous_genes_dict = SeqIO.to_dict(SeqIO.parse(bacillus_endogenous_genes_fasta_file, \"fasta\"), lambda record: record.description)\n",
    "\n",
    "bacillus_codon_frequencies = calculate_codon_frequencies([str(gene.seq) for gene in bacillus_endogenous_genes_dict.values()])\n",
    "bacillus_codon_frequencies = bacillus_codon_frequencies.sort_values(\"codon\")\n",
    "\n",
    "bacillus_codon_frequencies_lamda = calculate_codon_frequencies_lamda([str(gene.seq) for gene in bacillus_endogenous_genes_dict.values()])\n",
    "bacillus_codon_frequencies_lamda = bacillus_codon_frequencies_lamda.sort_values(\"codon\")\n",
    "\n",
    "with open(ecoli_endogenous_genes_fasta_file_path, \"r\") as ecoli_endogenous_genes_fasta_file:\n",
    "    ecoli_endogenous_genes_dict = SeqIO.to_dict(SeqIO.parse(ecoli_endogenous_genes_fasta_file, \"fasta\"), lambda x: x.description)\n",
    "\n",
    "ecoli_codon_frequencies = calculate_codon_frequencies([str(gene.seq) for gene in ecoli_endogenous_genes_dict.values()])\n",
    "ecoli_codon_frequencies = ecoli_codon_frequencies.sort_values(\"codon\")\n",
    "\n",
    "ecoli_codon_frequencies_lamda = calculate_codon_frequencies_lamda([str(gene.seq) for gene in ecoli_endogenous_genes_dict.values()])\n",
    "ecoli_codon_frequencies_lamda = ecoli_codon_frequencies_lamda.sort_values(\"codon\")"
   ]
  },
  {
   "cell_type": "code",
   "execution_count": null,
   "metadata": {},
   "outputs": [],
   "source": [
    "bacillus_codon_frequencies"
   ]
  },
  {
   "cell_type": "code",
   "execution_count": null,
   "metadata": {},
   "outputs": [],
   "source": [
    "ecoli_codon_frequencies"
   ]
  },
  {
   "cell_type": "code",
   "execution_count": null,
   "metadata": {},
   "outputs": [],
   "source": [
    "ecoli_highly_expressed_genes = get_highly_expressed_genes(endogenous_genes_fasta_file_path=ecoli_endogenous_genes_fasta_file_path,\n",
    "                                                          expression_levels_file_path=r\"C:\\projects\\Igem_TAU_2021_moran\\analysis\\example_data\\PA_ecoli.json\",\n",
    "                                                          expression_type=\"protein_abundance\")\n",
    "# ecoli_highly_expressed_genes = get_highly_expressed_genes(endogenous_genes_fasta_file_path=ecoli_endogenous_genes_fasta_file_path,\n",
    "#                                                           expression_levels_file_path=r\"C:\\projects\\Igem_TAU_2021_moran\\analysis\\example_data\\ecoli_mrna_level.csv\",\n",
    "#                                                           expression_type=\"mrna_levels\")\n",
    "ecoli_highly_expressed_genes_codon_frequencies = calculate_codon_frequencies([str(gene[\"cds\"].seq) for gene in ecoli_highly_expressed_genes.values()])\n",
    "ecoli_highly_expressed_genes_codon_frequencies = ecoli_highly_expressed_genes_codon_frequencies.sort_values(\"codon\")\n",
    "\n",
    "ecoli_highly_expressed_genes_codon_frequencies_lamda = calculate_codon_frequencies_lamda([str(gene[\"cds\"].seq) for gene in ecoli_highly_expressed_genes.values()])\n",
    "ecoli_highly_expressed_genes_codon_frequencies_lamda = ecoli_highly_expressed_genes_codon_frequencies_lamda.sort_values(\"codon\")\n",
    "\n",
    "# bacillus_highly_expressed_genes = get_highly_expressed_genes(endogenous_genes_fasta_file_path=bacillus_endogenous_genes_fasta_file_path,\n",
    "#                                                           expression_levels_file_path=r\"C:\\projects\\Igem_TAU_2021_moran\\analysis\\example_data\\bacillus_mrna_level.csv\",\n",
    "#                                                             expression_type=\"mrna_levels\")\n",
    "bacillus_highly_expressed_genes = get_highly_expressed_genes(endogenous_genes_fasta_file_path=bacillus_endogenous_genes_fasta_file_path,\n",
    "                                                             expression_levels_file_path=r\"C:\\projects\\Igem_TAU_2021_moran\\analysis\\example_data\\PA_bacillus.json\",\n",
    "                                                            expression_type=\"protein_abundance\")\n",
    "bacillus_highly_expressed_genes_codon_frequencies = calculate_codon_frequencies([str(gene[\"cds\"].seq) for gene in bacillus_highly_expressed_genes.values()])\n",
    "bacillus_highly_expressed_genes_codon_frequencies = bacillus_highly_expressed_genes_codon_frequencies.sort_values(\"codon\")\n",
    "\n",
    "bacillus_highly_expressed_genes_codon_frequencies_lamda = calculate_codon_frequencies_lamda([str(gene[\"cds\"].seq) for gene in bacillus_highly_expressed_genes.values()])\n",
    "bacillus_highly_expressed_genes_codon_frequencies_lamda = bacillus_highly_expressed_genes_codon_frequencies_lamda.sort_values(\"codon\")"
   ]
  },
  {
   "cell_type": "markdown",
   "metadata": {},
   "source": [
    "Run only once - for generating both tai and cai weights dict:"
   ]
  },
  {
   "cell_type": "code",
   "execution_count": null,
   "metadata": {},
   "outputs": [],
   "source": [
    "from modules.user_IO.user_input import UserInputModule\n",
    "from modules.run_summary import RunSummary\n",
    "\n",
    "from generate_summary_file import generate_summary\n",
    "from input_testing_data.generate_input_testing_data_for_modules import generate_testing_data_for_ecoli_and_bacillus\n",
    "from modules.main import run_modules\n",
    "from modules import shared_functions_and_vars\n",
    "\n",
    "default_user_inp_raw = generate_testing_data_for_ecoli_and_bacillus(\n",
    "    orf_optimization_method=\"single_codon_diff\",\n",
    "    orf_optimization_cub_index=\"max_CAI_tAI\",\n",
    "    clusters_count=1,\n",
    "    tuning_param=0.5,\n",
    "    is_ecoli_optimized=True,\n",
    "    sequence=original_mcherry_seq,\n",
    "    output_path=\"results\",\n",
    "    should_use_mrna_levels=False,\n",
    "    should_use_protein_abundance=True,\n",
    ")\n",
    "\n",
    "UserInputModule.run_module(default_user_inp_raw, RunSummary())"
   ]
  },
  {
   "cell_type": "code",
   "execution_count": null,
   "metadata": {},
   "outputs": [],
   "source": [
    "ecoli_cai_weights, ecoli_tai_weights = get_cub_weights(r\"C:\\projects\\Igem_TAU_2021_moran\\analysis\\example_data\\Escherichia-coli_True_parsed.json\")\n",
    "bacillus_cai_weights, bacillus_tai_weights = get_cub_weights(r\"C:\\projects\\Igem_TAU_2021_moran\\analysis\\example_data\\Bacillus-subtilis_False_parsed.json\")"
   ]
  },
  {
   "cell_type": "code",
   "execution_count": null,
   "metadata": {},
   "outputs": [],
   "source": [
    "codons = ecoli_cai_weights.keys()\n",
    "weights_df_dict = {\n",
    "    \"codon\": codons, \n",
    "    \"amino_acid\": [shared_functions_and_vars.nt_to_aa[k] for k in codons],\n",
    "    \"ecoli_cai_weights\": [ecoli_cai_weights[k] for k in codons],\n",
    "    \"ecoli_tai_weights\": [ecoli_tai_weights.get(k, 0) for k in codons],\n",
    "    \"bacillus_cai_weights\": [bacillus_cai_weights[k] for k in codons],\n",
    "    \"bacillus_tai_weights\": [bacillus_tai_weights.get(k, 0) for k in codons],\n",
    "}\n",
    "weights_dataframe = pd.DataFrame(weights_df_dict)\n",
    "weights_dataframe.sort_values(\"amino_acid\")\n",
    "weights_dataframe"
   ]
  },
  {
   "cell_type": "code",
   "execution_count": null,
   "metadata": {},
   "outputs": [],
   "source": [
    "fig, axes = plt.subplots(nrows=1,ncols=2, figsize=(20,5))\n",
    "scatter = weights_dataframe.plot.scatter(x=\"ecoli_cai_weights\", y=\"bacillus_cai_weights\", title=\"E.coli CAI weights vs. Bacillus CAI weights\", ax=axes[0])\n",
    "r, p = stats.spearmanr(weights_dataframe[\"ecoli_cai_weights\"], weights_dataframe[\"bacillus_cai_weights\"])\n",
    "scatter.annotate('r = {:.3f}'.format(r), xy=(0.7, 0.9), xycoords='axes fraction')\n",
    "\n",
    "scatter = weights_dataframe.plot.scatter(x=\"ecoli_tai_weights\", y=\"bacillus_tai_weights\", title=\"E.coli tAI weights vs. Bacillus tAI weights\", ax=axes[1])\n",
    "r, p = stats.spearmanr(weights_dataframe[\"ecoli_tai_weights\"], weights_dataframe[\"bacillus_tai_weights\"])\n",
    "scatter.annotate('r = {:.3f}'.format(r), xy=(0.7, 0.9), xycoords='axes fraction')"
   ]
  },
  {
   "cell_type": "code",
   "execution_count": null,
   "metadata": {},
   "outputs": [],
   "source": [
    "merged_weights_codon_frequencies_df = pd.merge(weights_dataframe, ecoli_codon_frequencies, on='codon', how='inner')\n",
    "merged_weights_codon_frequencies_df = pd.merge(merged_weights_codon_frequencies_df, bacillus_codon_frequencies, on='codon', how='inner', suffixes=(\"_ecoli\", \"_bacillus\"))\n",
    "\n",
    "fig, axes = plt.subplots(nrows=2,ncols=2, figsize=(20,15))\n",
    "scatter = merged_weights_codon_frequencies_df.plot.scatter(x=\"ecoli_cai_weights\", y=\"frequency_ecoli\", title=\"E.coli CAI weights vs. E.coli codon frequencies\", ax=axes[0,0])\n",
    "r, p = stats.spearmanr(merged_weights_codon_frequencies_df[\"ecoli_cai_weights\"], merged_weights_codon_frequencies_df[\"frequency_ecoli\"])\n",
    "scatter.annotate('r = {:.4f}, p={}'.format(r, p), xy=(0.7, 0.9), xycoords='axes fraction')\n",
    "\n",
    "scatter = merged_weights_codon_frequencies_df.plot.scatter(x=\"bacillus_cai_weights\", y=\"frequency_bacillus\", title=\"Bacillus CAI weights vs. Bacillus codon frequencies\", ax=axes[0,1])\n",
    "r, p = stats.spearmanr(merged_weights_codon_frequencies_df[\"ecoli_cai_weights\"], merged_weights_codon_frequencies_df[\"frequency_bacillus\"])\n",
    "scatter.annotate('r = {:.4f}, p={}'.format(r, p), xy=(0.7, 0.9), xycoords='axes fraction')\n",
    "\n",
    "scatter = merged_weights_codon_frequencies_df.plot.scatter(x=\"ecoli_tai_weights\", y=\"frequency_ecoli\", title=\"E.coli tAI weights vs. E.coli codon frequencies\", ax=axes[1,0])\n",
    "r, p = stats.spearmanr(merged_weights_codon_frequencies_df[\"ecoli_tai_weights\"], merged_weights_codon_frequencies_df[\"frequency_ecoli\"])\n",
    "scatter.annotate('r = {:.4f}, p={}'.format(r, p), xy=(0.7, 0.9), xycoords='axes fraction')\n",
    "\n",
    "scatter = merged_weights_codon_frequencies_df.plot.scatter(x=\"bacillus_tai_weights\", y=\"frequency_bacillus\", title=\"Bacillus tAI weights vs. Bacillus codon frequencies\", ax=axes[1,1])\n",
    "r, p = stats.spearmanr(merged_weights_codon_frequencies_df[\"ecoli_tai_weights\"], merged_weights_codon_frequencies_df[\"frequency_bacillus\"])\n",
    "scatter.annotate('r = {:.4f}, p={}'.format(r, p), xy=(0.7, 0.9), xycoords='axes fraction')"
   ]
  },
  {
   "cell_type": "code",
   "execution_count": null,
   "metadata": {},
   "outputs": [],
   "source": [
    "merged_weights_codon_frequencies_df = pd.merge(weights_dataframe, ecoli_highly_expressed_genes_codon_frequencies, on='codon', how='inner')\n",
    "merged_weights_codon_frequencies_df = pd.merge(merged_weights_codon_frequencies_df, bacillus_highly_expressed_genes_codon_frequencies, on='codon', how='inner', suffixes=(\"_ecoli\", \"_bacillus\"))\n",
    "\n",
    "fig, axes = plt.subplots(nrows=2,ncols=2, figsize=(20,15))\n",
    "scatter = merged_weights_codon_frequencies_df.plot.scatter(x=\"ecoli_cai_weights\", y=\"frequency_ecoli\", title=\"E.coli CAI weights vs. E.coli codon frequencies in highly expressed genes\", ax=axes[0,0])\n",
    "r, p = stats.spearmanr(merged_weights_codon_frequencies_df[\"ecoli_cai_weights\"], merged_weights_codon_frequencies_df[\"frequency_ecoli\"])\n",
    "scatter.annotate('r = {:.4f}, p={}'.format(r, p), xy=(0.7, 0.9), xycoords='axes fraction')\n",
    "\n",
    "scatter = merged_weights_codon_frequencies_df.plot.scatter(x=\"bacillus_cai_weights\", y=\"frequency_bacillus\", title=\"Bacillus CAI weights vs. Bacillus codon frequencies in highly expressed genes\", ax=axes[0,1])\n",
    "r, p = stats.spearmanr(merged_weights_codon_frequencies_df[\"ecoli_cai_weights\"], merged_weights_codon_frequencies_df[\"frequency_bacillus\"])\n",
    "scatter.annotate('r = {:.4f}, p={}'.format(r, p), xy=(0.7, 0.9), xycoords='axes fraction')\n",
    "\n",
    "scatter = merged_weights_codon_frequencies_df.plot.scatter(x=\"ecoli_tai_weights\", y=\"frequency_ecoli\", title=\"E.coli tAI weights vs. E.coli codon frequencies in highly expressed genes\", ax=axes[1,0])\n",
    "r, p = stats.spearmanr(merged_weights_codon_frequencies_df[\"ecoli_tai_weights\"], merged_weights_codon_frequencies_df[\"frequency_ecoli\"])\n",
    "scatter.annotate('r = {:.4f}, p={}'.format(r, p), xy=(0.7, 0.9), xycoords='axes fraction')\n",
    "\n",
    "scatter = merged_weights_codon_frequencies_df.plot.scatter(x=\"bacillus_tai_weights\", y=\"frequency_bacillus\", title=\"Bacillus tAI weights vs. Bacillus codon frequencies in highly expressed genes\", ax=axes[1,1])\n",
    "r, p = stats.spearmanr(merged_weights_codon_frequencies_df[\"ecoli_tai_weights\"], merged_weights_codon_frequencies_df[\"frequency_bacillus\"])\n",
    "scatter.annotate('r = {:.4f}, p={}'.format(r, p), xy=(0.7, 0.9), xycoords='axes fraction')"
   ]
  },
  {
   "cell_type": "code",
   "execution_count": null,
   "metadata": {},
   "outputs": [],
   "source": [
    "ecoli_cai_scores, ecoli_tai_scores = get_cub_scores(r\"C:\\projects\\Igem_TAU_2021_moran\\analysis\\example_data\\Escherichia-coli_True_parsed.json\")\n",
    "bacillus_cai_scores, bacillus_tai_scores = get_cub_scores(r\"C:\\projects\\Igem_TAU_2021_moran\\analysis\\example_data\\Bacillus-subtilis_False_parsed.json\")"
   ]
  },
  {
   "cell_type": "code",
   "execution_count": null,
   "metadata": {},
   "outputs": [],
   "source": [
    "def get_scores(estimated_expression_dict, cai_scores_dict, tai_scores_dict, expression_type, selected_genes=None):\n",
    "    all_cds = cai_scores_dict.keys()\n",
    "    selected_genes = selected_genes or all_cds\n",
    "    filtered_cds = []\n",
    "    expression_levels = []\n",
    "    \n",
    "    expression_levels_key = \"mrna_level\" if expression_type == \"mrna_levels\" else \"pa\"\n",
    "    for k in all_cds:\n",
    "        if not any(k.startswith(x) for x in selected_genes):\n",
    "            continue\n",
    "        short_name = k.split(\" \")[0]\n",
    "        # print(f\"k: {k}, sort_name: {short_name}\")\n",
    "        for gene_name, expression in estimated_expression_dict.items():\n",
    "            if gene_name.startswith(short_name):\n",
    "                expression_levels.append(expression[expression_levels_key])\n",
    "                filtered_cds.append(k)\n",
    "                break\n",
    "\n",
    "        \n",
    "    scores_expression_levels_df_dict = {\n",
    "        \"gene\": filtered_cds, \n",
    "        \"cai_scores\": [cai_scores_dict[k] for k in filtered_cds],\n",
    "        \"tai_scores\": [tai_scores_dict[k] for k in filtered_cds],\n",
    "        expression_levels_key: expression_levels,\n",
    "    }\n",
    "    return pd.DataFrame(scores_expression_levels_df_dict)"
   ]
  },
  {
   "cell_type": "code",
   "execution_count": null,
   "metadata": {},
   "outputs": [],
   "source": [
    "expression_type = \"mrna_levels\"\n",
    "ecoli_estimated_expression = get_estimated_expression(endogenous_genes_fasta_file_path=ecoli_endogenous_genes_fasta_file_path,\n",
    "                                                      expression_levels_file_path=r\"C:\\projects\\Igem_TAU_2021_moran\\analysis\\example_data\\ecoli_mrna_level.csv\",\n",
    "                                                      expression_type=expression_type)\n",
    "ecoli_scores_dataframe =  get_scores(estimated_expression_dict=ecoli_estimated_expression, cai_scores_dict=ecoli_cai_scores, tai_scores_dict=ecoli_tai_scores, expression_type=expression_type)\n",
    "print(f\"Ecoli mrna levels stats:\\n records:{len(ecoli_scores_dataframe['mrna_level'])}\\n min: {ecoli_scores_dataframe['mrna_level'].min()} \\n max: {ecoli_scores_dataframe['mrna_level'].max()}\\n mean: {ecoli_scores_dataframe['mrna_level'].mean()}\\n std: {ecoli_scores_dataframe['mrna_level'].std()}\")  \n",
    "ecoli_scores_dataframe[\"mrna_level\"].sort_values(ascending=False).reset_index(drop=True).plot()\n",
    "\n",
    "bacillus_estimated_expression = get_estimated_expression(endogenous_genes_fasta_file_path=bacillus_endogenous_genes_fasta_file_path,\n",
    "                                                         expression_levels_file_path=r\"C:\\projects\\Igem_TAU_2021_moran\\analysis\\example_data\\bacillus_mrna_level.csv\",\n",
    "                                                          expression_type=expression_type)\n",
    "bacillus_scores_dataframe =  get_scores(estimated_expression_dict=bacillus_estimated_expression, cai_scores_dict=bacillus_cai_scores, tai_scores_dict=bacillus_tai_scores, expression_type=expression_type)\n",
    "print(f\"Bacillus mrna levels stats:\\n records:{len(bacillus_scores_dataframe['mrna_level'])}\\n min: {bacillus_scores_dataframe['mrna_level'].min()} \\n max: {bacillus_scores_dataframe['mrna_level'].max()}\\n mean: {bacillus_scores_dataframe['mrna_level'].mean()}\\n std: {bacillus_scores_dataframe['mrna_level'].std()}\")  \n",
    "bacillus_scores_dataframe[\"mrna_level\"].sort_values(ascending=False).reset_index(drop=True).plot()"
   ]
  },
  {
   "cell_type": "code",
   "execution_count": null,
   "metadata": {},
   "outputs": [],
   "source": [
    "fig, axes = plt.subplots(nrows=2,ncols=2, figsize=(20,15))\n",
    "\n",
    "scatter = ecoli_scores_dataframe.plot.scatter(x=\"cai_scores\", y=\"mrna_level\", title=\"E.coli mRNA levels vs. E.coli CAI scores\", ax=axes[0,0])\n",
    "r, p = stats.spearmanr(ecoli_scores_dataframe[\"cai_scores\"], ecoli_scores_dataframe[\"mrna_level\"])\n",
    "scatter.annotate('r = {:.4f}, p={}'.format(r, p), xy=(0.7, 0.9), xycoords='axes fraction')\n",
    "\n",
    "scatter = ecoli_scores_dataframe.plot.scatter(x=\"tai_scores\", y=\"mrna_level\", title=\"E.coli mRNA levels vs. E.coli tAI scores\", ax=axes[0,1])\n",
    "r, p = stats.spearmanr(ecoli_scores_dataframe[\"tai_scores\"], ecoli_scores_dataframe[\"mrna_level\"])\n",
    "scatter.annotate('r = {:.4f}, p={}'.format(r, p), xy=(0.7, 0.9), xycoords='axes fraction')\n",
    "\n",
    "scatter = bacillus_scores_dataframe.plot.scatter(x=\"cai_scores\", y=\"mrna_level\", title=\"Baciilus mRNA levels vs. Baciilus CAI scores\", ax=axes[1,0])\n",
    "r, p = stats.spearmanr(bacillus_scores_dataframe[\"cai_scores\"], bacillus_scores_dataframe[\"mrna_level\"])\n",
    "scatter.annotate('r = {:.4f}, p={}'.format(r, p), xy=(0.7, 0.9), xycoords='axes fraction')\n",
    "\n",
    "scatter = bacillus_scores_dataframe.plot.scatter(x=\"tai_scores\", y=\"mrna_level\", title=\"Baciilus mRNA levels vs. Baciilus tAI scores\", ax=axes[1,1])\n",
    "r, p = stats.spearmanr(bacillus_scores_dataframe[\"tai_scores\"], bacillus_scores_dataframe[\"mrna_level\"])\n",
    "scatter.annotate('r = {:.4f}, p={}'.format(r, p), xy=(0.7, 0.9), xycoords='axes fraction')"
   ]
  },
  {
   "cell_type": "code",
   "execution_count": null,
   "metadata": {},
   "outputs": [],
   "source": [
    "expression_type = \"mrna_levels\"\n",
    "ecoli_estimated_expression = get_estimated_expression(endogenous_genes_fasta_file_path=ecoli_endogenous_genes_fasta_file_path,\n",
    "                                                      expression_levels_file_path=r\"C:\\projects\\Igem_TAU_2021_moran\\analysis\\example_data\\ecoli_mrna_level.csv\",\n",
    "                                                      expression_type=expression_type)\n",
    "ecoli_highly_expressed_scores_dataframe =  get_scores(estimated_expression_dict=ecoli_estimated_expression, cai_scores_dict=ecoli_cai_scores, tai_scores_dict=ecoli_tai_scores, selected_genes=ecoli_highly_expressed_genes.keys(), expression_type=expression_type)\n",
    "print(f\"Ecoli mrna levels stats:\\n records:{len(ecoli_highly_expressed_scores_dataframe['mrna_level'])}\\n min: {ecoli_highly_expressed_scores_dataframe['mrna_level'].min()} \\n max: {ecoli_highly_expressed_scores_dataframe['mrna_level'].max()}\\n mean: {ecoli_highly_expressed_scores_dataframe['mrna_level'].mean()}\\n std: {ecoli_highly_expressed_scores_dataframe['mrna_level'].std()}\")  \n",
    "ecoli_highly_expressed_scores_dataframe[\"mrna_level\"].sort_values(ascending=False).reset_index(drop=True).plot()\n",
    "bacillus_estimated_expression = get_estimated_expression(endogenous_genes_fasta_file_path=bacillus_endogenous_genes_fasta_file_path,\n",
    "                                                      expression_levels_file_path=r\"C:\\projects\\Igem_TAU_2021_moran\\analysis\\example_data\\bacillus_mrna_level.csv\",\n",
    "                                                        expression_type=expression_type)\n",
    "bacillus_highly_expressed_scores_dataframe =  get_scores(estimated_expression_dict=bacillus_estimated_expression, cai_scores_dict=bacillus_cai_scores, tai_scores_dict=bacillus_tai_scores, selected_genes=bacillus_highly_expressed_genes.keys(), expression_type=expression_type)\n",
    "print(f\"Bacillus mrna levels stats:\\n records:{len(bacillus_highly_expressed_scores_dataframe['mrna_level'])}\\n min: {bacillus_highly_expressed_scores_dataframe['mrna_level'].min()} \\n max: {bacillus_highly_expressed_scores_dataframe['mrna_level'].max()}\\n mean: {bacillus_highly_expressed_scores_dataframe['mrna_level'].mean()}\\n std: {bacillus_highly_expressed_scores_dataframe['mrna_level'].std()}\")  \n",
    "bacillus_highly_expressed_scores_dataframe[\"mrna_level\"].sort_values(ascending=False).reset_index(drop=True).plot()"
   ]
  },
  {
   "cell_type": "code",
   "execution_count": null,
   "metadata": {},
   "outputs": [],
   "source": [
    "fig, axes = plt.subplots(nrows=2,ncols=2, figsize=(20,15))\n",
    "\n",
    "scatter = ecoli_highly_expressed_scores_dataframe.plot.scatter(x=\"cai_scores\", y=\"mrna_level\", title=\"E.coli mRNA levels (Highly expressed) vs. E.coli CAI scores\", ax=axes[0,0])\n",
    "r, p = stats.spearmanr(ecoli_highly_expressed_scores_dataframe[\"cai_scores\"], ecoli_highly_expressed_scores_dataframe[\"mrna_level\"])\n",
    "scatter.annotate('r = {:.4f}, p={}'.format(r, p), xy=(0.7, 0.9), xycoords='axes fraction')\n",
    "\n",
    "scatter = ecoli_highly_expressed_scores_dataframe.plot.scatter(x=\"tai_scores\", y=\"mrna_level\", title=\"E.coli mRNA levels (Highly expressed) vs. E.coli tAI scores\", ax=axes[0,1])\n",
    "r, p = stats.spearmanr(ecoli_highly_expressed_scores_dataframe[\"tai_scores\"], ecoli_highly_expressed_scores_dataframe[\"mrna_level\"])\n",
    "scatter.annotate('r = {:.4f}, p={}'.format(r, p), xy=(0.7, 0.9), xycoords='axes fraction')\n",
    "\n",
    "scatter = bacillus_highly_expressed_scores_dataframe.plot.scatter(x=\"cai_scores\", y=\"mrna_level\", title=\"Baciilus mRNA levels (Highly expressed) vs. Baciilus CAI scores\", ax=axes[1,0])\n",
    "r, p = stats.spearmanr(bacillus_highly_expressed_scores_dataframe[\"cai_scores\"], bacillus_highly_expressed_scores_dataframe[\"mrna_level\"])\n",
    "scatter.annotate('r = {:.4f}, p={}'.format(r, p), xy=(0.7, 0.9), xycoords='axes fraction')\n",
    "\n",
    "scatter = bacillus_highly_expressed_scores_dataframe.plot.scatter(x=\"tai_scores\", y=\"mrna_level\", title=\"Baciilus mRNA levels (Highly expressed) vs. Baciilus tAI scores\", ax=axes[1,1])\n",
    "r, p = stats.spearmanr(bacillus_highly_expressed_scores_dataframe[\"tai_scores\"], bacillus_highly_expressed_scores_dataframe[\"mrna_level\"])\n",
    "scatter.annotate('r = {:.4f}, p={}'.format(r, p), xy=(0.7, 0.9), xycoords='axes fraction')"
   ]
  },
  {
   "cell_type": "code",
   "execution_count": null,
   "metadata": {},
   "outputs": [],
   "source": [
    "expression_type = \"protein_abundance\"\n",
    "ecoli_estimated_expression_pa = get_estimated_expression(endogenous_genes_fasta_file_path=ecoli_endogenous_genes_fasta_file_path,\n",
    "                                                         expression_levels_file_path=r\"C:\\projects\\Igem_TAU_2021_moran\\analysis\\example_data\\PA_ecoli.json\",\n",
    "                                                         expression_type=expression_type)\n",
    "ecoli_scores_dataframe_pa =  get_scores(estimated_expression_dict=ecoli_estimated_expression_pa, cai_scores_dict=ecoli_cai_scores, tai_scores_dict=ecoli_tai_scores, expression_type=expression_type)\n",
    "print(f\"Ecoli protein abundance stats:\\n records:{len(ecoli_scores_dataframe_pa['pa'])}\\n min: {ecoli_scores_dataframe_pa['pa'].min()} \\n max: {ecoli_scores_dataframe_pa['pa'].max()}\\n mean: {ecoli_scores_dataframe_pa['pa'].mean()}\\n std: {ecoli_scores_dataframe_pa['pa'].std()}\")  \n",
    "ecoli_scores_dataframe_pa[\"pa\"].sort_values(ascending=False).reset_index(drop=True).plot()\n",
    "\n",
    "bacillus_estimated_expression_pa = get_estimated_expression(endogenous_genes_fasta_file_path=bacillus_endogenous_genes_fasta_file_path,\n",
    "                                                         expression_levels_file_path=r\"C:\\projects\\Igem_TAU_2021_moran\\analysis\\example_data\\PA_bacillus.json\",\n",
    "                                                          expression_type=expression_type)\n",
    "bacillus_scores_dataframe_pa =  get_scores(estimated_expression_dict=bacillus_estimated_expression_pa, cai_scores_dict=bacillus_cai_scores, tai_scores_dict=bacillus_tai_scores, expression_type=expression_type)\n",
    "print(f\"Bacillus protein abundance stats:\\n records:{len(bacillus_scores_dataframe_pa['pa'])}\\n min: {bacillus_scores_dataframe_pa['pa'].min()} \\n max: {bacillus_scores_dataframe_pa['pa'].max()}\\n mean: {bacillus_scores_dataframe_pa['pa'].mean()}\\n std: {bacillus_scores_dataframe_pa['pa'].std()}\")  \n",
    "bacillus_scores_dataframe_pa[\"pa\"].sort_values(ascending=False).reset_index(drop=True).plot()"
   ]
  },
  {
   "cell_type": "code",
   "execution_count": null,
   "metadata": {},
   "outputs": [],
   "source": [
    "fig, axes = plt.subplots(nrows=2,ncols=2, figsize=(20,15))\n",
    "\n",
    "ecoli_scores_dataframe_pa[\"pa_logarithmic_base10\"] = np.log10(ecoli_scores_dataframe_pa['pa'])\n",
    "bacillus_scores_dataframe_pa[\"pa_logarithmic_base10\"] = np.log10(bacillus_scores_dataframe_pa['pa'])\n",
    "                                                              \n",
    "\n",
    "scatter = ecoli_scores_dataframe_pa.plot.scatter(x=\"cai_scores\", y=\"pa_logarithmic_base10\", title=\"E.coli protein abundance vs. E.coli CAI scores\", ax=axes[0,0])\n",
    "r, p = stats.spearmanr(ecoli_scores_dataframe_pa[\"cai_scores\"], ecoli_scores_dataframe_pa[\"pa\"])\n",
    "scatter.annotate('r = {:.4f}, p={}'.format(r, p), xy=(0.7, 0.9), xycoords='axes fraction')\n",
    "\n",
    "scatter = ecoli_scores_dataframe_pa.plot.scatter(x=\"tai_scores\", y=\"pa_logarithmic_base10\", title=\"E.coli protein abundance vs. E.coli tAI scores\", ax=axes[0,1])\n",
    "r, p = stats.spearmanr(ecoli_scores_dataframe_pa[\"tai_scores\"], ecoli_scores_dataframe_pa[\"pa\"])\n",
    "scatter.annotate('r = {:.4f}, p={}'.format(r, p), xy=(0.7, 0.9), xycoords='axes fraction')\n",
    "\n",
    "scatter = bacillus_scores_dataframe_pa.plot.scatter(x=\"cai_scores\", y=\"pa_logarithmic_base10\", title=\"Baciilus protein abundance vs. Baciilus CAI scores\", ax=axes[1,0])\n",
    "r, p = stats.spearmanr(bacillus_scores_dataframe_pa[\"cai_scores\"], bacillus_scores_dataframe_pa[\"pa\"])\n",
    "scatter.annotate('r = {:.4f}, p={}'.format(r, p), xy=(0.7, 0.9), xycoords='axes fraction')\n",
    "\n",
    "scatter = bacillus_scores_dataframe_pa.plot.scatter(x=\"tai_scores\", y=\"pa_logarithmic_base10\", title=\"Baciilus protein abundance vs. Baciilus tAI scores\", ax=axes[1,1])\n",
    "r, p = stats.spearmanr(bacillus_scores_dataframe_pa[\"tai_scores\"], bacillus_scores_dataframe_pa[\"pa\"])\n",
    "scatter.annotate('r = {:.4f}, p={}'.format(r, p), xy=(0.7, 0.9), xycoords='axes fraction')"
   ]
  },
  {
   "cell_type": "code",
   "execution_count": null,
   "metadata": {},
   "outputs": [],
   "source": [
    "expression_type = \"protein_abundance\"\n",
    "ecoli_estimated_expression_pa = get_estimated_expression(endogenous_genes_fasta_file_path=ecoli_endogenous_genes_fasta_file_path,\n",
    "                                                         expression_levels_file_path=r\"C:\\projects\\Igem_TAU_2021_moran\\analysis\\example_data\\PA_ecoli.json\",\n",
    "                                                         expression_type=expression_type)\n",
    "ecoli_scores_dataframe_pa_highly_expressed =  get_scores(estimated_expression_dict=ecoli_estimated_expression_pa, cai_scores_dict=ecoli_cai_scores, tai_scores_dict=ecoli_tai_scores, expression_type=expression_type, selected_genes=ecoli_highly_expressed_genes.keys())\n",
    "print(f\"Ecoli protein abundance stats:\\n records:{len(ecoli_scores_dataframe_pa_highly_expressed['pa'])}\\n min: {ecoli_scores_dataframe_pa_highly_expressed['pa'].min()} \\n max: {ecoli_scores_dataframe_pa_highly_expressed['pa'].max()}\\n mean: {ecoli_scores_dataframe_pa_highly_expressed['pa'].mean()}\\n std: {ecoli_scores_dataframe_pa_highly_expressed['pa'].std()}\")  \n",
    "ecoli_scores_dataframe_pa_highly_expressed[\"pa\"].sort_values(ascending=False).reset_index(drop=True).plot()\n",
    "\n",
    "bacillus_estimated_expression_pa = get_estimated_expression(endogenous_genes_fasta_file_path=bacillus_endogenous_genes_fasta_file_path,\n",
    "                                                         expression_levels_file_path=r\"C:\\projects\\Igem_TAU_2021_moran\\analysis\\example_data\\PA_bacillus.json\",\n",
    "                                                          expression_type=expression_type)\n",
    "bacillus_scores_dataframe_pa_highly_expressed =  get_scores(estimated_expression_dict=bacillus_estimated_expression_pa, cai_scores_dict=bacillus_cai_scores, tai_scores_dict=bacillus_tai_scores, expression_type=expression_type, selected_genes=bacillus_highly_expressed_genes.keys())\n",
    "print(f\"Bacillus protein abundance stats:\\n records:{len(bacillus_scores_dataframe_pa_highly_expressed['pa'])}\\n min: {bacillus_scores_dataframe_pa_highly_expressed['pa'].min()} \\n max: {bacillus_scores_dataframe_pa_highly_expressed['pa'].max()}\\n mean: {bacillus_scores_dataframe_pa_highly_expressed['pa'].mean()}\\n std: {bacillus_scores_dataframe_pa_highly_expressed['pa'].std()}\")  \n",
    "bacillus_scores_dataframe_pa_highly_expressed[\"pa\"].sort_values(ascending=False).reset_index(drop=True).plot()"
   ]
  },
  {
   "cell_type": "code",
   "execution_count": null,
   "metadata": {},
   "outputs": [],
   "source": [
    "fig, axes = plt.subplots(nrows=2,ncols=2, figsize=(20,15))\n",
    "\n",
    "ecoli_scores_dataframe_pa_highly_expressed[\"pa_logarithmic_base10\"] = np.log10(ecoli_scores_dataframe_pa_highly_expressed['pa'])\n",
    "bacillus_scores_dataframe_pa_highly_expressed[\"pa_logarithmic_base10\"] = np.log10(bacillus_scores_dataframe_pa_highly_expressed['pa'])\n",
    "\n",
    "scatter = ecoli_scores_dataframe_pa_highly_expressed.plot.scatter(x=\"cai_scores\", y=\"pa_logarithmic_base10\", title=\"E.coli protein abundance vs. E.coli CAI scores - Highly expressed\", ax=axes[0,0])\n",
    "r, p = stats.spearmanr(ecoli_scores_dataframe_pa_highly_expressed[\"cai_scores\"], ecoli_scores_dataframe_pa_highly_expressed[\"pa\"])\n",
    "scatter.annotate('r = {:.4f}, p={}'.format(r, p), xy=(0.7, 0.9), xycoords='axes fraction')\n",
    "\n",
    "scatter = ecoli_scores_dataframe_pa_highly_expressed.plot.scatter(x=\"tai_scores\", y=\"pa_logarithmic_base10\", title=\"E.coli protein abundance vs. E.coli tAI scores - Highly expressed\", ax=axes[0,1])\n",
    "r, p = stats.spearmanr(ecoli_scores_dataframe_pa_highly_expressed[\"tai_scores\"], ecoli_scores_dataframe_pa_highly_expressed[\"pa\"])\n",
    "scatter.annotate('r = {:.4f}, p={}'.format(r, p), xy=(0.7, 0.9), xycoords='axes fraction')\n",
    "\n",
    "scatter = bacillus_scores_dataframe_pa_highly_expressed.plot.scatter(x=\"cai_scores\", y=\"pa_logarithmic_base10\", title=\"Baciilus protein abundance vs. Baciilus CAI scores - Highly expressed \", ax=axes[1,0])\n",
    "r, p = stats.spearmanr(bacillus_scores_dataframe_pa_highly_expressed[\"cai_scores\"], bacillus_scores_dataframe_pa_highly_expressed[\"pa\"])\n",
    "scatter.annotate('r = {:.4f}, p={}'.format(r, p), xy=(0.7, 0.9), xycoords='axes fraction')\n",
    "\n",
    "scatter = bacillus_scores_dataframe_pa.plot.scatter(x=\"tai_scores\", y=\"pa_logarithmic_base10\", title=\"Baciilus protein abundance vs. Baciilus tAI scores - Highly expressed\", ax=axes[1,1])\n",
    "r, p = stats.spearmanr(bacillus_scores_dataframe_pa_highly_expressed[\"tai_scores\"], bacillus_scores_dataframe_pa_highly_expressed[\"pa\"])\n",
    "scatter.annotate('r = {:.4f}, p={}'.format(r, p), xy=(0.7, 0.9), xycoords='axes fraction')"
   ]
  },
  {
   "cell_type": "markdown",
   "metadata": {},
   "source": [
    "# Verification of variants translation to correct amino acid sequence"
   ]
  },
  {
   "cell_type": "markdown",
   "metadata": {},
   "source": [
    "Validating original mcherry sequence:"
   ]
  },
  {
   "cell_type": "code",
   "execution_count": 30,
   "metadata": {},
   "outputs": [],
   "source": [
    "# Reference aa sequence is taken from: https://www.addgene.org/browse/sequence_vdb/6496/\n",
    "reference_mcherry_protein_seq  = \"MVSKGEEDNMAIIKEFMRFKVHMEGSVNGHEFEIEGEGEGRPYEGTQTAKLKVTKGGPLPFAWDILSPQFMYGSKAYVKHPADIPDYLKLSFPEGFKWERVMNFEDGGVVTVTQDSSLQDGEFIYKVKLRGTNFPSDGPVMQKKTMGWEASSERMYPEDGALKGEIKQRLKLKDGGHYDAEVKTTYKAKKPVQLPGAYNVNIKLDITSHNEDYTIVEQYERAEGRHSTGGMDELYK*\"\n",
    "formatted_reference_mcherry_protein_seq = reference_mcherry_protein_seq.replace(\"*\", \"_\")\n",
    "\n",
    "translated_original_mcherry_seq = shared_functions_and_vars.translate(original_mcherry_seq)\n",
    "\n",
    "assert translated_original_mcherry_seq == formatted_reference_mcherry_protein_seq"
   ]
  },
  {
   "cell_type": "markdown",
   "metadata": {},
   "source": [
    "Validating generated mcherry variants:"
   ]
  },
  {
   "cell_type": "code",
   "execution_count": 31,
   "metadata": {},
   "outputs": [],
   "source": [
    "with open(mcherry_variants_file, \"r\") as mcherry_variants_fasta_file:\n",
    "    mcherry_variants_dict = SeqIO.to_dict(SeqIO.parse(mcherry_variants_fasta_file, \"fasta\"))\n",
    "\n",
    "for variant_name, variant_seq in mcherry_variants_dict.items():\n",
    "    translated_seq = shared_functions_and_vars.translate(variant_seq.seq)\n",
    "    if translated_seq != formatted_reference_mcherry_protein_seq:\n",
    "        raise ValueError(f\"Variant {variant_name} is not coding to correct sequence. \\nReference sequence: {formatted_reference_mcherry_protein_seq} \\nVariant sequence: {translated_seq}\")"
   ]
  },
  {
   "cell_type": "code",
   "execution_count": 38,
   "metadata": {},
   "outputs": [],
   "source": [
    "skipped_codons = 12\n",
    "skipped_codons_in_nt = 12 * 3\n",
    "for variant_name, variant_seq in mcherry_variants_dict.items():\n",
    "    assert original_mcherry_seq[:skipped_codons_in_nt].lower() == str(variant_seq.seq)[:skipped_codons_in_nt].lower(), f\"variant {variant_name} has different initiation prefix\"\n",
    "    assert original_mcherry_seq.lower() != str(variant_seq.seq).lower(), \"variant is identical to the original sequence\"\n",
    "    # print(reference_mcherry_protein_seq[:skipped_codons_in_nt].lower())\n",
    "    # print(str(variant_seq.seq)[:skipped_codons_in_nt].lower())"
   ]
  },
  {
   "cell_type": "markdown",
   "metadata": {},
   "source": [
    "# Measurements for assessing variants scores "
   ]
  },
  {
   "cell_type": "markdown",
   "metadata": {},
   "source": [
    "#### Eucledean distance of codon frequencies"
   ]
  },
  {
   "cell_type": "code",
   "execution_count": null,
   "metadata": {},
   "outputs": [],
   "source": [
    "original_mcherry_codon_frequencies = calculate_codon_frequencies((str(original_mcherry_seq),))\n",
    "original_mcherry_codon_frequencies = original_mcherry_codon_frequencies.sort_values(\"codon\")\n",
    "\n",
    "original_mcherry_codon_frequencies_lamda = calculate_codon_frequencies_lamda((str(original_mcherry_seq),))\n",
    "original_mcherry_codon_frequencies_lamda = original_mcherry_codon_frequencies_lamda.sort_values(\"codon\")"
   ]
  },
  {
   "cell_type": "code",
   "execution_count": null,
   "metadata": {},
   "outputs": [],
   "source": [
    "original_bacillus_dist = calculate_distance_between_frequencies(original_mcherry_codon_frequencies[\"frequency\"].reset_index(drop=True), bacillus_codon_frequencies[\"frequency\"].reset_index(drop=True))\n",
    "original_ecoli_dist = calculate_distance_between_frequencies(original_mcherry_codon_frequencies[\"frequency\"].reset_index(drop=True), ecoli_codon_frequencies[\"frequency\"].reset_index(drop=True))\n",
    "\n",
    "original_bacillus_dist_lamda = calculate_distance_between_frequencies(original_mcherry_codon_frequencies_lamda[\"frequency\"].reset_index(drop=True), bacillus_codon_frequencies_lamda[\"frequency\"].reset_index(drop=True))\n",
    "original_ecoli_dist_lamda = calculate_distance_between_frequencies(original_mcherry_codon_frequencies_lamda[\"frequency\"].reset_index(drop=True), ecoli_codon_frequencies_lamda[\"frequency\"].reset_index(drop=True))\n",
    "\n",
    "original_bacillus_dist_highly_expressed = calculate_distance_between_frequencies(original_mcherry_codon_frequencies[\"frequency\"].reset_index(drop=True), bacillus_highly_expressed_genes_codon_frequencies[\"frequency\"].reset_index(drop=True))\n",
    "original_ecoli_dist_highly_expressed = calculate_distance_between_frequencies(original_mcherry_codon_frequencies[\"frequency\"].reset_index(drop=True), ecoli_highly_expressed_genes_codon_frequencies[\"frequency\"].reset_index(drop=True))\n",
    "\n",
    "original_bacillus_dist_highly_expressed_lamda = calculate_distance_between_frequencies(original_mcherry_codon_frequencies_lamda[\"frequency\"].reset_index(drop=True), bacillus_highly_expressed_genes_codon_frequencies_lamda[\"frequency\"].reset_index(drop=True))\n",
    "original_ecoli_dist_highly_expressed_lamda = calculate_distance_between_frequencies(original_mcherry_codon_frequencies_lamda[\"frequency\"].reset_index(drop=True), ecoli_highly_expressed_genes_codon_frequencies_lamda[\"frequency\"].reset_index(drop=True))"
   ]
  },
  {
   "cell_type": "code",
   "execution_count": null,
   "metadata": {},
   "outputs": [],
   "source": [
    "df_dict = get_variants_df_dict(mcherry_variants_file, ecoli_codon_frequencies, bacillus_codon_frequencies, ecoli_codon_frequencies_lamda, bacillus_codon_frequencies_lamda)\n",
    "\n",
    "ecoli_opt_df_dict = {key: value for key, value in df_dict.items() if not key.endswith(\"for_optimized_bacillus\")}\n",
    "ecoli_opt_variants_dataframe = pd.DataFrame(ecoli_opt_df_dict)\n",
    "\n",
    "bacillus_opt_df_dict = {key: value for key, value in df_dict.items() if not key.endswith(\"for_optimized_ecoli\")}\n",
    "bacillus_opt_variants_dataframe = pd.DataFrame(bacillus_opt_df_dict)\n",
    "\n",
    "df_dict_highly_expressed = get_variants_df_dict(mcherry_variants_file, ecoli_highly_expressed_genes_codon_frequencies, bacillus_highly_expressed_genes_codon_frequencies, ecoli_highly_expressed_genes_codon_frequencies_lamda, bacillus_highly_expressed_genes_codon_frequencies_lamda)\n",
    "\n",
    "ecoli_opt_df_dict_highly_expressed = {key: value for key, value in df_dict_highly_expressed.items() if not key.endswith(\"for_optimized_bacillus\")}\n",
    "ecoli_opt_variants_dataframe_highly_expressed = pd.DataFrame(ecoli_opt_df_dict_highly_expressed)\n",
    "\n",
    "bacillus_opt_df_dict_highly_expressed = {key: value for key, value in df_dict_highly_expressed.items() if not key.endswith(\"for_optimized_ecoli\")}\n",
    "bacillus_opt_variants_dataframe_highly_expressed = pd.DataFrame(bacillus_opt_df_dict_highly_expressed)"
   ]
  },
  {
   "cell_type": "code",
   "execution_count": null,
   "metadata": {},
   "outputs": [],
   "source": [
    "bacillus_A = bacillus_codon_frequencies[bacillus_codon_frequencies[\"amino_acid\"] == \"A\"].sort_values(\"codon\")\n",
    "x = pd.DataFrame(get_codon_frequencies_df_dict(mcherry_variants_file))\n",
    "x_A = x[x[\"amino_acid\"] == \"A\"].sort_values(\"codon\")\n",
    "original_A = original_mcherry_codon_frequencies[original_mcherry_codon_frequencies[\"amino_acid\"] == \"A\"].sort_values(\"codon\")\n",
    "\n",
    "\n",
    "original_dist = calculate_distance_between_frequencies(original_A[\"frequency\"].reset_index(drop=True), bacillus_A[\"frequency\"].reset_index(drop=True))\n",
    "variant_dist = calculate_distance_between_frequencies(x_A[\"frequency\"].reset_index(drop=True), bacillus_A[\"frequency\"].reset_index(drop=True))\n",
    "bacillus_A"
   ]
  },
  {
   "cell_type": "code",
   "execution_count": null,
   "metadata": {},
   "outputs": [],
   "source": [
    "original_A"
   ]
  },
  {
   "cell_type": "code",
   "execution_count": null,
   "metadata": {},
   "outputs": [],
   "source": [
    "x_A"
   ]
  },
  {
   "cell_type": "code",
   "execution_count": null,
   "metadata": {},
   "outputs": [],
   "source": [
    "print(f\"original seq dist: {original_dist}, variant dist: {variant_dist}\")"
   ]
  },
  {
   "cell_type": "markdown",
   "metadata": {},
   "source": [
    "#### CUB scores"
   ]
  },
  {
   "cell_type": "code",
   "execution_count": null,
   "metadata": {},
   "outputs": [],
   "source": [
    "df_dict = get_cub_score_df_dict(mcherry_root_dir)\n",
    "cub_ecoli_opt_df_dict = {key.replace(\"_for_optimized_ecoli\", \"\"): value for key, value in df_dict.items() if not (key.endswith(\"_for_optimized_bacillus\") or key.startswith(\"evaluation_score\"))}\n",
    "cub_ecoli_opt_variants_dataframe = pd.DataFrame(cub_ecoli_opt_df_dict)\n",
    "\n",
    "evaluation_ecoli_opt_df_dict = {key: value for key, value in df_dict.items() if key in [\"variant\", \"average_distance_evaluation_score_for_optimized_ecoli\", \"ratio_evaluation_score_for_optimized_ecoli\"]}\n",
    "evaluation_ecoli_opt_variants_dataframe = pd.DataFrame(evaluation_ecoli_opt_df_dict)\n",
    "\n",
    "cub_bacillus_opt_df_dict = {key.replace(\"_for_optimized_bacillus\", \"\"): value for key, value in df_dict.items() if not (key.endswith(\"for_optimized_ecoli\") or key.startswith(\"evaluation_score\"))}\n",
    "cub_bacillus_opt_variants_dataframe = pd.DataFrame(cub_bacillus_opt_df_dict)\n",
    "\n",
    "evaluation_bacillus_opt_df_dict = {key: value for key, value in df_dict.items() if key in [\"variant\", \"average_distance_evaluation_score_for_optimized_bacillus\", \"ratio_evaluation_score_for_optimized_bacillus\"]}\n",
    "evaluation_bacillus_opt_variants_dataframe = pd.DataFrame(evaluation_bacillus_opt_df_dict)"
   ]
  },
  {
   "cell_type": "code",
   "execution_count": null,
   "metadata": {},
   "outputs": [],
   "source": [
    "evaluation_ecoli_opt_variants_dataframe"
   ]
  },
  {
   "cell_type": "markdown",
   "metadata": {},
   "source": [
    "#### tuning parameter = 1 - Eucledean distance of codon frequencies"
   ]
  },
  {
   "cell_type": "code",
   "execution_count": null,
   "metadata": {},
   "outputs": [],
   "source": [
    "greater_alpha_df_dict = get_variants_df_dict(mcherry_greater_alpha_variants_file, ecoli_codon_frequencies, bacillus_codon_frequencies, ecoli_codon_frequencies_lamda, bacillus_codon_frequencies_lamda)\n",
    "    \n",
    "greater_alpha_ecoli_opt_df_dict = {key: value for key, value in greater_alpha_df_dict.items() if not key.endswith(\"for_optimized_bacillus\")}\n",
    "greater_alpha_ecoli_opt_variants_dataframe = pd.DataFrame(greater_alpha_ecoli_opt_df_dict)\n",
    "\n",
    "greater_alpha_bacillus_opt_df_dict = {key: value for key, value in greater_alpha_df_dict.items() if not key.endswith(\"for_optimized_ecoli\")}\n",
    "greater_alpha_bacillus_opt_variants_dataframe = pd.DataFrame(greater_alpha_bacillus_opt_df_dict)\n",
    "\n",
    "greater_alpha_df_dict_highly_expressed = get_variants_df_dict(mcherry_greater_alpha_variants_file, ecoli_highly_expressed_genes_codon_frequencies, bacillus_highly_expressed_genes_codon_frequencies, ecoli_highly_expressed_genes_codon_frequencies_lamda, bacillus_highly_expressed_genes_codon_frequencies_lamda)\n",
    "\n",
    "greater_alpha_ecoli_opt_df_dict_highly_expressed = {key: value for key, value in greater_alpha_df_dict_highly_expressed.items() if not key.endswith(\"for_optimized_bacillus\")}\n",
    "greater_alpha_ecoli_opt_variants_dataframe_highly_expressed = pd.DataFrame(greater_alpha_ecoli_opt_df_dict_highly_expressed)\n",
    "\n",
    "greater_alpha_bacillus_opt_df_dict_highly_expressed = {key: value for key, value in greater_alpha_df_dict_highly_expressed.items() if not key.endswith(\"for_optimized_ecoli\")}\n",
    "greater_alpha_bacillus_opt_variants_dataframe_highly_expressed = pd.DataFrame(greater_alpha_bacillus_opt_df_dict_highly_expressed)"
   ]
  },
  {
   "cell_type": "markdown",
   "metadata": {},
   "source": [
    "#### tuning parameter = 1 - CUB scores"
   ]
  },
  {
   "cell_type": "code",
   "execution_count": null,
   "metadata": {},
   "outputs": [],
   "source": [
    "greater_alpha_df_dict = get_cub_score_df_dict(mcherry_greater_alpha_root_dir)\n",
    "cub_ecoli_opt_greater_alpha_df_dict = {key.replace(\"_for_optimized_ecoli\", \"\"): value for key, value in greater_alpha_df_dict.items() if not (key.endswith(\"_for_optimized_bacillus\") or key.startswith(\"evaluation_score\"))}\n",
    "cub_ecoli_opt_greater_alpha_variants_dataframe = pd.DataFrame(cub_ecoli_opt_greater_alpha_df_dict)\n",
    "\n",
    "evaluation_ecoli_opt_greate_alpha_df_dict = {key: value for key, value in greater_alpha_df_dict.items() if key in [\"variant\", \"average_distance_evaluation_score_for_optimized_ecoli\", \"ratio_evaluation_score_for_optimized_ecoli\"]}\n",
    "evaluation_ecoli_opt_greater_alpha_variants_dataframe = pd.DataFrame(evaluation_ecoli_opt_greate_alpha_df_dict)\n",
    "\n",
    "cub_bacillus_opt_greater_alpha_df_dict = {key.replace(\"_for_optimized_bacillus\", \"\"): value for key, value in greater_alpha_df_dict.items() if not (key.endswith(\"for_optimized_ecoli\") or key.startswith(\"evaluation_score\"))}\n",
    "cub_bacillus_opt_greater_alpha_variants_dataframe = pd.DataFrame(cub_bacillus_opt_greater_alpha_df_dict)\n",
    "\n",
    "evaluation_bacillus_opt_greater_alpha_df_dict = {key: value for key, value in greater_alpha_df_dict.items() if key in [\"variant\", \"evaluation_score_for_optimized_bacillus\", \"average_distance_evaluation_score_for_optimized_bacillus\", \"ratio_evaluation_score_for_optimized_bacillus\"]}\n",
    "evaluation_bacillus_opt_greater_alpha_variants_dataframe = pd.DataFrame(evaluation_bacillus_opt_greater_alpha_df_dict)"
   ]
  },
  {
   "cell_type": "markdown",
   "metadata": {},
   "source": [
    "#### tuning parameter = 0 - Eucledean distance of codon frequencies & CUB scores "
   ]
  },
  {
   "cell_type": "code",
   "execution_count": null,
   "metadata": {},
   "outputs": [],
   "source": [
    "lower_alpha_df_dict = get_variants_df_dict(mcherry_lower_alpha_variants_file,  ecoli_codon_frequencies, bacillus_codon_frequencies, ecoli_codon_frequencies_lamda, bacillus_codon_frequencies_lamda)\n",
    "    \n",
    "lower_alpha_ecoli_opt_df_dict = {key: value for key, value in lower_alpha_df_dict.items() if not key.endswith(\"for_optimized_bacillus\")}\n",
    "lower_alpha_ecoli_opt_variants_dataframe = pd.DataFrame(lower_alpha_ecoli_opt_df_dict)\n",
    "\n",
    "lower_alpha_bacillus_opt_df_dict = {key: value for key, value in lower_alpha_df_dict.items() if not key.endswith(\"for_optimized_ecoli\")}\n",
    "lower_alpha_bacillus_opt_variants_dataframe = pd.DataFrame(lower_alpha_bacillus_opt_df_dict)\n",
    "\n",
    "lower_alpha_df_dict_highly_expressed = get_variants_df_dict(mcherry_lower_alpha_variants_file, ecoli_highly_expressed_genes_codon_frequencies, bacillus_highly_expressed_genes_codon_frequencies, ecoli_highly_expressed_genes_codon_frequencies_lamda, bacillus_highly_expressed_genes_codon_frequencies_lamda)\n",
    "\n",
    "lower_alpha_ecoli_opt_df_dict_highly_expressed = {key: value for key, value in lower_alpha_df_dict_highly_expressed.items() if not key.endswith(\"for_optimized_bacillus\")}\n",
    "lower_alpha_ecoli_opt_variants_dataframe_highly_expressed = pd.DataFrame(lower_alpha_ecoli_opt_df_dict_highly_expressed)\n",
    "\n",
    "lower_alpha_bacillus_opt_df_dict_highly_expressed = {key: value for key, value in lower_alpha_df_dict_highly_expressed.items() if not key.endswith(\"for_optimized_ecoli\")}\n",
    "lower_alpha_bacillus_opt_variants_dataframe_highly_expressed = pd.DataFrame(lower_alpha_bacillus_opt_df_dict_highly_expressed)"
   ]
  },
  {
   "cell_type": "code",
   "execution_count": null,
   "metadata": {},
   "outputs": [],
   "source": [
    "lower_alpha_df_dict = get_cub_score_df_dict(mcherry_lower_alpha_root_dir)\n",
    "cub_ecoli_opt_lower_alpha_df_dict = {key.replace(\"_for_optimized_ecoli\", \"\"): value for key, value in lower_alpha_df_dict.items() if not (key.endswith(\"_for_optimized_bacillus\") or key.startswith(\"evaluation_score\"))}\n",
    "cub_ecoli_opt_lower_alpha_variants_dataframe = pd.DataFrame(cub_ecoli_opt_lower_alpha_df_dict)\n",
    "\n",
    "evaluation_ecoli_opt_lower_alpha_df_dict = {key: value for key, value in lower_alpha_df_dict.items() if key in [\"variant\", \"average_distance_evaluation_score_for_optimized_ecoli\", \"ratio_evaluation_score_for_optimized_ecoli\"]}\n",
    "evaluation_ecoli_opt_lower_alpha_variants_dataframe = pd.DataFrame(evaluation_ecoli_opt_lower_alpha_df_dict)\n",
    "\n",
    "cub_bacillus_opt_lower_alpha_df_dict = {key.replace(\"_for_optimized_bacillus\", \"\"): value for key, value in lower_alpha_df_dict.items() if not (key.endswith(\"for_optimized_ecoli\") or key.startswith(\"evaluation_score\"))}\n",
    "cub_bacillus_opt_lower_alpha_variants_dataframe = pd.DataFrame(cub_bacillus_opt_lower_alpha_df_dict)\n",
    "\n",
    "evaluation_bacillus_opt_lower_alpha_df_dict = {key: value for key, value in lower_alpha_df_dict.items() if key in [\"variant\", \"average_distance_evaluation_score_for_optimized_bacillus\", \"ratio_evaluation_score_for_optimized_bacillus\"]}\n",
    "evaluation_bacillus_opt_lower_alpha_variants_dataframe = pd.DataFrame(evaluation_bacillus_opt_lower_alpha_df_dict)"
   ]
  },
  {
   "cell_type": "markdown",
   "metadata": {},
   "source": [
    "# Comparative analysis"
   ]
  },
  {
   "cell_type": "code",
   "execution_count": null,
   "metadata": {},
   "outputs": [],
   "source": [
    "fig, axes = plt.subplots(nrows=1,ncols=2, figsize=(27,10))\n",
    "\n",
    "fig.suptitle(\"Variants Evaluation Scores\")\n",
    "evaluation_ecoli_opt_variants_dataframe.plot(\"variant\", kind=\"barh\", ax=axes[0], title=\"E.coli optimized\")\n",
    "evaluation_bacillus_opt_variants_dataframe.plot(\"variant\", kind=\"barh\", ax=axes[1], title=\"Bacillus optimized\")\n",
    "# evaluation_ecoli_opt_variants_dataframe.plot(\"variant\", kind=\"barh\", ax=axes[0], title=\"E.coli optimized\")\n",
    "# evaluation_bacillus_opt_variants_dataframe.plot(\"variant\", kind=\"barh\", ax=axes[1], title=\"Bacillus optimized\", color=\"#dc4d01\")"
   ]
  },
  {
   "cell_type": "markdown",
   "metadata": {},
   "source": [
    "## Comparing variant scores with random sequences"
   ]
  },
  {
   "cell_type": "code",
   "execution_count": null,
   "metadata": {},
   "outputs": [],
   "source": [
    "random_sequences_num = 1000\n",
    "random_sequences = [shared_functions_and_vars.synonymous_codon_permutation(original_mcherry_seq) for _ in range(random_sequences_num)]\n",
    "\n",
    "random_evaluation_scores = {}\n",
    "dummy_optimization_method = \"single_codon_ratio\"\n",
    "dummy_output_path = \"results/mcherry_debug\"\n",
    "for optimization_cub_index in [\"CAI\", \"tAI\"]:\n",
    "    for direction in [True, False]:\n",
    "        user_input = get_user_input(\n",
    "            optimization_method=dummy_optimization_method,\n",
    "            optimization_cub_index=optimization_cub_index,\n",
    "            is_ecoli_optimized=direction,\n",
    "            orf_sequence=str(original_mcherry_seq),\n",
    "            output_path=dummy_output_path,\n",
    "            should_use_protein_abundance=True,\n",
    "        )\n",
    "        key = f\"{optimization_cub_index}_ecoli_opt_{direction}\"\n",
    "        random_evaluation_scores[key] = []\n",
    "        for random_sequence in random_sequences:\n",
    "            evaluation_score = evaluate_score_for_sequence(\n",
    "                sequence=random_sequence,\n",
    "                user_input=user_input,\n",
    "                optimization_method=dummy_optimization_method,\n",
    "                optimization_cub_index=optimization_cub_index,\n",
    "                is_ecoli_optimized=direction,\n",
    "                orf_sequence=original_mcherry_seq,\n",
    "                output_path=dummy_output_path,\n",
    "            )\n",
    "            random_evaluation_scores[key].append(evaluation_score)"
   ]
  },
  {
   "cell_type": "code",
   "execution_count": null,
   "metadata": {},
   "outputs": [],
   "source": [
    "def get_random_scores_df(is_ecoli_opt: bool):\n",
    "    random_scores = defaultdict(dict)\n",
    "    variants = evaluation_ecoli_opt_variants_dataframe[\"variant\"]\n",
    "    for key, values in random_evaluation_scores.items():\n",
    "        if str(is_ecoli_opt) not in key:\n",
    "            continue\n",
    "        average_distance_scores = [x.average_distance_score for x  in values]\n",
    "        average_distance_average = np.average(average_distance_scores)\n",
    "        average_distance_std =  np.std(average_distance_scores)\n",
    "        ratio_scores = [x.ratio_score for x  in values]\n",
    "        ratio_average = np.average(ratio_scores)\n",
    "        ratio_std =  np.std(ratio_scores)\n",
    "        for variant in variants:\n",
    "            if variant.startswith(key.split(\"_\")[0]):\n",
    "                random_scores[variant][\"average_distance_average\"] = average_distance_average\n",
    "                random_scores[variant][\"average_distance_std\"] = average_distance_std\n",
    "                random_scores[variant][\"ratio_average\"] = ratio_average\n",
    "                random_scores[variant][\"ratio_std\"] = ratio_std\n",
    "    \n",
    "    random_scores_df_dict = {\n",
    "        \"variant\": variants, \n",
    "        \"random_average_distance_average\": [random_scores[variant][\"average_distance_average\"] for variant in variants],\n",
    "        \"random_average_distance_std\": [random_scores[variant][\"average_distance_std\"] for variant in variants],\n",
    "        \"random_ratio_average\": [random_scores[variant][\"ratio_average\"] for variant in variants],\n",
    "        \"random_ratio_std\": [random_scores[variant][\"ratio_std\"] for variant in variants],\n",
    "    }\n",
    "\n",
    "    return pd.DataFrame(random_scores_df_dict)   \n",
    "\n",
    "ecoli_opt_random_scores_dataframe = get_random_scores_df(is_ecoli_opt=True)\n",
    "new_evaluation_ecoli_opt_variants_dataframe = pd.merge(evaluation_ecoli_opt_variants_dataframe, ecoli_opt_random_scores_dataframe, on='variant', how='inner')\n",
    "new_evaluation_ecoli_opt_variants_dataframe[\"average_distance_zscore\"] = (new_evaluation_ecoli_opt_variants_dataframe[\"average_distance_evaluation_score_for_optimized_ecoli\"] - new_evaluation_ecoli_opt_variants_dataframe[\"random_average_distance_average\"]) / new_evaluation_ecoli_opt_variants_dataframe[\"random_average_distance_std\"]\n",
    "new_evaluation_ecoli_opt_variants_dataframe[\"ratio_zscore\"] = (new_evaluation_ecoli_opt_variants_dataframe[\"ratio_evaluation_score_for_optimized_ecoli\"] - new_evaluation_ecoli_opt_variants_dataframe[\"random_ratio_average\"]) / new_evaluation_ecoli_opt_variants_dataframe[\"random_ratio_std\"]\n",
    "\n",
    "\n",
    "bacillus_opt_random_scores_dataframe = get_random_scores_df(is_ecoli_opt=False)\n",
    "new_evaluation_bacillus_opt_variants_dataframe = pd.merge(evaluation_bacillus_opt_variants_dataframe, bacillus_opt_random_scores_dataframe, on='variant', how='inner')\n",
    "new_evaluation_bacillus_opt_variants_dataframe[\"average_distance_zscore\"] = (new_evaluation_bacillus_opt_variants_dataframe[\"average_distance_evaluation_score_for_optimized_bacillus\"] - new_evaluation_bacillus_opt_variants_dataframe[\"random_average_distance_average\"]) / new_evaluation_bacillus_opt_variants_dataframe[\"random_average_distance_std\"]\n",
    "new_evaluation_bacillus_opt_variants_dataframe[\"ratio_zscore\"] = (new_evaluation_bacillus_opt_variants_dataframe[\"ratio_evaluation_score_for_optimized_bacillus\"] - new_evaluation_bacillus_opt_variants_dataframe[\"random_ratio_average\"]) / new_evaluation_bacillus_opt_variants_dataframe[\"random_ratio_std\"]\n",
    "\n"
   ]
  },
  {
   "cell_type": "code",
   "execution_count": null,
   "metadata": {},
   "outputs": [],
   "source": [
    "new_evaluation_ecoli_opt_variants_dataframe"
   ]
  },
  {
   "cell_type": "code",
   "execution_count": null,
   "metadata": {},
   "outputs": [],
   "source": [
    "new_evaluation_bacillus_opt_variants_dataframe"
   ]
  },
  {
   "cell_type": "code",
   "execution_count": null,
   "metadata": {},
   "outputs": [],
   "source": [
    "for key, values in random_evaluation_scores.items():\n",
    "    variants = evaluation_ecoli_opt_variants_dataframe[\"variant\"]\n",
    "    for score_type in [\"average_distance\", \"ratio\"]:\n",
    "        scores = [getattr(x, f\"{score_type}_score\") for x  in values]\n",
    "        for variant in variants:\n",
    "            if variant.startswith(key.split(\"_\")[0]):\n",
    "                for score in scores:\n",
    "                    if \"True\" in key:\n",
    "                        evaluation = evaluation_ecoli_opt_variants_dataframe[evaluation_ecoli_opt_variants_dataframe[\"variant\"] == variant][f\"{score_type}_evaluation_score_for_optimized_ecoli\"]\n",
    "                    else:\n",
    "                        evaluation = evaluation_bacillus_opt_variants_dataframe[evaluation_bacillus_opt_variants_dataframe[\"variant\"] == variant][f\"{score_type}_evaluation_score_for_optimized_bacillus\"]\n",
    "                    evaluation = evaluation.reset_index(drop=True)\n",
    "                    score_diff = evaluation - score\n",
    "                    # print(score_diff)\n",
    "                    if score_diff[0] <= 0 :\n",
    "                        print(f\"Found better random score: {score} for key: {key} and variant: {variant}\")"
   ]
  },
  {
   "cell_type": "code",
   "execution_count": null,
   "metadata": {},
   "outputs": [],
   "source": [
    "fig, axes = plt.subplots(nrows=1,ncols=2, figsize=(30,10))\n",
    "\n",
    "fig.suptitle(\"Variants Evaluation Z-Scores\")\n",
    "new_evaluation_ecoli_opt_variants_dataframe.plot(\"variant\", \"average_distance_zscore\", kind=\"barh\", ax=axes[0], title=\"E.coli optimized\")\n",
    "new_evaluation_bacillus_opt_variants_dataframe.plot(\"variant\", \"average_distance_zscore\", kind=\"barh\", ax=axes[1], title=\"Bacillus optimized\", color=\"#dc4d01\")"
   ]
  },
  {
   "cell_type": "code",
   "execution_count": null,
   "metadata": {},
   "outputs": [],
   "source": [
    "fig, axes = plt.subplots(nrows=1,ncols=2, figsize=(30,10))\n",
    "\n",
    "fig.suptitle(\"Variants Evaluation Z-Scores\")\n",
    "new_evaluation_ecoli_opt_variants_dataframe.plot(\"variant\", \"ratio_zscore\", kind=\"barh\", ax=axes[0], title=\"E.coli optimized\")\n",
    "new_evaluation_bacillus_opt_variants_dataframe.plot(\"variant\", \"ratio_zscore\", kind=\"barh\", ax=axes[1], title=\"Bacillus optimized\", color=\"#dc4d01\")"
   ]
  },
  {
   "cell_type": "code",
   "execution_count": null,
   "metadata": {},
   "outputs": [],
   "source": [
    "merged_df_ecoli = pd.merge(evaluation_ecoli_opt_variants_dataframe, ecoli_opt_variants_dataframe, on='variant', how='inner')\n",
    "merged_df_ecoli['ecoli_freq_dist_diff'] =  merged_df_ecoli['ecoli_dist_for_optimized_ecoli'] - merged_df_ecoli['ecoli_dist_for_original_mcherry']\n",
    "merged_df_ecoli['bacillus_freq_dist_diff'] = merged_df_ecoli['bacillus_dist_for_optimized_ecoli'] - merged_df_ecoli['bacillus_dist_for_original_mcherry']\n",
    "\n",
    "merged_df_bacillus = pd.merge(evaluation_bacillus_opt_variants_dataframe, bacillus_opt_variants_dataframe, on='variant', how='inner')\n",
    "merged_df_bacillus['ecoli_freq_dist_diff'] =  merged_df_bacillus['ecoli_dist_for_optimized_bacillus'] - merged_df_bacillus['ecoli_dist_for_original_mcherry']\n",
    "merged_df_bacillus['bacillus_freq_dist_diff'] = merged_df_bacillus['bacillus_dist_for_optimized_bacillus'] - merged_df_bacillus['bacillus_dist_for_original_mcherry'] \n",
    "\n",
    "\n",
    "fig, axes = plt.subplots(nrows=2,ncols=2, figsize=(20,15))\n",
    "fig.suptitle(\"Ecaluation Score vs. Codon Frequencies distance\")\n",
    "\n",
    "scatter = merged_df_ecoli.plot.scatter(x=\"average_distance_evaluation_score_for_optimized_ecoli\", y=\"ecoli_freq_dist_diff\", ax=axes[0,0], title=\"E.coli optimized - Evaluation score vs.\\nE.coli codon frequencies diff (modified seq dist-original seq dist)\")\n",
    "r, p = stats.spearmanr(merged_df_ecoli[\"average_distance_evaluation_score_for_optimized_ecoli\"], merged_df_ecoli[\"ecoli_freq_dist_diff\"])\n",
    "scatter.annotate('r = {:.3f}'.format(r), xy=(0.7, 0.9), xycoords='axes fraction')\n",
    "\n",
    "scatter = merged_df_ecoli.plot.scatter(x=\"average_distance_evaluation_score_for_optimized_ecoli\", y=\"bacillus_freq_dist_diff\", ax=axes[0,1], title=\"E.coli optimized - Evaluation score vs.\\nBacillus codon frequencies diff (modified seq dist-original seq dist)\")\n",
    "r, p = stats.spearmanr(merged_df_ecoli[\"average_distance_evaluation_score_for_optimized_ecoli\"], merged_df_ecoli[\"bacillus_freq_dist_diff\"])\n",
    "scatter.annotate('r = {:.3f}'.format(r), xy=(0.7, 0.9), xycoords='axes fraction')\n",
    "\n",
    "scatter = merged_df_bacillus.plot.scatter(x=\"average_distance_evaluation_score_for_optimized_bacillus\", y=\"ecoli_freq_dist_diff\", ax=axes[1,0], title=\"Bacillus optimized - Evaluation score vs.\\nE.coli codon frequencies diff (modified seq dist-original seq dist)\")\n",
    "r, p = stats.spearmanr(merged_df_bacillus[\"average_distance_evaluation_score_for_optimized_bacillus\"], merged_df_bacillus[\"ecoli_freq_dist_diff\"])\n",
    "scatter.annotate('r = {:.3f}'.format(r), xy=(0.7, 0.9), xycoords='axes fraction')\n",
    "\n",
    "scatter = merged_df_bacillus.plot.scatter(x=\"average_distance_evaluation_score_for_optimized_bacillus\", y=\"bacillus_freq_dist_diff\", ax=axes[1,1], title=\"Bacillus optimized - Evaluation score vs.\\nBacillus codon frequencies diff (modified seq dist-original seq dist)\")\n",
    "r, p = stats.spearmanr(merged_df_bacillus[\"average_distance_evaluation_score_for_optimized_bacillus\"], merged_df_bacillus[\"bacillus_freq_dist_diff\"])\n",
    "scatter.annotate('r = {:.3f}'.format(r), xy=(0.7, 0.9), xycoords='axes fraction')"
   ]
  },
  {
   "cell_type": "code",
   "execution_count": null,
   "metadata": {},
   "outputs": [],
   "source": [
    "merged_df_ecoli = pd.merge(evaluation_ecoli_opt_greater_alpha_variants_dataframe, greater_alpha_ecoli_opt_variants_dataframe, on='variant', how='inner')\n",
    "merged_df_ecoli['ecoli_freq_dist_diff'] =  merged_df_ecoli['ecoli_dist_for_optimized_ecoli'] - merged_df_ecoli['ecoli_dist_for_original_mcherry']\n",
    "merged_df_ecoli['bacillus_freq_dist_diff'] = merged_df_ecoli['bacillus_dist_for_optimized_ecoli'] - merged_df_ecoli['bacillus_dist_for_original_mcherry']\n",
    "\n",
    "merged_df_bacillus = pd.merge(evaluation_bacillus_opt_greater_alpha_variants_dataframe, greater_alpha_bacillus_opt_variants_dataframe, on='variant', how='inner')\n",
    "merged_df_bacillus['ecoli_freq_dist_diff'] =  merged_df_bacillus['ecoli_dist_for_optimized_bacillus'] - merged_df_bacillus['ecoli_dist_for_original_mcherry']\n",
    "merged_df_bacillus['bacillus_freq_dist_diff'] = merged_df_bacillus['bacillus_dist_for_optimized_bacillus'] - merged_df_bacillus['bacillus_dist_for_original_mcherry'] \n",
    "\n",
    "\n",
    "fig, axes = plt.subplots(nrows=2,ncols=2, figsize=(20,13))\n",
    "fig.suptitle(\"Ecaluation Score vs. Codon Frequencies distance (alpha=1)\")\n",
    "\n",
    "scatter = merged_df_ecoli.plot.scatter(x=\"evaluation_score_for_optimized_ecoli\", y=\"ecoli_freq_dist_diff\", ax=axes[0,0], title=\"E.coli optimized - Evaluation score vs.\\nE.coli codon frequencies diff (modified seq dist-original seq dist)\")\n",
    "r, p = stats.pearsonr(merged_df_ecoli[\"evaluation_score_for_optimized_ecoli\"], merged_df_ecoli[\"ecoli_freq_dist_diff\"])\n",
    "scatter.annotate('r = {:.3f}'.format(r), xy=(0.7, 0.9), xycoords='axes fraction')\n",
    "\n",
    "scatter = merged_df_ecoli.plot.scatter(x=\"evaluation_score_for_optimized_ecoli\", y=\"bacillus_freq_dist_diff\", ax=axes[0,1], title=\"E.coli optimized - Evaluation score vs.\\nBacillus codon frequencies diff (modified seq dist-original seq dist)\")\n",
    "r, p = stats.pearsonr(merged_df_ecoli[\"evaluation_score_for_optimized_ecoli\"], merged_df_ecoli[\"bacillus_freq_dist_diff\"])\n",
    "scatter.annotate('r = {:.3f}'.format(r), xy=(0.7, 0.9), xycoords='axes fraction')\n",
    "\n",
    "scatter = merged_df_bacillus.plot.scatter(x=\"evaluation_score_for_optimized_bacillus\", y=\"ecoli_freq_dist_diff\", ax=axes[1,0], title=\"Bacillus optimized - Evaluation score vs.\\nE.coli codon frequencies diff (modified seq dist-original seq dist)\")\n",
    "r, p = stats.pearsonr(merged_df_bacillus[\"evaluation_score_for_optimized_bacillus\"], merged_df_bacillus[\"ecoli_freq_dist_diff\"])\n",
    "scatter.annotate('r = {:.3f}'.format(r), xy=(0.7, 0.9), xycoords='axes fraction')\n",
    "\n",
    "scatter = merged_df_bacillus.plot.scatter(x=\"evaluation_score_for_optimized_bacillus\", y=\"bacillus_freq_dist_diff\", ax=axes[1,1], title=\"Bacillus optimized - Evaluation score vs.\\nBacillus codon frequencies diff (modified seq dist-original seq dist)\")\n",
    "r, p = stats.pearsonr(merged_df_bacillus[\"evaluation_score_for_optimized_bacillus\"], merged_df_bacillus[\"bacillus_freq_dist_diff\"])\n",
    "scatter.annotate('r = {:.3f}'.format(r), xy=(0.7, 0.9), xycoords='axes fraction')"
   ]
  },
  {
   "cell_type": "code",
   "execution_count": null,
   "metadata": {},
   "outputs": [],
   "source": [
    "merged_df_ecoli = pd.merge(evaluation_ecoli_opt_lower_alpha_variants_dataframe, lower_alpha_ecoli_opt_variants_dataframe, on='variant', how='inner')\n",
    "merged_df_ecoli['ecoli_freq_dist_diff'] =  merged_df_ecoli['ecoli_dist_for_optimized_ecoli'] - merged_df_ecoli['ecoli_dist_for_original_mcherry']\n",
    "merged_df_ecoli['bacillus_freq_dist_diff'] = merged_df_ecoli['bacillus_dist_for_optimized_ecoli'] - merged_df_ecoli['bacillus_dist_for_original_mcherry']\n",
    "\n",
    "merged_df_bacillus = pd.merge(evaluation_bacillus_opt_lower_alpha_variants_dataframe, lower_alpha_bacillus_opt_variants_dataframe, on='variant', how='inner')\n",
    "merged_df_bacillus['ecoli_freq_dist_diff'] =  merged_df_bacillus['ecoli_dist_for_optimized_bacillus'] - merged_df_bacillus['ecoli_dist_for_original_mcherry']\n",
    "merged_df_bacillus['bacillus_freq_dist_diff'] = merged_df_bacillus['bacillus_dist_for_optimized_bacillus'] - merged_df_bacillus['bacillus_dist_for_original_mcherry'] \n",
    "\n",
    "\n",
    "fig, axes = plt.subplots(nrows=2,ncols=2, figsize=(20,13))\n",
    "fig.suptitle(\"Ecaluation Score vs. Codon Frequencies distance (alpha=0)\")\n",
    "\n",
    "scatter = merged_df_ecoli.plot.scatter(x=\"evaluation_score_for_optimized_ecoli\", y=\"ecoli_freq_dist_diff\", ax=axes[0,0], title=\"Bacillus deoptimized - Evaluation score vs.\\nE.coli codon frequencies diff (modified seq dist-original seq dist)\")\n",
    "r, p = stats.pearsonr(merged_df_ecoli[\"evaluation_score_for_optimized_ecoli\"], merged_df_ecoli[\"ecoli_freq_dist_diff\"])\n",
    "scatter.annotate('r = {:.3f}'.format(r), xy=(0.7, 0.9), xycoords='axes fraction')\n",
    "\n",
    "scatter = merged_df_ecoli.plot.scatter(x=\"evaluation_score_for_optimized_ecoli\", y=\"bacillus_freq_dist_diff\", ax=axes[0,1], title=\"Bacillus deoptimized - Evaluation score vs.\\nBacillus codon frequencies diff (modified seq dist-original seq dist)\")\n",
    "r, p = stats.pearsonr(merged_df_ecoli[\"evaluation_score_for_optimized_ecoli\"], merged_df_ecoli[\"bacillus_freq_dist_diff\"])\n",
    "scatter.annotate('r = {:.3f}'.format(r), xy=(0.7, 0.9), xycoords='axes fraction')\n",
    "\n",
    "scatter = merged_df_bacillus.plot.scatter(x=\"evaluation_score_for_optimized_bacillus\", y=\"ecoli_freq_dist_diff\", ax=axes[1,0], title=\"E.coli deoptimized - Evaluation score vs.\\nE.coli codon frequencies diff (modified seq dist-original seq dist)\")\n",
    "r, p = stats.pearsonr(merged_df_bacillus[\"evaluation_score_for_optimized_bacillus\"], merged_df_bacillus[\"ecoli_freq_dist_diff\"])\n",
    "scatter.annotate('r = {:.3f}'.format(r), xy=(0.7, 0.9), xycoords='axes fraction')\n",
    "\n",
    "scatter = merged_df_bacillus.plot.scatter(x=\"evaluation_score_for_optimized_bacillus\", y=\"bacillus_freq_dist_diff\", ax=axes[1,1], title=\"E.coli deoptimized - Evaluation score vs.\\nBacillus codon frequencies diff (modified seq dist-original seq dist)\")\n",
    "r, p = stats.pearsonr(merged_df_bacillus[\"evaluation_score_for_optimized_bacillus\"], merged_df_bacillus[\"bacillus_freq_dist_diff\"])\n",
    "scatter.annotate('r = {:.3f}'.format(r), xy=(0.7, 0.9), xycoords='axes fraction')"
   ]
  },
  {
   "cell_type": "code",
   "execution_count": null,
   "metadata": {},
   "outputs": [],
   "source": [
    "merged_df_ecoli = pd.merge(evaluation_ecoli_opt_variants_dataframe, cub_ecoli_opt_variants_dataframe, on='variant', how='inner')\n",
    "merged_df_ecoli['ecoli_score_diff'] = merged_df_ecoli['ecoli_final_score'] - merged_df_ecoli['ecoli_initial_score']\n",
    "merged_df_ecoli['bacillus_score_diff'] = merged_df_ecoli['bacillus_final_score'] - merged_df_ecoli['bacillus_initial_score']\n",
    "\n",
    "merged_df_bacillus = pd.merge(evaluation_bacillus_opt_variants_dataframe, cub_bacillus_opt_variants_dataframe, on='variant', how='inner')\n",
    "merged_df_bacillus['ecoli_score_diff'] = merged_df_bacillus['ecoli_final_score'] - merged_df_bacillus['ecoli_initial_score']\n",
    "merged_df_bacillus['bacillus_score_diff'] = merged_df_bacillus['bacillus_final_score'] - merged_df_bacillus['bacillus_initial_score']\n",
    "\n",
    "fig, axes = plt.subplots(nrows=2,ncols=2, figsize=(20,15))\n",
    "\n",
    "scatter = merged_df_ecoli.plot.scatter(x=\"evaluation_score_for_optimized_ecoli\", y=\"ecoli_score_diff\", ax=axes[0,0], title=\"E.coli optimized - Evaluation score vs.\\nE.coli CUB score diff (modified seq score-original seq score)\")\n",
    "r, p = stats.spearmanr(merged_df_ecoli[\"evaluation_score_for_optimized_ecoli\"], merged_df_ecoli[\"ecoli_score_diff\"])\n",
    "scatter.annotate('r = {:.3f}'.format(r), xy=(0.7, 0.9), xycoords='axes fraction')\n",
    "\n",
    "scatter = merged_df_ecoli.plot.scatter(x=\"evaluation_score_for_optimized_ecoli\", y=\"bacillus_score_diff\", ax=axes[0,1], title=\"E.coli optimized - Evaluation score vs.\\nBacillus CUB score diff (modified seq score-original seq score)\")\n",
    "r, p = stats.spearmanr(merged_df_ecoli[\"evaluation_score_for_optimized_ecoli\"], merged_df_ecoli[\"bacillus_score_diff\"])\n",
    "scatter.annotate('r = {:.3f}'.format(r), xy=(0.7, 0.9), xycoords='axes fraction')\n",
    "\n",
    "scatter = merged_df_bacillus.plot.scatter(x=\"evaluation_score_for_optimized_bacillus\", y=\"ecoli_score_diff\", ax=axes[1,0], title=\"Bacillus optimized - Evaluation score vs.\\nE.coli CUB score diff (modified seq score-original seq score)\")\n",
    "r, p = stats.spearmanr(merged_df_bacillus[\"evaluation_score_for_optimized_bacillus\"], merged_df_bacillus[\"ecoli_score_diff\"])\n",
    "scatter.annotate('r = {:.3f}'.format(r), xy=(0.7, 0.9), xycoords='axes fraction')\n",
    "\n",
    "scatter = merged_df_bacillus.plot.scatter(x=\"evaluation_score_for_optimized_bacillus\", y=\"bacillus_score_diff\", ax=axes[1,1], title=\"Bacillus optimized - Evaluation score vs.\\nBacillus CUB score diff (modified seq score-original seq score)\")\n",
    "r, p = stats.spearmanr(merged_df_bacillus[\"evaluation_score_for_optimized_bacillus\"], merged_df_bacillus[\"bacillus_score_diff\"])\n",
    "scatter.annotate('r = {:.3f}'.format(r), xy=(0.7, 0.9), xycoords='axes fraction')"
   ]
  },
  {
   "cell_type": "code",
   "execution_count": null,
   "metadata": {},
   "outputs": [],
   "source": [
    "merged_df_ecoli_greater_alpha = pd.merge(evaluation_ecoli_opt_greater_alpha_variants_dataframe, cub_ecoli_opt_greater_alpha_variants_dataframe, on='variant', how='inner')\n",
    "merged_df_ecoli_greater_alpha['ecoli_score_diff'] = merged_df_ecoli_greater_alpha['ecoli_final_score'] - merged_df_ecoli_greater_alpha['ecoli_initial_score']\n",
    "merged_df_ecoli_greater_alpha['bacillus_score_diff'] = merged_df_ecoli_greater_alpha['bacillus_final_score'] - merged_df_ecoli_greater_alpha['bacillus_initial_score']\n",
    "\n",
    "merged_df_bacillus_greater_alpha = pd.merge(evaluation_bacillus_opt_greater_alpha_variants_dataframe, cub_bacillus_opt_greater_alpha_variants_dataframe, on='variant', how='inner')\n",
    "merged_df_bacillus_greater_alpha['ecoli_score_diff'] = merged_df_bacillus_greater_alpha['ecoli_final_score'] - merged_df_bacillus_greater_alpha['ecoli_initial_score']\n",
    "merged_df_bacillus_greater_alpha['bacillus_score_diff'] = merged_df_bacillus_greater_alpha['bacillus_final_score'] - merged_df_bacillus_greater_alpha['bacillus_initial_score']\n",
    "\n",
    "fig, axes = plt.subplots(nrows=2,ncols=2, figsize=(20,15))\n",
    "\n",
    "scatter = merged_df_ecoli_greater_alpha.plot.scatter(x=\"evaluation_score_for_optimized_ecoli\", y=\"ecoli_score_diff\", ax=axes[0,0], title=\"E.coli optimized (alpha=1)- Evaluation score vs.\\nE.coli CUB score diff (modified seq score-original seq score\")\n",
    "r, p = stats.spearmanr(merged_df_ecoli_greater_alpha[\"evaluation_score_for_optimized_ecoli\"], merged_df_ecoli_greater_alpha[\"ecoli_score_diff\"])\n",
    "scatter.annotate('r = {:.3f}'.format(r), xy=(0.7, 0.9), xycoords='axes fraction')\n",
    "\n",
    "scatter = merged_df_ecoli_greater_alpha.plot.scatter(x=\"evaluation_score_for_optimized_ecoli\", y=\"bacillus_score_diff\", ax=axes[0,1], title=\"E.coli optimized (alpha=1)- Evaluation score vs.\\nBacillus CUB score diff (modified seq score-original seq score\")\n",
    "r, p = stats.spearmanr(merged_df_ecoli_greater_alpha[\"evaluation_score_for_optimized_ecoli\"], merged_df_ecoli_greater_alpha[\"bacillus_score_diff\"])\n",
    "scatter.annotate('r = {:.3f}'.format(r), xy=(0.7, 0.9), xycoords='axes fraction')\n",
    "\n",
    "scatter = merged_df_bacillus_greater_alpha.plot.scatter(x=\"evaluation_score_for_optimized_bacillus\", y=\"ecoli_score_diff\", ax=axes[1,0], title=\"Bacillus optimized (alpha=1)- Evaluation score vs.\\nE.coli CUB score diff (modified seq score-original seq score\")\n",
    "r, p = stats.spearmanr(merged_df_bacillus_greater_alpha[\"evaluation_score_for_optimized_bacillus\"], merged_df_bacillus_greater_alpha[\"ecoli_score_diff\"])\n",
    "scatter.annotate('r = {:.3f}'.format(r), xy=(0.7, 0.9), xycoords='axes fraction')\n",
    "\n",
    "scatter = merged_df_bacillus_greater_alpha.plot.scatter(x=\"evaluation_score_for_optimized_bacillus\", y=\"bacillus_score_diff\", ax=axes[1,1], title=\"Bacillus optimized (alpha=1)- Evaluation score vs.\\nBacillus CUB score diff (modified seq score-original seq score\")\n",
    "r, p = stats.spearmanr(merged_df_bacillus_greater_alpha[\"evaluation_score_for_optimized_bacillus\"], merged_df_bacillus_greater_alpha[\"bacillus_score_diff\"])\n",
    "scatter.annotate('r = {:.3f}'.format(r), xy=(0.7, 0.9), xycoords='axes fraction')"
   ]
  },
  {
   "cell_type": "code",
   "execution_count": null,
   "metadata": {},
   "outputs": [],
   "source": [
    "merged_df_ecoli_lower_alpha = pd.merge(evaluation_ecoli_opt_lower_alpha_variants_dataframe, cub_ecoli_opt_lower_alpha_variants_dataframe, on='variant', how='inner')\n",
    "merged_df_ecoli_lower_alpha['ecoli_score_diff'] = merged_df_ecoli_lower_alpha['ecoli_final_score'] - merged_df_ecoli_lower_alpha['ecoli_initial_score']\n",
    "merged_df_ecoli_lower_alpha['bacillus_score_diff'] = merged_df_ecoli_lower_alpha['bacillus_final_score'] - merged_df_ecoli_lower_alpha['bacillus_initial_score']\n",
    "\n",
    "merged_df_bacillus_lower_alpha = pd.merge(evaluation_bacillus_opt_lower_alpha_variants_dataframe, cub_bacillus_opt_lower_alpha_variants_dataframe, on='variant', how='inner')\n",
    "merged_df_bacillus_lower_alpha['ecoli_score_diff'] = merged_df_bacillus_lower_alpha['ecoli_final_score'] - merged_df_bacillus_lower_alpha['ecoli_initial_score']\n",
    "merged_df_bacillus_lower_alpha['bacillus_score_diff'] = merged_df_bacillus_lower_alpha['bacillus_final_score'] - merged_df_bacillus_lower_alpha['bacillus_initial_score']\n",
    "\n",
    "fig, axes = plt.subplots(nrows=2,ncols=2, figsize=(20,15))\n",
    "\n",
    "scatter = merged_df_ecoli_lower_alpha.plot.scatter(x=\"evaluation_score_for_optimized_ecoli\", y=\"ecoli_score_diff\", ax=axes[0,0], title=\"Bacillus deoptimized (alpha=0)- Evaluation score vs.\\nE.coli CUB score diff (modified seq score-original seq score\")\n",
    "r, p = stats.spearmanr(merged_df_ecoli_lower_alpha[\"evaluation_score_for_optimized_ecoli\"], merged_df_ecoli_lower_alpha[\"ecoli_score_diff\"])\n",
    "scatter.annotate('r = {:.3f}'.format(r), xy=(0.7, 0.9), xycoords='axes fraction')\n",
    "\n",
    "scatter = merged_df_ecoli_lower_alpha.plot.scatter(x=\"evaluation_score_for_optimized_ecoli\", y=\"bacillus_score_diff\", ax=axes[0,1], title=\"Bacillus deoptimized (alpha=0)- Evaluation score vs.\\nBacillus CUB score diff (modified seq score-original seq score\")\n",
    "r, p = stats.spearmanr(merged_df_ecoli_lower_alpha[\"evaluation_score_for_optimized_ecoli\"], merged_df_ecoli_lower_alpha[\"bacillus_score_diff\"])\n",
    "scatter.annotate('r = {:.3f}'.format(r), xy=(0.7, 0.9), xycoords='axes fraction')\n",
    "\n",
    "scatter = merged_df_bacillus_lower_alpha.plot.scatter(x=\"evaluation_score_for_optimized_bacillus\", y=\"ecoli_score_diff\", ax=axes[1,0], title=\"E.coli deoptimized (alpha=0)- Evaluation score vs.\\nE.coli CUB score diff (modified seq score-original seq score\")\n",
    "r, p = stats.spearmanr(merged_df_bacillus_lower_alpha[\"evaluation_score_for_optimized_bacillus\"], merged_df_bacillus_lower_alpha[\"ecoli_score_diff\"])\n",
    "scatter.annotate('r = {:.3f}'.format(r), xy=(0.7, 0.9), xycoords='axes fraction')\n",
    "\n",
    "scatter = merged_df_bacillus_lower_alpha.plot.scatter(x=\"evaluation_score_for_optimized_bacillus\", y=\"bacillus_score_diff\", ax=axes[1,1], title=\"E.coli deoptimized (alpha=0)- Evaluation score vs.\\nBacillus CUB score diff (modified seq score-original seq score\")\n",
    "r, p = stats.spearmanr(merged_df_bacillus_lower_alpha[\"evaluation_score_for_optimized_bacillus\"], merged_df_bacillus_lower_alpha[\"bacillus_score_diff\"])\n",
    "scatter.annotate('r = {:.3f}'.format(r), xy=(0.7, 0.9), xycoords='axes fraction')"
   ]
  },
  {
   "cell_type": "code",
   "execution_count": null,
   "metadata": {},
   "outputs": [],
   "source": [
    "my_colors = ['#3b5b92', '#3b5b92', '#dc4d01', '#dc4d01'] \n",
    "my_colors_extended = ['cornflowerblue', 'cornflowerblue', 'navy', 'navy', 'orange', 'orange', 'orangered', 'orangered'] \n",
    "for q in range(cub_ecoli_opt_greater_alpha_variants_dataframe.shape[0]):\n",
    "\n",
    "    fig, axes = plt.subplots(nrows=1,ncols=3, figsize=(20,5))\n",
    "    fig.suptitle(greater_alpha_ecoli_opt_variants_dataframe.iloc[q,0] + \" - codon frequency distance\")\n",
    "    lower_alpha_ecoli_opt_variants_dataframe.iloc[q,1:].plot(x=\"variant\", kind=\"bar\", ax=axes[0], stacked=True, color=my_colors_extended)\n",
    "    axes[0].set_title(\"alpha = 0\")\n",
    "    ecoli_opt_variants_dataframe.iloc[q,1:].plot(x=\"variant\", kind=\"bar\", ax=axes[1], stacked=True, color=my_colors_extended)\n",
    "    axes[1].set_title(\"alpha = 0.5\")\n",
    "    greater_alpha_ecoli_opt_variants_dataframe.iloc[q,1:].plot(x=\"variant\", kind=\"bar\", ax=axes[2], stacked=True, color=my_colors_extended)\n",
    "    axes[2].set_title(\"alpha = 1\")\n",
    "    \n",
    "    fig, axes = plt.subplots(nrows=1,ncols=3, figsize=(20,5))\n",
    "    fig.suptitle(greater_alpha_ecoli_opt_variants_dataframe_highly_expressed.iloc[q,0] + \" - codon frequency distance (highly expressed)\")\n",
    "    lower_alpha_ecoli_opt_variants_dataframe_highly_expressed.iloc[q,1:].plot(x=\"variant\", kind=\"bar\", ax=axes[0], stacked=True, color=my_colors_extended)\n",
    "    axes[0].set_title(\"alpha = 0\")\n",
    "    ecoli_opt_variants_dataframe_highly_expressed.iloc[q,1:].plot(x=\"variant\", kind=\"bar\", ax=axes[1], stacked=True, color=my_colors_extended)\n",
    "    axes[1].set_title(\"alpha = 0.5\")\n",
    "    greater_alpha_ecoli_opt_variants_dataframe_highly_expressed.iloc[q,1:].plot(x=\"variant\", kind=\"bar\", ax=axes[2], stacked=True, color=my_colors_extended)\n",
    "    axes[2].set_title(\"alpha = 1\")\n",
    "\n",
    "\n",
    "    fig, axes = plt.subplots(nrows=1,ncols=3, figsize=(20,5))\n",
    "    fig.suptitle(cub_ecoli_opt_greater_alpha_variants_dataframe.iloc[q,0] + \" - CUB scores\")\n",
    "    cub_ecoli_opt_lower_alpha_variants_dataframe.iloc[q,1:].plot(x=\"variant\", kind=\"bar\", ax=axes[0], stacked=True, color=my_colors)\n",
    "    axes[0].set_title(\"alpha = 0\")\n",
    "    cub_ecoli_opt_variants_dataframe.iloc[q,1:].plot(x=\"variant\", kind=\"bar\", ax=axes[1], stacked=True, color=my_colors)\n",
    "    axes[1].set_title(\"alpha = 0.5\")\n",
    "    cub_ecoli_opt_greater_alpha_variants_dataframe.iloc[q,1:].plot(x=\"variant\", kind=\"bar\", ax=axes[2], stacked=True, color=my_colors)\n",
    "    axes[2].set_title(\"alpha = 1\")"
   ]
  },
  {
   "cell_type": "markdown",
   "metadata": {},
   "source": [
    "## Optimizing for Bacillus"
   ]
  },
  {
   "cell_type": "code",
   "execution_count": null,
   "metadata": {},
   "outputs": [],
   "source": [
    "my_colors = ['#3b5b92', '#3b5b92', '#dc4d01', '#dc4d01'] \n",
    "my_colors_extended = ['cornflowerblue', 'cornflowerblue', 'navy', 'navy', 'orange', 'orange', 'orangered', 'orangered'] \n",
    "for q in range(cub_bacillus_opt_greater_alpha_variants_dataframe.shape[0]):\n",
    "\n",
    "    fig, axes = plt.subplots(nrows=1,ncols=3, figsize=(20,5))\n",
    "    fig.suptitle(greater_alpha_bacillus_opt_variants_dataframe.iloc[q,0] + \" - codon frequency distance\")\n",
    "    lower_alpha_bacillus_opt_variants_dataframe.iloc[q,1:].plot(x=\"variant\", kind=\"bar\", ax=axes[0], stacked=True, color=my_colors_extended)\n",
    "    axes[0].set_title(\"alpha = 0\")\n",
    "    bacillus_opt_variants_dataframe.iloc[q,1:].plot(x=\"variant\", kind=\"bar\", ax=axes[1], stacked=True, color=my_colors_extended)\n",
    "    axes[1].set_title(\"alpha = 0.5\")\n",
    "    greater_alpha_bacillus_opt_variants_dataframe.iloc[q,1:].plot(x=\"variant\", kind=\"bar\", ax=axes[2], stacked=True, color=my_colors_extended)\n",
    "    axes[2].set_title(\"alpha = 1\")\n",
    "    \n",
    "    fig, axes = plt.subplots(nrows=1,ncols=3, figsize=(20,5))\n",
    "    fig.suptitle(greater_alpha_bacillus_opt_variants_dataframe_highly_expressed.iloc[q,0] + \" - codon frequency distance (highly expressed)\")\n",
    "    lower_alpha_bacillus_opt_variants_dataframe_highly_expressed.iloc[q,1:].plot(x=\"variant\", kind=\"bar\", ax=axes[0], stacked=True, color=my_colors_extended)\n",
    "    axes[0].set_title(\"alpha = 0\")\n",
    "    bacillus_opt_variants_dataframe_highly_expressed.iloc[q,1:].plot(x=\"variant\", kind=\"bar\", ax=axes[1], stacked=True, color=my_colors_extended)\n",
    "    axes[1].set_title(\"alpha = 0.5\")\n",
    "    greater_alpha_bacillus_opt_variants_dataframe_highly_expressed.iloc[q,1:].plot(x=\"variant\", kind=\"bar\", ax=axes[2], stacked=True, color=my_colors_extended)\n",
    "    axes[2].set_title(\"alpha = 1\")\n",
    "\n",
    "\n",
    "    fig, axes = plt.subplots(nrows=1,ncols=3, figsize=(20,5))\n",
    "    fig.suptitle(cub_bacillus_opt_greater_alpha_variants_dataframe.iloc[q,0] + \" - CUB scores\")\n",
    "    cub_bacillus_opt_lower_alpha_variants_dataframe.iloc[q,1:].plot(x=\"variant\", kind=\"bar\", ax=axes[0], stacked=True, color=my_colors)\n",
    "    axes[0].set_title(\"alpha = 0\")\n",
    "    cub_bacillus_opt_variants_dataframe.iloc[q,1:].plot(x=\"variant\", kind=\"bar\", ax=axes[1], stacked=True, color=my_colors)\n",
    "    axes[1].set_title(\"alpha = 0.5\")\n",
    "    cub_bacillus_opt_greater_alpha_variants_dataframe.iloc[q,1:].plot(x=\"variant\", kind=\"bar\", ax=axes[2], stacked=True, color=my_colors)\n",
    "    axes[2].set_title(\"alpha = 1\")"
   ]
  },
  {
   "cell_type": "markdown",
   "metadata": {},
   "source": [
    "## Debugging negative non normalized score"
   ]
  },
  {
   "cell_type": "code",
   "execution_count": null,
   "metadata": {},
   "outputs": [],
   "source": [
    "root_dir = r\"C:\\projects\\Igem_TAU_2021_moran\\analysis\\orf_model_analysis\\results\\endogenous-remote-debug\\CAI_single_codon_diff_ecoli_opt_False_DppD\"\n",
    "run_summary_path = os.path.join(root_dir, \"run_summary.json\")\n",
    "\n",
    "with open(run_summary_path, \"r\") as json_file:\n",
    "    run_summary = json.load(json_file)\n",
    "\n",
    "stats_dict = defaultdict(list)\n",
    "for codon in run_summary[\"orf_sequence_stats\"].keys():\n",
    "    stats_dict[\"codon\"].append(codon)\n",
    "    stats_dict[\"aa\"].append(shared_functions_and_vars.nt_to_aa[codon])\n",
    "    stats_dict[\"counts\"].append(run_summary[\"orf_sequence_stats\"][codon])\n",
    "    stats_dict[\"optimized_loss\"].append(run_summary[\"orf_debug\"][\"optimized_loss\"][shared_functions_and_vars.nt_to_aa[codon]][codon])\n",
    "    stats_dict[\"deoptimized_loss\"].append(run_summary[\"orf_debug\"][\"deoptimized_loss\"][shared_functions_and_vars.nt_to_aa[codon]][codon])\n",
    "    stats_dict[\"total_loss\"].append(run_summary[\"orf_debug\"][\"total_loss\"][shared_functions_and_vars.nt_to_aa[codon]][codon])\n",
    "    stats_dict[\"optimal\"].append(run_summary[\"orf\"][\"aa_to_optimal_codon\"][shared_functions_and_vars.nt_to_aa[codon]] == codon)\n",
    "\n",
    "stats_df = pd.DataFrame(stats_dict)\n",
    "total = stats_df.groupby(stats_df[\"aa\"]).aggregate({\"counts\": \"sum\"})\n",
    "\n",
    "filtered_df = stats_df[stats_df.optimal]\n",
    "merged = filtered_df.merge(total, on='aa', how='inner', suffixes=(\"\", \"_aa\") )\n",
    "merged"
   ]
  },
  {
   "cell_type": "code",
   "execution_count": null,
   "metadata": {},
   "outputs": [],
   "source": [
    "# scatter = merged_df_ecoli_lower_alpha.plot.scatter(x=\"evaluation_score_for_optimized_ecoli\", y=\"ecoli_score_diff\", ax=axes[0,0], title=\"Bacillus deoptimized (alpha=0)- Evaluation score vs.\\nE.coli CUB score diff (modified seq score-original seq score\")\n",
    "# TODO - think how to visualize the data in order to show the trend\n",
    "# stats_df.plot()\n",
    "\n",
    "colors = ['r', 'b', 'k', 'g', 'm']\n",
    "merged.plot.scatter(x=\"optimized_loss\", y=\"deoptimized_loss\", s=10*merged.counts_aa)\n",
    "stats_df.plot.scatter(x=\"optimized_loss\", y=\"deoptimized_loss\", s=10*stats_df.counts)"
   ]
  },
  {
   "cell_type": "code",
   "execution_count": null,
   "metadata": {},
   "outputs": [],
   "source": [
    "\n",
    "\n",
    "\n",
    "\n",
    "\n",
    "\n",
    "\n",
    "\n",
    "\n",
    "\n",
    "\n",
    "\n",
    "\n",
    "\n",
    "\n",
    "\n",
    "\n",
    "\n",
    "\n",
    "\n",
    "\n",
    "\n",
    "\n",
    "\n",
    "\n",
    "\n",
    "\n",
    "\n",
    "\n",
    "\n",
    "\n",
    "\n",
    "\n",
    "\n",
    "\n",
    "\n",
    "\n",
    "\n",
    "\n",
    "\n",
    "\n",
    "\n"
   ]
  }
 ],
 "metadata": {
  "kernelspec": {
   "display_name": "venv",
   "language": "python",
   "name": "venv"
  },
  "language_info": {
   "codemirror_mode": {
    "name": "ipython",
    "version": 3
   },
   "file_extension": ".py",
   "mimetype": "text/x-python",
   "name": "python",
   "nbconvert_exporter": "python",
   "pygments_lexer": "ipython3",
   "version": "3.7.1"
  }
 },
 "nbformat": 4,
 "nbformat_minor": 2
}
