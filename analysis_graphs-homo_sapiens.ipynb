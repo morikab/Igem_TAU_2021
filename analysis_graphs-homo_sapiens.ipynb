{
 "cells": [
  {
   "cell_type": "code",
   "execution_count": 1,
   "id": "8a960741-324b-43d8-a5f9-0cdbb7d8cd50",
   "metadata": {},
   "outputs": [],
   "source": [
    "import os"
   ]
  },
  {
   "cell_type": "markdown",
   "id": "bd4772f8-f0d7-43e0-84e7-09ec9d64c359",
   "metadata": {},
   "source": [
    "# Dask Configuration"
   ]
  },
  {
   "cell_type": "code",
   "execution_count": 2,
   "id": "a7b14736-19b8-4d0a-8013-ce2d1ec8ca75",
   "metadata": {},
   "outputs": [],
   "source": [
    "from dask_jobqueue import PBSCluster\n",
    "from pathlib import Path\n",
    "\n",
    "# Define the working directory path\n",
    "working_directory = str(Path.cwd())\n",
    "\n",
    "# Launch a scheduler and workers on HPC via PBS\n",
    "cluster = PBSCluster(\n",
    "     cores=4,\n",
    "     memory=\"8GB\",\n",
    "     processes=1,\n",
    "     queue=\"tamirQ\",\n",
    "     walltime=\"02:30:00\",\n",
    "     scheduler_options={\"dashboard_address\": \":12435\"},  # FIXME - this is the port we need to define...\n",
    "     # Additional custom options\n",
    "     log_directory=\"dask-logs\",\n",
    "     #worker_extra_args=[\"--lifetime\", \"25m\", \"--lifetime-stagger\", \"4m\"],  # for walltime=\"00:30:00\"\n",
    "     job_script_prologue=[f\"cd {working_directory}\"]\n",
    ")"
   ]
  },
  {
   "cell_type": "code",
   "execution_count": 3,
   "id": "29aa0486-2fe4-4cd9-b8cc-b7ef00b8f0a6",
   "metadata": {},
   "outputs": [
    {
     "data": {
      "application/vnd.jupyter.widget-view+json": {
       "model_id": "cdae8fbfd4e1413fba4af66ab296a3b3",
       "version_major": 2,
       "version_minor": 0
      },
      "text/html": [
       "<div class=\"jp-RenderedHTMLCommon jp-RenderedHTML jp-mod-trusted jp-OutputArea-output\">\n",
       "    <div style=\"width: 24px; height: 24px; background-color: #e1e1e1; border: 3px solid #9D9D9D; border-radius: 5px; position: absolute;\">\n",
       "    </div>\n",
       "    <div style=\"margin-left: 48px;\">\n",
       "        <h3 style=\"margin-bottom: 0px; margin-top: 0px;\">PBSCluster</h3>\n",
       "        <p style=\"color: #9D9D9D; margin-bottom: 0px;\">e84cfc6d</p>\n",
       "        <table style=\"width: 100%; text-align: left;\">\n",
       "            <tr>\n",
       "                <td style=\"text-align: left;\">\n",
       "                    <strong>Dashboard:</strong> <a href=\"http://132.66.112.146:12435/status\" target=\"_blank\">http://132.66.112.146:12435/status</a>\n",
       "                </td>\n",
       "                <td style=\"text-align: left;\">\n",
       "                    <strong>Workers:</strong> 0\n",
       "                </td>\n",
       "            </tr>\n",
       "            <tr>\n",
       "                <td style=\"text-align: left;\">\n",
       "                    <strong>Total threads:</strong> 0\n",
       "                </td>\n",
       "                <td style=\"text-align: left;\">\n",
       "                    <strong>Total memory:</strong> 0 B\n",
       "                </td>\n",
       "            </tr>\n",
       "            \n",
       "        </table>\n",
       "\n",
       "        <details>\n",
       "            <summary style=\"margin-bottom: 20px;\">\n",
       "                <h3 style=\"display: inline;\">Scheduler Info</h3>\n",
       "            </summary>\n",
       "\n",
       "            <div style=\"\">\n",
       "    <div>\n",
       "        <div style=\"width: 24px; height: 24px; background-color: #FFF7E5; border: 3px solid #FF6132; border-radius: 5px; position: absolute;\"> </div>\n",
       "        <div style=\"margin-left: 48px;\">\n",
       "            <h3 style=\"margin-bottom: 0px;\">Scheduler</h3>\n",
       "            <p style=\"color: #9D9D9D; margin-bottom: 0px;\">Scheduler-568d0eed-c09d-4f96-94cc-4736a2e4faa6</p>\n",
       "            <table style=\"width: 100%; text-align: left;\">\n",
       "                <tr>\n",
       "                    <td style=\"text-align: left;\">\n",
       "                        <strong>Comm:</strong> tcp://132.66.112.146:46287\n",
       "                    </td>\n",
       "                    <td style=\"text-align: left;\">\n",
       "                        <strong>Workers:</strong> 0\n",
       "                    </td>\n",
       "                </tr>\n",
       "                <tr>\n",
       "                    <td style=\"text-align: left;\">\n",
       "                        <strong>Dashboard:</strong> <a href=\"http://132.66.112.146:12435/status\" target=\"_blank\">http://132.66.112.146:12435/status</a>\n",
       "                    </td>\n",
       "                    <td style=\"text-align: left;\">\n",
       "                        <strong>Total threads:</strong> 0\n",
       "                    </td>\n",
       "                </tr>\n",
       "                <tr>\n",
       "                    <td style=\"text-align: left;\">\n",
       "                        <strong>Started:</strong> Just now\n",
       "                    </td>\n",
       "                    <td style=\"text-align: left;\">\n",
       "                        <strong>Total memory:</strong> 0 B\n",
       "                    </td>\n",
       "                </tr>\n",
       "            </table>\n",
       "        </div>\n",
       "    </div>\n",
       "\n",
       "    <details style=\"margin-left: 48px;\">\n",
       "        <summary style=\"margin-bottom: 20px;\">\n",
       "            <h3 style=\"display: inline;\">Workers</h3>\n",
       "        </summary>\n",
       "\n",
       "        \n",
       "\n",
       "    </details>\n",
       "</div>\n",
       "\n",
       "        </details>\n",
       "    </div>\n",
       "</div>"
      ],
      "text/plain": [
       "PBSCluster(e84cfc6d, 'tcp://132.66.112.146:46287', workers=0, threads=0, memory=0 B)"
      ]
     },
     "metadata": {},
     "output_type": "display_data"
    }
   ],
   "source": [
    "cluster"
   ]
  },
  {
   "cell_type": "code",
   "execution_count": 4,
   "id": "fccffd2e-c459-4c2d-86bf-310ce9785428",
   "metadata": {},
   "outputs": [
    {
     "name": "stdout",
     "output_type": "stream",
     "text": [
      "#!/usr/bin/env bash\n",
      "\n",
      "#PBS -N dask-worker\n",
      "#PBS -q tamirQ\n",
      "#PBS -l select=1:ncpus=4:mem=7630MB\n",
      "#PBS -l walltime=02:30:00\n",
      "#PBS -e dask-logs/\n",
      "#PBS -o dask-logs/\n",
      "cd /tamir2/moranb/microbiome/Igem_TAU_2021\n",
      "/tamir2/moranb/microbiome/Igem_TAU_2021/venv/bin/python -m distributed.cli.dask_worker tcp://132.66.112.146:46287 --nthreads 4 --memory-limit 7.45GiB --name dummy-name --nanny --death-timeout 60\n",
      "\n"
     ]
    }
   ],
   "source": [
    "cluster.adapt(minimum=30, maximum=60)\n",
    "print(cluster.job_script())"
   ]
  },
  {
   "cell_type": "code",
   "execution_count": 5,
   "id": "c98d4ca8-a2e6-47e2-8d2a-2130e31cce08",
   "metadata": {},
   "outputs": [],
   "source": [
    "from dask.distributed import Client, progress, wait, get_client, get_worker\n",
    "client = Client(cluster)"
   ]
  },
  {
   "cell_type": "code",
   "execution_count": 6,
   "id": "aae6f110-24fb-4f40-8a72-5623a081cc73",
   "metadata": {},
   "outputs": [
    {
     "data": {
      "text/html": [
       "<div>\n",
       "    <div style=\"width: 24px; height: 24px; background-color: #e1e1e1; border: 3px solid #9D9D9D; border-radius: 5px; position: absolute;\"> </div>\n",
       "    <div style=\"margin-left: 48px;\">\n",
       "        <h3 style=\"margin-bottom: 0px;\">Client</h3>\n",
       "        <p style=\"color: #9D9D9D; margin-bottom: 0px;\">Client-06e42de0-4c10-11ef-9c0b-b4969140d316</p>\n",
       "        <table style=\"width: 100%; text-align: left;\">\n",
       "\n",
       "        <tr>\n",
       "        \n",
       "            <td style=\"text-align: left;\"><strong>Connection method:</strong> Cluster object</td>\n",
       "            <td style=\"text-align: left;\"><strong>Cluster type:</strong> dask_jobqueue.PBSCluster</td>\n",
       "        \n",
       "        </tr>\n",
       "\n",
       "        \n",
       "            <tr>\n",
       "                <td style=\"text-align: left;\">\n",
       "                    <strong>Dashboard: </strong> <a href=\"http://132.66.112.146:12435/status\" target=\"_blank\">http://132.66.112.146:12435/status</a>\n",
       "                </td>\n",
       "                <td style=\"text-align: left;\"></td>\n",
       "            </tr>\n",
       "        \n",
       "\n",
       "        </table>\n",
       "\n",
       "        \n",
       "            <button style=\"margin-bottom: 12px;\" data-commandlinker-command=\"dask:populate-and-launch-layout\" data-commandlinker-args='{\"url\": \"http://132.66.112.146:12435/status\" }'>\n",
       "                Launch dashboard in JupyterLab\n",
       "            </button>\n",
       "        \n",
       "\n",
       "        \n",
       "            <details>\n",
       "            <summary style=\"margin-bottom: 20px;\"><h3 style=\"display: inline;\">Cluster Info</h3></summary>\n",
       "            <div class=\"jp-RenderedHTMLCommon jp-RenderedHTML jp-mod-trusted jp-OutputArea-output\">\n",
       "    <div style=\"width: 24px; height: 24px; background-color: #e1e1e1; border: 3px solid #9D9D9D; border-radius: 5px; position: absolute;\">\n",
       "    </div>\n",
       "    <div style=\"margin-left: 48px;\">\n",
       "        <h3 style=\"margin-bottom: 0px; margin-top: 0px;\">PBSCluster</h3>\n",
       "        <p style=\"color: #9D9D9D; margin-bottom: 0px;\">e84cfc6d</p>\n",
       "        <table style=\"width: 100%; text-align: left;\">\n",
       "            <tr>\n",
       "                <td style=\"text-align: left;\">\n",
       "                    <strong>Dashboard:</strong> <a href=\"http://132.66.112.146:12435/status\" target=\"_blank\">http://132.66.112.146:12435/status</a>\n",
       "                </td>\n",
       "                <td style=\"text-align: left;\">\n",
       "                    <strong>Workers:</strong> 0\n",
       "                </td>\n",
       "            </tr>\n",
       "            <tr>\n",
       "                <td style=\"text-align: left;\">\n",
       "                    <strong>Total threads:</strong> 0\n",
       "                </td>\n",
       "                <td style=\"text-align: left;\">\n",
       "                    <strong>Total memory:</strong> 0 B\n",
       "                </td>\n",
       "            </tr>\n",
       "            \n",
       "        </table>\n",
       "\n",
       "        <details>\n",
       "            <summary style=\"margin-bottom: 20px;\">\n",
       "                <h3 style=\"display: inline;\">Scheduler Info</h3>\n",
       "            </summary>\n",
       "\n",
       "            <div style=\"\">\n",
       "    <div>\n",
       "        <div style=\"width: 24px; height: 24px; background-color: #FFF7E5; border: 3px solid #FF6132; border-radius: 5px; position: absolute;\"> </div>\n",
       "        <div style=\"margin-left: 48px;\">\n",
       "            <h3 style=\"margin-bottom: 0px;\">Scheduler</h3>\n",
       "            <p style=\"color: #9D9D9D; margin-bottom: 0px;\">Scheduler-568d0eed-c09d-4f96-94cc-4736a2e4faa6</p>\n",
       "            <table style=\"width: 100%; text-align: left;\">\n",
       "                <tr>\n",
       "                    <td style=\"text-align: left;\">\n",
       "                        <strong>Comm:</strong> tcp://132.66.112.146:46287\n",
       "                    </td>\n",
       "                    <td style=\"text-align: left;\">\n",
       "                        <strong>Workers:</strong> 0\n",
       "                    </td>\n",
       "                </tr>\n",
       "                <tr>\n",
       "                    <td style=\"text-align: left;\">\n",
       "                        <strong>Dashboard:</strong> <a href=\"http://132.66.112.146:12435/status\" target=\"_blank\">http://132.66.112.146:12435/status</a>\n",
       "                    </td>\n",
       "                    <td style=\"text-align: left;\">\n",
       "                        <strong>Total threads:</strong> 0\n",
       "                    </td>\n",
       "                </tr>\n",
       "                <tr>\n",
       "                    <td style=\"text-align: left;\">\n",
       "                        <strong>Started:</strong> Just now\n",
       "                    </td>\n",
       "                    <td style=\"text-align: left;\">\n",
       "                        <strong>Total memory:</strong> 0 B\n",
       "                    </td>\n",
       "                </tr>\n",
       "            </table>\n",
       "        </div>\n",
       "    </div>\n",
       "\n",
       "    <details style=\"margin-left: 48px;\">\n",
       "        <summary style=\"margin-bottom: 20px;\">\n",
       "            <h3 style=\"display: inline;\">Workers</h3>\n",
       "        </summary>\n",
       "\n",
       "        \n",
       "\n",
       "    </details>\n",
       "</div>\n",
       "\n",
       "        </details>\n",
       "    </div>\n",
       "</div>\n",
       "            </details>\n",
       "        \n",
       "\n",
       "    </div>\n",
       "</div>"
      ],
      "text/plain": [
       "<Client: 'tcp://132.66.112.146:46287' processes=0 threads=0, memory=0 B>"
      ]
     },
     "execution_count": 6,
     "metadata": {},
     "output_type": "execute_result"
    }
   ],
   "source": [
    "client"
   ]
  },
  {
   "cell_type": "code",
   "execution_count": 7,
   "id": "7d5c3d2c-6e52-418a-a2d4-16a23b5f3548",
   "metadata": {},
   "outputs": [
    {
     "name": "stderr",
     "output_type": "stream",
     "text": [
      "/tamir2/moranb/microbiome/Igem_TAU_2021/venv/lib/python3.9/site-packages/scipy/__init__.py:146: UserWarning: A NumPy version >=1.16.5 and <1.23.0 is required for this version of SciPy (detected version 1.26.3\n",
      "  warnings.warn(f\"A NumPy version >={np_minversion} and <{np_maxversion}\"\n"
     ]
    }
   ],
   "source": [
    "import dask.bag as db\n",
    "import dask.dataframe as dd\n",
    "from dask import delayed, compute, persist\n",
    "from pandas.core.dtypes.common import pandas_dtype as dtype\n",
    "import json\n",
    "import matplotlib\n",
    "import matplotlib.pyplot as plt\n",
    "import numpy as np\n",
    "import pandas as pd\n",
    "import scipy.stats as stats\n",
    "from pathlib import Path"
   ]
  },
  {
   "cell_type": "markdown",
   "id": "d746f6c8-06fd-4a18-be7f-483410889006",
   "metadata": {},
   "source": [
    "# Analysis for homo sapiens genes"
   ]
  },
  {
   "cell_type": "code",
   "execution_count": 8,
   "id": "41e6b579-562a-47ae-bd4f-a0f71c08c262",
   "metadata": {},
   "outputs": [],
   "source": [
    "import operator\n",
    "from Bio import SeqIO\n",
    "from analysis.input_testing_data.generate_input_testing_data_for_modules import generate_testing_data\n",
    "from analysis.input_testing_data.generate_input_testing_data_for_modules import generate_testing_data_for_ecoli_and_bacillus\n",
    "\n",
    "from modules.main import run_modules\n",
    "from modules.user_IO.input_functions import extract_gene_data"
   ]
  },
  {
   "cell_type": "code",
   "execution_count": 9,
   "id": "01b8186c-16b0-4098-bdd7-d1c5d39f72b1",
   "metadata": {},
   "outputs": [],
   "source": [
    "output_path = \"/tamir2/moranb/microbiome/Igem_TAU_2021/analysis/results/homo_sapiens\"\n",
    "optimization_cub_index = \"CAI\"\n",
    "\n",
    "variant_names = [\n",
    "    \"{score}_single_diff\",\n",
    "    # \"{score}_zscore_single_diff\",\n",
    "    \"{score}_zscore_bulk_diff\",\n",
    "    \"{score}_single_ratio\",\n",
    "    # \"{score}_zscore_single_ratio\",\n",
    "    \"{score}_zscore_bulk_ratio\",\n",
    "]\n",
    "\n",
    "average_distance_variant_names = [s.format(score=\"average_distance_score\") for s in variant_names]"
   ]
  },
  {
   "cell_type": "code",
   "execution_count": 10,
   "id": "048b3005-96dc-442f-9994-825714e6396a",
   "metadata": {},
   "outputs": [],
   "source": [
    "def get_configuration(is_ecoli_optimized):\n",
    "    return f\"e_coli_optimized_{is_ecoli_optimized}_bacillus_optimized_{not is_ecoli_optimized}\""
   ]
  },
  {
   "cell_type": "code",
   "execution_count": 11,
   "id": "3e27accf-0a6f-4695-8e5a-85bf37f4f711",
   "metadata": {},
   "outputs": [],
   "source": [
    "def json_map(x):\n",
    "    try:\n",
    "       return json.load(x)\n",
    "    except Exception as e:\n",
    "        return {\"error_message\": e}"
   ]
  },
  {
   "cell_type": "code",
   "execution_count": 12,
   "id": "adc53161-345b-4749-aa4e-6498d48b4f8c",
   "metadata": {},
   "outputs": [],
   "source": [
    "def get_df_for_run_configuration(configuration, optimization_method, is_debug=False):\n",
    "    configuration_output_path = os.path.join(output_path, configuration)\n",
    "    debug_suffix = '-debug' if is_debug else ''\n",
    "    results_dir = F\"{os.path.join(configuration_output_path, optimization_method + debug_suffix)}\"\n",
    "    file_names = [str(file) for file in list(Path(results_dir).rglob(\"*.json\"))]\n",
    "    bag = db.read_text(file_names).map(json.loads)\n",
    "    # bag = db.read_text(file_names).map(json_map)\n",
    "\n",
    "    error_records = bag.filter(lambda x: \"error_message\" in x.keys())\n",
    "    valid_records = bag.filter(lambda x: \"error_message\" not in x.keys())\n",
    "    \n",
    "    # return valid_records.to_dataframe().compute(), error_records.compute()\n",
    "    return valid_records.compute(), error_records.compute()\n",
    "\n",
    "    # return dd.read_json([str(file) for file in list(Path(results_dir).rglob(\"*.json\"))], orient='records', lines=True)"
   ]
  },
  {
   "cell_type": "code",
   "execution_count": 21,
   "id": "a7176dad-b394-4967-8e52-993239d6c56f",
   "metadata": {},
   "outputs": [],
   "source": [
    "def get_scores_df_by_configuration_df(configuration, is_debug=False):\n",
    "    df_bulk_zscore_ratio, df_bulk_zscore_ratio_errors = get_df_for_run_configuration(configuration, \"zscore_bulk_aa_ratio\", is_debug)\n",
    "    df_bulk_zscore_diff, df_bulk_zscore_diff_errors = get_df_for_run_configuration(configuration, \"zscore_bulk_aa_diff\", is_debug)\n",
    "    merged_bulk_zscore_df = dd.merge(df_bulk_zscore_ratio, df_bulk_zscore_diff, on='gene_name', how='inner', suffixes=('_zscore_bulk_ratio', '_zscore_bulk_diff'))\n",
    "\n",
    "    # df_single_zscore_ratio, df_single_zscore_ratio_errors = get_df_for_run_configuration(configuration, \"zscore_single_aa_ratio\", is_debug)\n",
    "    # df_single_zscore_diff, df_single_zscore_diff_errors = get_df_for_run_configuration(configuration, \"zscore_single_aa_diff\", is_debug)\n",
    "    # merged_single_zscore_df = dd.merge(df_single_zscore_ratio, df_single_zscore_diff, on='gene_name', how='inner', suffixes=('_zscore_single_ratio', '_zscore_single_diff'))\n",
    "\n",
    "    df_single_codon_ratio, df_single_codon_ratio_error = get_df_for_run_configuration(configuration, \"single_codon_ratio\", is_debug)\n",
    "    df_single_codon_diff, df_single_codon_diff_error = get_df_for_run_configuration(configuration, \"single_codon_diff\", is_debug)\n",
    "    merged_single_df = dd.merge(df_single_codon_ratio, df_single_codon_diff, on='gene_name', how='inner', suffixes=('_single_ratio', '_single_diff'))\n",
    "\n",
    "    # merged_df = dd.merge(merged_bulk_zscore_df, merged_single_zscore_df, on='gene_name', how='inner')\n",
    "    # merged_df = dd.merge(merged_df, merged_single_df, on='gene_name', how='inner')\n",
    "    merged_df = dd.merge(merged_bulk_zscore_df, merged_single_df, on='gene_name', how='inner')\n",
    "    return merged_df, [\n",
    "        df_bulk_zscore_ratio_errors,\n",
    "        df_bulk_zscore_diff_errors, \n",
    "        # df_single_zscore_ratio_errors, \n",
    "        # df_single_zscore_diff_errors, \n",
    "        df_single_codon_ratio_error,\n",
    "        df_single_codon_diff_error,\n",
    "    ]"
   ]
  },
  {
   "cell_type": "code",
   "execution_count": 14,
   "id": "fdf083c6-40c7-404b-8f28-eab85fd8d04d",
   "metadata": {},
   "outputs": [],
   "source": [
    "def get_scores_df_by_configuration(configuration, is_debug=False):\n",
    "    df_bulk_zscore_ratio, df_bulk_zscore_ratio_errors = get_df_for_run_configuration(configuration, \"zscore_bulk_aa_ratio\", is_debug)\n",
    "    df_bulk_zscore_diff, df_bulk_zscore_diff_errors = get_df_for_run_configuration(configuration, \"zscore_bulk_aa_diff\", is_debug)\n",
    "    # merged_bulk_zscore_df = dd.merge(df_bulk_zscore_ratio, df_bulk_zscore_diff, on='gene_name', how='inner', suffixes=('_zscore_bulk_ratio', '_zscore_bulk_diff'))\n",
    "\n",
    "    # df_single_zscore_ratio, df_single_zscore_ratio_errors = get_df_for_run_configuration(configuration, \"zscore_single_aa_ratio\", is_debug)\n",
    "    # df_single_zscore_diff, df_single_zscore_diff_errors = get_df_for_run_configuration(configuration, \"zscore_single_aa_diff\", is_debug)\n",
    "    # merged_single_zscore_df = dd.merge(df_single_zscore_ratio, df_single_zscore_diff, on='gene_name', how='inner', suffixes=('_zscore_single_ratio', '_zscore_single_diff'))\n",
    "\n",
    "    df_single_codon_ratio, df_single_codon_ratio_error = get_df_for_run_configuration(configuration, \"single_codon_ratio\", is_debug)\n",
    "    df_single_codon_diff, df_single_codon_diff_error = get_df_for_run_configuration(configuration, \"single_codon_diff\", is_debug)\n",
    "    # merged_single_df = dd.merge(df_single_codon_ratio, df_single_codon_diff, on='gene_name', how='inner', suffixes=('_single_ratio', '_single_diff'))\n",
    "\n",
    "    # merged_df = dd.merge(merged_bulk_zscore_df, merged_single_zscore_df, on='gene_name', how='inner')\n",
    "    # merged_df = dd.merge(merged_df, merged_single_df, on='gene_name', how='inner')\n",
    "    # merged_df = dd.merge(merged_bulk_zscore_df, merged_single_df, on='gene_name', how='inner')\n",
    "    return [\n",
    "        df_bulk_zscore_ratio,\n",
    "        df_bulk_zscore_diff,\n",
    "        df_single_codon_ratio,\n",
    "        df_single_codon_diff,\n",
    "    ], [\n",
    "        df_bulk_zscore_ratio_errors,\n",
    "        df_bulk_zscore_diff_errors, \n",
    "        # df_single_zscore_ratio_errors, \n",
    "        # df_single_zscore_diff_errors, \n",
    "        df_single_codon_ratio_error,\n",
    "        df_single_codon_diff_error,\n",
    "    ]"
   ]
  },
  {
   "cell_type": "code",
   "execution_count": 15,
   "id": "27e7dc4a-4047-4c75-a645-d7d89330d73a",
   "metadata": {},
   "outputs": [],
   "source": [
    "def add_median_to_histogram(value, histogram, row, col, upper_limit):\n",
    "    median_value = value.median()\n",
    "    histogram[row][col].axvline(median_value, color=\"green\", linestyle=\"dashed\", label=\"median\")\n",
    "    histogram[row][col].text(median_value-1, upper_limit, f\"median={median_value}\")"
   ]
  },
  {
   "cell_type": "code",
   "execution_count": 16,
   "id": "d91a2f52-4bae-443e-a24d-2f08ab71565b",
   "metadata": {},
   "outputs": [],
   "source": [
    "def add_median_to_histogram_non_normalized(value, histogram, row, col, upper_limit):\n",
    "    median_value = value.median()\n",
    "    histogram[row][col].axvline(median_value, color=\"green\", linestyle=\"dashed\", label=\"median\")\n",
    "    histogram[row][col].text(median_value-0.1, upper_limit, f\"median={median_value}\")"
   ]
  },
  {
   "cell_type": "code",
   "execution_count": 17,
   "id": "c98236c8-1fdb-4439-b9fe-2425fc1d2dc1",
   "metadata": {},
   "outputs": [],
   "source": [
    "def plot_comparative_graphs(result):\n",
    "    figure, axis = plt.subplots(8, 2, figsize=(20,35))\n",
    "\n",
    "    index = 0\n",
    "    for i, first_variant in enumerate(average_distance_variant_names):\n",
    "        for j, second_variant in enumerate(average_distance_variant_names):\n",
    "            if j <= i:\n",
    "                continue \n",
    "            scatter = result.plot.scatter(x=first_variant, y=second_variant, ax=axis[index//2, index%2])\n",
    "            r, p = stats.pearsonr(result[first_variant], result[second_variant])\n",
    "            scatter.annotate('r = {:.3f}'.format(r), xy=(0.7, 0.9), xycoords='axes fraction')\n",
    "            index += 1"
   ]
  },
  {
   "cell_type": "markdown",
   "id": "d78daccb-d7d1-4dda-a8d7-d4d15187dba6",
   "metadata": {},
   "source": [
    "#### Escherichia-coli as wanted host "
   ]
  },
  {
   "cell_type": "code",
   "execution_count": 19,
   "id": "4ad8d2d8-02c2-47ad-b259-d5ab5c03a123",
   "metadata": {
    "scrolled": true
   },
   "outputs": [
    {
     "name": "stderr",
     "output_type": "stream",
     "text": [
      "Resource specification for PBS not set, initializing it to select=1:ncpus=4:mem=7630MB\n",
      "Resource specification for PBS not set, initializing it to select=1:ncpus=4:mem=7630MB\n",
      "Resource specification for PBS not set, initializing it to select=1:ncpus=4:mem=7630MB\n",
      "Resource specification for PBS not set, initializing it to select=1:ncpus=4:mem=7630MB\n",
      "Resource specification for PBS not set, initializing it to select=1:ncpus=4:mem=7630MB\n",
      "Resource specification for PBS not set, initializing it to select=1:ncpus=4:mem=7630MB\n",
      "Resource specification for PBS not set, initializing it to select=1:ncpus=4:mem=7630MB\n",
      "Resource specification for PBS not set, initializing it to select=1:ncpus=4:mem=7630MB\n",
      "Resource specification for PBS not set, initializing it to select=1:ncpus=4:mem=7630MB\n",
      "Resource specification for PBS not set, initializing it to select=1:ncpus=4:mem=7630MB\n",
      "Resource specification for PBS not set, initializing it to select=1:ncpus=4:mem=7630MB\n",
      "Resource specification for PBS not set, initializing it to select=1:ncpus=4:mem=7630MB\n",
      "Resource specification for PBS not set, initializing it to select=1:ncpus=4:mem=7630MB\n",
      "Resource specification for PBS not set, initializing it to select=1:ncpus=4:mem=7630MB\n",
      "Resource specification for PBS not set, initializing it to select=1:ncpus=4:mem=7630MB\n",
      "Resource specification for PBS not set, initializing it to select=1:ncpus=4:mem=7630MB\n",
      "Resource specification for PBS not set, initializing it to select=1:ncpus=4:mem=7630MB\n",
      "Resource specification for PBS not set, initializing it to select=1:ncpus=4:mem=7630MB\n",
      "Resource specification for PBS not set, initializing it to select=1:ncpus=4:mem=7630MB\n",
      "Resource specification for PBS not set, initializing it to select=1:ncpus=4:mem=7630MB\n",
      "Resource specification for PBS not set, initializing it to select=1:ncpus=4:mem=7630MB\n",
      "Resource specification for PBS not set, initializing it to select=1:ncpus=4:mem=7630MB\n",
      "Resource specification for PBS not set, initializing it to select=1:ncpus=4:mem=7630MB\n",
      "Resource specification for PBS not set, initializing it to select=1:ncpus=4:mem=7630MB\n",
      "Resource specification for PBS not set, initializing it to select=1:ncpus=4:mem=7630MB\n",
      "Resource specification for PBS not set, initializing it to select=1:ncpus=4:mem=7630MB\n",
      "Resource specification for PBS not set, initializing it to select=1:ncpus=4:mem=7630MB\n",
      "Resource specification for PBS not set, initializing it to select=1:ncpus=4:mem=7630MB\n",
      "Resource specification for PBS not set, initializing it to select=1:ncpus=4:mem=7630MB\n",
      "Resource specification for PBS not set, initializing it to select=1:ncpus=4:mem=7630MB\n",
      "Resource specification for PBS not set, initializing it to select=1:ncpus=4:mem=7630MB\n",
      "Resource specification for PBS not set, initializing it to select=1:ncpus=4:mem=7630MB\n",
      "Resource specification for PBS not set, initializing it to select=1:ncpus=4:mem=7630MB\n",
      "Resource specification for PBS not set, initializing it to select=1:ncpus=4:mem=7630MB\n",
      "Resource specification for PBS not set, initializing it to select=1:ncpus=4:mem=7630MB\n",
      "Resource specification for PBS not set, initializing it to select=1:ncpus=4:mem=7630MB\n",
      "Resource specification for PBS not set, initializing it to select=1:ncpus=4:mem=7630MB\n",
      "Resource specification for PBS not set, initializing it to select=1:ncpus=4:mem=7630MB\n",
      "Resource specification for PBS not set, initializing it to select=1:ncpus=4:mem=7630MB\n",
      "Resource specification for PBS not set, initializing it to select=1:ncpus=4:mem=7630MB\n",
      "Resource specification for PBS not set, initializing it to select=1:ncpus=4:mem=7630MB\n",
      "Resource specification for PBS not set, initializing it to select=1:ncpus=4:mem=7630MB\n",
      "Resource specification for PBS not set, initializing it to select=1:ncpus=4:mem=7630MB\n",
      "Resource specification for PBS not set, initializing it to select=1:ncpus=4:mem=7630MB\n",
      "Resource specification for PBS not set, initializing it to select=1:ncpus=4:mem=7630MB\n",
      "Resource specification for PBS not set, initializing it to select=1:ncpus=4:mem=7630MB\n",
      "Resource specification for PBS not set, initializing it to select=1:ncpus=4:mem=7630MB\n",
      "Resource specification for PBS not set, initializing it to select=1:ncpus=4:mem=7630MB\n",
      "Resource specification for PBS not set, initializing it to select=1:ncpus=4:mem=7630MB\n",
      "Resource specification for PBS not set, initializing it to select=1:ncpus=4:mem=7630MB\n",
      "Resource specification for PBS not set, initializing it to select=1:ncpus=4:mem=7630MB\n",
      "Resource specification for PBS not set, initializing it to select=1:ncpus=4:mem=7630MB\n",
      "Resource specification for PBS not set, initializing it to select=1:ncpus=4:mem=7630MB\n",
      "Resource specification for PBS not set, initializing it to select=1:ncpus=4:mem=7630MB\n",
      "Resource specification for PBS not set, initializing it to select=1:ncpus=4:mem=7630MB\n",
      "Resource specification for PBS not set, initializing it to select=1:ncpus=4:mem=7630MB\n",
      "Resource specification for PBS not set, initializing it to select=1:ncpus=4:mem=7630MB\n",
      "Resource specification for PBS not set, initializing it to select=1:ncpus=4:mem=7630MB\n",
      "Resource specification for PBS not set, initializing it to select=1:ncpus=4:mem=7630MB\n",
      "Resource specification for PBS not set, initializing it to select=1:ncpus=4:mem=7630MB\n",
      "Resource specification for PBS not set, initializing it to select=1:ncpus=4:mem=7630MB\n",
      "Resource specification for PBS not set, initializing it to select=1:ncpus=4:mem=7630MB\n",
      "Resource specification for PBS not set, initializing it to select=1:ncpus=4:mem=7630MB\n",
      "Resource specification for PBS not set, initializing it to select=1:ncpus=4:mem=7630MB\n",
      "Resource specification for PBS not set, initializing it to select=1:ncpus=4:mem=7630MB\n",
      "Resource specification for PBS not set, initializing it to select=1:ncpus=4:mem=7630MB\n",
      "Resource specification for PBS not set, initializing it to select=1:ncpus=4:mem=7630MB\n",
      "Resource specification for PBS not set, initializing it to select=1:ncpus=4:mem=7630MB\n",
      "Resource specification for PBS not set, initializing it to select=1:ncpus=4:mem=7630MB\n",
      "Resource specification for PBS not set, initializing it to select=1:ncpus=4:mem=7630MB\n",
      "Resource specification for PBS not set, initializing it to select=1:ncpus=4:mem=7630MB\n",
      "Resource specification for PBS not set, initializing it to select=1:ncpus=4:mem=7630MB\n",
      "Resource specification for PBS not set, initializing it to select=1:ncpus=4:mem=7630MB\n",
      "Resource specification for PBS not set, initializing it to select=1:ncpus=4:mem=7630MB\n",
      "Resource specification for PBS not set, initializing it to select=1:ncpus=4:mem=7630MB\n",
      "Resource specification for PBS not set, initializing it to select=1:ncpus=4:mem=7630MB\n",
      "Resource specification for PBS not set, initializing it to select=1:ncpus=4:mem=7630MB\n",
      "Resource specification for PBS not set, initializing it to select=1:ncpus=4:mem=7630MB\n",
      "Resource specification for PBS not set, initializing it to select=1:ncpus=4:mem=7630MB\n",
      "Resource specification for PBS not set, initializing it to select=1:ncpus=4:mem=7630MB\n",
      "Resource specification for PBS not set, initializing it to select=1:ncpus=4:mem=7630MB\n",
      "Resource specification for PBS not set, initializing it to select=1:ncpus=4:mem=7630MB\n",
      "Resource specification for PBS not set, initializing it to select=1:ncpus=4:mem=7630MB\n"
     ]
    }
   ],
   "source": [
    "configuration = get_configuration(is_ecoli_optimized=True)\n",
    "result, errors = get_scores_df_by_configuration(configuration)"
   ]
  },
  {
   "cell_type": "code",
   "execution_count": 20,
   "id": "57fd9cd7-601e-4004-a7e6-524df3ce4c9f",
   "metadata": {},
   "outputs": [
    {
     "name": "stdout",
     "output_type": "stream",
     "text": [
      "{'initial_optimization_score': 0.907692690961394, 'final_optimization_score': 1.2662076514775864, 'average_distance_score': 0.7752914068450383, 'average_distance_non_normalized_score': 0.12009975295583997, 'weakest_link_score': 0.7752914068450383, 'ratio_score': 1.0436351158145694, 'gene_name': 'lcl|NC_000001.11_cds_NP_689578.2_2421', 'orf_optimization_cub_index': 'CAI', 'evaluation_score': 'average_distance', 'run_time': 50.58537229895592}\n"
     ]
    }
   ],
   "source": [
    "error=False\n",
    "for results_list in result:\n",
    "    for record in results_list:\n",
    "        try:\n",
    "            int(record[\"iterations_count\"])\n",
    "        except Exception:\n",
    "            print(record)\n",
    "            error=True\n",
    "            break\n",
    "    if error:\n",
    "        break"
   ]
  },
  {
   "cell_type": "code",
   "execution_count": 22,
   "id": "694491fe-6984-46f9-a23b-be2b2ad44311",
   "metadata": {},
   "outputs": [],
   "source": [
    "def get_df_for_run_configuration_debug(configuration, optimization_method, is_debug=False, index=None):\n",
    "    configuration_output_path = os.path.join(output_path, configuration)\n",
    "    debug_suffix = '-debug' if is_debug else ''\n",
    "    results_dir = F\"{os.path.join(configuration_output_path, optimization_method + debug_suffix)}\"\n",
    "    file_names = [str(file) for file in list(Path(results_dir).rglob(\"*.json\"))]\n",
    "    if index is not None:\n",
    "        print(file_names[index])\n",
    "        bag = db.read_text(file_names[index]).map(json.loads)\n",
    "    else:\n",
    "        bag = db.read_text(file_names[:2500]).map(json.loads)\n",
    "\n",
    "    error_records = bag.filter(lambda x: \"error_message\" in x.keys())\n",
    "    valid_records = bag.filter(lambda x: \"error_message\" not in x.keys())\n",
    "    \n",
    "    return valid_records.to_dataframe().compute(), error_records.compute()"
   ]
  },
  {
   "cell_type": "code",
   "execution_count": 29,
   "id": "85117383-cbd7-4445-ab30-91d949dd295e",
   "metadata": {
    "scrolled": true
   },
   "outputs": [
    {
     "name": "stderr",
     "output_type": "stream",
     "text": [
      "Resource specification for PBS not set, initializing it to select=1:ncpus=4:mem=7630MB\n",
      "Resource specification for PBS not set, initializing it to select=1:ncpus=4:mem=7630MB\n",
      "Resource specification for PBS not set, initializing it to select=1:ncpus=4:mem=7630MB\n",
      "Resource specification for PBS not set, initializing it to select=1:ncpus=4:mem=7630MB\n",
      "Resource specification for PBS not set, initializing it to select=1:ncpus=4:mem=7630MB\n",
      "Resource specification for PBS not set, initializing it to select=1:ncpus=4:mem=7630MB\n",
      "Resource specification for PBS not set, initializing it to select=1:ncpus=4:mem=7630MB\n",
      "Resource specification for PBS not set, initializing it to select=1:ncpus=4:mem=7630MB\n",
      "Resource specification for PBS not set, initializing it to select=1:ncpus=4:mem=7630MB\n",
      "Resource specification for PBS not set, initializing it to select=1:ncpus=4:mem=7630MB\n",
      "Resource specification for PBS not set, initializing it to select=1:ncpus=4:mem=7630MB\n",
      "Resource specification for PBS not set, initializing it to select=1:ncpus=4:mem=7630MB\n",
      "Resource specification for PBS not set, initializing it to select=1:ncpus=4:mem=7630MB\n",
      "Resource specification for PBS not set, initializing it to select=1:ncpus=4:mem=7630MB\n",
      "Resource specification for PBS not set, initializing it to select=1:ncpus=4:mem=7630MB\n",
      "Resource specification for PBS not set, initializing it to select=1:ncpus=4:mem=7630MB\n",
      "Resource specification for PBS not set, initializing it to select=1:ncpus=4:mem=7630MB\n",
      "Resource specification for PBS not set, initializing it to select=1:ncpus=4:mem=7630MB\n",
      "Resource specification for PBS not set, initializing it to select=1:ncpus=4:mem=7630MB\n",
      "Resource specification for PBS not set, initializing it to select=1:ncpus=4:mem=7630MB\n",
      "Resource specification for PBS not set, initializing it to select=1:ncpus=4:mem=7630MB\n",
      "Resource specification for PBS not set, initializing it to select=1:ncpus=4:mem=7630MB\n",
      "Resource specification for PBS not set, initializing it to select=1:ncpus=4:mem=7630MB\n",
      "Resource specification for PBS not set, initializing it to select=1:ncpus=4:mem=7630MB\n",
      "Resource specification for PBS not set, initializing it to select=1:ncpus=4:mem=7630MB\n",
      "Resource specification for PBS not set, initializing it to select=1:ncpus=4:mem=7630MB\n",
      "Resource specification for PBS not set, initializing it to select=1:ncpus=4:mem=7630MB\n",
      "Resource specification for PBS not set, initializing it to select=1:ncpus=4:mem=7630MB\n",
      "Resource specification for PBS not set, initializing it to select=1:ncpus=4:mem=7630MB\n",
      "Resource specification for PBS not set, initializing it to select=1:ncpus=4:mem=7630MB\n",
      "Resource specification for PBS not set, initializing it to select=1:ncpus=4:mem=7630MB\n"
     ]
    }
   ],
   "source": [
    "# df_single_codon_diff, df_single_codon_diff_error = get_df_for_run_configuration_debug(configuration, \"single_codon_ratio\", False)\n",
    "# merged_df, error = get_scores_df_by_configuration_df(configuration, False)\n",
    "df_single_codon_ratio, df_single_codon_ratio_error = get_df_for_run_configuration_debug(configuration, \"zscore_bulk_aa_diff\", False)"
   ]
  },
  {
   "cell_type": "code",
   "execution_count": 31,
   "id": "310a7bd2-73af-4834-ac6d-78e422746342",
   "metadata": {},
   "outputs": [
    {
     "data": {
      "text/plain": [
       "[{'error_message': 'Traceback (most recent call last):\\n  File \"/tamir2/moranb/microbiome/Igem_TAU_2021/modules/main.py\", line 55, in run_modules\\n    clustered_orf_results.append(run_orf_optimization(\\n  File \"/tamir2/moranb/microbiome/Igem_TAU_2021/modules/main.py\", line 175, in run_orf_optimization\\n    cds_nt_final_cai = ORF.ORFModule.run_module(\\n  File \"/tamir2/moranb/microbiome/Igem_TAU_2021/modules/ORF/orf_main.py\", line 47, in run_module\\n    return ORFModule.optimize_sequence_by_zscore(\\n  File \"/tamir2/moranb/microbiome/Igem_TAU_2021/modules/ORF/orf_main.py\", line 83, in optimize_sequence_by_zscore\\n    result = partial_zscore_optimization_method(sequence=target_gene)\\n  File \"/tamir2/moranb/microbiome/Igem_TAU_2021/modules/ORF/zscore_optimization_method.py\", line 211, in optimize_sequence_by_zscore_bulk_aa\\n    aa_to_selected_codon = _get_optimal_codon_per_aa(\\n  File \"/tamir2/moranb/microbiome/Igem_TAU_2021/modules/ORF/zscore_optimization_method.py\", line 298, in _get_optimal_codon_per_aa\\n    codons_list.remove(selected_codon)\\nValueError: list.remove(x): x not in list\\n'},\n",
       " {'error_message': 'Traceback (most recent call last):\\n  File \"/tamir2/moranb/microbiome/Igem_TAU_2021/modules/main.py\", line 55, in run_modules\\n    clustered_orf_results.append(run_orf_optimization(\\n  File \"/tamir2/moranb/microbiome/Igem_TAU_2021/modules/main.py\", line 175, in run_orf_optimization\\n    cds_nt_final_cai = ORF.ORFModule.run_module(\\n  File \"/tamir2/moranb/microbiome/Igem_TAU_2021/modules/ORF/orf_main.py\", line 47, in run_module\\n    return ORFModule.optimize_sequence_by_zscore(\\n  File \"/tamir2/moranb/microbiome/Igem_TAU_2021/modules/ORF/orf_main.py\", line 83, in optimize_sequence_by_zscore\\n    result = partial_zscore_optimization_method(sequence=target_gene)\\n  File \"/tamir2/moranb/microbiome/Igem_TAU_2021/modules/ORF/zscore_optimization_method.py\", line 211, in optimize_sequence_by_zscore_bulk_aa\\n    aa_to_selected_codon = _get_optimal_codon_per_aa(\\n  File \"/tamir2/moranb/microbiome/Igem_TAU_2021/modules/ORF/zscore_optimization_method.py\", line 298, in _get_optimal_codon_per_aa\\n    codons_list.remove(selected_codon)\\nValueError: list.remove(x): x not in list\\n'},\n",
       " {'error_message': 'Traceback (most recent call last):\\n  File \"/tamir2/moranb/microbiome/Igem_TAU_2021/modules/main.py\", line 55, in run_modules\\n    clustered_orf_results.append(run_orf_optimization(\\n  File \"/tamir2/moranb/microbiome/Igem_TAU_2021/modules/main.py\", line 175, in run_orf_optimization\\n    cds_nt_final_cai = ORF.ORFModule.run_module(\\n  File \"/tamir2/moranb/microbiome/Igem_TAU_2021/modules/ORF/orf_main.py\", line 47, in run_module\\n    return ORFModule.optimize_sequence_by_zscore(\\n  File \"/tamir2/moranb/microbiome/Igem_TAU_2021/modules/ORF/orf_main.py\", line 83, in optimize_sequence_by_zscore\\n    result = partial_zscore_optimization_method(sequence=target_gene)\\n  File \"/tamir2/moranb/microbiome/Igem_TAU_2021/modules/ORF/zscore_optimization_method.py\", line 211, in optimize_sequence_by_zscore_bulk_aa\\n    aa_to_selected_codon = _get_optimal_codon_per_aa(\\n  File \"/tamir2/moranb/microbiome/Igem_TAU_2021/modules/ORF/zscore_optimization_method.py\", line 298, in _get_optimal_codon_per_aa\\n    codons_list.remove(selected_codon)\\nValueError: list.remove(x): x not in list\\n'},\n",
       " {'error_message': 'Traceback (most recent call last):\\n  File \"/tamir2/moranb/microbiome/Igem_TAU_2021/modules/main.py\", line 55, in run_modules\\n    clustered_orf_results.append(run_orf_optimization(\\n  File \"/tamir2/moranb/microbiome/Igem_TAU_2021/modules/main.py\", line 175, in run_orf_optimization\\n    cds_nt_final_cai = ORF.ORFModule.run_module(\\n  File \"/tamir2/moranb/microbiome/Igem_TAU_2021/modules/ORF/orf_main.py\", line 47, in run_module\\n    return ORFModule.optimize_sequence_by_zscore(\\n  File \"/tamir2/moranb/microbiome/Igem_TAU_2021/modules/ORF/orf_main.py\", line 83, in optimize_sequence_by_zscore\\n    result = partial_zscore_optimization_method(sequence=target_gene)\\n  File \"/tamir2/moranb/microbiome/Igem_TAU_2021/modules/ORF/zscore_optimization_method.py\", line 211, in optimize_sequence_by_zscore_bulk_aa\\n    aa_to_selected_codon = _get_optimal_codon_per_aa(\\n  File \"/tamir2/moranb/microbiome/Igem_TAU_2021/modules/ORF/zscore_optimization_method.py\", line 298, in _get_optimal_codon_per_aa\\n    codons_list.remove(selected_codon)\\nValueError: list.remove(x): x not in list\\n'}]"
      ]
     },
     "execution_count": 31,
     "metadata": {},
     "output_type": "execute_result"
    },
    {
     "name": "stderr",
     "output_type": "stream",
     "text": [
      "Resource specification for PBS not set, initializing it to select=1:ncpus=4:mem=7630MB\n",
      "Resource specification for PBS not set, initializing it to select=1:ncpus=4:mem=7630MB\n",
      "Resource specification for PBS not set, initializing it to select=1:ncpus=4:mem=7630MB\n",
      "Resource specification for PBS not set, initializing it to select=1:ncpus=4:mem=7630MB\n",
      "Resource specification for PBS not set, initializing it to select=1:ncpus=4:mem=7630MB\n",
      "Resource specification for PBS not set, initializing it to select=1:ncpus=4:mem=7630MB\n",
      "Resource specification for PBS not set, initializing it to select=1:ncpus=4:mem=7630MB\n",
      "Resource specification for PBS not set, initializing it to select=1:ncpus=4:mem=7630MB\n",
      "Resource specification for PBS not set, initializing it to select=1:ncpus=4:mem=7630MB\n",
      "Resource specification for PBS not set, initializing it to select=1:ncpus=4:mem=7630MB\n",
      "Resource specification for PBS not set, initializing it to select=1:ncpus=4:mem=7630MB\n",
      "Resource specification for PBS not set, initializing it to select=1:ncpus=4:mem=7630MB\n",
      "Resource specification for PBS not set, initializing it to select=1:ncpus=4:mem=7630MB\n",
      "Resource specification for PBS not set, initializing it to select=1:ncpus=4:mem=7630MB\n",
      "Resource specification for PBS not set, initializing it to select=1:ncpus=4:mem=7630MB\n",
      "Resource specification for PBS not set, initializing it to select=1:ncpus=4:mem=7630MB\n",
      "Resource specification for PBS not set, initializing it to select=1:ncpus=4:mem=7630MB\n",
      "Resource specification for PBS not set, initializing it to select=1:ncpus=4:mem=7630MB\n",
      "Resource specification for PBS not set, initializing it to select=1:ncpus=4:mem=7630MB\n",
      "Resource specification for PBS not set, initializing it to select=1:ncpus=4:mem=7630MB\n",
      "Resource specification for PBS not set, initializing it to select=1:ncpus=4:mem=7630MB\n",
      "Resource specification for PBS not set, initializing it to select=1:ncpus=4:mem=7630MB\n",
      "Resource specification for PBS not set, initializing it to select=1:ncpus=4:mem=7630MB\n",
      "Resource specification for PBS not set, initializing it to select=1:ncpus=4:mem=7630MB\n",
      "Resource specification for PBS not set, initializing it to select=1:ncpus=4:mem=7630MB\n",
      "Resource specification for PBS not set, initializing it to select=1:ncpus=4:mem=7630MB\n"
     ]
    }
   ],
   "source": [
    "df_single_codon_ratio_error"
   ]
  },
  {
   "cell_type": "code",
   "execution_count": null,
   "id": "e5ccaf62-e706-4ed2-b954-67801d7fcf77",
   "metadata": {},
   "outputs": [],
   "source": [
    "index = 0\n",
    "for i in range(index, index+10):\n",
    "    try:\n",
    "        df_single_codon_diff, df_single_codon_diff_error = get_df_for_run_configuration_debug(configuration, \"zscore_single_aa_ratio\", False, i)\n",
    "    except:\n",
    "        print(\"error ^\")"
   ]
  },
  {
   "cell_type": "code",
   "execution_count": null,
   "id": "8e1c2bd7-f5dd-439c-906b-70ac8411ffbd",
   "metadata": {},
   "outputs": [],
   "source": [
    "histogram = result[[\"average_distance_score_zscore_bulk_diff\", \"average_distance_score_zscore_single_diff\", \"average_distance_score_single_diff\", \"average_distance_score_zscore_bulk_ratio\", \"average_distance_score_zscore_single_ratio\", \"average_distance_score_single_ratio\"]].hist(sharex=True, sharey=True,figsize=(15, 10), layout=(2,3))\n",
    "\n",
    "median_height = 120\n",
    "add_median_to_histogram(result[\"average_distance_score_zscore_bulk_diff\"], histogram, 0, 0, median_height)\n",
    "add_median_to_histogram(result[\"average_distance_score_zscore_single_diff\"], histogram, 0, 1, median_height)\n",
    "add_median_to_histogram(result[\"average_distance_score_single_diff\"], histogram, 0, 2, median_height)\n",
    "\n",
    "add_median_to_histogram(result[\"average_distance_score_zscore_bulk_ratio\"], histogram, 1, 0, median_height)\n",
    "add_median_to_histogram(result[\"average_distance_score_zscore_single_ratio\"], histogram, 1, 1, median_height)\n",
    "add_median_to_histogram(result[\"average_distance_score_single_ratio\"], histogram, 1,2, median_height)"
   ]
  },
  {
   "cell_type": "code",
   "execution_count": null,
   "id": "b19ed914-677b-4795-8292-f0844873656c",
   "metadata": {},
   "outputs": [],
   "source": [
    "single_diff_negative = result[result[\"average_distance_score_single_diff\"] < 0] \n",
    "single_ratio_negative = result[result[\"average_distance_score_single_ratio\"] < 0] \n",
    "\n",
    "zscore_bulk_diff_negative = result[result[\"average_distance_score_zscore_bulk_diff\"] < 0] \n",
    "zscore_bulk_ratio_negative = result[result[\"average_distance_score_zscore_bulk_ratio\"] < 0]\n",
    "\n",
    "zscore_single_diff_negative = result[result[\"average_distance_score_zscore_single_diff\"] < 0] \n",
    "zscore_single_ratio_negative = result[result[\"average_distance_score_zscore_single_ratio\"] < 0] \n",
    "\n",
    "print(f\"{len(single_diff_negative)}, percentage:{len(single_diff_negative)/len(result) * 100}\")\n",
    "print(f\"{len(single_ratio_negative)}, percentage:{len(single_ratio_negative)/len(result) * 100}\")\n",
    "print(f\"{len(zscore_bulk_diff_negative)}, percentage:{len(zscore_bulk_diff_negative)/len(result) * 100}\")\n",
    "print(f\"{len(zscore_bulk_ratio_negative)}, percentage:{len(zscore_bulk_ratio_negative)/len(result) * 100}\")\n",
    "print(f\"{len(zscore_single_diff_negative)}, percentage:{len(zscore_single_diff_negative)/len(result) * 100}\")\n",
    "print(f\"{len(zscore_single_ratio_negative)}, percentage:{len(zscore_single_ratio_negative)/len(result) * 100}\")"
   ]
  },
  {
   "cell_type": "code",
   "execution_count": null,
   "id": "82aa71a5-6b81-4561-a911-cb01ab6887e5",
   "metadata": {},
   "outputs": [],
   "source": [
    "plot_comparative_graphs(result)"
   ]
  },
  {
   "cell_type": "markdown",
   "id": "3142c9f8-7c13-40d2-ade5-1cab27152a7d",
   "metadata": {},
   "source": [
    "#### Escherichia-coli as unwanted host "
   ]
  },
  {
   "cell_type": "code",
   "execution_count": null,
   "id": "66b71f00-a3fd-4365-b072-ee0e86543bb9",
   "metadata": {},
   "outputs": [],
   "source": [
    "configuration = get_configuration(is_ecoli_optimized=False)\n",
    "result, errors = get_scores_df_by_configuration(configuration)"
   ]
  },
  {
   "cell_type": "code",
   "execution_count": null,
   "id": "3d60eec4-1b15-47fd-b532-fa19a03cbd4f",
   "metadata": {},
   "outputs": [],
   "source": [
    "histogram = result[[\"average_distance_score_zscore_bulk_diff\", \"average_distance_score_zscore_single_diff\", \"average_distance_score_single_diff\", \"average_distance_score_zscore_bulk_ratio\", \"average_distance_score_zscore_single_ratio\", \"average_distance_score_single_ratio\"]].hist(sharex=True, sharey=True,figsize=(15, 10), layout=(2,3))\n",
    "\n",
    "median_height = 120\n",
    "add_median_to_histogram(result[\"average_distance_score_zscore_bulk_diff\"], histogram, 0, 0, median_height)\n",
    "add_median_to_histogram(result[\"average_distance_score_zscore_single_diff\"], histogram, 0, 1, median_height)\n",
    "add_median_to_histogram(result[\"average_distance_score_single_diff\"], histogram, 0, 2, median_height)\n",
    "\n",
    "add_median_to_histogram(result[\"average_distance_score_zscore_bulk_ratio\"], histogram, 1, 0, median_height)\n",
    "add_median_to_histogram(result[\"average_distance_score_zscore_single_ratio\"], histogram, 1, 1, median_height)\n",
    "add_median_to_histogram(result[\"average_distance_score_single_ratio\"], histogram, 1,2, median_height)"
   ]
  },
  {
   "cell_type": "code",
   "execution_count": null,
   "id": "17462cf2-6da2-412d-838f-392f4ec73908",
   "metadata": {},
   "outputs": [],
   "source": [
    "single_diff_negative = result[result[\"average_distance_score_single_diff\"] < 0] \n",
    "single_ratio_negative = result[result[\"average_distance_score_single_ratio\"] < 0] \n",
    "\n",
    "zscore_bulk_diff_negative = result[result[\"average_distance_score_zscore_bulk_diff\"] < 0] \n",
    "zscore_bulk_ratio_negative = result[result[\"average_distance_score_zscore_bulk_ratio\"] < 0]\n",
    "\n",
    "zscore_single_diff_negative = result[result[\"average_distance_score_zscore_single_diff\"] < 0] \n",
    "zscore_single_ratio_negative = result[result[\"average_distance_score_zscore_single_ratio\"] < 0] \n",
    "\n",
    "print(f\"{len(single_diff_negative)}, percentage:{len(single_diff_negative)/len(result) * 100}\")\n",
    "print(f\"{len(single_ratio_negative)}, percentage:{len(single_ratio_negative)/len(result) * 100}\")\n",
    "print(f\"{len(zscore_bulk_diff_negative)}, percentage:{len(zscore_bulk_diff_negative)/len(result) * 100}\")\n",
    "print(f\"{len(zscore_bulk_ratio_negative)}, percentage:{len(zscore_bulk_ratio_negative)/len(result) * 100}\")\n",
    "print(f\"{len(zscore_single_diff_negative)}, percentage:{len(zscore_single_diff_negative)/len(result) * 100}\")\n",
    "print(f\"{len(zscore_single_ratio_negative)}, percentage:{len(zscore_single_ratio_negative)/len(result) * 100}\")"
   ]
  },
  {
   "cell_type": "code",
   "execution_count": null,
   "id": "ca126ec9-82e4-4e9c-b446-e4f047f850ca",
   "metadata": {},
   "outputs": [],
   "source": [
    "plot_comparative_graphs(result)"
   ]
  }
 ],
 "metadata": {
  "kernelspec": {
   "display_name": "Python 3 (ipykernel)",
   "language": "python",
   "name": "python3"
  },
  "language_info": {
   "codemirror_mode": {
    "name": "ipython",
    "version": 3
   },
   "file_extension": ".py",
   "mimetype": "text/x-python",
   "name": "python",
   "nbconvert_exporter": "python",
   "pygments_lexer": "ipython3",
   "version": "3.9.12"
  }
 },
 "nbformat": 4,
 "nbformat_minor": 5
}
