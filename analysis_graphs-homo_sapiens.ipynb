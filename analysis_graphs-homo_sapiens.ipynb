{
 "cells": [
  {
   "cell_type": "code",
   "execution_count": 2,
   "id": "8a960741-324b-43d8-a5f9-0cdbb7d8cd50",
   "metadata": {},
   "outputs": [],
   "source": [
    "import os"
   ]
  },
  {
   "cell_type": "markdown",
   "id": "bd4772f8-f0d7-43e0-84e7-09ec9d64c359",
   "metadata": {},
   "source": [
    "# Dask Configuration"
   ]
  },
  {
   "cell_type": "code",
   "execution_count": 3,
   "id": "a7b14736-19b8-4d0a-8013-ce2d1ec8ca75",
   "metadata": {},
   "outputs": [],
   "source": [
    "from dask_jobqueue import PBSCluster\n",
    "from pathlib import Path\n",
    "\n",
    "# Define the working directory path\n",
    "working_directory = str(Path.cwd())\n",
    "\n",
    "# Launch a scheduler and workers on HPC via PBS\n",
    "cluster = PBSCluster(\n",
    "     cores=4,\n",
    "     memory=\"8GB\",\n",
    "     processes=1,\n",
    "     queue=\"tamirQ\",\n",
    "     walltime=\"02:30:00\",\n",
    "     scheduler_options={\"dashboard_address\": \":12435\"},  # FIXME - this is the port we need to define...\n",
    "     # Additional custom options\n",
    "     log_directory=\"dask-logs\",\n",
    "     #worker_extra_args=[\"--lifetime\", \"25m\", \"--lifetime-stagger\", \"4m\"],  # for walltime=\"00:30:00\"\n",
    "     job_script_prologue=[f\"cd {working_directory}\"]\n",
    ")"
   ]
  },
  {
   "cell_type": "code",
   "execution_count": 4,
   "id": "29aa0486-2fe4-4cd9-b8cc-b7ef00b8f0a6",
   "metadata": {},
   "outputs": [
    {
     "data": {
      "application/vnd.jupyter.widget-view+json": {
       "model_id": "43749a6c6aee493d812b812e9fb092fc",
       "version_major": 2,
       "version_minor": 0
      },
      "text/html": [
       "<div class=\"jp-RenderedHTMLCommon jp-RenderedHTML jp-mod-trusted jp-OutputArea-output\">\n",
       "    <div style=\"width: 24px; height: 24px; background-color: #e1e1e1; border: 3px solid #9D9D9D; border-radius: 5px; position: absolute;\">\n",
       "    </div>\n",
       "    <div style=\"margin-left: 48px;\">\n",
       "        <h3 style=\"margin-bottom: 0px; margin-top: 0px;\">PBSCluster</h3>\n",
       "        <p style=\"color: #9D9D9D; margin-bottom: 0px;\">e201f2d6</p>\n",
       "        <table style=\"width: 100%; text-align: left;\">\n",
       "            <tr>\n",
       "                <td style=\"text-align: left;\">\n",
       "                    <strong>Dashboard:</strong> <a href=\"http://132.66.112.146:12435/status\" target=\"_blank\">http://132.66.112.146:12435/status</a>\n",
       "                </td>\n",
       "                <td style=\"text-align: left;\">\n",
       "                    <strong>Workers:</strong> 0\n",
       "                </td>\n",
       "            </tr>\n",
       "            <tr>\n",
       "                <td style=\"text-align: left;\">\n",
       "                    <strong>Total threads:</strong> 0\n",
       "                </td>\n",
       "                <td style=\"text-align: left;\">\n",
       "                    <strong>Total memory:</strong> 0 B\n",
       "                </td>\n",
       "            </tr>\n",
       "            \n",
       "        </table>\n",
       "\n",
       "        <details>\n",
       "            <summary style=\"margin-bottom: 20px;\">\n",
       "                <h3 style=\"display: inline;\">Scheduler Info</h3>\n",
       "            </summary>\n",
       "\n",
       "            <div style=\"\">\n",
       "    <div>\n",
       "        <div style=\"width: 24px; height: 24px; background-color: #FFF7E5; border: 3px solid #FF6132; border-radius: 5px; position: absolute;\"> </div>\n",
       "        <div style=\"margin-left: 48px;\">\n",
       "            <h3 style=\"margin-bottom: 0px;\">Scheduler</h3>\n",
       "            <p style=\"color: #9D9D9D; margin-bottom: 0px;\">Scheduler-f8184b91-c236-4293-af4f-20cf81d808f0</p>\n",
       "            <table style=\"width: 100%; text-align: left;\">\n",
       "                <tr>\n",
       "                    <td style=\"text-align: left;\">\n",
       "                        <strong>Comm:</strong> tcp://132.66.112.146:42788\n",
       "                    </td>\n",
       "                    <td style=\"text-align: left;\">\n",
       "                        <strong>Workers:</strong> 0\n",
       "                    </td>\n",
       "                </tr>\n",
       "                <tr>\n",
       "                    <td style=\"text-align: left;\">\n",
       "                        <strong>Dashboard:</strong> <a href=\"http://132.66.112.146:12435/status\" target=\"_blank\">http://132.66.112.146:12435/status</a>\n",
       "                    </td>\n",
       "                    <td style=\"text-align: left;\">\n",
       "                        <strong>Total threads:</strong> 0\n",
       "                    </td>\n",
       "                </tr>\n",
       "                <tr>\n",
       "                    <td style=\"text-align: left;\">\n",
       "                        <strong>Started:</strong> Just now\n",
       "                    </td>\n",
       "                    <td style=\"text-align: left;\">\n",
       "                        <strong>Total memory:</strong> 0 B\n",
       "                    </td>\n",
       "                </tr>\n",
       "            </table>\n",
       "        </div>\n",
       "    </div>\n",
       "\n",
       "    <details style=\"margin-left: 48px;\">\n",
       "        <summary style=\"margin-bottom: 20px;\">\n",
       "            <h3 style=\"display: inline;\">Workers</h3>\n",
       "        </summary>\n",
       "\n",
       "        \n",
       "\n",
       "    </details>\n",
       "</div>\n",
       "\n",
       "        </details>\n",
       "    </div>\n",
       "</div>"
      ],
      "text/plain": [
       "PBSCluster(e201f2d6, 'tcp://132.66.112.146:42788', workers=0, threads=0, memory=0 B)"
      ]
     },
     "metadata": {},
     "output_type": "display_data"
    }
   ],
   "source": [
    "cluster"
   ]
  },
  {
   "cell_type": "code",
   "execution_count": 5,
   "id": "fccffd2e-c459-4c2d-86bf-310ce9785428",
   "metadata": {},
   "outputs": [
    {
     "name": "stdout",
     "output_type": "stream",
     "text": [
      "#!/usr/bin/env bash\n",
      "\n",
      "#PBS -N dask-worker\n",
      "#PBS -q tamirQ\n",
      "#PBS -l select=1:ncpus=4:mem=7630MB\n",
      "#PBS -l walltime=02:30:00\n",
      "#PBS -e dask-logs/\n",
      "#PBS -o dask-logs/\n",
      "cd /tamir2/moranb/microbiome/Igem_TAU_2021\n",
      "/tamir2/moranb/microbiome/Igem_TAU_2021/venv/bin/python -m distributed.cli.dask_worker tcp://132.66.112.146:42788 --nthreads 4 --memory-limit 7.45GiB --name dummy-name --nanny --death-timeout 60\n",
      "\n"
     ]
    }
   ],
   "source": [
    "cluster.adapt(minimum=30, maximum=60)\n",
    "print(cluster.job_script())"
   ]
  },
  {
   "cell_type": "code",
   "execution_count": 6,
   "id": "c98d4ca8-a2e6-47e2-8d2a-2130e31cce08",
   "metadata": {},
   "outputs": [],
   "source": [
    "from dask.distributed import Client, progress, wait, get_client, get_worker\n",
    "client = Client(cluster)"
   ]
  },
  {
   "cell_type": "code",
   "execution_count": 7,
   "id": "aae6f110-24fb-4f40-8a72-5623a081cc73",
   "metadata": {},
   "outputs": [
    {
     "data": {
      "text/html": [
       "<div>\n",
       "    <div style=\"width: 24px; height: 24px; background-color: #e1e1e1; border: 3px solid #9D9D9D; border-radius: 5px; position: absolute;\"> </div>\n",
       "    <div style=\"margin-left: 48px;\">\n",
       "        <h3 style=\"margin-bottom: 0px;\">Client</h3>\n",
       "        <p style=\"color: #9D9D9D; margin-bottom: 0px;\">Client-7376f98c-b769-11ee-a905-b4969140d316</p>\n",
       "        <table style=\"width: 100%; text-align: left;\">\n",
       "\n",
       "        <tr>\n",
       "        \n",
       "            <td style=\"text-align: left;\"><strong>Connection method:</strong> Cluster object</td>\n",
       "            <td style=\"text-align: left;\"><strong>Cluster type:</strong> dask_jobqueue.PBSCluster</td>\n",
       "        \n",
       "        </tr>\n",
       "\n",
       "        \n",
       "            <tr>\n",
       "                <td style=\"text-align: left;\">\n",
       "                    <strong>Dashboard: </strong> <a href=\"http://132.66.112.146:12435/status\" target=\"_blank\">http://132.66.112.146:12435/status</a>\n",
       "                </td>\n",
       "                <td style=\"text-align: left;\"></td>\n",
       "            </tr>\n",
       "        \n",
       "\n",
       "        </table>\n",
       "\n",
       "        \n",
       "            <button style=\"margin-bottom: 12px;\" data-commandlinker-command=\"dask:populate-and-launch-layout\" data-commandlinker-args='{\"url\": \"http://132.66.112.146:12435/status\" }'>\n",
       "                Launch dashboard in JupyterLab\n",
       "            </button>\n",
       "        \n",
       "\n",
       "        \n",
       "            <details>\n",
       "            <summary style=\"margin-bottom: 20px;\"><h3 style=\"display: inline;\">Cluster Info</h3></summary>\n",
       "            <div class=\"jp-RenderedHTMLCommon jp-RenderedHTML jp-mod-trusted jp-OutputArea-output\">\n",
       "    <div style=\"width: 24px; height: 24px; background-color: #e1e1e1; border: 3px solid #9D9D9D; border-radius: 5px; position: absolute;\">\n",
       "    </div>\n",
       "    <div style=\"margin-left: 48px;\">\n",
       "        <h3 style=\"margin-bottom: 0px; margin-top: 0px;\">PBSCluster</h3>\n",
       "        <p style=\"color: #9D9D9D; margin-bottom: 0px;\">e201f2d6</p>\n",
       "        <table style=\"width: 100%; text-align: left;\">\n",
       "            <tr>\n",
       "                <td style=\"text-align: left;\">\n",
       "                    <strong>Dashboard:</strong> <a href=\"http://132.66.112.146:12435/status\" target=\"_blank\">http://132.66.112.146:12435/status</a>\n",
       "                </td>\n",
       "                <td style=\"text-align: left;\">\n",
       "                    <strong>Workers:</strong> 0\n",
       "                </td>\n",
       "            </tr>\n",
       "            <tr>\n",
       "                <td style=\"text-align: left;\">\n",
       "                    <strong>Total threads:</strong> 0\n",
       "                </td>\n",
       "                <td style=\"text-align: left;\">\n",
       "                    <strong>Total memory:</strong> 0 B\n",
       "                </td>\n",
       "            </tr>\n",
       "            \n",
       "        </table>\n",
       "\n",
       "        <details>\n",
       "            <summary style=\"margin-bottom: 20px;\">\n",
       "                <h3 style=\"display: inline;\">Scheduler Info</h3>\n",
       "            </summary>\n",
       "\n",
       "            <div style=\"\">\n",
       "    <div>\n",
       "        <div style=\"width: 24px; height: 24px; background-color: #FFF7E5; border: 3px solid #FF6132; border-radius: 5px; position: absolute;\"> </div>\n",
       "        <div style=\"margin-left: 48px;\">\n",
       "            <h3 style=\"margin-bottom: 0px;\">Scheduler</h3>\n",
       "            <p style=\"color: #9D9D9D; margin-bottom: 0px;\">Scheduler-f8184b91-c236-4293-af4f-20cf81d808f0</p>\n",
       "            <table style=\"width: 100%; text-align: left;\">\n",
       "                <tr>\n",
       "                    <td style=\"text-align: left;\">\n",
       "                        <strong>Comm:</strong> tcp://132.66.112.146:42788\n",
       "                    </td>\n",
       "                    <td style=\"text-align: left;\">\n",
       "                        <strong>Workers:</strong> 0\n",
       "                    </td>\n",
       "                </tr>\n",
       "                <tr>\n",
       "                    <td style=\"text-align: left;\">\n",
       "                        <strong>Dashboard:</strong> <a href=\"http://132.66.112.146:12435/status\" target=\"_blank\">http://132.66.112.146:12435/status</a>\n",
       "                    </td>\n",
       "                    <td style=\"text-align: left;\">\n",
       "                        <strong>Total threads:</strong> 0\n",
       "                    </td>\n",
       "                </tr>\n",
       "                <tr>\n",
       "                    <td style=\"text-align: left;\">\n",
       "                        <strong>Started:</strong> Just now\n",
       "                    </td>\n",
       "                    <td style=\"text-align: left;\">\n",
       "                        <strong>Total memory:</strong> 0 B\n",
       "                    </td>\n",
       "                </tr>\n",
       "            </table>\n",
       "        </div>\n",
       "    </div>\n",
       "\n",
       "    <details style=\"margin-left: 48px;\">\n",
       "        <summary style=\"margin-bottom: 20px;\">\n",
       "            <h3 style=\"display: inline;\">Workers</h3>\n",
       "        </summary>\n",
       "\n",
       "        \n",
       "\n",
       "    </details>\n",
       "</div>\n",
       "\n",
       "        </details>\n",
       "    </div>\n",
       "</div>\n",
       "            </details>\n",
       "        \n",
       "\n",
       "    </div>\n",
       "</div>"
      ],
      "text/plain": [
       "<Client: 'tcp://132.66.112.146:42788' processes=0 threads=0, memory=0 B>"
      ]
     },
     "execution_count": 7,
     "metadata": {},
     "output_type": "execute_result"
    }
   ],
   "source": [
    "client"
   ]
  },
  {
   "cell_type": "code",
   "execution_count": 8,
   "id": "7d5c3d2c-6e52-418a-a2d4-16a23b5f3548",
   "metadata": {},
   "outputs": [
    {
     "name": "stderr",
     "output_type": "stream",
     "text": [
      "/tamir2/moranb/microbiome/Igem_TAU_2021/venv/lib/python3.9/site-packages/scipy/__init__.py:146: UserWarning: A NumPy version >=1.16.5 and <1.23.0 is required for this version of SciPy (detected version 1.26.3\n",
      "  warnings.warn(f\"A NumPy version >={np_minversion} and <{np_maxversion}\"\n"
     ]
    }
   ],
   "source": [
    "import dask.bag as db\n",
    "import dask.dataframe as dd\n",
    "from dask import delayed, compute, persist\n",
    "from pandas.core.dtypes.common import pandas_dtype as dtype\n",
    "import json\n",
    "import matplotlib\n",
    "import matplotlib.pyplot as plt\n",
    "import numpy as np\n",
    "import pandas as pd\n",
    "import scipy.stats as stats\n",
    "from pathlib import Path"
   ]
  },
  {
   "cell_type": "markdown",
   "id": "d746f6c8-06fd-4a18-be7f-483410889006",
   "metadata": {},
   "source": [
    "# Analysis for homo sapiens genes"
   ]
  },
  {
   "cell_type": "code",
   "execution_count": 9,
   "id": "41e6b579-562a-47ae-bd4f-a0f71c08c262",
   "metadata": {},
   "outputs": [],
   "source": [
    "import operator\n",
    "from Bio import SeqIO\n",
    "from analysis.orf_model_analysis.input_testing_data.generate_input_testing_data_for_modules import generate_testing_data\n",
    "from analysis.orf_model_analysis.input_testing_data.generate_input_testing_data_for_modules import generate_testing_data_for_ecoli_and_bacillus\n",
    "\n",
    "from modules.main import run_modules\n",
    "from modules.user_IO.input_functions import extract_gene_data"
   ]
  },
  {
   "cell_type": "code",
   "execution_count": 10,
   "id": "01b8186c-16b0-4098-bdd7-d1c5d39f72b1",
   "metadata": {},
   "outputs": [],
   "source": [
    "output_path = \"/tamir2/moranb/microbiome/Igem_TAU_2021/analysis/results/homo_sapiens\"\n",
    "optimization_cub_index = \"CAI\""
   ]
  },
  {
   "cell_type": "code",
   "execution_count": 11,
   "id": "048b3005-96dc-442f-9994-825714e6396a",
   "metadata": {},
   "outputs": [],
   "source": [
    "def get_configuration(is_ecoli_optimized):\n",
    "    return f\"e_coli_optimized_{is_ecoli_optimized}_bacillus_optimized_{not is_ecoli_optimized}\""
   ]
  },
  {
   "cell_type": "code",
   "execution_count": 152,
   "id": "adc53161-345b-4749-aa4e-6498d48b4f8c",
   "metadata": {},
   "outputs": [],
   "source": [
    "def get_df_for_run_configuration(configuration, optimization_method, is_debug=False):\n",
    "    configuration_output_path = os.path.join(output_path, configuration)\n",
    "    debug_suffix = '-debug' if is_debug else ''\n",
    "    results_dir = F\"{os.path.join(configuration_output_path, optimization_method + debug_suffix)}\"\n",
    "    bag = db.read_text([str(file) for file in list(Path(results_dir).rglob(\"*.json\"))]).map(json.loads)\n",
    "    \n",
    "    error_records = bag.filter(lambda x: \"error_message\" in x.keys())\n",
    "    valid_records = bag.filter(lambda x: \"error_message\" not in x.keys())\n",
    "    \n",
    "    return valid_records.to_dataframe().compute(), error_records.compute()\n",
    "    \n",
    "    # return dd.read_json([str(file) for file in list(Path(results_dir).rglob(\"*.json\"))], orient='records', lines=True)"
   ]
  },
  {
   "cell_type": "code",
   "execution_count": 22,
   "id": "a7176dad-b394-4967-8e52-993239d6c56f",
   "metadata": {},
   "outputs": [],
   "source": [
    "def get_scores_df_by_configuration(configuration, is_debug=False):\n",
    "    df_bulk_zscore_ratio, df_bulk_zscore_ratio_errors = get_df_for_run_configuration(configuration, \"zscore_bulk_aa_ratio\", is_debug)\n",
    "    df_bulk_zscore_diff, df_bulk_zscore_diff_errors = get_df_for_run_configuration(configuration, \"zscore_bulk_aa_diff\", is_debug)\n",
    "    merged_bulk_zscore_df = dd.merge(df_bulk_zscore_ratio, df_bulk_zscore_diff, on='gene_name', how='inner', suffixes=('_zscore_bulk_ratio', '_zscore_bulk_diff'))\n",
    "\n",
    "    df_single_zscore_ratio, df_single_zscore_ratio_errors = get_df_for_run_configuration(configuration, \"zscore_single_aa_ratio\", is_debug)\n",
    "    df_single_zscore_diff, df_single_zscore_diff_errors = get_df_for_run_configuration(configuration, \"zscore_single_aa_diff\", is_debug)\n",
    "    merged_single_zscore_df = dd.merge(df_single_zscore_ratio, df_single_zscore_diff, on='gene_name', how='inner', suffixes=('_zscore_single_ratio', '_zscore_single_diff'))\n",
    "\n",
    "    df_single_codon_ratio, df_single_codon_ratio_error = get_df_for_run_configuration(configuration, \"single_codon_ratio\", is_debug)\n",
    "    df_single_codon_diff, df_single_codon_diff_error = get_df_for_run_configuration(configuration, \"single_codon_diff\", is_debug)\n",
    "    merged_single_df = dd.merge(df_single_codon_ratio, df_single_codon_diff, on='gene_name', how='inner', suffixes=('_single_ratio', '_single_diff'))\n",
    "\n",
    "    merged_df = dd.merge(merged_bulk_zscore_df, merged_single_zscore_df, on='gene_name', how='inner')\n",
    "    merged_df = dd.merge(merged_df, merged_single_df, on='gene_name', how='inner')\n",
    "    return merged_df, [df_bulk_zscore_ratio_errors, df_bulk_zscore_diff_errors, df_single_zscore_ratio_errors, df_single_zscore_diff_errors, df_single_codon_ratio_error, df_single_codon_diff_error]"
   ]
  },
  {
   "cell_type": "code",
   "execution_count": 165,
   "id": "27e7dc4a-4047-4c75-a645-d7d89330d73a",
   "metadata": {},
   "outputs": [],
   "source": [
    "def add_median_to_histogram(value, histogram, row, col, upper_limit):\n",
    "    median_value = value.median()\n",
    "    histogram[row][col].axvline(median_value, color=\"green\", linestyle=\"dashed\", label=\"median\")\n",
    "    histogram[row][col].text(median_value-1, upper_limit, f\"median={median_value}\")"
   ]
  },
  {
   "cell_type": "code",
   "execution_count": 166,
   "id": "d91a2f52-4bae-443e-a24d-2f08ab71565b",
   "metadata": {},
   "outputs": [],
   "source": [
    "def add_median_to_histogram_non_normalized(value, histogram, row, col, upper_limit):\n",
    "    median_value = value.median()\n",
    "    histogram[row][col].axvline(median_value, color=\"green\", linestyle=\"dashed\", label=\"median\")\n",
    "    histogram[row][col].text(median_value-0.1, upper_limit, f\"median={median_value}\")"
   ]
  },
  {
   "cell_type": "code",
   "execution_count": 189,
   "id": "c98236c8-1fdb-4439-b9fe-2425fc1d2dc1",
   "metadata": {},
   "outputs": [],
   "source": [
    "def plot_comparative_graphs(result):\n",
    "    # difference = result[first_score]-result[second_score]\n",
    "    # histogram = difference.hist()\n",
    "    # histogram.set_xlabel(f\"{first_label} - {second_label}\")\n",
    "    # median_value = difference.median()\n",
    "    # histogram.axvline(median_value, color=\"green\", linestyle=\"dashed\", label=\"median\")\n",
    "    # histogram.text(median_value-0.5, upper_bound, f\"median={median_value}\")\n",
    "    \n",
    "    figure, axis = plt.subplots(3, 2, figsize=(20,15))\n",
    "    scatter = result.plot.scatter(x=\"average_distance_score_single_ratio\", y=\"average_distance_score_single_diff\", ax=axis[0, 0])\n",
    "    r, p = stats.pearsonr(result[\"average_distance_score_single_ratio\"], result[\"average_distance_score_single_diff\"])\n",
    "    scatter.annotate('r = {:.3f}'.format(r), xy=(0.7, 0.9), xycoords='axes fraction')\n",
    "    \n",
    "    scatter = result.plot.scatter(x=\"average_distance_score_single_diff\", y=\"average_distance_score_zscore_diff\", ax=axis[0, 1])\n",
    "    r, p = stats.pearsonr(result[\"average_distance_score_single_diff\"],result[\"average_distance_score_zscore_diff\"])\n",
    "    scatter.annotate('r = {:.3f}'.format(r), xy=(0.7, 0.9), xycoords='axes fraction')\n",
    "    \n",
    "    scatter = result.plot.scatter(x=\"average_distance_score_single_ratio\", y=\"average_distance_score_zscore_ratio\", ax=axis[1, 0])\n",
    "    r, p = stats.pearsonr(result[\"average_distance_score_single_ratio\"],result[\"average_distance_score_zscore_ratio\"])\n",
    "    scatter.annotate('r = {:.3f}'.format(r), xy=(0.7, 0.9), xycoords='axes fraction')\n",
    "    \n",
    "    scatter = result.plot.scatter(x=\"average_distance_score_zscore_diff\", y=\"average_distance_score_zscore_ratio\", ax=axis[1, 1])\n",
    "    r, p = stats.pearsonr(result[\"average_distance_score_zscore_diff\"],result[\"average_distance_score_zscore_ratio\"])\n",
    "    scatter.annotate('r = {:.3f}'.format(r), xy=(0.7, 0.9), xycoords='axes fraction')\n",
    "    \n",
    "    scatter = result.plot.scatter(x=\"average_distance_score_zscore_diff\", y=\"average_distance_score_single_ratio\", ax=axis[2, 0])\n",
    "    r, p = stats.pearsonr(result[\"average_distance_score_zscore_diff\"],result[\"average_distance_score_single_ratio\"])\n",
    "    scatter.annotate('r = {:.3f}'.format(r), xy=(0.7, 0.9), xycoords='axes fraction')\n",
    "    \n",
    "    scatter = result.plot.scatter(x=\"average_distance_score_zscore_ratio\", y=\"average_distance_score_single_diff\", ax=axis[2, 1])\n",
    "    r, p = stats.pearsonr(result[\"average_distance_score_zscore_ratio\"],result[\"average_distance_score_single_diff\"])\n",
    "    scatter.annotate('r = {:.3f}'.format(r), xy=(0.7, 0.9), xycoords='axes fraction')"
   ]
  },
  {
   "cell_type": "markdown",
   "id": "d78daccb-d7d1-4dda-a8d7-d4d15187dba6",
   "metadata": {},
   "source": [
    "#### Escherichia-coli as wanted host "
   ]
  },
  {
   "cell_type": "code",
   "execution_count": 185,
   "id": "4ad8d2d8-02c2-47ad-b259-d5ab5c03a123",
   "metadata": {
    "scrolled": true
   },
   "outputs": [],
   "source": [
    "configuration = get_configuration(is_ecoli_optimized=False)\n",
    "   \n",
    "result, errors = get_scores_df_by_configuration(configuration)"
   ]
  },
  {
   "cell_type": "code",
   "execution_count": 186,
   "id": "8e1c2bd7-f5dd-439c-906b-70ac8411ffbd",
   "metadata": {},
   "outputs": [
    {
     "data": {
      "image/png": "[encoded data removed]",
      "text/plain": [
       "<Figure size 1500x1000 with 6 Axes>"
      ]
     },
     "metadata": {},
     "output_type": "display_data"
    }
   ],
   "source": [
    "histogram = result[[\"average_distance_score_zscore_bulk_diff\", \"average_distance_score_zscore_single_diff\", \"average_distance_score_single_diff\", \"average_distance_score_zscore_bulk_ratio\", \"average_distance_score_zscore_single_ratio\", \"average_distance_score_single_ratio\"]].hist(sharex=True, sharey=True,figsize=(15, 10), layout=(2,3))\n",
    "\n",
    "median_height = 120\n",
    "add_median_to_histogram(result[\"average_distance_score_zscore_bulk_diff\"], histogram, 0, 0, median_height)\n",
    "add_median_to_histogram(result[\"average_distance_score_zscore_single_diff\"], histogram, 0, 1, median_height)\n",
    "add_median_to_histogram(result[\"average_distance_score_single_diff\"], histogram, 0, 2, median_height)\n",
    "\n",
    "add_median_to_histogram(result[\"average_distance_score_zscore_bulk_ratio\"], histogram, 1, 0, median_height)\n",
    "add_median_to_histogram(result[\"average_distance_score_zscore_single_ratio\"], histogram, 1, 1, median_height)\n",
    "add_median_to_histogram(result[\"average_distance_score_single_ratio\"], histogram, 1,2, median_height)"
   ]
  },
  {
   "cell_type": "code",
   "execution_count": 187,
   "id": "b19ed914-677b-4795-8292-f0844873656c",
   "metadata": {},
   "outputs": [
    {
     "name": "stdout",
     "output_type": "stream",
     "text": [
      "0, percentage:0.0\n",
      "0, percentage:0.0\n",
      "0, percentage:0.0\n",
      "0, percentage:0.0\n",
      "0, percentage:0.0\n",
      "0, percentage:0.0\n"
     ]
    }
   ],
   "source": [
    "single_diff_negative = result[result[\"average_distance_score_single_diff\"] < 0] \n",
    "single_ratio_negative = result[result[\"average_distance_score_single_ratio\"] < 0] \n",
    "\n",
    "zscore_bulk_diff_negative = result[result[\"average_distance_score_zscore_bulk_diff\"] < 0] \n",
    "zscore_bulk_ratio_negative = result[result[\"average_distance_score_zscore_bulk_ratio\"] < 0]\n",
    "\n",
    "zscore_single_diff_negative = result[result[\"average_distance_score_zscore_single_diff\"] < 0] \n",
    "zscore_single_ratio_negative = result[result[\"average_distance_score_zscore_single_ratio\"] < 0] \n",
    "\n",
    "print(f\"{len(single_diff_negative)}, percentage:{len(single_diff_negative)/len(result) * 100}\")\n",
    "print(f\"{len(single_ratio_negative)}, percentage:{len(single_ratio_negative)/len(result) * 100}\")\n",
    "print(f\"{len(zscore_bulk_diff_negative)}, percentage:{len(zscore_bulk_diff_negative)/len(result) * 100}\")\n",
    "print(f\"{len(zscore_bulk_ratio_negative)}, percentage:{len(zscore_bulk_ratio_negative)/len(result) * 100}\")\n",
    "print(f\"{len(zscore_single_diff_negative)}, percentage:{len(zscore_single_diff_negative)/len(result) * 100}\")\n",
    "print(f\"{len(zscore_single_ratio_negative)}, percentage:{len(zscore_single_ratio_negative)/len(result) * 100}\")"
   ]
  },
  {
   "cell_type": "code",
   "execution_count": 190,
   "id": "82aa71a5-6b81-4561-a911-cb01ab6887e5",
   "metadata": {},
   "outputs": [
    {
     "ename": "KeyError",
     "evalue": "'average_distance_score_zscore_diff'",
     "output_type": "error",
     "traceback": [
      "\u001b[0;31m---------------------------------------------------------------------------\u001b[0m",
      "\u001b[0;31mKeyError\u001b[0m                                  Traceback (most recent call last)",
      "File \u001b[0;32m/tamir2/moranb/microbiome/Igem_TAU_2021/venv/lib/python3.9/site-packages/pandas/core/indexes/base.py:3791\u001b[0m, in \u001b[0;36mIndex.get_loc\u001b[0;34m(self, key)\u001b[0m\n\u001b[1;32m   3790\u001b[0m \u001b[38;5;28;01mtry\u001b[39;00m:\n\u001b[0;32m-> 3791\u001b[0m     \u001b[38;5;28;01mreturn\u001b[39;00m \u001b[38;5;28;43mself\u001b[39;49m\u001b[38;5;241;43m.\u001b[39;49m\u001b[43m_engine\u001b[49m\u001b[38;5;241;43m.\u001b[39;49m\u001b[43mget_loc\u001b[49m\u001b[43m(\u001b[49m\u001b[43mcasted_key\u001b[49m\u001b[43m)\u001b[49m\n\u001b[1;32m   3792\u001b[0m \u001b[38;5;28;01mexcept\u001b[39;00m \u001b[38;5;167;01mKeyError\u001b[39;00m \u001b[38;5;28;01mas\u001b[39;00m err:\n",
      "File \u001b[0;32mindex.pyx:152\u001b[0m, in \u001b[0;36mpandas._libs.index.IndexEngine.get_loc\u001b[0;34m()\u001b[0m\n",
      "File \u001b[0;32mindex.pyx:181\u001b[0m, in \u001b[0;36mpandas._libs.index.IndexEngine.get_loc\u001b[0;34m()\u001b[0m\n",
      "File \u001b[0;32mpandas/_libs/hashtable_class_helper.pxi:7080\u001b[0m, in \u001b[0;36mpandas._libs.hashtable.PyObjectHashTable.get_item\u001b[0;34m()\u001b[0m\n",
      "File \u001b[0;32mpandas/_libs/hashtable_class_helper.pxi:7088\u001b[0m, in \u001b[0;36mpandas._libs.hashtable.PyObjectHashTable.get_item\u001b[0;34m()\u001b[0m\n",
      "\u001b[0;31mKeyError\u001b[0m: 'average_distance_score_zscore_diff'",
      "\nThe above exception was the direct cause of the following exception:\n",
      "\u001b[0;31mKeyError\u001b[0m                                  Traceback (most recent call last)",
      "Cell \u001b[0;32mIn[190], line 1\u001b[0m\n\u001b[0;32m----> 1\u001b[0m \u001b[43mplot_comparative_graphs\u001b[49m\u001b[43m(\u001b[49m\u001b[43mresult\u001b[49m\u001b[43m)\u001b[49m\n",
      "Cell \u001b[0;32mIn[189], line 14\u001b[0m, in \u001b[0;36mplot_comparative_graphs\u001b[0;34m(result)\u001b[0m\n\u001b[1;32m     11\u001b[0m r, p \u001b[38;5;241m=\u001b[39m stats\u001b[38;5;241m.\u001b[39mpearsonr(result[\u001b[38;5;124m\"\u001b[39m\u001b[38;5;124maverage_distance_score_single_ratio\u001b[39m\u001b[38;5;124m\"\u001b[39m], result[\u001b[38;5;124m\"\u001b[39m\u001b[38;5;124maverage_distance_score_single_diff\u001b[39m\u001b[38;5;124m\"\u001b[39m])\n\u001b[1;32m     12\u001b[0m scatter\u001b[38;5;241m.\u001b[39mannotate(\u001b[38;5;124m'\u001b[39m\u001b[38;5;124mr = \u001b[39m\u001b[38;5;132;01m{:.3f}\u001b[39;00m\u001b[38;5;124m'\u001b[39m\u001b[38;5;241m.\u001b[39mformat(r), xy\u001b[38;5;241m=\u001b[39m(\u001b[38;5;241m0.7\u001b[39m, \u001b[38;5;241m0.9\u001b[39m), xycoords\u001b[38;5;241m=\u001b[39m\u001b[38;5;124m'\u001b[39m\u001b[38;5;124maxes fraction\u001b[39m\u001b[38;5;124m'\u001b[39m)\n\u001b[0;32m---> 14\u001b[0m scatter \u001b[38;5;241m=\u001b[39m \u001b[43mresult\u001b[49m\u001b[38;5;241;43m.\u001b[39;49m\u001b[43mplot\u001b[49m\u001b[38;5;241;43m.\u001b[39;49m\u001b[43mscatter\u001b[49m\u001b[43m(\u001b[49m\u001b[43mx\u001b[49m\u001b[38;5;241;43m=\u001b[39;49m\u001b[38;5;124;43m\"\u001b[39;49m\u001b[38;5;124;43maverage_distance_score_single_diff\u001b[39;49m\u001b[38;5;124;43m\"\u001b[39;49m\u001b[43m,\u001b[49m\u001b[43m \u001b[49m\u001b[43my\u001b[49m\u001b[38;5;241;43m=\u001b[39;49m\u001b[38;5;124;43m\"\u001b[39;49m\u001b[38;5;124;43maverage_distance_score_zscore_diff\u001b[39;49m\u001b[38;5;124;43m\"\u001b[39;49m\u001b[43m,\u001b[49m\u001b[43m \u001b[49m\u001b[43max\u001b[49m\u001b[38;5;241;43m=\u001b[39;49m\u001b[43maxis\u001b[49m\u001b[43m[\u001b[49m\u001b[38;5;241;43m0\u001b[39;49m\u001b[43m,\u001b[49m\u001b[43m \u001b[49m\u001b[38;5;241;43m1\u001b[39;49m\u001b[43m]\u001b[49m\u001b[43m)\u001b[49m\n\u001b[1;32m     15\u001b[0m r, p \u001b[38;5;241m=\u001b[39m stats\u001b[38;5;241m.\u001b[39mpearsonr(result[\u001b[38;5;124m\"\u001b[39m\u001b[38;5;124maverage_distance_score_single_diff\u001b[39m\u001b[38;5;124m\"\u001b[39m],result[\u001b[38;5;124m\"\u001b[39m\u001b[38;5;124maverage_distance_score_zscore_diff\u001b[39m\u001b[38;5;124m\"\u001b[39m])\n\u001b[1;32m     16\u001b[0m scatter\u001b[38;5;241m.\u001b[39mannotate(\u001b[38;5;124m'\u001b[39m\u001b[38;5;124mr = \u001b[39m\u001b[38;5;132;01m{:.3f}\u001b[39;00m\u001b[38;5;124m'\u001b[39m\u001b[38;5;241m.\u001b[39mformat(r), xy\u001b[38;5;241m=\u001b[39m(\u001b[38;5;241m0.7\u001b[39m, \u001b[38;5;241m0.9\u001b[39m), xycoords\u001b[38;5;241m=\u001b[39m\u001b[38;5;124m'\u001b[39m\u001b[38;5;124maxes fraction\u001b[39m\u001b[38;5;124m'\u001b[39m)\n",
      "File \u001b[0;32m/tamir2/moranb/microbiome/Igem_TAU_2021/venv/lib/python3.9/site-packages/pandas/plotting/_core.py:1751\u001b[0m, in \u001b[0;36mPlotAccessor.scatter\u001b[0;34m(self, x, y, s, c, **kwargs)\u001b[0m\n\u001b[1;32m   1663\u001b[0m \u001b[38;5;28;01mdef\u001b[39;00m \u001b[38;5;21mscatter\u001b[39m(\n\u001b[1;32m   1664\u001b[0m     \u001b[38;5;28mself\u001b[39m,\n\u001b[1;32m   1665\u001b[0m     x: Hashable,\n\u001b[0;32m   (...)\u001b[0m\n\u001b[1;32m   1669\u001b[0m     \u001b[38;5;241m*\u001b[39m\u001b[38;5;241m*\u001b[39mkwargs,\n\u001b[1;32m   1670\u001b[0m ) \u001b[38;5;241m-\u001b[39m\u001b[38;5;241m>\u001b[39m PlotAccessor:\n\u001b[1;32m   1671\u001b[0m \u001b[38;5;250m    \u001b[39m\u001b[38;5;124;03m\"\"\"\u001b[39;00m\n\u001b[1;32m   1672\u001b[0m \u001b[38;5;124;03m    Create a scatter plot with varying marker point size and color.\u001b[39;00m\n\u001b[1;32m   1673\u001b[0m \n\u001b[0;32m   (...)\u001b[0m\n\u001b[1;32m   1749\u001b[0m \u001b[38;5;124;03m        ...                       colormap='viridis')\u001b[39;00m\n\u001b[1;32m   1750\u001b[0m \u001b[38;5;124;03m    \"\"\"\u001b[39;00m\n\u001b[0;32m-> 1751\u001b[0m     \u001b[38;5;28;01mreturn\u001b[39;00m \u001b[38;5;28;43mself\u001b[39;49m\u001b[43m(\u001b[49m\u001b[43mkind\u001b[49m\u001b[38;5;241;43m=\u001b[39;49m\u001b[38;5;124;43m\"\u001b[39;49m\u001b[38;5;124;43mscatter\u001b[39;49m\u001b[38;5;124;43m\"\u001b[39;49m\u001b[43m,\u001b[49m\u001b[43m \u001b[49m\u001b[43mx\u001b[49m\u001b[38;5;241;43m=\u001b[39;49m\u001b[43mx\u001b[49m\u001b[43m,\u001b[49m\u001b[43m \u001b[49m\u001b[43my\u001b[49m\u001b[38;5;241;43m=\u001b[39;49m\u001b[43my\u001b[49m\u001b[43m,\u001b[49m\u001b[43m \u001b[49m\u001b[43ms\u001b[49m\u001b[38;5;241;43m=\u001b[39;49m\u001b[43ms\u001b[49m\u001b[43m,\u001b[49m\u001b[43m \u001b[49m\u001b[43mc\u001b[49m\u001b[38;5;241;43m=\u001b[39;49m\u001b[43mc\u001b[49m\u001b[43m,\u001b[49m\u001b[43m \u001b[49m\u001b[38;5;241;43m*\u001b[39;49m\u001b[38;5;241;43m*\u001b[39;49m\u001b[43mkwargs\u001b[49m\u001b[43m)\u001b[49m\n",
      "File \u001b[0;32m/tamir2/moranb/microbiome/Igem_TAU_2021/venv/lib/python3.9/site-packages/pandas/plotting/_core.py:976\u001b[0m, in \u001b[0;36mPlotAccessor.__call__\u001b[0;34m(self, *args, **kwargs)\u001b[0m\n\u001b[1;32m    974\u001b[0m \u001b[38;5;28;01mif\u001b[39;00m kind \u001b[38;5;129;01min\u001b[39;00m \u001b[38;5;28mself\u001b[39m\u001b[38;5;241m.\u001b[39m_dataframe_kinds:\n\u001b[1;32m    975\u001b[0m     \u001b[38;5;28;01mif\u001b[39;00m \u001b[38;5;28misinstance\u001b[39m(data, ABCDataFrame):\n\u001b[0;32m--> 976\u001b[0m         \u001b[38;5;28;01mreturn\u001b[39;00m \u001b[43mplot_backend\u001b[49m\u001b[38;5;241;43m.\u001b[39;49m\u001b[43mplot\u001b[49m\u001b[43m(\u001b[49m\u001b[43mdata\u001b[49m\u001b[43m,\u001b[49m\u001b[43m \u001b[49m\u001b[43mx\u001b[49m\u001b[38;5;241;43m=\u001b[39;49m\u001b[43mx\u001b[49m\u001b[43m,\u001b[49m\u001b[43m \u001b[49m\u001b[43my\u001b[49m\u001b[38;5;241;43m=\u001b[39;49m\u001b[43my\u001b[49m\u001b[43m,\u001b[49m\u001b[43m \u001b[49m\u001b[43mkind\u001b[49m\u001b[38;5;241;43m=\u001b[39;49m\u001b[43mkind\u001b[49m\u001b[43m,\u001b[49m\u001b[43m \u001b[49m\u001b[38;5;241;43m*\u001b[39;49m\u001b[38;5;241;43m*\u001b[39;49m\u001b[43mkwargs\u001b[49m\u001b[43m)\u001b[49m\n\u001b[1;32m    977\u001b[0m     \u001b[38;5;28;01melse\u001b[39;00m:\n\u001b[1;32m    978\u001b[0m         \u001b[38;5;28;01mraise\u001b[39;00m \u001b[38;5;167;01mValueError\u001b[39;00m(\u001b[38;5;124mf\u001b[39m\u001b[38;5;124m\"\u001b[39m\u001b[38;5;124mplot kind \u001b[39m\u001b[38;5;132;01m{\u001b[39;00mkind\u001b[38;5;132;01m}\u001b[39;00m\u001b[38;5;124m can only be used for data frames\u001b[39m\u001b[38;5;124m\"\u001b[39m)\n",
      "File \u001b[0;32m/tamir2/moranb/microbiome/Igem_TAU_2021/venv/lib/python3.9/site-packages/pandas/plotting/_matplotlib/__init__.py:71\u001b[0m, in \u001b[0;36mplot\u001b[0;34m(data, kind, **kwargs)\u001b[0m\n\u001b[1;32m     69\u001b[0m         kwargs[\u001b[38;5;124m\"\u001b[39m\u001b[38;5;124max\u001b[39m\u001b[38;5;124m\"\u001b[39m] \u001b[38;5;241m=\u001b[39m \u001b[38;5;28mgetattr\u001b[39m(ax, \u001b[38;5;124m\"\u001b[39m\u001b[38;5;124mleft_ax\u001b[39m\u001b[38;5;124m\"\u001b[39m, ax)\n\u001b[1;32m     70\u001b[0m plot_obj \u001b[38;5;241m=\u001b[39m PLOT_CLASSES[kind](data, \u001b[38;5;241m*\u001b[39m\u001b[38;5;241m*\u001b[39mkwargs)\n\u001b[0;32m---> 71\u001b[0m \u001b[43mplot_obj\u001b[49m\u001b[38;5;241;43m.\u001b[39;49m\u001b[43mgenerate\u001b[49m\u001b[43m(\u001b[49m\u001b[43m)\u001b[49m\n\u001b[1;32m     72\u001b[0m plot_obj\u001b[38;5;241m.\u001b[39mdraw()\n\u001b[1;32m     73\u001b[0m \u001b[38;5;28;01mreturn\u001b[39;00m plot_obj\u001b[38;5;241m.\u001b[39mresult\n",
      "File \u001b[0;32m/tamir2/moranb/microbiome/Igem_TAU_2021/venv/lib/python3.9/site-packages/pandas/plotting/_matplotlib/core.py:453\u001b[0m, in \u001b[0;36mMPLPlot.generate\u001b[0;34m(self)\u001b[0m\n\u001b[1;32m    451\u001b[0m \u001b[38;5;28mself\u001b[39m\u001b[38;5;241m.\u001b[39m_compute_plot_data()\n\u001b[1;32m    452\u001b[0m \u001b[38;5;28mself\u001b[39m\u001b[38;5;241m.\u001b[39m_setup_subplots()\n\u001b[0;32m--> 453\u001b[0m \u001b[38;5;28;43mself\u001b[39;49m\u001b[38;5;241;43m.\u001b[39;49m\u001b[43m_make_plot\u001b[49m\u001b[43m(\u001b[49m\u001b[43m)\u001b[49m\n\u001b[1;32m    454\u001b[0m \u001b[38;5;28mself\u001b[39m\u001b[38;5;241m.\u001b[39m_add_table()\n\u001b[1;32m    455\u001b[0m \u001b[38;5;28mself\u001b[39m\u001b[38;5;241m.\u001b[39m_make_legend()\n",
      "File \u001b[0;32m/tamir2/moranb/microbiome/Igem_TAU_2021/venv/lib/python3.9/site-packages/pandas/plotting/_matplotlib/core.py:1268\u001b[0m, in \u001b[0;36mScatterPlot._make_plot\u001b[0;34m(self)\u001b[0m\n\u001b[1;32m   1264\u001b[0m \u001b[38;5;28;01melse\u001b[39;00m:\n\u001b[1;32m   1265\u001b[0m     label \u001b[38;5;241m=\u001b[39m \u001b[38;5;28;01mNone\u001b[39;00m\n\u001b[1;32m   1266\u001b[0m scatter \u001b[38;5;241m=\u001b[39m ax\u001b[38;5;241m.\u001b[39mscatter(\n\u001b[1;32m   1267\u001b[0m     data[x]\u001b[38;5;241m.\u001b[39mvalues,\n\u001b[0;32m-> 1268\u001b[0m     \u001b[43mdata\u001b[49m\u001b[43m[\u001b[49m\u001b[43my\u001b[49m\u001b[43m]\u001b[49m\u001b[38;5;241m.\u001b[39mvalues,\n\u001b[1;32m   1269\u001b[0m     c\u001b[38;5;241m=\u001b[39mc_values,\n\u001b[1;32m   1270\u001b[0m     label\u001b[38;5;241m=\u001b[39mlabel,\n\u001b[1;32m   1271\u001b[0m     cmap\u001b[38;5;241m=\u001b[39mcmap,\n\u001b[1;32m   1272\u001b[0m     norm\u001b[38;5;241m=\u001b[39mnorm,\n\u001b[1;32m   1273\u001b[0m     \u001b[38;5;241m*\u001b[39m\u001b[38;5;241m*\u001b[39m\u001b[38;5;28mself\u001b[39m\u001b[38;5;241m.\u001b[39mkwds,\n\u001b[1;32m   1274\u001b[0m )\n\u001b[1;32m   1275\u001b[0m \u001b[38;5;28;01mif\u001b[39;00m cb:\n\u001b[1;32m   1276\u001b[0m     cbar_label \u001b[38;5;241m=\u001b[39m c \u001b[38;5;28;01mif\u001b[39;00m c_is_column \u001b[38;5;28;01melse\u001b[39;00m \u001b[38;5;124m\"\u001b[39m\u001b[38;5;124m\"\u001b[39m\n",
      "File \u001b[0;32m/tamir2/moranb/microbiome/Igem_TAU_2021/venv/lib/python3.9/site-packages/pandas/core/frame.py:3893\u001b[0m, in \u001b[0;36mDataFrame.__getitem__\u001b[0;34m(self, key)\u001b[0m\n\u001b[1;32m   3891\u001b[0m \u001b[38;5;28;01mif\u001b[39;00m \u001b[38;5;28mself\u001b[39m\u001b[38;5;241m.\u001b[39mcolumns\u001b[38;5;241m.\u001b[39mnlevels \u001b[38;5;241m>\u001b[39m \u001b[38;5;241m1\u001b[39m:\n\u001b[1;32m   3892\u001b[0m     \u001b[38;5;28;01mreturn\u001b[39;00m \u001b[38;5;28mself\u001b[39m\u001b[38;5;241m.\u001b[39m_getitem_multilevel(key)\n\u001b[0;32m-> 3893\u001b[0m indexer \u001b[38;5;241m=\u001b[39m \u001b[38;5;28;43mself\u001b[39;49m\u001b[38;5;241;43m.\u001b[39;49m\u001b[43mcolumns\u001b[49m\u001b[38;5;241;43m.\u001b[39;49m\u001b[43mget_loc\u001b[49m\u001b[43m(\u001b[49m\u001b[43mkey\u001b[49m\u001b[43m)\u001b[49m\n\u001b[1;32m   3894\u001b[0m \u001b[38;5;28;01mif\u001b[39;00m is_integer(indexer):\n\u001b[1;32m   3895\u001b[0m     indexer \u001b[38;5;241m=\u001b[39m [indexer]\n",
      "File \u001b[0;32m/tamir2/moranb/microbiome/Igem_TAU_2021/venv/lib/python3.9/site-packages/pandas/core/indexes/base.py:3798\u001b[0m, in \u001b[0;36mIndex.get_loc\u001b[0;34m(self, key)\u001b[0m\n\u001b[1;32m   3793\u001b[0m     \u001b[38;5;28;01mif\u001b[39;00m \u001b[38;5;28misinstance\u001b[39m(casted_key, \u001b[38;5;28mslice\u001b[39m) \u001b[38;5;129;01mor\u001b[39;00m (\n\u001b[1;32m   3794\u001b[0m         \u001b[38;5;28misinstance\u001b[39m(casted_key, abc\u001b[38;5;241m.\u001b[39mIterable)\n\u001b[1;32m   3795\u001b[0m         \u001b[38;5;129;01mand\u001b[39;00m \u001b[38;5;28many\u001b[39m(\u001b[38;5;28misinstance\u001b[39m(x, \u001b[38;5;28mslice\u001b[39m) \u001b[38;5;28;01mfor\u001b[39;00m x \u001b[38;5;129;01min\u001b[39;00m casted_key)\n\u001b[1;32m   3796\u001b[0m     ):\n\u001b[1;32m   3797\u001b[0m         \u001b[38;5;28;01mraise\u001b[39;00m InvalidIndexError(key)\n\u001b[0;32m-> 3798\u001b[0m     \u001b[38;5;28;01mraise\u001b[39;00m \u001b[38;5;167;01mKeyError\u001b[39;00m(key) \u001b[38;5;28;01mfrom\u001b[39;00m \u001b[38;5;21;01merr\u001b[39;00m\n\u001b[1;32m   3799\u001b[0m \u001b[38;5;28;01mexcept\u001b[39;00m \u001b[38;5;167;01mTypeError\u001b[39;00m:\n\u001b[1;32m   3800\u001b[0m     \u001b[38;5;66;03m# If we have a listlike key, _check_indexing_error will raise\u001b[39;00m\n\u001b[1;32m   3801\u001b[0m     \u001b[38;5;66;03m#  InvalidIndexError. Otherwise we fall through and re-raise\u001b[39;00m\n\u001b[1;32m   3802\u001b[0m     \u001b[38;5;66;03m#  the TypeError.\u001b[39;00m\n\u001b[1;32m   3803\u001b[0m     \u001b[38;5;28mself\u001b[39m\u001b[38;5;241m.\u001b[39m_check_indexing_error(key)\n",
      "\u001b[0;31mKeyError\u001b[0m: 'average_distance_score_zscore_diff'"
     ]
    },
    {
     "data": {
      "image/png": "[encoded data removed]",
      "text/plain": [
       "<Figure size 2000x1500 with 6 Axes>"
      ]
     },
     "metadata": {},
     "output_type": "display_data"
    }
   ],
   "source": [
    "plot_comparative_graphs(result)"
   ]
  },
  {
   "cell_type": "markdown",
   "id": "3142c9f8-7c13-40d2-ade5-1cab27152a7d",
   "metadata": {},
   "source": [
    "#### Escherichia-coli as unwanted host "
   ]
  },
  {
   "cell_type": "code",
   "execution_count": null,
   "id": "66b71f00-a3fd-4365-b072-ee0e86543bb9",
   "metadata": {},
   "outputs": [],
   "source": [
    "configuration = \"e_coli_optimized_False_bacillus_optimized_True\"\n",
    "result = get_scores_df_for_organism_by_configuration(configuration, organism)\n",
    "result = result.compute()"
   ]
  },
  {
   "cell_type": "code",
   "execution_count": null,
   "id": "3d60eec4-1b15-47fd-b532-fa19a03cbd4f",
   "metadata": {},
   "outputs": [],
   "source": [
    "histogram = result[[\"average_distance_score_zscore_diff\",  \"average_distance_score_single_diff\", \"average_distance_score_zscore_ratio\", \"average_distance_score_single_ratio\"]].hist(sharex=True, sharey=True,figsize=(10, 9))\n",
    "\n",
    "add_median_to_histogram(result[\"average_distance_score_zscore_diff\"], histogram, 0, 0, 1800)\n",
    "add_median_to_histogram(result[\"average_distance_score_single_diff\"], histogram, 0, 1, 1800)\n",
    "add_median_to_histogram(result[\"average_distance_score_zscore_ratio\"], histogram, 1, 0, 1800)\n",
    "add_median_to_histogram(result[\"average_distance_score_single_ratio\"], histogram, 1, 1, 1800)"
   ]
  },
  {
   "cell_type": "code",
   "execution_count": null,
   "id": "17462cf2-6da2-412d-838f-392f4ec73908",
   "metadata": {},
   "outputs": [],
   "source": [
    "single_diff_negative = result[result[\"average_distance_score_single_diff\"] < 0] \n",
    "single_ratio_negative = result[result[\"average_distance_score_single_ratio\"] < 0] \n",
    "\n",
    "zscore_diff_negative = result[result[\"average_distance_score_zscore_diff\"] < 0] \n",
    "zscore_ratio_negative = result[result[\"average_distance_score_zscore_ratio\"] < 0] \n",
    "\n",
    "merged_negative = dd.merge(single_ratio_negative, single_ratio_negative, on='gene_name', how='inner', suffixes=('_neg_ratio', '_neg_diff'))\n",
    "\n",
    "print(f\"{len(single_diff_negative)}, percentage:{len(single_diff_negative)/len(result) * 100}\")\n",
    "print(f\"{len(single_ratio_negative)}, percentage:{len(single_ratio_negative)/len(result) * 100}\")\n",
    "print(f\"{len(zscore_diff_negative)}, percentage:{len(zscore_diff_negative)/len(result) * 100}\")\n",
    "print(f\"{len(zscore_ratio_negative)}, percentage:{len(zscore_ratio_negative)/len(result) * 100}\")\n",
    "\n",
    "# single_ratio_negative[\"gene_name\"]"
   ]
  },
  {
   "cell_type": "code",
   "execution_count": null,
   "id": "ca126ec9-82e4-4e9c-b446-e4f047f850ca",
   "metadata": {},
   "outputs": [],
   "source": [
    "plot_comparative_graphs(result)"
   ]
  },
  {
   "cell_type": "code",
   "execution_count": null,
   "id": "1b4a21dd-cf83-4772-90e8-b34dfd1d9788",
   "metadata": {},
   "outputs": [],
   "source": [
    "configuration = \"e_coli_optimized_False_bacillus_optimized_True\"\n",
    "result = get_scores_df_for_organism_by_configuration(configuration, organism, is_debug=True)\n",
    "result = result.compute()"
   ]
  },
  {
   "cell_type": "code",
   "execution_count": null,
   "id": "880997e9-3f8a-40eb-8373-64478f0766ec",
   "metadata": {},
   "outputs": [],
   "source": [
    "histogram = result[[\"average_distance_non_normalized_score_zscore_diff\",  \"average_distance_non_normalized_score_single_diff\", \"average_distance_non_normalized_score_zscore_ratio\", \"average_distance_non_normalized_score_single_ratio\"]].hist(sharex=True, sharey=True,figsize=(15, 10))\n",
    "\n",
    "add_median_to_histogram_non_normalized(result[\"average_distance_non_normalized_score_zscore_diff\"], histogram, 0, 0, 1800)\n",
    "add_median_to_histogram_non_normalized(result[\"average_distance_non_normalized_score_single_diff\"], histogram, 0, 1, 1800)\n",
    "add_median_to_histogram_non_normalized(result[\"average_distance_non_normalized_score_zscore_ratio\"], histogram, 1, 0, 1800)\n",
    "add_median_to_histogram_non_normalized(result[\"average_distance_non_normalized_score_single_ratio\"], histogram, 1, 1, 1800)"
   ]
  },
  {
   "cell_type": "code",
   "execution_count": null,
   "id": "37d812a7-a78c-4db0-a558-a7b176f2326c",
   "metadata": {},
   "outputs": [],
   "source": [
    "single_diff_negative = result[result[\"average_distance_non_normalized_score_single_diff\"] < 0] \n",
    "single_ratio_negative = result[result[\"average_distance_non_normalized_score_single_ratio\"] < 0] \n",
    "\n",
    "zscore_diff_negative = result[result[\"average_distance_non_normalized_score_zscore_diff\"] < 0] \n",
    "zscore_ratio_negative = result[result[\"average_distance_non_normalized_score_zscore_ratio\"] < 0] \n",
    "\n",
    "merged_negative = dd.merge(single_ratio_negative, single_ratio_negative, on='gene_name', how='inner', suffixes=('_neg_ratio', '_neg_diff'))\n",
    "\n",
    "print(f\"{len(single_diff_negative)}, percentage:{len(single_diff_negative)/len(result) * 100}\")\n",
    "print(f\"{len(single_ratio_negative)}, percentage:{len(single_ratio_negative)/len(result) * 100}\")\n",
    "print(f\"{len(zscore_diff_negative)}, percentage:{len(zscore_diff_negative)/len(result) * 100}\")\n",
    "print(f\"{len(zscore_ratio_negative)}, percentage:{len(zscore_ratio_negative)/len(result) * 100}\")"
   ]
  },
  {
   "cell_type": "markdown",
   "id": "ef4942a9-bc57-45c6-b504-c0d0151c7bd6",
   "metadata": {},
   "source": [
    "### Bacillus-subtilis"
   ]
  },
  {
   "cell_type": "code",
   "execution_count": null,
   "id": "85aef905-faaf-4d11-adc6-c656970493bb",
   "metadata": {},
   "outputs": [],
   "source": [
    "organism =  \"Bacillus-subtilis\"\n",
    "\n",
    "gb_file_path = f\"/tamir2/moranb/microbiome/Igem_TAU_2021/analysis/example_data/{organism}.gb\"\n",
    "mrna_levels_path = f\"/tamir2/moranb/microbiome/Igem_TAU_2021/analysis/example_data/bacillus_mrna_level.csv\"\n",
    "\n",
    "# highly_expressed_names = get_highly_expressed_gene_names(gb_file_path, mrna_levels_path)"
   ]
  },
  {
   "cell_type": "markdown",
   "id": "5c666705-d828-43c9-b734-be732661a72d",
   "metadata": {},
   "source": [
    "#### Bacillus-subtilis as wanted host "
   ]
  },
  {
   "cell_type": "code",
   "execution_count": null,
   "id": "6e973b36-b77e-4388-82f5-70b2d63cc0a4",
   "metadata": {},
   "outputs": [],
   "source": [
    "configuration = \"e_coli_optimized_False_bacillus_optimized_True\"\n",
    "\n",
    "result = get_scores_df_for_organism_by_configuration(configuration, organism)\n",
    "result = result.compute()"
   ]
  },
  {
   "cell_type": "code",
   "execution_count": null,
   "id": "215e9249-6bcd-4561-94bf-8a21fc6d1df9",
   "metadata": {},
   "outputs": [],
   "source": [
    "histogram = result[[\"average_distance_score_zscore_diff\",  \"average_distance_score_single_diff\", \"average_distance_score_zscore_ratio\", \"average_distance_score_single_ratio\"]].hist(sharex=True, sharey=True,figsize=(10, 9))\n",
    "\n",
    "add_median_to_histogram(result[\"average_distance_score_zscore_diff\"], histogram, 0, 0, 1800)\n",
    "add_median_to_histogram(result[\"average_distance_score_single_diff\"], histogram, 0, 1, 1800)\n",
    "add_median_to_histogram(result[\"average_distance_score_zscore_ratio\"], histogram, 1, 0, 1800)\n",
    "add_median_to_histogram(result[\"average_distance_score_single_ratio\"], histogram, 1, 1, 1800)"
   ]
  },
  {
   "cell_type": "code",
   "execution_count": null,
   "id": "3af98dd9-b3f3-4a14-8494-dc94c005b566",
   "metadata": {},
   "outputs": [],
   "source": [
    "single_diff_negative = result[result[\"average_distance_score_single_diff\"] < 0] \n",
    "single_ratio_negative = result[result[\"average_distance_score_single_ratio\"] < 0] \n",
    "\n",
    "zscore_diff_negative = result[result[\"average_distance_score_zscore_diff\"] < 0] \n",
    "zscore_ratio_negative = result[result[\"average_distance_score_zscore_ratio\"] < 0] \n",
    "\n",
    "print(f\"{len(single_diff_negative)}, percentage:{len(single_diff_negative)/len(result) * 100}\")\n",
    "print(f\"{len(single_ratio_negative)}, percentage:{len(single_ratio_negative)/len(result) * 100}\")\n",
    "print(f\"{len(zscore_diff_negative)}, percentage:{len(zscore_diff_negative)/len(result) * 100}\")\n",
    "print(f\"{len(zscore_ratio_negative)}, percentage:{len(zscore_ratio_negative)/len(result) * 100}\")"
   ]
  },
  {
   "cell_type": "code",
   "execution_count": null,
   "id": "8f357241-591e-4ab3-a5ca-735fb6b37b9b",
   "metadata": {},
   "outputs": [],
   "source": [
    "plot_comparative_graphs(result)"
   ]
  },
  {
   "cell_type": "code",
   "execution_count": null,
   "id": "34113ea4-1ce3-4496-9ae0-d2fe86272255",
   "metadata": {},
   "outputs": [],
   "source": [
    "configuration = \"e_coli_optimized_False_bacillus_optimized_True\"\n",
    "result = get_scores_df_for_organism_by_configuration(configuration, organism, is_debug=True)\n",
    "result = result.compute()"
   ]
  },
  {
   "cell_type": "code",
   "execution_count": null,
   "id": "3af2822e-64c3-4d7f-951a-612ea0e244d3",
   "metadata": {},
   "outputs": [],
   "source": [
    "histogram = result[[\"average_distance_non_normalized_score_zscore_diff\",  \"average_distance_non_normalized_score_single_diff\", \"average_distance_non_normalized_score_zscore_ratio\", \"average_distance_non_normalized_score_single_ratio\"]].hist(sharex=True, sharey=True,figsize=(15, 10))\n",
    "\n",
    "add_median_to_histogram_non_normalized(result[\"average_distance_non_normalized_score_zscore_diff\"], histogram, 0, 0, 1500)\n",
    "add_median_to_histogram_non_normalized(result[\"average_distance_non_normalized_score_single_diff\"], histogram, 0, 1, 1500)\n",
    "add_median_to_histogram_non_normalized(result[\"average_distance_non_normalized_score_zscore_ratio\"], histogram, 1, 0, 1500)\n",
    "add_median_to_histogram_non_normalized(result[\"average_distance_non_normalized_score_single_ratio\"], histogram, 1, 1, 1500)"
   ]
  },
  {
   "cell_type": "code",
   "execution_count": null,
   "id": "c654ef18-d9ce-4333-ab97-d2a841676e46",
   "metadata": {},
   "outputs": [],
   "source": [
    "single_diff_negative = result[result[\"average_distance_non_normalized_score_single_diff\"] < 0] \n",
    "single_ratio_negative = result[result[\"average_distance_non_normalized_score_single_ratio\"] < 0] \n",
    "\n",
    "zscore_diff_negative = result[result[\"average_distance_non_normalized_score_zscore_diff\"] < 0] \n",
    "zscore_ratio_negative = result[result[\"average_distance_non_normalized_score_zscore_ratio\"] < 0] \n",
    "\n",
    "merged_negative = dd.merge(single_ratio_negative, single_ratio_negative, on='gene_name', how='inner', suffixes=('_neg_ratio', '_neg_diff'))\n",
    "\n",
    "print(f\"{len(single_diff_negative)}, percentage:{len(single_diff_negative)/len(result) * 100}\")\n",
    "print(f\"{len(single_ratio_negative)}, percentage:{len(single_ratio_negative)/len(result) * 100}\")\n",
    "print(f\"{len(zscore_diff_negative)}, percentage:{len(zscore_diff_negative)/len(result) * 100}\")\n",
    "print(f\"{len(zscore_ratio_negative)}, percentage:{len(zscore_ratio_negative)/len(result) * 100}\")"
   ]
  },
  {
   "cell_type": "code",
   "execution_count": null,
   "id": "bc30cf58-97d3-44fd-8cce-4ae00bd080aa",
   "metadata": {},
   "outputs": [],
   "source": [
    "print(single_diff_negative[\"gene_name\"])"
   ]
  },
  {
   "cell_type": "markdown",
   "id": "624b6cda-bff1-405c-8206-76244123a660",
   "metadata": {},
   "source": [
    "#### Bacillus-subtilis as unwanted host "
   ]
  },
  {
   "cell_type": "code",
   "execution_count": null,
   "id": "0538b534-7fdc-448c-a3eb-43579c43f5ca",
   "metadata": {},
   "outputs": [],
   "source": [
    "configuration = \"e_coli_optimized_True_bacillus_optimized_False\"\n",
    "result = get_scores_df_for_organism_by_configuration(configuration, organism)\n",
    "result = result.compute()"
   ]
  },
  {
   "cell_type": "code",
   "execution_count": null,
   "id": "e41cc298-1bb4-48e8-a448-7cc66877a549",
   "metadata": {},
   "outputs": [],
   "source": [
    "histogram = result[[\"average_distance_score_zscore_diff\",  \"average_distance_score_single_diff\", \"average_distance_score_zscore_ratio\", \"average_distance_score_single_ratio\"]].hist(sharex=True, sharey=True,figsize=(10, 9))\n",
    "\n",
    "add_median_to_histogram(result[\"average_distance_score_zscore_diff\"], histogram, 0, 0, 1500)\n",
    "add_median_to_histogram(result[\"average_distance_score_single_diff\"], histogram, 0, 1, 1500)\n",
    "add_median_to_histogram(result[\"average_distance_score_zscore_ratio\"], histogram, 1, 0, 1500)\n",
    "add_median_to_histogram(result[\"average_distance_score_single_ratio\"], histogram, 1, 1, 1500)"
   ]
  },
  {
   "cell_type": "code",
   "execution_count": null,
   "id": "391cf2c2-666c-4324-b431-86edcdeda9a8",
   "metadata": {},
   "outputs": [],
   "source": [
    "single_diff_negative = result[result[\"average_distance_score_single_diff\"] < 0] \n",
    "single_ratio_negative = result[result[\"average_distance_score_single_ratio\"] < 0] \n",
    "\n",
    "zscore_diff_negative = result[result[\"average_distance_score_zscore_diff\"] < 0] \n",
    "zscore_ratio_negative = result[result[\"average_distance_score_zscore_ratio\"] < 0] \n",
    "\n",
    "print(f\"{len(single_diff_negative)}, percentage:{len(single_diff_negative)/len(result) * 100}\")\n",
    "print(f\"{len(single_ratio_negative)}, percentage:{len(single_ratio_negative)/len(result) * 100}\")\n",
    "print(f\"{len(zscore_diff_negative)}, percentage:{len(zscore_diff_negative)/len(result) * 100}\")\n",
    "print(f\"{len(zscore_ratio_negative)}, percentage:{len(zscore_ratio_negative)/len(result) * 100}\")"
   ]
  },
  {
   "cell_type": "code",
   "execution_count": null,
   "id": "caff4937-5470-4c20-8269-f5735dfc4576",
   "metadata": {},
   "outputs": [],
   "source": [
    "plot_comparative_graphs(result)"
   ]
  },
  {
   "cell_type": "code",
   "execution_count": null,
   "id": "7222218d-f137-4e60-aacd-379ce13c9bf8",
   "metadata": {},
   "outputs": [],
   "source": [
    "configuration = \"e_coli_optimized_True_bacillus_optimized_False\"\n",
    "result = get_scores_df_for_organism_by_configuration(configuration, organism, is_debug=True)\n",
    "result = result.compute()"
   ]
  },
  {
   "cell_type": "code",
   "execution_count": null,
   "id": "ff6b4796-d6f0-44f4-8910-93c1940de4c4",
   "metadata": {},
   "outputs": [],
   "source": [
    "histogram = result[[\"average_distance_non_normalized_score_zscore_diff\",  \"average_distance_non_normalized_score_single_diff\", \"average_distance_non_normalized_score_zscore_ratio\", \"average_distance_non_normalized_score_single_ratio\"]].hist(sharex=True, sharey=True,figsize=(15, 10))\n",
    "\n",
    "add_median_to_histogram_non_normalized(result[\"average_distance_non_normalized_score_zscore_diff\"], histogram, 0, 0, 1500)\n",
    "add_median_to_histogram_non_normalized(result[\"average_distance_non_normalized_score_single_diff\"], histogram, 0, 1, 1500)\n",
    "add_median_to_histogram_non_normalized(result[\"average_distance_non_normalized_score_zscore_ratio\"], histogram, 1, 0, 1500)\n",
    "add_median_to_histogram_non_normalized(result[\"average_distance_non_normalized_score_single_ratio\"], histogram, 1, 1, 1500)"
   ]
  },
  {
   "cell_type": "code",
   "execution_count": null,
   "id": "a5f339c5-a52e-4619-ad89-dc3c871c9383",
   "metadata": {},
   "outputs": [],
   "source": []
  },
  {
   "cell_type": "code",
   "execution_count": null,
   "id": "4cf31d22-cbd2-45d7-bacb-df837b4d1466",
   "metadata": {},
   "outputs": [],
   "source": []
  },
  {
   "cell_type": "code",
   "execution_count": null,
   "id": "f84252a7-ef57-4907-83fe-9076773001bc",
   "metadata": {},
   "outputs": [],
   "source": []
  },
  {
   "cell_type": "code",
   "execution_count": null,
   "id": "b031ba47-679f-4ebe-9077-bb4b548483c7",
   "metadata": {},
   "outputs": [],
   "source": []
  }
 ],
 "metadata": {
  "kernelspec": {
   "display_name": "Python 3 (ipykernel)",
   "language": "python",
   "name": "python3"
  },
  "language_info": {
   "codemirror_mode": {
    "name": "ipython",
    "version": 3
   },
   "file_extension": ".py",
   "mimetype": "text/x-python",
   "name": "python",
   "nbconvert_exporter": "python",
   "pygments_lexer": "ipython3",
   "version": "3.9.12"
  }
 },
 "nbformat": 4,
 "nbformat_minor": 5
}
