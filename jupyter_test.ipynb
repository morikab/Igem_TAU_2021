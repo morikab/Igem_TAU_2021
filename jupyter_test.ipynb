{
 "cells": [
  {
   "cell_type": "code",
   "execution_count": 3,
   "id": "8a960741-324b-43d8-a5f9-0cdbb7d8cd50",
   "metadata": {},
   "outputs": [],
   "source": [
    "import os"
   ]
  },
  {
   "cell_type": "markdown",
   "id": "bd4772f8-f0d7-43e0-84e7-09ec9d64c359",
   "metadata": {},
   "source": [
    "# Dask Configuration"
   ]
  },
  {
   "cell_type": "code",
   "execution_count": 2,
   "id": "a7b14736-19b8-4d0a-8013-ce2d1ec8ca75",
   "metadata": {},
   "outputs": [],
   "source": [
    "from dask_jobqueue import PBSCluster\n",
    "from pathlib import Path\n",
    "\n",
    "# Define the working directory path\n",
    "working_directory = str(Path.cwd())\n",
    "\n",
    "# Launch a scheduler and workers on HPC via PBS\n",
    "cluster = PBSCluster(\n",
    "     cores=4,\n",
    "     memory=\"8GB\",\n",
    "     processes=1,\n",
    "     queue=\"tamirQ\",\n",
    "     walltime=\"01:30:00\",\n",
    "     scheduler_options={\"dashboard_address\": \":12435\"},  # FIXME - this is the port we need to define...\n",
    "     # Additional custom options\n",
    "     log_directory=\"dask-logs\",\n",
    "     #worker_extra_args=[\"--lifetime\", \"25m\", \"--lifetime-stagger\", \"4m\"],  # for walltime=\"00:30:00\"\n",
    "     job_script_prologue=[f\"cd {working_directory}\"]\n",
    ")"
   ]
  },
  {
   "cell_type": "code",
   "execution_count": 3,
   "id": "29aa0486-2fe4-4cd9-b8cc-b7ef00b8f0a6",
   "metadata": {},
   "outputs": [
    {
     "data": {
      "application/vnd.jupyter.widget-view+json": {
       "model_id": "b1a0f78678e148e193f63d84373e1e80",
       "version_major": 2,
       "version_minor": 0
      },
      "text/html": [
       "<div class=\"jp-RenderedHTMLCommon jp-RenderedHTML jp-mod-trusted jp-OutputArea-output\">\n",
       "    <div style=\"width: 24px; height: 24px; background-color: #e1e1e1; border: 3px solid #9D9D9D; border-radius: 5px; position: absolute;\">\n",
       "    </div>\n",
       "    <div style=\"margin-left: 48px;\">\n",
       "        <h3 style=\"margin-bottom: 0px; margin-top: 0px;\">PBSCluster</h3>\n",
       "        <p style=\"color: #9D9D9D; margin-bottom: 0px;\">941ebe21</p>\n",
       "        <table style=\"width: 100%; text-align: left;\">\n",
       "            <tr>\n",
       "                <td style=\"text-align: left;\">\n",
       "                    <strong>Dashboard:</strong> <a href=\"http://132.66.112.146:12435/status\" target=\"_blank\">http://132.66.112.146:12435/status</a>\n",
       "                </td>\n",
       "                <td style=\"text-align: left;\">\n",
       "                    <strong>Workers:</strong> 0\n",
       "                </td>\n",
       "            </tr>\n",
       "            <tr>\n",
       "                <td style=\"text-align: left;\">\n",
       "                    <strong>Total threads:</strong> 0\n",
       "                </td>\n",
       "                <td style=\"text-align: left;\">\n",
       "                    <strong>Total memory:</strong> 0 B\n",
       "                </td>\n",
       "            </tr>\n",
       "            \n",
       "        </table>\n",
       "\n",
       "        <details>\n",
       "            <summary style=\"margin-bottom: 20px;\">\n",
       "                <h3 style=\"display: inline;\">Scheduler Info</h3>\n",
       "            </summary>\n",
       "\n",
       "            <div style=\"\">\n",
       "    <div>\n",
       "        <div style=\"width: 24px; height: 24px; background-color: #FFF7E5; border: 3px solid #FF6132; border-radius: 5px; position: absolute;\"> </div>\n",
       "        <div style=\"margin-left: 48px;\">\n",
       "            <h3 style=\"margin-bottom: 0px;\">Scheduler</h3>\n",
       "            <p style=\"color: #9D9D9D; margin-bottom: 0px;\">Scheduler-9324442b-46bb-4925-9014-366dc99fe761</p>\n",
       "            <table style=\"width: 100%; text-align: left;\">\n",
       "                <tr>\n",
       "                    <td style=\"text-align: left;\">\n",
       "                        <strong>Comm:</strong> tcp://132.66.112.146:39144\n",
       "                    </td>\n",
       "                    <td style=\"text-align: left;\">\n",
       "                        <strong>Workers:</strong> 0\n",
       "                    </td>\n",
       "                </tr>\n",
       "                <tr>\n",
       "                    <td style=\"text-align: left;\">\n",
       "                        <strong>Dashboard:</strong> <a href=\"http://132.66.112.146:12435/status\" target=\"_blank\">http://132.66.112.146:12435/status</a>\n",
       "                    </td>\n",
       "                    <td style=\"text-align: left;\">\n",
       "                        <strong>Total threads:</strong> 0\n",
       "                    </td>\n",
       "                </tr>\n",
       "                <tr>\n",
       "                    <td style=\"text-align: left;\">\n",
       "                        <strong>Started:</strong> Just now\n",
       "                    </td>\n",
       "                    <td style=\"text-align: left;\">\n",
       "                        <strong>Total memory:</strong> 0 B\n",
       "                    </td>\n",
       "                </tr>\n",
       "            </table>\n",
       "        </div>\n",
       "    </div>\n",
       "\n",
       "    <details style=\"margin-left: 48px;\">\n",
       "        <summary style=\"margin-bottom: 20px;\">\n",
       "            <h3 style=\"display: inline;\">Workers</h3>\n",
       "        </summary>\n",
       "\n",
       "        \n",
       "\n",
       "    </details>\n",
       "</div>\n",
       "\n",
       "        </details>\n",
       "    </div>\n",
       "</div>"
      ],
      "text/plain": [
       "PBSCluster(941ebe21, 'tcp://132.66.112.146:39144', workers=0, threads=0, memory=0 B)"
      ]
     },
     "metadata": {},
     "output_type": "display_data"
    }
   ],
   "source": [
    "cluster"
   ]
  },
  {
   "cell_type": "code",
   "execution_count": 4,
   "id": "fccffd2e-c459-4c2d-86bf-310ce9785428",
   "metadata": {},
   "outputs": [
    {
     "name": "stdout",
     "output_type": "stream",
     "text": [
      "#!/usr/bin/env bash\n",
      "\n",
      "#PBS -N dask-worker\n",
      "#PBS -q tamirQ\n",
      "#PBS -l select=1:ncpus=4:mem=7630MB\n",
      "#PBS -l walltime=01:30:00\n",
      "#PBS -e dask-logs/\n",
      "#PBS -o dask-logs/\n",
      "cd /tamir2/moranb/microbiome/Igem_TAU_2021\n",
      "/tamir2/moranb/microbiome/Igem_TAU_2021/venv/bin/python -m distributed.cli.dask_worker tcp://132.66.112.146:39144 --nthreads 4 --memory-limit 7.45GiB --name dummy-name --nanny --death-timeout 60\n",
      "\n"
     ]
    }
   ],
   "source": [
    "cluster.adapt(minimum=30, maximum=60)\n",
    "print(cluster.job_script())"
   ]
  },
  {
   "cell_type": "code",
   "execution_count": 5,
   "id": "c98d4ca8-a2e6-47e2-8d2a-2130e31cce08",
   "metadata": {},
   "outputs": [],
   "source": [
    "from dask.distributed import Client, progress, wait, get_client, get_worker\n",
    "client = Client(cluster)"
   ]
  },
  {
   "cell_type": "code",
   "execution_count": 6,
   "id": "aae6f110-24fb-4f40-8a72-5623a081cc73",
   "metadata": {},
   "outputs": [
    {
     "data": {
      "text/html": [
       "<div>\n",
       "    <div style=\"width: 24px; height: 24px; background-color: #e1e1e1; border: 3px solid #9D9D9D; border-radius: 5px; position: absolute;\"> </div>\n",
       "    <div style=\"margin-left: 48px;\">\n",
       "        <h3 style=\"margin-bottom: 0px;\">Client</h3>\n",
       "        <p style=\"color: #9D9D9D; margin-bottom: 0px;\">Client-7316b972-0da0-11ee-ab76-b4969140d316</p>\n",
       "        <table style=\"width: 100%; text-align: left;\">\n",
       "\n",
       "        <tr>\n",
       "        \n",
       "            <td style=\"text-align: left;\"><strong>Connection method:</strong> Cluster object</td>\n",
       "            <td style=\"text-align: left;\"><strong>Cluster type:</strong> dask_jobqueue.PBSCluster</td>\n",
       "        \n",
       "        </tr>\n",
       "\n",
       "        \n",
       "            <tr>\n",
       "                <td style=\"text-align: left;\">\n",
       "                    <strong>Dashboard: </strong> <a href=\"http://132.66.112.146:12435/status\" target=\"_blank\">http://132.66.112.146:12435/status</a>\n",
       "                </td>\n",
       "                <td style=\"text-align: left;\"></td>\n",
       "            </tr>\n",
       "        \n",
       "\n",
       "        </table>\n",
       "\n",
       "        \n",
       "            <button style=\"margin-bottom: 12px;\" data-commandlinker-command=\"dask:populate-and-launch-layout\" data-commandlinker-args='{\"url\": \"http://132.66.112.146:12435/status\" }'>\n",
       "                Launch dashboard in JupyterLab\n",
       "            </button>\n",
       "        \n",
       "\n",
       "        \n",
       "            <details>\n",
       "            <summary style=\"margin-bottom: 20px;\"><h3 style=\"display: inline;\">Cluster Info</h3></summary>\n",
       "            <div class=\"jp-RenderedHTMLCommon jp-RenderedHTML jp-mod-trusted jp-OutputArea-output\">\n",
       "    <div style=\"width: 24px; height: 24px; background-color: #e1e1e1; border: 3px solid #9D9D9D; border-radius: 5px; position: absolute;\">\n",
       "    </div>\n",
       "    <div style=\"margin-left: 48px;\">\n",
       "        <h3 style=\"margin-bottom: 0px; margin-top: 0px;\">PBSCluster</h3>\n",
       "        <p style=\"color: #9D9D9D; margin-bottom: 0px;\">941ebe21</p>\n",
       "        <table style=\"width: 100%; text-align: left;\">\n",
       "            <tr>\n",
       "                <td style=\"text-align: left;\">\n",
       "                    <strong>Dashboard:</strong> <a href=\"http://132.66.112.146:12435/status\" target=\"_blank\">http://132.66.112.146:12435/status</a>\n",
       "                </td>\n",
       "                <td style=\"text-align: left;\">\n",
       "                    <strong>Workers:</strong> 0\n",
       "                </td>\n",
       "            </tr>\n",
       "            <tr>\n",
       "                <td style=\"text-align: left;\">\n",
       "                    <strong>Total threads:</strong> 0\n",
       "                </td>\n",
       "                <td style=\"text-align: left;\">\n",
       "                    <strong>Total memory:</strong> 0 B\n",
       "                </td>\n",
       "            </tr>\n",
       "            \n",
       "        </table>\n",
       "\n",
       "        <details>\n",
       "            <summary style=\"margin-bottom: 20px;\">\n",
       "                <h3 style=\"display: inline;\">Scheduler Info</h3>\n",
       "            </summary>\n",
       "\n",
       "            <div style=\"\">\n",
       "    <div>\n",
       "        <div style=\"width: 24px; height: 24px; background-color: #FFF7E5; border: 3px solid #FF6132; border-radius: 5px; position: absolute;\"> </div>\n",
       "        <div style=\"margin-left: 48px;\">\n",
       "            <h3 style=\"margin-bottom: 0px;\">Scheduler</h3>\n",
       "            <p style=\"color: #9D9D9D; margin-bottom: 0px;\">Scheduler-9324442b-46bb-4925-9014-366dc99fe761</p>\n",
       "            <table style=\"width: 100%; text-align: left;\">\n",
       "                <tr>\n",
       "                    <td style=\"text-align: left;\">\n",
       "                        <strong>Comm:</strong> tcp://132.66.112.146:39144\n",
       "                    </td>\n",
       "                    <td style=\"text-align: left;\">\n",
       "                        <strong>Workers:</strong> 0\n",
       "                    </td>\n",
       "                </tr>\n",
       "                <tr>\n",
       "                    <td style=\"text-align: left;\">\n",
       "                        <strong>Dashboard:</strong> <a href=\"http://132.66.112.146:12435/status\" target=\"_blank\">http://132.66.112.146:12435/status</a>\n",
       "                    </td>\n",
       "                    <td style=\"text-align: left;\">\n",
       "                        <strong>Total threads:</strong> 0\n",
       "                    </td>\n",
       "                </tr>\n",
       "                <tr>\n",
       "                    <td style=\"text-align: left;\">\n",
       "                        <strong>Started:</strong> Just now\n",
       "                    </td>\n",
       "                    <td style=\"text-align: left;\">\n",
       "                        <strong>Total memory:</strong> 0 B\n",
       "                    </td>\n",
       "                </tr>\n",
       "            </table>\n",
       "        </div>\n",
       "    </div>\n",
       "\n",
       "    <details style=\"margin-left: 48px;\">\n",
       "        <summary style=\"margin-bottom: 20px;\">\n",
       "            <h3 style=\"display: inline;\">Workers</h3>\n",
       "        </summary>\n",
       "\n",
       "        \n",
       "\n",
       "    </details>\n",
       "</div>\n",
       "\n",
       "        </details>\n",
       "    </div>\n",
       "</div>\n",
       "            </details>\n",
       "        \n",
       "\n",
       "    </div>\n",
       "</div>"
      ],
      "text/plain": [
       "<Client: 'tcp://132.66.112.146:39144' processes=0 threads=0, memory=0 B>"
      ]
     },
     "execution_count": 6,
     "metadata": {},
     "output_type": "execute_result"
    }
   ],
   "source": [
    "client"
   ]
  },
  {
   "cell_type": "code",
   "execution_count": 6,
   "id": "7d5c3d2c-6e52-418a-a2d4-16a23b5f3548",
   "metadata": {},
   "outputs": [],
   "source": [
    "import dask.bag as db\n",
    "import dask.dataframe as dd\n",
    "from dask import delayed, compute, persist\n",
    "import json\n",
    "import matplotlib\n",
    "import numpy as np\n",
    "import pandas as pd"
   ]
  },
  {
   "cell_type": "markdown",
   "id": "d746f6c8-06fd-4a18-be7f-483410889006",
   "metadata": {},
   "source": [
    "# Analysis for endogenous genes"
   ]
  },
  {
   "cell_type": "code",
   "execution_count": 7,
   "id": "41e6b579-562a-47ae-bd4f-a0f71c08c262",
   "metadata": {},
   "outputs": [],
   "source": [
    "from Bio import SeqIO\n",
    "from analysis.orf_model_analysis.input_testing_data.generate_input_testing_data_for_modules import generate_testing_data\n",
    "from modules.main import run_modules"
   ]
  },
  {
   "cell_type": "code",
   "execution_count": 8,
   "id": "01b8186c-16b0-4098-bdd7-d1c5d39f72b1",
   "metadata": {},
   "outputs": [],
   "source": [
    "output_path = \"/tamir2/moranb/microbiome/Igem_TAU_2021/analysis/results/endogenous_genes\""
   ]
  },
  {
   "cell_type": "markdown",
   "id": "caccc881-53ea-4677-8a71-3c45365a3709",
   "metadata": {},
   "source": [
    "## Paenibacillus-prosopidis"
   ]
  },
  {
   "cell_type": "code",
   "execution_count": 9,
   "id": "a9774149-6d4d-460b-9360-f0d1aaf5ac95",
   "metadata": {},
   "outputs": [],
   "source": [
    "organism = \"Paenibacillus-prosopidis\"\n",
    "fasta_file_path = \"/tamir2/moranb/microbiome/Igem_TAU_2021/analysis/example_data/arabidopsis_microbiome/Paenibacillus-prosopidis.fasta\"\n",
    "with open(fasta_file_path, \"r\") as fasta_handle:\n",
    "    genome_dict = SeqIO.to_dict(SeqIO.parse(fasta_handle, \"fasta\"))\n"
   ]
  },
  {
   "cell_type": "markdown",
   "id": "9b23d41e-60a7-4e56-ae75-f21605f334f4",
   "metadata": {},
   "source": [
    "### Two wanted hosts and two unwanted hosts"
   ]
  },
  {
   "cell_type": "code",
   "execution_count": 10,
   "id": "aab46773-de9a-4e05-be4f-43a05cede40c",
   "metadata": {},
   "outputs": [],
   "source": [
    "optimization_cub_index = \"CAI\"\n",
    "optimization_method = \"zscore_bulk_aa_diff\"\n",
    "\n",
    "wanted_hosts = [\n",
    "    \"Paenibacillus-prosopidis.gb\", \n",
    "     \"Arthrobacter-luteolus.gb\",\n",
    "]\n",
    "unwanted_hosts = [\n",
    "    \"Yonghaparkia-alkaliphila.gb\", \n",
    "     \"Brevibacterium-frigoritolerans.gb\",\n",
    "]\n",
    "\n",
    "configuration = f\"wanted_{'_'.join([host[:-3] for host in wanted_hosts])}_unwanted_{'_'.join([host[:-3] for host in unwanted_hosts])}\"\n",
    "configuration_output_path = os.path.join(output_path, configuration, organism)"
   ]
  },
  {
   "cell_type": "code",
   "execution_count": 23,
   "id": "386f13a0-ddfc-4544-903b-76dc796d6104",
   "metadata": {},
   "outputs": [],
   "source": [
    "inputs = [(gene_name, generate_testing_data(\n",
    "    optimization_method=optimization_method,\n",
    "    optimization_cub_index=optimization_cub_index,\n",
    "    wanted_hosts=wanted_hosts,\n",
    "    unwanted_hosts=unwanted_hosts,\n",
    "    tuning_param=0.5,\n",
    "    sequence=str(orf_sequence.seq),\n",
    "    output_path=os.path.join(configuration_output_path,gene_name))) for gene_name, orf_sequence in genome_dict.items()]"
   ]
  },
  {
   "cell_type": "code",
   "execution_count": 24,
   "id": "81232488-b15c-427e-9740-037fbfde09d9",
   "metadata": {},
   "outputs": [],
   "source": [
    "inputs_series = pd.Series(inputs)\n",
    "inputs_db = db.from_sequence(inputs)"
   ]
  },
  {
   "cell_type": "markdown",
   "id": "f024a439-ac16-4318-ad1c-b26762e55fea",
   "metadata": {},
   "source": [
    "An example for running the code on some inputs and saving the results to a file:"
   ]
  },
  {
   "cell_type": "code",
   "execution_count": 14,
   "id": "9a5aabad-22ac-46cb-aa0a-39eca7f9d95e",
   "metadata": {},
   "outputs": [],
   "source": [
    "# %%time\n",
    "# partial_inputs = inputs_db.take(10)\n",
    "# results_db = db.from_sequence(partial_inputs).map(lambda x: {x[0]: run_modules(x[1], should_run_output_module=False)})\n",
    "# results_db.map(json.dumps).to_textfiles(os.path.join(configuration_output_path, 'results/*.json')) "
   ]
  },
  {
   "cell_type": "markdown",
   "id": "1c41f17b-513e-4474-a00a-57499326a8fb",
   "metadata": {},
   "source": [
    "An example for reading and plotting the results:"
   ]
  },
  {
   "cell_type": "code",
   "execution_count": 15,
   "id": "583c9ef8-aee3-4fa8-b663-3a4f0056cb17",
   "metadata": {},
   "outputs": [],
   "source": [
    "# df = dd.read_json([F\"{configuration_output_path}/results/{i}.json\" for i in range(3)], orient='index')\n",
    "# df[[\"weakest_link_score\", \"average_distance_score\"]].compute().hist()"
   ]
  },
  {
   "cell_type": "code",
   "execution_count": null,
   "id": "ebcbf63a-11cf-4525-9329-622c1c28b83d",
   "metadata": {
    "scrolled": true
   },
   "outputs": [
    {
     "name": "stderr",
     "output_type": "stream",
     "text": [
      "Resource specification for PBS not set, initializing it to select=1:ncpus=4:mem=7630MB\n",
      "Resource specification for PBS not set, initializing it to select=1:ncpus=4:mem=7630MB\n",
      "Resource specification for PBS not set, initializing it to select=1:ncpus=4:mem=7630MB\n",
      "Resource specification for PBS not set, initializing it to select=1:ncpus=4:mem=7630MB\n",
      "Resource specification for PBS not set, initializing it to select=1:ncpus=4:mem=7630MB\n",
      "Resource specification for PBS not set, initializing it to select=1:ncpus=4:mem=7630MB\n",
      "Resource specification for PBS not set, initializing it to select=1:ncpus=4:mem=7630MB\n",
      "Resource specification for PBS not set, initializing it to select=1:ncpus=4:mem=7630MB\n",
      "Resource specification for PBS not set, initializing it to select=1:ncpus=4:mem=7630MB\n",
      "Resource specification for PBS not set, initializing it to select=1:ncpus=4:mem=7630MB\n",
      "Resource specification for PBS not set, initializing it to select=1:ncpus=4:mem=7630MB\n",
      "Resource specification for PBS not set, initializing it to select=1:ncpus=4:mem=7630MB\n",
      "Resource specification for PBS not set, initializing it to select=1:ncpus=4:mem=7630MB\n",
      "Resource specification for PBS not set, initializing it to select=1:ncpus=4:mem=7630MB\n",
      "Resource specification for PBS not set, initializing it to select=1:ncpus=4:mem=7630MB\n",
      "Resource specification for PBS not set, initializing it to select=1:ncpus=4:mem=7630MB\n",
      "Resource specification for PBS not set, initializing it to select=1:ncpus=4:mem=7630MB\n",
      "Resource specification for PBS not set, initializing it to select=1:ncpus=4:mem=7630MB\n",
      "Resource specification for PBS not set, initializing it to select=1:ncpus=4:mem=7630MB\n",
      "Resource specification for PBS not set, initializing it to select=1:ncpus=4:mem=7630MB\n",
      "Resource specification for PBS not set, initializing it to select=1:ncpus=4:mem=7630MB\n",
      "Resource specification for PBS not set, initializing it to select=1:ncpus=4:mem=7630MB\n",
      "Resource specification for PBS not set, initializing it to select=1:ncpus=4:mem=7630MB\n",
      "Resource specification for PBS not set, initializing it to select=1:ncpus=4:mem=7630MB\n",
      "Resource specification for PBS not set, initializing it to select=1:ncpus=4:mem=7630MB\n",
      "Resource specification for PBS not set, initializing it to select=1:ncpus=4:mem=7630MB\n",
      "Resource specification for PBS not set, initializing it to select=1:ncpus=4:mem=7630MB\n",
      "Resource specification for PBS not set, initializing it to select=1:ncpus=4:mem=7630MB\n",
      "Resource specification for PBS not set, initializing it to select=1:ncpus=4:mem=7630MB\n",
      "Resource specification for PBS not set, initializing it to select=1:ncpus=4:mem=7630MB\n",
      "Resource specification for PBS not set, initializing it to select=1:ncpus=4:mem=7630MB\n",
      "Resource specification for PBS not set, initializing it to select=1:ncpus=4:mem=7630MB\n",
      "Resource specification for PBS not set, initializing it to select=1:ncpus=4:mem=7630MB\n",
      "Resource specification for PBS not set, initializing it to select=1:ncpus=4:mem=7630MB\n",
      "Resource specification for PBS not set, initializing it to select=1:ncpus=4:mem=7630MB\n",
      "Resource specification for PBS not set, initializing it to select=1:ncpus=4:mem=7630MB\n",
      "Resource specification for PBS not set, initializing it to select=1:ncpus=4:mem=7630MB\n",
      "Resource specification for PBS not set, initializing it to select=1:ncpus=4:mem=7630MB\n",
      "Resource specification for PBS not set, initializing it to select=1:ncpus=4:mem=7630MB\n",
      "Resource specification for PBS not set, initializing it to select=1:ncpus=4:mem=7630MB\n",
      "Resource specification for PBS not set, initializing it to select=1:ncpus=4:mem=7630MB\n",
      "Resource specification for PBS not set, initializing it to select=1:ncpus=4:mem=7630MB\n",
      "Resource specification for PBS not set, initializing it to select=1:ncpus=4:mem=7630MB\n",
      "Resource specification for PBS not set, initializing it to select=1:ncpus=4:mem=7630MB\n",
      "Resource specification for PBS not set, initializing it to select=1:ncpus=4:mem=7630MB\n",
      "Resource specification for PBS not set, initializing it to select=1:ncpus=4:mem=7630MB\n",
      "Resource specification for PBS not set, initializing it to select=1:ncpus=4:mem=7630MB\n",
      "Resource specification for PBS not set, initializing it to select=1:ncpus=4:mem=7630MB\n",
      "Resource specification for PBS not set, initializing it to select=1:ncpus=4:mem=7630MB\n",
      "Resource specification for PBS not set, initializing it to select=1:ncpus=4:mem=7630MB\n",
      "Resource specification for PBS not set, initializing it to select=1:ncpus=4:mem=7630MB\n",
      "Resource specification for PBS not set, initializing it to select=1:ncpus=4:mem=7630MB\n",
      "Resource specification for PBS not set, initializing it to select=1:ncpus=4:mem=7630MB\n",
      "Resource specification for PBS not set, initializing it to select=1:ncpus=4:mem=7630MB\n",
      "Resource specification for PBS not set, initializing it to select=1:ncpus=4:mem=7630MB\n",
      "Resource specification for PBS not set, initializing it to select=1:ncpus=4:mem=7630MB\n",
      "Resource specification for PBS not set, initializing it to select=1:ncpus=4:mem=7630MB\n",
      "Resource specification for PBS not set, initializing it to select=1:ncpus=4:mem=7630MB\n",
      "Resource specification for PBS not set, initializing it to select=1:ncpus=4:mem=7630MB\n",
      "Resource specification for PBS not set, initializing it to select=1:ncpus=4:mem=7630MB\n",
      "Resource specification for PBS not set, initializing it to select=1:ncpus=4:mem=7630MB\n",
      "Resource specification for PBS not set, initializing it to select=1:ncpus=4:mem=7630MB\n",
      "Resource specification for PBS not set, initializing it to select=1:ncpus=4:mem=7630MB\n",
      "Resource specification for PBS not set, initializing it to select=1:ncpus=4:mem=7630MB\n",
      "Resource specification for PBS not set, initializing it to select=1:ncpus=4:mem=7630MB\n",
      "Resource specification for PBS not set, initializing it to select=1:ncpus=4:mem=7630MB\n",
      "Resource specification for PBS not set, initializing it to select=1:ncpus=4:mem=7630MB\n",
      "Resource specification for PBS not set, initializing it to select=1:ncpus=4:mem=7630MB\n",
      "Resource specification for PBS not set, initializing it to select=1:ncpus=4:mem=7630MB\n",
      "Resource specification for PBS not set, initializing it to select=1:ncpus=4:mem=7630MB\n",
      "Resource specification for PBS not set, initializing it to select=1:ncpus=4:mem=7630MB\n",
      "Resource specification for PBS not set, initializing it to select=1:ncpus=4:mem=7630MB\n",
      "Resource specification for PBS not set, initializing it to select=1:ncpus=4:mem=7630MB\n",
      "Resource specification for PBS not set, initializing it to select=1:ncpus=4:mem=7630MB\n",
      "Resource specification for PBS not set, initializing it to select=1:ncpus=4:mem=7630MB\n",
      "Resource specification for PBS not set, initializing it to select=1:ncpus=4:mem=7630MB\n",
      "Resource specification for PBS not set, initializing it to select=1:ncpus=4:mem=7630MB\n",
      "Resource specification for PBS not set, initializing it to select=1:ncpus=4:mem=7630MB\n",
      "Resource specification for PBS not set, initializing it to select=1:ncpus=4:mem=7630MB\n",
      "Resource specification for PBS not set, initializing it to select=1:ncpus=4:mem=7630MB\n",
      "Resource specification for PBS not set, initializing it to select=1:ncpus=4:mem=7630MB\n",
      "Resource specification for PBS not set, initializing it to select=1:ncpus=4:mem=7630MB\n",
      "Resource specification for PBS not set, initializing it to select=1:ncpus=4:mem=7630MB\n",
      "Resource specification for PBS not set, initializing it to select=1:ncpus=4:mem=7630MB\n",
      "Resource specification for PBS not set, initializing it to select=1:ncpus=4:mem=7630MB\n",
      "Resource specification for PBS not set, initializing it to select=1:ncpus=4:mem=7630MB\n",
      "Resource specification for PBS not set, initializing it to select=1:ncpus=4:mem=7630MB\n",
      "Resource specification for PBS not set, initializing it to select=1:ncpus=4:mem=7630MB\n",
      "Resource specification for PBS not set, initializing it to select=1:ncpus=4:mem=7630MB\n",
      "Resource specification for PBS not set, initializing it to select=1:ncpus=4:mem=7630MB\n",
      "Resource specification for PBS not set, initializing it to select=1:ncpus=4:mem=7630MB\n",
      "Resource specification for PBS not set, initializing it to select=1:ncpus=4:mem=7630MB\n",
      "Resource specification for PBS not set, initializing it to select=1:ncpus=4:mem=7630MB\n",
      "Resource specification for PBS not set, initializing it to select=1:ncpus=4:mem=7630MB\n",
      "Resource specification for PBS not set, initializing it to select=1:ncpus=4:mem=7630MB\n",
      "Resource specification for PBS not set, initializing it to select=1:ncpus=4:mem=7630MB\n",
      "Resource specification for PBS not set, initializing it to select=1:ncpus=4:mem=7630MB\n",
      "Resource specification for PBS not set, initializing it to select=1:ncpus=4:mem=7630MB\n",
      "Resource specification for PBS not set, initializing it to select=1:ncpus=4:mem=7630MB\n",
      "Resource specification for PBS not set, initializing it to select=1:ncpus=4:mem=7630MB\n",
      "Resource specification for PBS not set, initializing it to select=1:ncpus=4:mem=7630MB\n",
      "Resource specification for PBS not set, initializing it to select=1:ncpus=4:mem=7630MB\n",
      "Resource specification for PBS not set, initializing it to select=1:ncpus=4:mem=7630MB\n",
      "Resource specification for PBS not set, initializing it to select=1:ncpus=4:mem=7630MB\n",
      "Resource specification for PBS not set, initializing it to select=1:ncpus=4:mem=7630MB\n",
      "Resource specification for PBS not set, initializing it to select=1:ncpus=4:mem=7630MB\n",
      "Resource specification for PBS not set, initializing it to select=1:ncpus=4:mem=7630MB\n",
      "Resource specification for PBS not set, initializing it to select=1:ncpus=4:mem=7630MB\n",
      "Resource specification for PBS not set, initializing it to select=1:ncpus=4:mem=7630MB\n",
      "Resource specification for PBS not set, initializing it to select=1:ncpus=4:mem=7630MB\n",
      "Resource specification for PBS not set, initializing it to select=1:ncpus=4:mem=7630MB\n",
      "Resource specification for PBS not set, initializing it to select=1:ncpus=4:mem=7630MB\n",
      "Resource specification for PBS not set, initializing it to select=1:ncpus=4:mem=7630MB\n",
      "Resource specification for PBS not set, initializing it to select=1:ncpus=4:mem=7630MB\n"
     ]
    }
   ],
   "source": [
    "%%time\n",
    "results_db = inputs_db.map(lambda x: {x[0]: run_modules(x[1], should_run_output_module=False)})\n",
    "results_db.map(json.dumps).to_textfiles(os.path.join(configuration_output_path, 'results/*.json')) "
   ]
  },
  {
   "cell_type": "code",
   "execution_count": 1,
   "id": "a5a2d822-b085-4fc0-8ef3-746f64c997db",
   "metadata": {},
   "outputs": [],
   "source": [
    "def parse_res(file_path):\n",
    "    with open(file_path, \"r\") as res:\n",
    "        content = res.readlines()\n",
    "\n",
    "    with open(file_path, \"w\") as res:\n",
    "        for i in range(len(content)):\n",
    "            clean_content = content[i].strip(\"\\n\")\n",
    "            if i == 0:\n",
    "                res.write(\"[\" + clean_content + \",\")\n",
    "            elif i == len(content) - 1:\n",
    "                res.write(clean_content + \"]\")\n",
    "            else:\n",
    "                res.write(clean_content + \",\")"
   ]
  },
  {
   "cell_type": "code",
   "execution_count": 11,
   "id": "e0696439-5b85-442a-baef-7ff90882191d",
   "metadata": {},
   "outputs": [],
   "source": [
    "results_dir = os.path.join(configuration_output_path, 'results')\n",
    "result_files = [F\"{results_dir}/{file}\" for file in os.listdir(results_dir)]\n",
    "for file in result_files:\n",
    "    if file.endswith(\".json\"):\n",
    "        parse_res(file)   "
   ]
  },
  {
   "cell_type": "code",
   "execution_count": 19,
   "id": "8602bfe0-fcaf-456c-ace8-b5151bd04189",
   "metadata": {},
   "outputs": [],
   "source": [
    "# results_dir = F\"{configuration_output_path}/results/\"\n",
    "# df = dd.read_json([F\"{results_dir}/{file}\" for file in os.listdir(results_dir)], orient='records', lines=True)\n",
    "# df[[\"weakest_link_score\", \"average_distance_score\"]].compute().hist()"
   ]
  },
  {
   "cell_type": "code",
   "execution_count": 13,
   "id": "bfb1ca4f-1b7c-44d6-8dc7-a19fab6665cd",
   "metadata": {},
   "outputs": [],
   "source": [
    "results_dir = \"analysis/results/endogenous_genes/wanted_Paenibacillus-prosopidis_Arthrobacter-luteolus_unwanted_Yonghaparkia-alkaliphila_Brevibacterium-frigoritolerans/Paenibacillus-prosopidis/zscore_bulk_aa_ratio/\"\n",
    "result_files = [F\"{results_dir}/{file}\" for file in os.listdir(results_dir)]\n",
    "for file in result_files:\n",
    "    if file.endswith(\".json\"):\n",
    "        parse_res(file)   "
   ]
  },
  {
   "cell_type": "code",
   "execution_count": null,
   "id": "0a348b61-8190-4ae3-8528-89a89d779db5",
   "metadata": {},
   "outputs": [],
   "source": [
    "def fix_res(file_path):\n",
    "    with open(file_path, \"r\") as res:\n",
    "        content = res.readlines()\n",
    "\n",
    "    with open(file_path, \"w\") as res:\n",
    "        clean_content = content[i].strip(\"\\n\")\n",
    "        clean_content.replace(\",\\n,\", \",\")\n",
    "        for i in range(len(content)):\n",
    "            if i == len(content) - 1:\n",
    "                res.write(clean_content + \"]\")\n",
    "            else:\n",
    "                res.write(clean_content + \",\")"
   ]
  }
 ],
 "metadata": {
  "kernelspec": {
   "display_name": "Python 3 (ipykernel)",
   "language": "python",
   "name": "python3"
  },
  "language_info": {
   "codemirror_mode": {
    "name": "ipython",
    "version": 3
   },
   "file_extension": ".py",
   "mimetype": "text/x-python",
   "name": "python",
   "nbconvert_exporter": "python",
   "pygments_lexer": "ipython3",
   "version": "3.9.12"
  }
 },
 "nbformat": 4,
 "nbformat_minor": 5
}
