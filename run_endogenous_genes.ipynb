{
 "cells": [
  {
   "cell_type": "code",
   "execution_count": 18,
   "id": "35d5e0fc",
   "metadata": {},
   "outputs": [],
   "source": [
    "import os\n",
    "import typing"
   ]
  },
  {
   "cell_type": "markdown",
   "id": "cf29e19b",
   "metadata": {},
   "source": [
    "# Dask Configuration"
   ]
  },
  {
   "cell_type": "code",
   "execution_count": 4,
   "id": "fb84c395",
   "metadata": {},
   "outputs": [
    {
     "name": "stderr",
     "output_type": "stream",
     "text": [
      "Resource specification for PBS not set, initializing it to select=1:ncpus=4:mem=7630MB\n",
      "State start\n",
      "Found stale lock file and directory '/var/tmp/pbs.3210720.power9.tau.ac.il/dask-scratch-space/scheduler-urr7zahc', purging\n",
      "  Scheduler at: tcp://132.66.112.146:45105\n",
      "  dashboard at:  http://132.66.112.146:12435/status\n"
     ]
    }
   ],
   "source": [
    "from dask_jobqueue import PBSCluster\n",
    "from pathlib import Path\n",
    "\n",
    "# Define the working directory path\n",
    "working_directory = str(Path.cwd())\n",
    "\n",
    "# Launch a scheduler and workers on HPC via PBS\n",
    "cluster = PBSCluster(\n",
    "     cores=4,\n",
    "     memory=\"8GB\",\n",
    "     processes=1,\n",
    "     queue=\"tamirQ\",\n",
    "     walltime=\"02:30:00\",\n",
    "     scheduler_options={\"dashboard_address\": \":12435\"},  # FIXME - this is the port we need to define...\n",
    "     # Additional custom options\n",
    "     log_directory=\"dask-logs\",\n",
    "     #worker_extra_args=[\"--lifetime\", \"25m\", \"--lifetime-stagger\", \"4m\"],  # for walltime=\"00:30:00\"\n",
    "     job_script_prologue=[f\"cd {working_directory}\"]\n",
    ")"
   ]
  },
  {
   "cell_type": "code",
   "execution_count": 5,
   "id": "5a38fac3",
   "metadata": {},
   "outputs": [
    {
     "data": {
      "application/vnd.jupyter.widget-view+json": {
       "model_id": "72a54010e12842dcac975a1ac6c529ca",
       "version_major": 2,
       "version_minor": 0
      },
      "text/html": [
       "<div class=\"jp-RenderedHTMLCommon jp-RenderedHTML jp-mod-trusted jp-OutputArea-output\">\n",
       "    <div style=\"width: 24px; height: 24px; background-color: #e1e1e1; border: 3px solid #9D9D9D; border-radius: 5px; position: absolute;\">\n",
       "    </div>\n",
       "    <div style=\"margin-left: 48px;\">\n",
       "        <h3 style=\"margin-bottom: 0px; margin-top: 0px;\">PBSCluster</h3>\n",
       "        <p style=\"color: #9D9D9D; margin-bottom: 0px;\">d417a1ba</p>\n",
       "        <table style=\"width: 100%; text-align: left;\">\n",
       "            <tr>\n",
       "                <td style=\"text-align: left;\">\n",
       "                    <strong>Dashboard:</strong> <a href=\"http://132.66.112.146:12435/status\" target=\"_blank\">http://132.66.112.146:12435/status</a>\n",
       "                </td>\n",
       "                <td style=\"text-align: left;\">\n",
       "                    <strong>Workers:</strong> 0\n",
       "                </td>\n",
       "            </tr>\n",
       "            <tr>\n",
       "                <td style=\"text-align: left;\">\n",
       "                    <strong>Total threads:</strong> 0\n",
       "                </td>\n",
       "                <td style=\"text-align: left;\">\n",
       "                    <strong>Total memory:</strong> 0 B\n",
       "                </td>\n",
       "            </tr>\n",
       "            \n",
       "        </table>\n",
       "\n",
       "        <details>\n",
       "            <summary style=\"margin-bottom: 20px;\">\n",
       "                <h3 style=\"display: inline;\">Scheduler Info</h3>\n",
       "            </summary>\n",
       "\n",
       "            <div style=\"\">\n",
       "    <div>\n",
       "        <div style=\"width: 24px; height: 24px; background-color: #FFF7E5; border: 3px solid #FF6132; border-radius: 5px; position: absolute;\"> </div>\n",
       "        <div style=\"margin-left: 48px;\">\n",
       "            <h3 style=\"margin-bottom: 0px;\">Scheduler</h3>\n",
       "            <p style=\"color: #9D9D9D; margin-bottom: 0px;\">Scheduler-e4871242-d730-4b7d-ace5-963b1bc6a304</p>\n",
       "            <table style=\"width: 100%; text-align: left;\">\n",
       "                <tr>\n",
       "                    <td style=\"text-align: left;\">\n",
       "                        <strong>Comm:</strong> tcp://132.66.112.146:45105\n",
       "                    </td>\n",
       "                    <td style=\"text-align: left;\">\n",
       "                        <strong>Workers:</strong> 0\n",
       "                    </td>\n",
       "                </tr>\n",
       "                <tr>\n",
       "                    <td style=\"text-align: left;\">\n",
       "                        <strong>Dashboard:</strong> <a href=\"http://132.66.112.146:12435/status\" target=\"_blank\">http://132.66.112.146:12435/status</a>\n",
       "                    </td>\n",
       "                    <td style=\"text-align: left;\">\n",
       "                        <strong>Total threads:</strong> 0\n",
       "                    </td>\n",
       "                </tr>\n",
       "                <tr>\n",
       "                    <td style=\"text-align: left;\">\n",
       "                        <strong>Started:</strong> Just now\n",
       "                    </td>\n",
       "                    <td style=\"text-align: left;\">\n",
       "                        <strong>Total memory:</strong> 0 B\n",
       "                    </td>\n",
       "                </tr>\n",
       "            </table>\n",
       "        </div>\n",
       "    </div>\n",
       "\n",
       "    <details style=\"margin-left: 48px;\">\n",
       "        <summary style=\"margin-bottom: 20px;\">\n",
       "            <h3 style=\"display: inline;\">Workers</h3>\n",
       "        </summary>\n",
       "\n",
       "        \n",
       "\n",
       "    </details>\n",
       "</div>\n",
       "\n",
       "        </details>\n",
       "    </div>\n",
       "</div>"
      ],
      "text/plain": [
       "PBSCluster(d417a1ba, 'tcp://132.66.112.146:45105', workers=0, threads=0, memory=0 B)"
      ]
     },
     "metadata": {},
     "output_type": "display_data"
    }
   ],
   "source": [
    "cluster"
   ]
  },
  {
   "cell_type": "code",
   "execution_count": 6,
   "id": "6651b963",
   "metadata": {},
   "outputs": [
    {
     "name": "stderr",
     "output_type": "stream",
     "text": [
      "Adaptive scaling started: minimum=30 maximum=60\n",
      "Resource specification for PBS not set, initializing it to select=1:ncpus=4:mem=7630MB\n"
     ]
    },
    {
     "name": "stdout",
     "output_type": "stream",
     "text": [
      "#!/usr/bin/env bash\n",
      "\n",
      "#PBS -N dask-worker\n",
      "#PBS -q tamirQ\n",
      "#PBS -l select=1:ncpus=4:mem=7630MB\n",
      "#PBS -l walltime=02:30:00\n",
      "#PBS -e dask-logs/\n",
      "#PBS -o dask-logs/\n",
      "cd /tamir2/moranb/microbiome/Igem_TAU_2021\n",
      "/tamir2/moranb/microbiome/Igem_TAU_2021/venv/bin/python -m distributed.cli.dask_worker tcp://132.66.112.146:45105 --nthreads 4 --memory-limit 7.45GiB --name dummy-name --nanny --death-timeout 60\n",
      "\n"
     ]
    }
   ],
   "source": [
    "cluster.adapt(minimum=30, maximum=60)\n",
    "print(cluster.job_script())"
   ]
  },
  {
   "cell_type": "code",
   "execution_count": 7,
   "id": "9d0c34b7",
   "metadata": {},
   "outputs": [
    {
     "name": "stderr",
     "output_type": "stream",
     "text": [
      "Receive client connection: Client-51f67ca1-af2a-11ee-8643-b4969140d316\n",
      "Starting established connection to tcp://132.66.112.146:54338\n"
     ]
    }
   ],
   "source": [
    "from dask.distributed import Client, progress, wait, get_client, get_worker\n",
    "client = Client(cluster)"
   ]
  },
  {
   "cell_type": "code",
   "execution_count": 8,
   "id": "ae880ed1",
   "metadata": {},
   "outputs": [
    {
     "data": {
      "text/html": [
       "<div>\n",
       "    <div style=\"width: 24px; height: 24px; background-color: #e1e1e1; border: 3px solid #9D9D9D; border-radius: 5px; position: absolute;\"> </div>\n",
       "    <div style=\"margin-left: 48px;\">\n",
       "        <h3 style=\"margin-bottom: 0px;\">Client</h3>\n",
       "        <p style=\"color: #9D9D9D; margin-bottom: 0px;\">Client-51f67ca1-af2a-11ee-8643-b4969140d316</p>\n",
       "        <table style=\"width: 100%; text-align: left;\">\n",
       "\n",
       "        <tr>\n",
       "        \n",
       "            <td style=\"text-align: left;\"><strong>Connection method:</strong> Cluster object</td>\n",
       "            <td style=\"text-align: left;\"><strong>Cluster type:</strong> dask_jobqueue.PBSCluster</td>\n",
       "        \n",
       "        </tr>\n",
       "\n",
       "        \n",
       "            <tr>\n",
       "                <td style=\"text-align: left;\">\n",
       "                    <strong>Dashboard: </strong> <a href=\"http://132.66.112.146:12435/status\" target=\"_blank\">http://132.66.112.146:12435/status</a>\n",
       "                </td>\n",
       "                <td style=\"text-align: left;\"></td>\n",
       "            </tr>\n",
       "        \n",
       "\n",
       "        </table>\n",
       "\n",
       "        \n",
       "            <button style=\"margin-bottom: 12px;\" data-commandlinker-command=\"dask:populate-and-launch-layout\" data-commandlinker-args='{\"url\": \"http://132.66.112.146:12435/status\" }'>\n",
       "                Launch dashboard in JupyterLab\n",
       "            </button>\n",
       "        \n",
       "\n",
       "        \n",
       "            <details>\n",
       "            <summary style=\"margin-bottom: 20px;\"><h3 style=\"display: inline;\">Cluster Info</h3></summary>\n",
       "            <div class=\"jp-RenderedHTMLCommon jp-RenderedHTML jp-mod-trusted jp-OutputArea-output\">\n",
       "    <div style=\"width: 24px; height: 24px; background-color: #e1e1e1; border: 3px solid #9D9D9D; border-radius: 5px; position: absolute;\">\n",
       "    </div>\n",
       "    <div style=\"margin-left: 48px;\">\n",
       "        <h3 style=\"margin-bottom: 0px; margin-top: 0px;\">PBSCluster</h3>\n",
       "        <p style=\"color: #9D9D9D; margin-bottom: 0px;\">d417a1ba</p>\n",
       "        <table style=\"width: 100%; text-align: left;\">\n",
       "            <tr>\n",
       "                <td style=\"text-align: left;\">\n",
       "                    <strong>Dashboard:</strong> <a href=\"http://132.66.112.146:12435/status\" target=\"_blank\">http://132.66.112.146:12435/status</a>\n",
       "                </td>\n",
       "                <td style=\"text-align: left;\">\n",
       "                    <strong>Workers:</strong> 0\n",
       "                </td>\n",
       "            </tr>\n",
       "            <tr>\n",
       "                <td style=\"text-align: left;\">\n",
       "                    <strong>Total threads:</strong> 0\n",
       "                </td>\n",
       "                <td style=\"text-align: left;\">\n",
       "                    <strong>Total memory:</strong> 0 B\n",
       "                </td>\n",
       "            </tr>\n",
       "            \n",
       "        </table>\n",
       "\n",
       "        <details>\n",
       "            <summary style=\"margin-bottom: 20px;\">\n",
       "                <h3 style=\"display: inline;\">Scheduler Info</h3>\n",
       "            </summary>\n",
       "\n",
       "            <div style=\"\">\n",
       "    <div>\n",
       "        <div style=\"width: 24px; height: 24px; background-color: #FFF7E5; border: 3px solid #FF6132; border-radius: 5px; position: absolute;\"> </div>\n",
       "        <div style=\"margin-left: 48px;\">\n",
       "            <h3 style=\"margin-bottom: 0px;\">Scheduler</h3>\n",
       "            <p style=\"color: #9D9D9D; margin-bottom: 0px;\">Scheduler-e4871242-d730-4b7d-ace5-963b1bc6a304</p>\n",
       "            <table style=\"width: 100%; text-align: left;\">\n",
       "                <tr>\n",
       "                    <td style=\"text-align: left;\">\n",
       "                        <strong>Comm:</strong> tcp://132.66.112.146:45105\n",
       "                    </td>\n",
       "                    <td style=\"text-align: left;\">\n",
       "                        <strong>Workers:</strong> 0\n",
       "                    </td>\n",
       "                </tr>\n",
       "                <tr>\n",
       "                    <td style=\"text-align: left;\">\n",
       "                        <strong>Dashboard:</strong> <a href=\"http://132.66.112.146:12435/status\" target=\"_blank\">http://132.66.112.146:12435/status</a>\n",
       "                    </td>\n",
       "                    <td style=\"text-align: left;\">\n",
       "                        <strong>Total threads:</strong> 0\n",
       "                    </td>\n",
       "                </tr>\n",
       "                <tr>\n",
       "                    <td style=\"text-align: left;\">\n",
       "                        <strong>Started:</strong> Just now\n",
       "                    </td>\n",
       "                    <td style=\"text-align: left;\">\n",
       "                        <strong>Total memory:</strong> 0 B\n",
       "                    </td>\n",
       "                </tr>\n",
       "            </table>\n",
       "        </div>\n",
       "    </div>\n",
       "\n",
       "    <details style=\"margin-left: 48px;\">\n",
       "        <summary style=\"margin-bottom: 20px;\">\n",
       "            <h3 style=\"display: inline;\">Workers</h3>\n",
       "        </summary>\n",
       "\n",
       "        \n",
       "\n",
       "    </details>\n",
       "</div>\n",
       "\n",
       "        </details>\n",
       "    </div>\n",
       "</div>\n",
       "            </details>\n",
       "        \n",
       "\n",
       "    </div>\n",
       "</div>"
      ],
      "text/plain": [
       "<Client: 'tcp://132.66.112.146:45105' processes=0 threads=0, memory=0 B>"
      ]
     },
     "execution_count": 8,
     "metadata": {},
     "output_type": "execute_result"
    }
   ],
   "source": [
    "client"
   ]
  },
  {
   "cell_type": "code",
   "execution_count": 9,
   "id": "71b593ab",
   "metadata": {},
   "outputs": [],
   "source": [
    "import dask.bag as db\n",
    "import dask.dataframe as dd\n",
    "from dask import delayed, compute, persist\n",
    "import json\n",
    "import matplotlib\n",
    "import numpy as np\n",
    "import pandas as pd"
   ]
  },
  {
   "cell_type": "markdown",
   "id": "dd534927",
   "metadata": {},
   "source": [
    "# Analysis for endogenous genes"
   ]
  },
  {
   "cell_type": "code",
   "execution_count": 10,
   "id": "93df8b27",
   "metadata": {},
   "outputs": [],
   "source": [
    "output_path = \"/tamir2/moranb/microbiome/Igem_TAU_2021/analysis/results/endogenous_genes\""
   ]
  },
  {
   "cell_type": "code",
   "execution_count": 29,
   "id": "0340dea6-2b90-45e2-ae7f-0f5827be77cc",
   "metadata": {},
   "outputs": [],
   "source": [
    "def get_orf_summary(summary: typing.Dict[str, typing.Any], evaluation_method: str = \"average_distance_score\") -> typing.Dict[str, typing.Any]:\n",
    "    if len(summary[\"evaluation\"]) == 1:\n",
    "        return summary[\"orf\"]\n",
    "    final_evaluation = summary[\"final_evaluation\"]\n",
    "    for i, evaluation_summary in enumerate(summary[\"evaluation\"]):\n",
    "        if evaluation_summary[evaluation_method] == final_evaluation[evaluation_method]:\n",
    "            return summary[\"orf\"][i]"
   ]
  },
  {
   "cell_type": "code",
   "execution_count": 20,
   "id": "2dbb9b66",
   "metadata": {},
   "outputs": [],
   "source": [
    "def convert_to_json_result(x):\n",
    "    gene_name = x[0]\n",
    "    result = run_modules(x[1], should_run_output_module=False)\n",
    "    if \"orf\" not in result:\n",
    "        return result\n",
    "    orf = get_orf_summary(result)\n",
    "    return {\n",
    "        \"initial_optimization_score\": orf.get(\"initial_sequence_optimization_score\"),\n",
    "        \"final_optimization_score\": orf.get(\"final_sequence_optimization_score\"),\n",
    "        \"average_distance_score\": result[\"final_evaluation\"].get(\"average_distance_score\"),\n",
    "        \"average_distance_non_normalized_score\": result[\"final_evaluation\"].get(\"average_distance_non_normalized_score\"),\n",
    "        \"weakest_link_score\": result[\"final_evaluation\"].get(\"weakest_link_score\"),\n",
    "        \"ratio_score\": result[\"final_evaluation\"].get(\"ratio_score\"),\n",
    "        \"gene_name\": gene_name,\n",
    "    }"
   ]
  },
  {
   "cell_type": "code",
   "execution_count": 12,
   "id": "976f6552",
   "metadata": {},
   "outputs": [],
   "source": [
    "def test_partial(x):\n",
    "    gene_name = x[0]\n",
    "    result = run_modules(x[1], should_run_output_module=False)\n",
    "    return result"
   ]
  },
  {
   "cell_type": "code",
   "execution_count": 13,
   "id": "c05f471e",
   "metadata": {},
   "outputs": [],
   "source": [
    "from Bio import SeqIO\n",
    "from analysis.orf_model_analysis.input_testing_data.generate_input_testing_data_for_modules import generate_testing_data\n",
    "from analysis.orf_model_analysis.input_testing_data.generate_input_testing_data_for_modules import generate_testing_data_for_ecoli_and_bacillus\n",
    "\n",
    "from modules.main import run_modules"
   ]
  },
  {
   "cell_type": "markdown",
   "id": "f425d4e8",
   "metadata": {},
   "source": [
    "## Bacillus and E.coli"
   ]
  },
  {
   "cell_type": "code",
   "execution_count": 30,
   "id": "7f4d1bb9",
   "metadata": {},
   "outputs": [],
   "source": [
    "organism = \"Escherichia-coli\"\n",
    "optimization_cub_index = \"CAI\"\n",
    "is_ecoli_optimized = True\n",
    "\n",
    "# organism = \"Bacillus-subtilis\"\n",
    "fasta_file_path = f\"/tamir2/moranb/microbiome/Igem_TAU_2021/analysis/example_data/{organism}.fasta\"\n",
    "with open(fasta_file_path, \"r\") as fasta_handle:\n",
    "    genome_dict = SeqIO.to_dict(SeqIO.parse(fasta_handle, \"fasta\"),  lambda r: r.description)\n",
    "\n",
    "for optimization_method in [\n",
    "    \"single_codon_diff\", \n",
    "    \"single_codon_ratio\", \n",
    "    \"zscore_bulk_aa_diff\",\n",
    "    \"zscore_single_aa_diff\",\n",
    "    \"zscore_bulk_aa_ratio\",\n",
    "    \"zscore_single_aa_ratio\",\n",
    "]:\n",
    "# optimization_method = \"single_codon_ratio\"\n",
    "    configuration = f\"e_coli_optimized_{is_ecoli_optimized}_bacillus_optimized_{not is_ecoli_optimized}\"\n",
    "    configuration_output_path = os.path.join(output_path, configuration, organism)\n",
    "    \n",
    "    inputs = [(gene_name, \n",
    "               generate_testing_data_for_ecoli_and_bacillus(\n",
    "                   optimization_method=optimization_method,\n",
    "                   optimization_cub_index=optimization_cub_index,\n",
    "                   is_ecoli_optimized=is_ecoli_optimized,\n",
    "                   tuning_param=0.5, \n",
    "                   sequence=str(orf_sequence.seq),\n",
    "                   output_path=os.path.join(configuration_output_path,gene_name),\n",
    "                   evaluation_score=\"average_distance\",\n",
    "               )) for gene_name, orf_sequence in genome_dict.items()]\n",
    "\n",
    "    inputs = inputs[:3]\n",
    "    inputs_series = pd.Series(inputs)\n",
    "    inputs_db = db.from_sequence(inputs)\n",
    "\n",
    "    results_db = inputs_db.map(convert_to_json_result)\n",
    "    results_db.map(json.dumps).to_textfiles(os.path.join(configuration_output_path,optimization_method, '*.json'))"
   ]
  },
  {
   "cell_type": "code",
   "execution_count": null,
   "id": "743088d9-6ea0-4706-b66b-91976624ba0d",
   "metadata": {},
   "outputs": [],
   "source": [
    "result = run_modules(inputs[0][1], should_run_output_module=False)\n",
    "orf = get_orf_summary(result)"
   ]
  }
 ],
 "metadata": {
  "kernelspec": {
   "display_name": "Python 3 (ipykernel)",
   "language": "python",
   "name": "python3"
  },
  "language_info": {
   "codemirror_mode": {
    "name": "ipython",
    "version": 3
   },
   "file_extension": ".py",
   "mimetype": "text/x-python",
   "name": "python",
   "nbconvert_exporter": "python",
   "pygments_lexer": "ipython3",
   "version": "3.9.12"
  }
 },
 "nbformat": 4,
 "nbformat_minor": 5
}
