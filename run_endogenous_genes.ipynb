{
 "cells": [
  {
   "cell_type": "code",
   "execution_count": 1,
   "id": "35d5e0fc",
   "metadata": {},
   "outputs": [],
   "source": [
    "import os\n",
    "import typing"
   ]
  },
  {
   "cell_type": "markdown",
   "id": "cf29e19b",
   "metadata": {},
   "source": [
    "# Dask Configuration"
   ]
  },
  {
   "cell_type": "code",
   "execution_count": 2,
   "id": "fb84c395",
   "metadata": {},
   "outputs": [],
   "source": [
    "from dask_jobqueue import PBSCluster\n",
    "from pathlib import Path\n",
    "\n",
    "# Define the working directory path\n",
    "working_directory = str(Path.cwd())\n",
    "\n",
    "# Launch a scheduler and workers on HPC via PBS\n",
    "cluster = PBSCluster(\n",
    "     cores=4,\n",
    "     memory=\"8GB\",\n",
    "     processes=1,\n",
    "     queue=\"tamirQ\",\n",
    "     walltime=\"02:30:00\",\n",
    "     scheduler_options={\"dashboard_address\": \":12435\"},  # FIXME - this is the port we need to define...\n",
    "     # Additional custom options\n",
    "     log_directory=\"dask-logs\",\n",
    "     #worker_extra_args=[\"--lifetime\", \"25m\", \"--lifetime-stagger\", \"4m\"],  # for walltime=\"00:30:00\"\n",
    "     job_script_prologue=[f\"cd {working_directory}\"]\n",
    ")"
   ]
  },
  {
   "cell_type": "code",
   "execution_count": 3,
   "id": "5a38fac3",
   "metadata": {},
   "outputs": [
    {
     "data": {
      "application/vnd.jupyter.widget-view+json": {
       "model_id": "5900af857ba948f796c21c5e57acf68e",
       "version_major": 2,
       "version_minor": 0
      },
      "text/html": [
       "<div class=\"jp-RenderedHTMLCommon jp-RenderedHTML jp-mod-trusted jp-OutputArea-output\">\n",
       "    <div style=\"width: 24px; height: 24px; background-color: #e1e1e1; border: 3px solid #9D9D9D; border-radius: 5px; position: absolute;\">\n",
       "    </div>\n",
       "    <div style=\"margin-left: 48px;\">\n",
       "        <h3 style=\"margin-bottom: 0px; margin-top: 0px;\">PBSCluster</h3>\n",
       "        <p style=\"color: #9D9D9D; margin-bottom: 0px;\">57b8e189</p>\n",
       "        <table style=\"width: 100%; text-align: left;\">\n",
       "            <tr>\n",
       "                <td style=\"text-align: left;\">\n",
       "                    <strong>Dashboard:</strong> <a href=\"http://132.66.112.146:12435/status\" target=\"_blank\">http://132.66.112.146:12435/status</a>\n",
       "                </td>\n",
       "                <td style=\"text-align: left;\">\n",
       "                    <strong>Workers:</strong> 0\n",
       "                </td>\n",
       "            </tr>\n",
       "            <tr>\n",
       "                <td style=\"text-align: left;\">\n",
       "                    <strong>Total threads:</strong> 0\n",
       "                </td>\n",
       "                <td style=\"text-align: left;\">\n",
       "                    <strong>Total memory:</strong> 0 B\n",
       "                </td>\n",
       "            </tr>\n",
       "            \n",
       "        </table>\n",
       "\n",
       "        <details>\n",
       "            <summary style=\"margin-bottom: 20px;\">\n",
       "                <h3 style=\"display: inline;\">Scheduler Info</h3>\n",
       "            </summary>\n",
       "\n",
       "            <div style=\"\">\n",
       "    <div>\n",
       "        <div style=\"width: 24px; height: 24px; background-color: #FFF7E5; border: 3px solid #FF6132; border-radius: 5px; position: absolute;\"> </div>\n",
       "        <div style=\"margin-left: 48px;\">\n",
       "            <h3 style=\"margin-bottom: 0px;\">Scheduler</h3>\n",
       "            <p style=\"color: #9D9D9D; margin-bottom: 0px;\">Scheduler-93080bbc-8084-43eb-ae48-edb0cddb8f3b</p>\n",
       "            <table style=\"width: 100%; text-align: left;\">\n",
       "                <tr>\n",
       "                    <td style=\"text-align: left;\">\n",
       "                        <strong>Comm:</strong> tcp://132.66.112.146:42045\n",
       "                    </td>\n",
       "                    <td style=\"text-align: left;\">\n",
       "                        <strong>Workers:</strong> 0\n",
       "                    </td>\n",
       "                </tr>\n",
       "                <tr>\n",
       "                    <td style=\"text-align: left;\">\n",
       "                        <strong>Dashboard:</strong> <a href=\"http://132.66.112.146:12435/status\" target=\"_blank\">http://132.66.112.146:12435/status</a>\n",
       "                    </td>\n",
       "                    <td style=\"text-align: left;\">\n",
       "                        <strong>Total threads:</strong> 0\n",
       "                    </td>\n",
       "                </tr>\n",
       "                <tr>\n",
       "                    <td style=\"text-align: left;\">\n",
       "                        <strong>Started:</strong> Just now\n",
       "                    </td>\n",
       "                    <td style=\"text-align: left;\">\n",
       "                        <strong>Total memory:</strong> 0 B\n",
       "                    </td>\n",
       "                </tr>\n",
       "            </table>\n",
       "        </div>\n",
       "    </div>\n",
       "\n",
       "    <details style=\"margin-left: 48px;\">\n",
       "        <summary style=\"margin-bottom: 20px;\">\n",
       "            <h3 style=\"display: inline;\">Workers</h3>\n",
       "        </summary>\n",
       "\n",
       "        \n",
       "\n",
       "    </details>\n",
       "</div>\n",
       "\n",
       "        </details>\n",
       "    </div>\n",
       "</div>"
      ],
      "text/plain": [
       "PBSCluster(57b8e189, 'tcp://132.66.112.146:42045', workers=0, threads=0, memory=0 B)"
      ]
     },
     "metadata": {},
     "output_type": "display_data"
    }
   ],
   "source": [
    "cluster"
   ]
  },
  {
   "cell_type": "code",
   "execution_count": 4,
   "id": "6651b963",
   "metadata": {},
   "outputs": [
    {
     "name": "stdout",
     "output_type": "stream",
     "text": [
      "#!/usr/bin/env bash\n",
      "\n",
      "#PBS -N dask-worker\n",
      "#PBS -q tamirQ\n",
      "#PBS -l select=1:ncpus=4:mem=7630MB\n",
      "#PBS -l walltime=02:30:00\n",
      "#PBS -e dask-logs/\n",
      "#PBS -o dask-logs/\n",
      "cd /tamir2/moranb/microbiome/Igem_TAU_2021\n",
      "/tamir2/moranb/microbiome/Igem_TAU_2021/venv/bin/python -m distributed.cli.dask_worker tcp://132.66.112.146:42045 --nthreads 4 --memory-limit 7.45GiB --name dummy-name --nanny --death-timeout 60\n",
      "\n"
     ]
    }
   ],
   "source": [
    "cluster.adapt(minimum=30, maximum=60)\n",
    "print(cluster.job_script())"
   ]
  },
  {
   "cell_type": "code",
   "execution_count": 5,
   "id": "9d0c34b7",
   "metadata": {},
   "outputs": [],
   "source": [
    "from dask.distributed import Client, progress, wait, get_client, get_worker\n",
    "client = Client(cluster)"
   ]
  },
  {
   "cell_type": "code",
   "execution_count": 6,
   "id": "ae880ed1",
   "metadata": {},
   "outputs": [
    {
     "data": {
      "text/html": [
       "<div>\n",
       "    <div style=\"width: 24px; height: 24px; background-color: #e1e1e1; border: 3px solid #9D9D9D; border-radius: 5px; position: absolute;\"> </div>\n",
       "    <div style=\"margin-left: 48px;\">\n",
       "        <h3 style=\"margin-bottom: 0px;\">Client</h3>\n",
       "        <p style=\"color: #9D9D9D; margin-bottom: 0px;\">Client-db271219-af32-11ee-88b8-b4969140d316</p>\n",
       "        <table style=\"width: 100%; text-align: left;\">\n",
       "\n",
       "        <tr>\n",
       "        \n",
       "            <td style=\"text-align: left;\"><strong>Connection method:</strong> Cluster object</td>\n",
       "            <td style=\"text-align: left;\"><strong>Cluster type:</strong> dask_jobqueue.PBSCluster</td>\n",
       "        \n",
       "        </tr>\n",
       "\n",
       "        \n",
       "            <tr>\n",
       "                <td style=\"text-align: left;\">\n",
       "                    <strong>Dashboard: </strong> <a href=\"http://132.66.112.146:12435/status\" target=\"_blank\">http://132.66.112.146:12435/status</a>\n",
       "                </td>\n",
       "                <td style=\"text-align: left;\"></td>\n",
       "            </tr>\n",
       "        \n",
       "\n",
       "        </table>\n",
       "\n",
       "        \n",
       "            <button style=\"margin-bottom: 12px;\" data-commandlinker-command=\"dask:populate-and-launch-layout\" data-commandlinker-args='{\"url\": \"http://132.66.112.146:12435/status\" }'>\n",
       "                Launch dashboard in JupyterLab\n",
       "            </button>\n",
       "        \n",
       "\n",
       "        \n",
       "            <details>\n",
       "            <summary style=\"margin-bottom: 20px;\"><h3 style=\"display: inline;\">Cluster Info</h3></summary>\n",
       "            <div class=\"jp-RenderedHTMLCommon jp-RenderedHTML jp-mod-trusted jp-OutputArea-output\">\n",
       "    <div style=\"width: 24px; height: 24px; background-color: #e1e1e1; border: 3px solid #9D9D9D; border-radius: 5px; position: absolute;\">\n",
       "    </div>\n",
       "    <div style=\"margin-left: 48px;\">\n",
       "        <h3 style=\"margin-bottom: 0px; margin-top: 0px;\">PBSCluster</h3>\n",
       "        <p style=\"color: #9D9D9D; margin-bottom: 0px;\">57b8e189</p>\n",
       "        <table style=\"width: 100%; text-align: left;\">\n",
       "            <tr>\n",
       "                <td style=\"text-align: left;\">\n",
       "                    <strong>Dashboard:</strong> <a href=\"http://132.66.112.146:12435/status\" target=\"_blank\">http://132.66.112.146:12435/status</a>\n",
       "                </td>\n",
       "                <td style=\"text-align: left;\">\n",
       "                    <strong>Workers:</strong> 0\n",
       "                </td>\n",
       "            </tr>\n",
       "            <tr>\n",
       "                <td style=\"text-align: left;\">\n",
       "                    <strong>Total threads:</strong> 0\n",
       "                </td>\n",
       "                <td style=\"text-align: left;\">\n",
       "                    <strong>Total memory:</strong> 0 B\n",
       "                </td>\n",
       "            </tr>\n",
       "            \n",
       "        </table>\n",
       "\n",
       "        <details>\n",
       "            <summary style=\"margin-bottom: 20px;\">\n",
       "                <h3 style=\"display: inline;\">Scheduler Info</h3>\n",
       "            </summary>\n",
       "\n",
       "            <div style=\"\">\n",
       "    <div>\n",
       "        <div style=\"width: 24px; height: 24px; background-color: #FFF7E5; border: 3px solid #FF6132; border-radius: 5px; position: absolute;\"> </div>\n",
       "        <div style=\"margin-left: 48px;\">\n",
       "            <h3 style=\"margin-bottom: 0px;\">Scheduler</h3>\n",
       "            <p style=\"color: #9D9D9D; margin-bottom: 0px;\">Scheduler-93080bbc-8084-43eb-ae48-edb0cddb8f3b</p>\n",
       "            <table style=\"width: 100%; text-align: left;\">\n",
       "                <tr>\n",
       "                    <td style=\"text-align: left;\">\n",
       "                        <strong>Comm:</strong> tcp://132.66.112.146:42045\n",
       "                    </td>\n",
       "                    <td style=\"text-align: left;\">\n",
       "                        <strong>Workers:</strong> 0\n",
       "                    </td>\n",
       "                </tr>\n",
       "                <tr>\n",
       "                    <td style=\"text-align: left;\">\n",
       "                        <strong>Dashboard:</strong> <a href=\"http://132.66.112.146:12435/status\" target=\"_blank\">http://132.66.112.146:12435/status</a>\n",
       "                    </td>\n",
       "                    <td style=\"text-align: left;\">\n",
       "                        <strong>Total threads:</strong> 0\n",
       "                    </td>\n",
       "                </tr>\n",
       "                <tr>\n",
       "                    <td style=\"text-align: left;\">\n",
       "                        <strong>Started:</strong> Just now\n",
       "                    </td>\n",
       "                    <td style=\"text-align: left;\">\n",
       "                        <strong>Total memory:</strong> 0 B\n",
       "                    </td>\n",
       "                </tr>\n",
       "            </table>\n",
       "        </div>\n",
       "    </div>\n",
       "\n",
       "    <details style=\"margin-left: 48px;\">\n",
       "        <summary style=\"margin-bottom: 20px;\">\n",
       "            <h3 style=\"display: inline;\">Workers</h3>\n",
       "        </summary>\n",
       "\n",
       "        \n",
       "\n",
       "    </details>\n",
       "</div>\n",
       "\n",
       "        </details>\n",
       "    </div>\n",
       "</div>\n",
       "            </details>\n",
       "        \n",
       "\n",
       "    </div>\n",
       "</div>"
      ],
      "text/plain": [
       "<Client: 'tcp://132.66.112.146:42045' processes=0 threads=0, memory=0 B>"
      ]
     },
     "execution_count": 6,
     "metadata": {},
     "output_type": "execute_result"
    }
   ],
   "source": [
    "client"
   ]
  },
  {
   "cell_type": "code",
   "execution_count": 7,
   "id": "71b593ab",
   "metadata": {},
   "outputs": [],
   "source": [
    "import dask.bag as db\n",
    "import dask.dataframe as dd\n",
    "from dask import delayed, compute, persist\n",
    "import json\n",
    "import matplotlib\n",
    "import numpy as np\n",
    "import pandas as pd"
   ]
  },
  {
   "cell_type": "markdown",
   "id": "dd534927",
   "metadata": {},
   "source": [
    "# Analysis for endogenous genes"
   ]
  },
  {
   "cell_type": "code",
   "execution_count": 8,
   "id": "93df8b27",
   "metadata": {},
   "outputs": [],
   "source": [
    "output_path = \"/tamir2/moranb/microbiome/Igem_TAU_2021/analysis/results/endogenous_genes\""
   ]
  },
  {
   "cell_type": "code",
   "execution_count": 9,
   "id": "0340dea6-2b90-45e2-ae7f-0f5827be77cc",
   "metadata": {},
   "outputs": [],
   "source": [
    "def get_orf_summary(summary: typing.Dict[str, typing.Any], evaluation_method: str = \"average_distance_score\") -> typing.Dict[str, typing.Any]:\n",
    "    if len(summary[\"evaluation\"]) == 1:\n",
    "        return summary[\"orf\"]\n",
    "    final_evaluation = summary[\"final_evaluation\"]\n",
    "    for i, evaluation_summary in enumerate(summary[\"evaluation\"]):\n",
    "        if evaluation_summary[evaluation_method] == final_evaluation[evaluation_method]:\n",
    "            return summary[\"orf\"][i]"
   ]
  },
  {
   "cell_type": "code",
   "execution_count": 10,
   "id": "2dbb9b66",
   "metadata": {},
   "outputs": [],
   "source": [
    "def convert_to_json_result(x):\n",
    "    gene_name = x[0]\n",
    "    result = run_modules(x[1], should_run_output_module=False)\n",
    "    if \"orf\" not in result:\n",
    "        return result\n",
    "    orf = get_orf_summary(result)\n",
    "    return {\n",
    "        \"initial_optimization_score\": orf.get(\"initial_sequence_optimization_score\"),\n",
    "        \"final_optimization_score\": orf.get(\"final_sequence_optimization_score\"),\n",
    "        \"average_distance_score\": result[\"final_evaluation\"].get(\"average_distance_score\"),\n",
    "        \"average_distance_non_normalized_score\": result[\"final_evaluation\"].get(\"average_distance_non_normalized_score\"),\n",
    "        \"weakest_link_score\": result[\"final_evaluation\"].get(\"weakest_link_score\"),\n",
    "        \"ratio_score\": result[\"final_evaluation\"].get(\"ratio_score\"),\n",
    "        \"gene_name\": gene_name,\n",
    "    }"
   ]
  },
  {
   "cell_type": "code",
   "execution_count": 11,
   "id": "976f6552",
   "metadata": {},
   "outputs": [],
   "source": [
    "def test_partial(x):\n",
    "    gene_name = x[0]\n",
    "    result = run_modules(x[1], should_run_output_module=False)\n",
    "    return result"
   ]
  },
  {
   "cell_type": "code",
   "execution_count": 12,
   "id": "c05f471e",
   "metadata": {},
   "outputs": [],
   "source": [
    "from Bio import SeqIO\n",
    "from analysis.orf_model_analysis.input_testing_data.generate_input_testing_data_for_modules import generate_testing_data\n",
    "from analysis.orf_model_analysis.input_testing_data.generate_input_testing_data_for_modules import generate_testing_data_for_ecoli_and_bacillus\n",
    "\n",
    "from modules.main import run_modules"
   ]
  },
  {
   "cell_type": "markdown",
   "id": "f425d4e8",
   "metadata": {},
   "source": [
    "## Bacillus and E.coli"
   ]
  },
  {
   "cell_type": "code",
   "execution_count": 13,
   "id": "7f4d1bb9",
   "metadata": {},
   "outputs": [],
   "source": [
    "organism = \"Escherichia-coli\"\n",
    "optimization_cub_index = \"CAI\"\n",
    "is_ecoli_optimized = True\n",
    "\n",
    "# organism = \"Bacillus-subtilis\"\n",
    "fasta_file_path = f\"/tamir2/moranb/microbiome/Igem_TAU_2021/analysis/example_data/{organism}.fasta\"\n",
    "with open(fasta_file_path, \"r\") as fasta_handle:\n",
    "    genome_dict = SeqIO.to_dict(SeqIO.parse(fasta_handle, \"fasta\"),  lambda r: r.description)\n",
    "\n",
    "for optimization_method in [\n",
    "    \"single_codon_diff\", \n",
    "    \"single_codon_ratio\", \n",
    "    \"zscore_bulk_aa_diff\",\n",
    "    \"zscore_single_aa_diff\",\n",
    "    \"zscore_bulk_aa_ratio\",\n",
    "    \"zscore_single_aa_ratio\",\n",
    "]:\n",
    "# optimization_method = \"single_codon_ratio\"\n",
    "    configuration = f\"e_coli_optimized_{is_ecoli_optimized}_bacillus_optimized_{not is_ecoli_optimized}\"\n",
    "    configuration_output_path = os.path.join(output_path, configuration, organism)\n",
    "    \n",
    "    inputs = [(gene_name, \n",
    "               generate_testing_data_for_ecoli_and_bacillus(\n",
    "                   optimization_method=optimization_method,\n",
    "                   optimization_cub_index=optimization_cub_index,\n",
    "                   is_ecoli_optimized=is_ecoli_optimized,\n",
    "                   tuning_param=0.5, \n",
    "                   sequence=str(orf_sequence.seq),\n",
    "                   output_path=os.path.join(configuration_output_path,gene_name),\n",
    "                   evaluation_score=\"average_distance\",\n",
    "               )) for gene_name, orf_sequence in genome_dict.items()]\n",
    "\n",
    "    inputs = inputs[:3]\n",
    "    inputs_series = pd.Series(inputs)\n",
    "    inputs_db = db.from_sequence(inputs)\n",
    "\n",
    "    results_db = inputs_db.map(convert_to_json_result)\n",
    "    results_db.map(json.dumps).to_textfiles(os.path.join(configuration_output_path,optimization_method, '*.json'))"
   ]
  },
  {
   "cell_type": "code",
   "execution_count": 14,
   "id": "743088d9-6ea0-4706-b66b-91976624ba0d",
   "metadata": {},
   "outputs": [
    {
     "name": "stderr",
     "output_type": "stream",
     "text": [
      "##########################\n",
      "# USER INPUT INFORMATION #\n",
      "##########################\n",
      "Open reading frame sequence for optimization is: ATGAAACGCATTAGCACCACCATTACCACCACCATCACCATTACCACAGGTAACGGTGCGGGCTGA\n",
      "Organism is optimized\n",
      "Organism is de-optimized\n",
      "Escherichia coli has weight of 1.0\n",
      "Bacillus subtilis has weight of 1.0\n",
      "Total input processing time: 0.09225249290466309\n",
      "##########################\n",
      "# ORF #\n",
      "##########################\n",
      "\n",
      "Optimization method used is: OptimizationMethod.zscore_single_aa_ratio\n",
      "Running ORF optimization for initial sequence: ATGAAACGCATTAGCACCACCATTACCACCACCATCACCATTACCACAGGTAACGGTGCGGGCTGA\n",
      "Running ORF optimization for initial sequence: ATGAAAAGAATAAGCACCACAATCACTACCACGATCACCATCACAACAGGGAACGGAGCTGGTTAA\n",
      "Running ORF optimization for initial sequence: ATGAAGAGGATCAGTACGACTATTACTACGACAATTACAATTACGACCGGCAATGGAGCAGGCTGA\n",
      "Running ORF optimization for initial sequence: ATGAAACGAATTTCGACTACCATAACTACTACTATTACGATAACGACCGGCAATGGGGCCGGTTAA\n",
      "Analyzing evaluation result: {'final_sequence': 'ATGAAGAGGATATCGACCACCATAACCACCACCATAACCATAACCACCGGGAACGGGGCCGGGTGA', 'average_distance_score': 0.7240517379684595, 'average_distance_non_normalized_score': -0.11290336430708972, 'weakest_link_score': 0.7240517379684595, 'ratio_score': 1.0366151182031589}\n",
      "Analyzing evaluation result: {'final_sequence': 'ATGAAGAGGATATCGACCACCATAACCACCACCATAACCATAACCACCGGGAACGGGGCCGGGTGA', 'average_distance_score': 0.7240517379684595, 'average_distance_non_normalized_score': -0.11290336430708972, 'weakest_link_score': 0.7240517379684595, 'ratio_score': 1.0366151182031589}\n",
      "Analyzing evaluation result: {'final_sequence': 'ATGAAGAGGATATCGACCACCATAACCACCACCATAACCATAACCACCGGGAACGGGGCCGGGTGA', 'average_distance_score': 0.7240517379684595, 'average_distance_non_normalized_score': -0.11290336430708972, 'weakest_link_score': 0.7240517379684595, 'ratio_score': 1.0366151182031589}\n",
      "Analyzing evaluation result: {'final_sequence': 'ATGAAGAGGATATCGACCACCATAACCACCACCATAACCATAACCACCGGGAACGGGGCCGGGTGA', 'average_distance_score': 0.7240517379684595, 'average_distance_non_normalized_score': -0.11290336430708972, 'weakest_link_score': 0.7240517379684595, 'ratio_score': 1.0366151182031589}\n",
      "Final evaluation result: {'final_sequence': 'ATGAAGAGGATATCGACCACCATAACCACCACCATAACCATAACCACCGGGAACGGGGCCGGGTGA', 'average_distance_score': 0.7240517379684595, 'average_distance_non_normalized_score': -0.11290336430708972, 'weakest_link_score': 0.7240517379684595, 'ratio_score': 1.0366151182031589}\n",
      "Final output: {'user_input': {'sequence': 'ATGAAACGCATTAGCACCACCATTACCACCACCATCACCATTACCACAGGTAACGGTGCGGGCTGA', 'tuning_parameter': 0.5, 'optimization_method': 'zscore_single_aa_ratio', 'optimization_cub_index': 'CAI', 'organisms': [{'name': 'Escherichia coli', 'is_wanted': True, 'optimization_priority': 1.0, 'cai_weights': {'TAA': 1.0, 'TAG': 0.037037037037037035, 'TGA': 0.24183006535947713, 'GCA': 0.6554010349288486, 'GCC': 0.6652652005174644, 'GCG': 1.0, 'GCT': 0.6266170763260025, 'TGC': 1.0, 'TGT': 0.7162162162162162, 'GAC': 0.8422464375523889, 'GAT': 1.0, 'GAA': 1.0, 'GAG': 0.36087048383688997, 'TTC': 1.0, 'TTT': 0.6891233766233766, 'GGA': 0.12073112073112073, 'GGC': 1.0, 'GGG': 0.19111752445085778, 'GGT': 0.9866923200256533, 'CAC': 1.0, 'CAT': 0.7259593679458239, 'ATA': 0.03593829462620784, 'ATC': 1.0, 'ATT': 0.7563993897270725, 'AAA': 1.0, 'AAG': 0.2715144230769231, 'CTA': 0.0255237398225231, 'CTC': 0.1333821242338304, 'CTG': 1.0, 'CTT': 0.11572591711645777, 'TTA': 0.10557131095050773, 'TTG': 0.12322751806788033, 'ATG': 1.0, 'AAC': 1.0, 'AAT': 0.4079954093343534, 'CCA': 0.2681349767629825, 'CCC': 0.08830066680137402, 'CCG': 1.0, 'CCT': 0.19337239846433624, 'CAA': 0.3511947863866763, 'CAG': 1.0, 'AGA': 0.018922018348623854, 'AGG': 0.011085626911314986, 'CGA': 0.03631498470948013, 'CGC': 0.7138761467889909, 'CGG': 0.05600152905198777, 'CGT': 1.0, 'AGC': 1.0, 'AGT': 0.3131715081575806, 'TCA': 0.3048149621965778, 'TCC': 0.7942697970553123, 'TCG': 0.40907282132908873, 'TCT': 0.8901711102268206, 'ACA': 0.14701775384001597, 'ACC': 1.0, 'ACG': 0.3457011769399561, 'ACT': 0.4374625972471574, 'GTA': 0.531166518254675, 'GTC': 0.5075690115761353, 'GTG': 0.9971059661620658, 'GTT': 1.0, 'TGG': 1.0, 'TAC': 1.0, 'TAT': 0.857994781960492}, 'cai_avg': 0.6259904789289111, 'cai_std': 0.09191903324700011, 'tai_weights': None, 'tai_avg': None, 'tai_std': None}, {'name': 'Bacillus subtilis', 'is_wanted': False, 'optimization_priority': 1.0, 'cai_weights': {'TAA': 1.0, 'TAG': 0.10739856801909307, 'TGA': 0.1694510739856802, 'GCA': 1.0, 'GCC': 0.524969249692497, 'GCG': 0.9210332103321034, 'GCT': 0.9357933579335794, 'TGC': 1.0, 'TGT': 0.7526132404181185, 'GAC': 0.6696801112656467, 'GAT': 1.0, 'GAA': 1.0, 'GAG': 0.38728838728838727, 'TTC': 0.8253275109170305, 'TTT': 1.0, 'GGA': 0.8482576091751212, 'GGC': 1.0, 'GGG': 0.2933392148213498, 'GGT': 0.6184384649316277, 'CAC': 0.6779661016949153, 'CAT': 1.0, 'ATA': 0.11083958806074358, 'ATC': 0.839238959678827, 'ATT': 1.0, 'AAA': 1.0, 'AAG': 0.3402680965147453, 'CTA': 0.1465574496347133, 'CTC': 0.30440557892406467, 'CTG': 0.6632720832410892, 'CTT': 1.0, 'TTA': 0.5880008855435023, 'TTG': 0.41067079920301086, 'ATG': 1.0, 'AAC': 1.0, 'AAT': 0.8338533541341653, 'CCA': 0.4902647975077882, 'CCC': 0.07359813084112149, 'CCG': 1.0, 'CCT': 0.7546728971962616, 'CAA': 1.0, 'CAG': 0.8269344359125813, 'AGA': 0.7212878423834694, 'AGG': 0.09562710235463719, 'CGA': 0.19605958673714557, 'CGC': 0.984622777510812, 'CGG': 0.2748678519942335, 'CGT': 1.0, 'AGC': 0.8831532613045219, 'AGT': 0.3369347739095639, 'TCA': 0.9475790316126452, 'TCC': 0.4269707883153262, 'TCG': 0.25490196078431376, 'TCT': 1.0, 'ACA': 1.0, 'ACC': 0.2215306592899954, 'ACG': 0.532964499769479, 'ACT': 0.4303826648224989, 'GTA': 0.7330073349633252, 'GTC': 0.6819070904645477, 'GTG': 0.6672371638141809, 'GTT': 1.0, 'TGG': 1.0, 'TAC': 0.7778546712802767, 'TAT': 1.0}, 'cai_avg': 0.7352748744844022, 'cai_std': 0.04190217712572275, 'tai_weights': None, 'tai_avg': None, 'tai_std': None}]}, 'orf': [{'initial_sequence': 'ATGAAACGCATTAGCACCACCATTACCACCACCATCACCATTACCACAGGTAACGGTGCGGGCTGA', 'final_sequence': 'ATGAAGAGGATATCGACCACCATAACCACCACCATAACCATAACCACCGGGAACGGGGCCGGGTGA', 'iterations_count': 8, 'aa_to_optimal_codon': defaultdict(<class 'str'>, {'I': 'ATA', 'T': 'ACC', 'S': 'TCG', 'G': 'GGG', 'R': 'AGG', 'K': 'AAG', 'A': 'GCC', 'M': 'ATG', 'N': 'AAC', 'L': 'TTG', 'P': 'CCT', 'H': 'CAT', 'Q': 'CAG', 'V': 'GTT', 'D': 'GAT', 'E': 'GAG', 'F': 'TTT', 'Y': 'TAT', 'C': 'TGT', '_': 'TGA', 'W': 'TGG'}), 'initial_sequence_optimization_score': 1.1950655139775475, 'final_sequence_optimization_score': 1.3210296796611976, 'run_time': 10.492712035775185, 'iterations_summary': [{'selected_codons': [('ATA', 'I')], 'codon_to_score': {'ATA': 1.2631157437311198, 'ATC': 1.2154606121844815, 'ATT': 1.188377266818212, 'ATG': 1.1950655139775475, 'AAC': 1.1950655139775475, 'AAA': 1.1950655139775475, 'AGC': 1.1950655139775475, 'CTA': 1.1950655139775475, 'CTC': 1.1950655139775475, 'CTG': 1.1950655139775475, 'CTT': 1.1950655139775475, 'CCA': 1.1950655139775475, 'CCC': 1.1950655139775475, 'CCG': 1.1950655139775475, 'CCT': 1.1950655139775475, 'CAC': 1.1950655139775475, 'CAT': 1.1950655139775475, 'CAA': 1.1950655139775475, 'CAG': 1.1950655139775475, 'CGC': 1.1950655139775475, 'GTA': 1.1950655139775475, 'GTC': 1.1950655139775475, 'GTG': 1.1950655139775475, 'GTT': 1.1950655139775475, 'GCG': 1.1950655139775475, 'GAC': 1.1950655139775475, 'GAT': 1.1950655139775475, 'GAA': 1.1950655139775475, 'GAG': 1.1950655139775475, 'TTC': 1.1950655139775475, 'TTT': 1.1950655139775475, 'TTA': 1.1950655139775475, 'TTG': 1.1950655139775475, 'TAC': 1.1950655139775475, 'TAT': 1.1950655139775475, 'TGC': 1.1950655139775475, 'TGT': 1.1950655139775475, 'TGA': 1.1950655139775475, 'TGG': 1.1950655139775475, 'ACA': 0.8882537464820643, 'ACC': 1.2491835226096433, 'ACG': 1.023672428036434, 'ACT': 1.072142886602869, 'AAT': 1.1896089273881914, 'AAG': 1.2045511407441791, 'AGT': 1.2035745562656583, 'AGA': 1.1657203529886668, 'AGG': 1.2030305725237989, 'CGA': 1.1992231466938565, 'CGG': 1.1963056751584085, 'CGT': 1.1983232615588402, 'GCA': 1.1888716376359274, 'GCC': 1.2028235432428702, 'GCT': 1.189822529710182, 'GGA': 1.126342893076882, 'GGC': 1.1747875681654787, 'GGG': 1.2039729748954697, 'GGT': 1.2052479962113416, 'TCA': 1.1812804607687095, 'TCC': 1.208233954355981, 'TCG': 1.212316996288616, 'TCT': 1.1911746256080276, 'TAA': 1.1721583944202467, 'TAG': 1.1855520647448774}, 'sequence_score': 1.2631157437311198}, {'selected_codons': [('ACC', 'T')], 'codon_to_score': {'ATA': 1.240315265673518, 'ATG': 1.240315265673518, 'AAC': 1.240315265673518, 'AAA': 1.240315265673518, 'AGC': 1.240315265673518, 'CTA': 1.240315265673518, 'CTC': 1.240315265673518, 'CTG': 1.240315265673518, 'CTT': 1.240315265673518, 'CCA': 1.240315265673518, 'CCC': 1.240315265673518, 'CCG': 1.240315265673518, 'CCT': 1.240315265673518, 'CAC': 1.240315265673518, 'CAT': 1.240315265673518, 'CAA': 1.240315265673518, 'CAG': 1.240315265673518, 'CGC': 1.240315265673518, 'GTA': 1.240315265673518, 'GTC': 1.240315265673518, 'GTG': 1.240315265673518, 'GTT': 1.240315265673518, 'GCG': 1.240315265673518, 'GAC': 1.240315265673518, 'GAT': 1.240315265673518, 'GAA': 1.240315265673518, 'GAG': 1.240315265673518, 'TTC': 1.240315265673518, 'TTT': 1.240315265673518, 'TTA': 1.240315265673518, 'TTG': 1.240315265673518, 'TAC': 1.240315265673518, 'TAT': 1.240315265673518, 'TGC': 1.240315265673518, 'TGT': 1.240315265673518, 'TGA': 1.240315265673518, 'TGG': 1.240315265673518, 'ATC': 1.200724724566383, 'ATT': 1.1756696431102558, 'ACA': 0.9909642401545908, 'ACC': 1.2811188058488776, 'ACG': 1.1047717006293891, 'ACT': 1.144306226742274, 'AAT': 1.2375440807266052, 'AAG': 1.250766436210399, 'AGT': 1.249680752842769, 'AGA': 1.222805374192147, 'AGG': 1.2548694441975685, 'CGA': 1.2495397999144988, 'CGG': 1.2463068602016953, 'CGT': 1.2423547617627644, 'GCA': 1.2359873031422426, 'GCC': 1.247582623461776, 'GCT': 1.2368716474722232, 'GGA': 1.1943834820159265, 'GGC': 1.2232607522846601, 'GGG': 1.2570317812338134, 'GGT': 1.2488146369374817, 'TCA': 1.2311521937039345, 'TCC': 1.2517200664436752, 'TCG': 1.2563945788028739, 'TCT': 1.2372999379675893, 'TAA': 1.2181644700744194, 'TAG': 1.2360725297527781}, 'sequence_score': 1.2811188058488776}, {'selected_codons': [('TCG', 'S')], 'codon_to_score': {'ATA': 1.2492485951345227, 'ATG': 1.2492485951345227, 'ACC': 1.2492485951345227, 'AAC': 1.2492485951345227, 'AAA': 1.2492485951345227, 'AGC': 1.2492485951345227, 'CTA': 1.2492485951345227, 'CTC': 1.2492485951345227, 'CTG': 1.2492485951345227, 'CTT': 1.2492485951345227, 'CCA': 1.2492485951345227, 'CCC': 1.2492485951345227, 'CCG': 1.2492485951345227, 'CCT': 1.2492485951345227, 'CAC': 1.2492485951345227, 'CAT': 1.2492485951345227, 'CAA': 1.2492485951345227, 'CAG': 1.2492485951345227, 'CGC': 1.2492485951345227, 'GTA': 1.2492485951345227, 'GTC': 1.2492485951345227, 'GTG': 1.2492485951345227, 'GTT': 1.2492485951345227, 'GCG': 1.2492485951345227, 'GAC': 1.2492485951345227, 'GAT': 1.2492485951345227, 'GAA': 1.2492485951345227, 'GAG': 1.2492485951345227, 'TTC': 1.2492485951345227, 'TTT': 1.2492485951345227, 'TTA': 1.2492485951345227, 'TTG': 1.2492485951345227, 'TAC': 1.2492485951345227, 'TAT': 1.2492485951345227, 'TGC': 1.2492485951345227, 'TGT': 1.2492485951345227, 'TGA': 1.2492485951345227, 'TGG': 1.2492485951345227, 'ATC': 1.2285954073710688, 'ATT': 1.2047784581549388, 'ACA': 0.9917796834498483, 'ACG': 1.0943014138922462, 'ACT': 1.129400353462187, 'AAT': 1.2460528965369904, 'AAG': 1.2569460287203889, 'AGT': 1.2561552060911365, 'AGA': 1.2311181037804073, 'AGG': 1.2578752703414702, 'CGA': 1.2543997137644949, 'CGG': 1.252039988629298, 'CGT': 1.2513111962344001, 'GCA': 1.2451537128227446, 'GCC': 1.2550717652354528, 'GCT': 1.2458693306358342, 'GGA': 1.2047636802934791, 'GGC': 1.2346379758635784, 'GGG': 1.259041626178439, 'GGT': 1.256495448361605, 'TCA': 1.2403248674363871, 'TCC': 1.2587642809561672, 'TCG': 1.262107561103128, 'TCT': 1.2465596325576815, 'TAA': 1.2315135280430192, 'TAG': 1.243921539996962}, 'sequence_score': 1.262107561103128}, {'selected_codons': [('GGG', 'G')], 'codon_to_score': {'ATA': 1.2564141120598136, 'ATG': 1.2564141120598136, 'ACC': 1.2564141120598136, 'AAC': 1.2564141120598136, 'AAA': 1.2564141120598136, 'CTA': 1.2564141120598136, 'CTC': 1.2564141120598136, 'CTG': 1.2564141120598136, 'CTT': 1.2564141120598136, 'CCA': 1.2564141120598136, 'CCC': 1.2564141120598136, 'CCG': 1.2564141120598136, 'CCT': 1.2564141120598136, 'CAC': 1.2564141120598136, 'CAT': 1.2564141120598136, 'CAA': 1.2564141120598136, 'CAG': 1.2564141120598136, 'CGC': 1.2564141120598136, 'GTA': 1.2564141120598136, 'GTC': 1.2564141120598136, 'GTG': 1.2564141120598136, 'GTT': 1.2564141120598136, 'GCG': 1.2564141120598136, 'GAC': 1.2564141120598136, 'GAT': 1.2564141120598136, 'GAA': 1.2564141120598136, 'GAG': 1.2564141120598136, 'TCG': 1.2564141120598136, 'TTC': 1.2564141120598136, 'TTT': 1.2564141120598136, 'TTA': 1.2564141120598136, 'TTG': 1.2564141120598136, 'TAC': 1.2564141120598136, 'TAT': 1.2564141120598136, 'TGC': 1.2564141120598136, 'TGT': 1.2564141120598136, 'TGA': 1.2564141120598136, 'TGG': 1.2564141120598136, 'ATC': 1.2370452844738966, 'ATT': 1.214040899319916, 'ACA': 1.0081614476809158, 'ACG': 1.107631416415839, 'ACT': 1.1414924207877957, 'AAT': 1.253339259815088, 'AAG': 1.2636993969837067, 'AGC': 1.243967653190401, 'AGT': 1.25061582517208, 'AGA': 1.2390314241674572, 'AGG': 1.2644818256612158, 'CGA': 1.261218600260801, 'CGG': 1.2589882894389357, 'CGT': 1.2583916919662077, 'GCA': 1.2524967082529832, 'GCC': 1.2619479147485078, 'GCT': 1.2531775968195191, 'GGA': 1.2138384533301854, 'GGC': 1.242474986532837, 'GGG': 1.2655631974476722, 'GGT': 1.2633182848540987, 'TCA': 1.2352256146884337, 'TCC': 1.2532045707052717, 'TCT': 1.2413463224015786, 'TAA': 1.2395242019448647, 'TAG': 1.2512788461383506}, 'sequence_score': 1.2655631974476722}, {'selected_codons': [('AGG', 'R')], 'codon_to_score': {'ATA': 1.2774983579632784, 'ATG': 1.2774983579632784, 'ACC': 1.2774983579632784, 'AAC': 1.2774983579632784, 'AAA': 1.2774983579632784, 'CTA': 1.2774983579632784, 'CTC': 1.2774983579632784, 'CTG': 1.2774983579632784, 'CTT': 1.2774983579632784, 'CCA': 1.2774983579632784, 'CCC': 1.2774983579632784, 'CCG': 1.2774983579632784, 'CCT': 1.2774983579632784, 'CAC': 1.2774983579632784, 'CAT': 1.2774983579632784, 'CAA': 1.2774983579632784, 'CAG': 1.2774983579632784, 'CGC': 1.2774983579632784, 'GTA': 1.2774983579632784, 'GTC': 1.2774983579632784, 'GTG': 1.2774983579632784, 'GTT': 1.2774983579632784, 'GCG': 1.2774983579632784, 'GAC': 1.2774983579632784, 'GAT': 1.2774983579632784, 'GAA': 1.2774983579632784, 'GAG': 1.2774983579632784, 'GGG': 1.2774983579632784, 'TCG': 1.2774983579632784, 'TTC': 1.2774983579632784, 'TTT': 1.2774983579632784, 'TTA': 1.2774983579632784, 'TTG': 1.2774983579632784, 'TAC': 1.2774983579632784, 'TAT': 1.2774983579632784, 'TGC': 1.2774983579632784, 'TGT': 1.2774983579632784, 'TGA': 1.2774983579632784, 'TGG': 1.2774983579632784, 'ATC': 1.245111798556216, 'ATT': 1.2235298962292995, 'ACA': 1.0372442638120223, 'ACG': 1.1343620275344088, 'ACT': 1.1672891777660288, 'AAT': 1.2751737306668065, 'AAG': 1.2858440420587276, 'AGC': 1.2643243722272561, 'AGT': 1.2719368574582823, 'AGA': 1.2630213291841896, 'AGG': 1.2888559838652742, 'CGA': 1.2846955400857116, 'CGG': 1.2821318290927273, 'CGT': 1.2791859790698308, 'GCA': 1.2739426784900219, 'GCC': 1.2833591281148466, 'GCT': 1.2746593020514296, 'GGA': 1.2229267122221674, 'GGC': 1.252546142434447, 'GGT': 1.2745600301763493, 'TCA': 1.2565964240387026, 'TCC': 1.2737348544992178, 'TCT': 1.2618083530861228, 'TAA': 1.2594392526622897, 'TAG': 1.273906567455041}, 'sequence_score': 1.2888559838652742}, {'selected_codons': [('AAG', 'K')], 'codon_to_score': {'ATA': 1.3059320707461193, 'ATG': 1.3059320707461193, 'ACC': 1.3059320707461193, 'AAC': 1.3059320707461193, 'AAA': 1.3059320707461193, 'AGG': 1.3059320707461193, 'CTA': 1.3059320707461193, 'CTC': 1.3059320707461193, 'CTG': 1.3059320707461193, 'CTT': 1.3059320707461193, 'CCA': 1.3059320707461193, 'CCC': 1.3059320707461193, 'CCG': 1.3059320707461193, 'CCT': 1.3059320707461193, 'CAC': 1.3059320707461193, 'CAT': 1.3059320707461193, 'CAA': 1.3059320707461193, 'CAG': 1.3059320707461193, 'GTA': 1.3059320707461193, 'GTC': 1.3059320707461193, 'GTG': 1.3059320707461193, 'GTT': 1.3059320707461193, 'GCG': 1.3059320707461193, 'GAC': 1.3059320707461193, 'GAT': 1.3059320707461193, 'GAA': 1.3059320707461193, 'GAG': 1.3059320707461193, 'GGG': 1.3059320707461193, 'TCG': 1.3059320707461193, 'TTC': 1.3059320707461193, 'TTT': 1.3059320707461193, 'TTA': 1.3059320707461193, 'TTG': 1.3059320707461193, 'TAC': 1.3059320707461193, 'TAT': 1.3059320707461193, 'TGC': 1.3059320707461193, 'TGT': 1.3059320707461193, 'TGA': 1.3059320707461193, 'TGG': 1.3059320707461193, 'ATC': 1.2615504538419753, 'ATT': 1.2406414892020923, 'ACA': 1.0661855152314546, 'ACG': 1.1636017775508043, 'ACT': 1.1965886856027148, 'AAT': 1.3041719874060285, 'AAG': 1.315428129595806, 'AGC': 1.2917539017245498, 'AGT': 1.3004047734132476, 'AGA': 1.2779923843243468, 'CGA': 1.3012748895142296, 'CGC': 1.293093926947946, 'CGG': 1.2984481185871326, 'CGT': 1.2948610560339713, 'GCA': 1.3025758963518648, 'GCC': 1.3122464014447244, 'GCT': 1.3033441276002524, 'GGA': 1.2507781570192333, 'GGC': 1.2765612374171502, 'GGT': 1.2991451212763943, 'TCA': 1.2846563505847381, 'TCC': 1.301587617264396, 'TCT': 1.289253642081934, 'TAA': 1.286354495780486, 'TAG': 1.3035361526458318}, 'sequence_score': 1.315428129595806}, {'selected_codons': [('GCC', 'A')], 'codon_to_score': {'ATA': 1.3175632184511918, 'ATG': 1.3175632184511918, 'ACC': 1.3175632184511918, 'AAC': 1.3175632184511918, 'AAG': 1.3175632184511918, 'AGG': 1.3175632184511918, 'CTA': 1.3175632184511918, 'CTC': 1.3175632184511918, 'CTG': 1.3175632184511918, 'CTT': 1.3175632184511918, 'CCA': 1.3175632184511918, 'CCC': 1.3175632184511918, 'CCG': 1.3175632184511918, 'CCT': 1.3175632184511918, 'CAC': 1.3175632184511918, 'CAT': 1.3175632184511918, 'CAA': 1.3175632184511918, 'CAG': 1.3175632184511918, 'GTA': 1.3175632184511918, 'GTC': 1.3175632184511918, 'GTG': 1.3175632184511918, 'GTT': 1.3175632184511918, 'GCG': 1.3175632184511918, 'GAC': 1.3175632184511918, 'GAT': 1.3175632184511918, 'GAA': 1.3175632184511918, 'GAG': 1.3175632184511918, 'GGG': 1.3175632184511918, 'TCG': 1.3175632184511918, 'TTC': 1.3175632184511918, 'TTT': 1.3175632184511918, 'TTA': 1.3175632184511918, 'TTG': 1.3175632184511918, 'TAC': 1.3175632184511918, 'TAT': 1.3175632184511918, 'TGC': 1.3175632184511918, 'TGT': 1.3175632184511918, 'TGA': 1.3175632184511918, 'TGG': 1.3175632184511918, 'ATC': 1.2712773292695763, 'ATT': 1.2507570695089985, 'ACA': 1.0808103340476432, 'ACG': 1.1773448811356482, 'ACT': 1.2099531027000159, 'AAT': 1.3159461158300259, 'AAA': 1.3079590613979446, 'AGC': 1.3033992202503588, 'AGT': 1.312130194892329, 'AGA': 1.2898197758126133, 'CGA': 1.3127828826575292, 'CGC': 1.3042240057526797, 'CGG': 1.3099204564583609, 'CGT': 1.305919401120461, 'GCA': 1.314300904998104, 'GCC': 1.3238682433895272, 'GCT': 1.3150675083967869, 'GGA': 1.2631087118499138, 'GGC': 1.2877142248537263, 'GGT': 1.3100923615092104, 'TCA': 1.2965399463856653, 'TCC': 1.3131686107601859, 'TCT': 1.3009400929586294, 'TAA': 1.2979742834592847, 'TAG': 1.3154490977147553}, 'sequence_score': 1.3238682433895272}, {'selected_codons': [('ATA', 'I'), ('ATG', 'M'), ('ACC', 'T'), ('AAC', 'N'), ('AAG', 'K'), ('AGG', 'R'), ('CTA', 'L'), ('CTC', 'L'), ('CTG', 'L'), ('CTT', 'L'), ('CCA', 'P'), ('CCC', 'P'), ('CCG', 'P'), ('CCT', 'P'), ('CAC', 'H'), ('CAT', 'H'), ('CAA', 'Q'), ('CAG', 'Q'), ('GTA', 'V'), ('GTC', 'V'), ('GTG', 'V'), ('GTT', 'V'), ('GCC', 'A'), ('GAC', 'D'), ('GAT', 'D'), ('GAA', 'E'), ('GAG', 'E'), ('GGG', 'G'), ('TCG', 'S'), ('TTC', 'F'), ('TTT', 'F'), ('TTA', 'L'), ('TTG', 'L'), ('TAC', 'Y'), ('TAT', 'Y'), ('TGC', 'C'), ('TGT', 'C'), ('TGA', '_'), ('TGG', 'W')], 'codon_to_score': {'ATA': 1.3210296796611976, 'ATG': 1.3210296796611976, 'ACC': 1.3210296796611976, 'AAC': 1.3210296796611976, 'AAG': 1.3210296796611976, 'AGG': 1.3210296796611976, 'CTA': 1.3210296796611976, 'CTC': 1.3210296796611976, 'CTG': 1.3210296796611976, 'CTT': 1.3210296796611976, 'CCA': 1.3210296796611976, 'CCC': 1.3210296796611976, 'CCG': 1.3210296796611976, 'CCT': 1.3210296796611976, 'CAC': 1.3210296796611976, 'CAT': 1.3210296796611976, 'CAA': 1.3210296796611976, 'CAG': 1.3210296796611976, 'GTA': 1.3210296796611976, 'GTC': 1.3210296796611976, 'GTG': 1.3210296796611976, 'GTT': 1.3210296796611976, 'GCC': 1.3210296796611976, 'GAC': 1.3210296796611976, 'GAT': 1.3210296796611976, 'GAA': 1.3210296796611976, 'GAG': 1.3210296796611976, 'GGG': 1.3210296796611976, 'TCG': 1.3210296796611976, 'TTC': 1.3210296796611976, 'TTT': 1.3210296796611976, 'TTA': 1.3210296796611976, 'TTG': 1.3210296796611976, 'TAC': 1.3210296796611976, 'TAT': 1.3210296796611976, 'TGC': 1.3210296796611976, 'TGT': 1.3210296796611976, 'TGA': 1.3210296796611976, 'TGG': 1.3210296796611976, 'ATC': 1.275711369910516, 'ATT': 1.255517336981766, 'ACA': 1.0881943347817706, 'ACG': 1.183388735933502, 'ACT': 1.2154628123342508, 'AAT': 1.3194384487448594, 'AAA': 1.3116396219207007, 'AGC': 1.3071701466169863, 'AGT': 1.3157096548324163, 'AGA': 1.2938620252252506, 'CGA': 1.316362137087533, 'CGC': 1.3080053546693544, 'CGG': 1.3135633165980023, 'CGT': 1.3096700417410194, 'GCA': 1.3115767739254858, 'GCG': 1.3148086886790944, 'GCT': 1.3123333720183112, 'GGA': 1.2676606925146248, 'GGC': 1.2918215280105247, 'GGT': 1.3137637475686577, 'TCA': 1.3004424717845575, 'TCC': 1.3167347844579074, 'TCT': 1.304760364044827, 'TAA': 1.301859126919474, 'TAG': 1.3189430186307098}, 'sequence_score': 1.3210296796611976}]}, {'initial_sequence': 'ATGAAAAGAATAAGCACCACAATCACTACCACGATCACCATCACAACAGGGAACGGAGCTGGTTAA', 'final_sequence': 'ATGAAGAGGATATCGACCACCATAACCACCACCATAACCATAACCACCGGGAACGGGGCCGGGTGA', 'iterations_count': 9, 'aa_to_optimal_codon': defaultdict(<class 'str'>, {'T': 'ACC', 'I': 'ATA', 'R': 'AGG', 'G': 'GGG', '_': 'TGA', 'S': 'TCG', 'K': 'AAG', 'A': 'GCC', 'M': 'ATG', 'N': 'AAC', 'L': 'TTG', 'P': 'CCT', 'H': 'CAT', 'Q': 'CAG', 'V': 'GTT', 'D': 'GAT', 'E': 'GAG', 'F': 'TTT', 'Y': 'TAT', 'C': 'TGT', 'W': 'TGG'}), 'initial_sequence_optimization_score': 1.0434407846486349, 'final_sequence_optimization_score': 1.3210296796611976, 'run_time': 11.860817097127438, 'iterations_summary': [{'selected_codons': [('ACC', 'T')], 'codon_to_score': {'ATA': 1.1649751846967316, 'ATC': 1.0138074903275784, 'ATT': 0.9843050460222516, 'ATG': 1.0434407846486349, 'AAC': 1.0434407846486349, 'AAA': 1.0434407846486349, 'AGC': 1.0434407846486349, 'AGA': 1.0434407846486349, 'CTA': 1.0434407846486349, 'CTC': 1.0434407846486349, 'CTG': 1.0434407846486349, 'CTT': 1.0434407846486349, 'CCA': 1.0434407846486349, 'CCC': 1.0434407846486349, 'CCG': 1.0434407846486349, 'CCT': 1.0434407846486349, 'CAC': 1.0434407846486349, 'CAT': 1.0434407846486349, 'CAA': 1.0434407846486349, 'CAG': 1.0434407846486349, 'GTA': 1.0434407846486349, 'GTC': 1.0434407846486349, 'GTG': 1.0434407846486349, 'GTT': 1.0434407846486349, 'GCT': 1.0434407846486349, 'GAC': 1.0434407846486349, 'GAT': 1.0434407846486349, 'GAA': 1.0434407846486349, 'GAG': 1.0434407846486349, 'TTC': 1.0434407846486349, 'TTT': 1.0434407846486349, 'TTA': 1.0434407846486349, 'TTG': 1.0434407846486349, 'TAC': 1.0434407846486349, 'TAT': 1.0434407846486349, 'TAA': 1.0434407846486349, 'TGC': 1.0434407846486349, 'TGT': 1.0434407846486349, 'TGG': 1.0434407846486349, 'ACA': 0.8352364328738567, 'ACC': 1.338716012998316, 'ACG': 1.0083508220514543, 'ACT': 1.0752683713674034, 'AAT': 1.0413511705667495, 'AAG': 1.065136707394811, 'AGT': 1.0628109328606268, 'AGG': 1.10138492476551, 'CGA': 1.0891319327224087, 'CGC': 1.0670936166668072, 'CGG': 1.0824611005024092, 'CGT': 1.0699154007842961, 'GCA': 1.0418447640451698, 'GCC': 1.0613997694207418, 'GCG': 1.0479293384081467, 'GGA': 0.9834712456405607, 'GGC': 1.0224002382722455, 'GGG': 1.0889629778286578, 'GGT': 1.0645766525989735, 'TCA': 1.0314920921974517, 'TCC': 1.0634410324226335, 'TCG': 1.0736792321861026, 'TCT': 1.0387582164204359, 'TAG': 1.08496093203049, 'TGA': 1.0859138143911475}, 'sequence_score': 1.338716012998316}, {'selected_codons': [('ATA', 'I')], 'codon_to_score': {'ATA': 1.2744347833045362, 'ATC': 1.2028453486404467, 'ATT': 1.1760637762838846, 'ATG': 1.2171193728769176, 'ACC': 1.2171193728769176, 'AAC': 1.2171193728769176, 'AAA': 1.2171193728769176, 'AGC': 1.2171193728769176, 'AGA': 1.2171193728769176, 'CTA': 1.2171193728769176, 'CTC': 1.2171193728769176, 'CTG': 1.2171193728769176, 'CTT': 1.2171193728769176, 'CCA': 1.2171193728769176, 'CCC': 1.2171193728769176, 'CCG': 1.2171193728769176, 'CCT': 1.2171193728769176, 'CAC': 1.2171193728769176, 'CAT': 1.2171193728769176, 'CAA': 1.2171193728769176, 'CAG': 1.2171193728769176, 'GTA': 1.2171193728769176, 'GTC': 1.2171193728769176, 'GTG': 1.2171193728769176, 'GTT': 1.2171193728769176, 'GCT': 1.2171193728769176, 'GAC': 1.2171193728769176, 'GAT': 1.2171193728769176, 'GAA': 1.2171193728769176, 'GAG': 1.2171193728769176, 'TTC': 1.2171193728769176, 'TTT': 1.2171193728769176, 'TTA': 1.2171193728769176, 'TTG': 1.2171193728769176, 'TAC': 1.2171193728769176, 'TAT': 1.2171193728769176, 'TAA': 1.2171193728769176, 'TGC': 1.2171193728769176, 'TGT': 1.2171193728769176, 'TGG': 1.2171193728769176, 'ACA': 0.8783179789173786, 'ACG': 1.005858657894687, 'ACT': 1.051754472520521, 'AAT': 1.2131822230239726, 'AAG': 1.2298502618163873, 'AGT': 1.228520971033922, 'AGG': 1.2582967132584701, 'CGA': 1.2529858714611926, 'CGC': 1.2454988989743279, 'CGG': 1.2493818609263183, 'CGT': 1.2486912261875829, 'GCA': 1.2160245591871128, 'GCC': 1.2308111903182295, 'GCG': 1.2217857369837384, 'GGA': 1.1644330803021619, 'GGC': 1.2109730383479287, 'GGG': 1.2475172698165053, 'GGT': 1.2439098321594273, 'TCA': 1.2049531424851172, 'TCC': 1.2315290029242894, 'TCG': 1.237242287018779, 'TCT': 1.2132466445491903, 'TAG': 1.2388264648818594, 'TGA': 1.2446522351925928}, 'sequence_score': 1.2744347833045362}, {'selected_codons': [('AGG', 'R')], 'codon_to_score': {'ATA': 1.2539805743561951, 'ATG': 1.2539805743561951, 'ACC': 1.2539805743561951, 'AAC': 1.2539805743561951, 'AAA': 1.2539805743561951, 'AGC': 1.2539805743561951, 'AGA': 1.2539805743561951, 'CTA': 1.2539805743561951, 'CTC': 1.2539805743561951, 'CTG': 1.2539805743561951, 'CTT': 1.2539805743561951, 'CCA': 1.2539805743561951, 'CCC': 1.2539805743561951, 'CCG': 1.2539805743561951, 'CCT': 1.2539805743561951, 'CAC': 1.2539805743561951, 'CAT': 1.2539805743561951, 'CAA': 1.2539805743561951, 'CAG': 1.2539805743561951, 'GTA': 1.2539805743561951, 'GTC': 1.2539805743561951, 'GTG': 1.2539805743561951, 'GTT': 1.2539805743561951, 'GCT': 1.2539805743561951, 'GAC': 1.2539805743561951, 'GAT': 1.2539805743561951, 'GAA': 1.2539805743561951, 'GAG': 1.2539805743561951, 'TTC': 1.2539805743561951, 'TTT': 1.2539805743561951, 'TTA': 1.2539805743561951, 'TTG': 1.2539805743561951, 'TAC': 1.2539805743561951, 'TAT': 1.2539805743561951, 'TAA': 1.2539805743561951, 'TGC': 1.2539805743561951, 'TGT': 1.2539805743561951, 'TGG': 1.2539805743561951, 'ATC': 1.1910821509197445, 'ATT': 1.1660098340672826, 'ACA': 0.9603986660397906, 'ACG': 1.074887486695924, 'ACT': 1.1151562109063047, 'AAT': 1.252065228333653, 'AAG': 1.2674014126995568, 'AGT': 1.265995689475195, 'AGG': 1.2908897890961912, 'CGA': 1.2842329223158544, 'CGC': 1.2723083329477103, 'CGG': 1.2803332294057745, 'CGT': 1.2744668585887946, 'GCA': 1.252937539826913, 'GCC': 1.2659050016493048, 'GCG': 1.2572659669259427, 'GGA': 1.2115670112507926, 'GGC': 1.24164064918956, 'GGG': 1.2826187606944495, 'GGT': 1.270708244704416, 'TCA': 1.2453018893249768, 'TCC': 1.2670377493069152, 'TCG': 1.2731732556283497, 'TCT': 1.2507711417566927, 'TAG': 1.2785141814434275, 'TGA': 1.2805223231884548}, 'sequence_score': 1.2908897890961912}, {'selected_codons': [('GGG', 'G')], 'codon_to_score': {'ATA': 1.2670207957471307, 'ATG': 1.2670207957471307, 'ACC': 1.2670207957471307, 'AAC': 1.2670207957471307, 'AAA': 1.2670207957471307, 'AGC': 1.2670207957471307, 'AGG': 1.2670207957471307, 'CTA': 1.2670207957471307, 'CTC': 1.2670207957471307, 'CTG': 1.2670207957471307, 'CTT': 1.2670207957471307, 'CCA': 1.2670207957471307, 'CCC': 1.2670207957471307, 'CCG': 1.2670207957471307, 'CCT': 1.2670207957471307, 'CAC': 1.2670207957471307, 'CAT': 1.2670207957471307, 'CAA': 1.2670207957471307, 'CAG': 1.2670207957471307, 'GTA': 1.2670207957471307, 'GTC': 1.2670207957471307, 'GTG': 1.2670207957471307, 'GTT': 1.2670207957471307, 'GCT': 1.2670207957471307, 'GAC': 1.2670207957471307, 'GAT': 1.2670207957471307, 'GAA': 1.2670207957471307, 'GAG': 1.2670207957471307, 'TTC': 1.2670207957471307, 'TTT': 1.2670207957471307, 'TTA': 1.2670207957471307, 'TTG': 1.2670207957471307, 'TAC': 1.2670207957471307, 'TAT': 1.2670207957471307, 'TAA': 1.2670207957471307, 'TGC': 1.2670207957471307, 'TGT': 1.2670207957471307, 'TGG': 1.2670207957471307, 'ATC': 1.213993984971197, 'ATT': 1.190515595450845, 'ACA': 0.9956812559125566, 'ACG': 1.1032666988869202, 'ACT': 1.140525752454178, 'AAT': 1.2650679213011937, 'AAG': 1.2785284749184689, 'AGT': 1.2773285003552362, 'AGA': 1.2340819297270822, 'CGA': 1.2613334244485674, 'CGC': 1.2512948967688295, 'CGG': 1.2579382331457818, 'CGT': 1.2533113469334007, 'GCA': 1.2661071285521186, 'GCC': 1.277610982262609, 'GCG': 1.2700741187263345, 'GGA': 1.2285453207212005, 'GGC': 1.2571246567200784, 'GGG': 1.2919731514873871, 'GGT': 1.283059238745372, 'TCA': 1.258981745193629, 'TCC': 1.2785256228641029, 'TCG': 1.2837441781068286, 'TCT': 1.2641362815259651, 'TAG': 1.2877335696246566, 'TGA': 1.2900561301577542}, 'sequence_score': 1.2919731514873871}, {'selected_codons': [('TGA', '_')], 'codon_to_score': {'ATA': 1.2777418422276314, 'ATG': 1.2777418422276314, 'ACC': 1.2777418422276314, 'AAC': 1.2777418422276314, 'AAA': 1.2777418422276314, 'AGC': 1.2777418422276314, 'AGG': 1.2777418422276314, 'CTA': 1.2777418422276314, 'CTC': 1.2777418422276314, 'CTG': 1.2777418422276314, 'CTT': 1.2777418422276314, 'CCA': 1.2777418422276314, 'CCC': 1.2777418422276314, 'CCG': 1.2777418422276314, 'CCT': 1.2777418422276314, 'CAC': 1.2777418422276314, 'CAT': 1.2777418422276314, 'CAA': 1.2777418422276314, 'CAG': 1.2777418422276314, 'GTA': 1.2777418422276314, 'GTC': 1.2777418422276314, 'GTG': 1.2777418422276314, 'GTT': 1.2777418422276314, 'GCT': 1.2777418422276314, 'GAC': 1.2777418422276314, 'GAT': 1.2777418422276314, 'GAA': 1.2777418422276314, 'GAG': 1.2777418422276314, 'GGG': 1.2777418422276314, 'TTC': 1.2777418422276314, 'TTT': 1.2777418422276314, 'TTA': 1.2777418422276314, 'TTG': 1.2777418422276314, 'TAC': 1.2777418422276314, 'TAT': 1.2777418422276314, 'TAA': 1.2777418422276314, 'TGC': 1.2777418422276314, 'TGT': 1.2777418422276314, 'TGG': 1.2777418422276314, 'ATC': 1.229201947775238, 'ATT': 1.2070427329717937, 'ACA': 1.0226653163395445, 'ACG': 1.1249999875481775, 'ACT': 1.1600633253562243, 'AAT': 1.275885472539362, 'AAG': 1.288206371195923, 'AGT': 1.2871178159042866, 'AGA': 1.2473813336590853, 'CGA': 1.2725897246702214, 'CGC': 1.2635175310900977, 'CGG': 1.2694889351194354, 'CGT': 1.2654066409468558, 'GCA': 1.2769049533198418, 'GCC': 1.2874712973176141, 'GCG': 1.2805820884693058, 'GGA': 1.2180871362461048, 'GGC': 1.245631804188474, 'GGT': 1.2700126878298328, 'TCA': 1.2702708812661074, 'TCC': 1.2882871859270506, 'TCG': 1.2930146845111203, 'TCT': 1.2750814231013377, 'TAG': 1.2964686281639195, 'TGA': 1.2987431626724715}, 'sequence_score': 1.2987431626724715}, {'selected_codons': [('TCG', 'S')], 'codon_to_score': {'ATA': 1.2989321699090912, 'ATG': 1.2989321699090912, 'ACC': 1.2989321699090912, 'AAC': 1.2989321699090912, 'AAA': 1.2989321699090912, 'AGC': 1.2989321699090912, 'AGG': 1.2989321699090912, 'CTA': 1.2989321699090912, 'CTC': 1.2989321699090912, 'CTG': 1.2989321699090912, 'CTT': 1.2989321699090912, 'CCA': 1.2989321699090912, 'CCC': 1.2989321699090912, 'CCG': 1.2989321699090912, 'CCT': 1.2989321699090912, 'CAC': 1.2989321699090912, 'CAT': 1.2989321699090912, 'CAA': 1.2989321699090912, 'CAG': 1.2989321699090912, 'GTA': 1.2989321699090912, 'GTC': 1.2989321699090912, 'GTG': 1.2989321699090912, 'GTT': 1.2989321699090912, 'GCT': 1.2989321699090912, 'GAC': 1.2989321699090912, 'GAT': 1.2989321699090912, 'GAA': 1.2989321699090912, 'GAG': 1.2989321699090912, 'GGG': 1.2989321699090912, 'TTC': 1.2989321699090912, 'TTT': 1.2989321699090912, 'TTA': 1.2989321699090912, 'TTG': 1.2989321699090912, 'TAC': 1.2989321699090912, 'TAT': 1.2989321699090912, 'TGC': 1.2989321699090912, 'TGT': 1.2989321699090912, 'TGA': 1.2989321699090912, 'TGG': 1.2989321699090912, 'ATC': 1.249838260259421, 'ATT': 1.2281477754872776, 'ACA': 1.0484598953766742, 'ACG': 1.1495175175957766, 'ACT': 1.183982082606564, 'AAT': 1.297192951283542, 'AAG': 1.3092588703278987, 'AGT': 1.3081850767856795, 'AGA': 1.269170347042463, 'CGA': 1.293791976441412, 'CGC': 1.284630237020446, 'CGG': 1.290719555333584, 'CGT': 1.2864471568175924, 'GCA': 1.2981104304515376, 'GCC': 1.3084317249710729, 'GCG': 1.3016681389511897, 'GGA': 1.2406086339161637, 'GGC': 1.2670099218547788, 'GGT': 1.2909163389640823, 'TCA': 1.2917291191311497, 'TCC': 1.309252047599267, 'TCG': 1.3139190377090904, 'TCT': 1.2963417083005147, 'TAA': 1.2779111260734324, 'TAG': 1.2966584403168468}, 'sequence_score': 1.3139190377090904}, {'selected_codons': [('AAG', 'K')], 'codon_to_score': {'ATA': 1.3066627726809978, 'ATG': 1.3066627726809978, 'ACC': 1.3066627726809978, 'AAC': 1.3066627726809978, 'AAA': 1.3066627726809978, 'AGG': 1.3066627726809978, 'CTA': 1.3066627726809978, 'CTC': 1.3066627726809978, 'CTG': 1.3066627726809978, 'CTT': 1.3066627726809978, 'CCA': 1.3066627726809978, 'CCC': 1.3066627726809978, 'CCG': 1.3066627726809978, 'CCT': 1.3066627726809978, 'CAC': 1.3066627726809978, 'CAT': 1.3066627726809978, 'CAA': 1.3066627726809978, 'CAG': 1.3066627726809978, 'GTA': 1.3066627726809978, 'GTC': 1.3066627726809978, 'GTG': 1.3066627726809978, 'GTT': 1.3066627726809978, 'GCT': 1.3066627726809978, 'GAC': 1.3066627726809978, 'GAT': 1.3066627726809978, 'GAA': 1.3066627726809978, 'GAG': 1.3066627726809978, 'GGG': 1.3066627726809978, 'TCG': 1.3066627726809978, 'TTC': 1.3066627726809978, 'TTT': 1.3066627726809978, 'TTA': 1.3066627726809978, 'TTG': 1.3066627726809978, 'TAC': 1.3066627726809978, 'TAT': 1.3066627726809978, 'TGC': 1.3066627726809978, 'TGT': 1.3066627726809978, 'TGA': 1.3066627726809978, 'TGG': 1.3066627726809978, 'ATC': 1.259864299020532, 'ATT': 1.238946391882487, 'ACA': 1.0654912215606098, 'ACG': 1.1634392926276058, 'ACT': 1.1966410305414263, 'AAT': 1.3049873942280206, 'AAG': 1.3164461732501676, 'AGC': 1.292189349433728, 'AGT': 1.3010944450586668, 'AGA': 1.2782980263172512, 'CGA': 1.30179635606408, 'CGC': 1.293120827237306, 'CGG': 1.2988780774135236, 'CGT': 1.2948630232866136, 'GCA': 1.3058818983935572, 'GCC': 1.3156979072098798, 'GCG': 1.3092773570970697, 'GGA': 1.2509679266632536, 'GGC': 1.2762839843125098, 'GGT': 1.2991399968495663, 'TCA': 1.2851442260870216, 'TCC': 1.302178805217261, 'TCT': 1.289671539627652, 'TAA': 1.2866565757011545, 'TAG': 1.3044575542015073}, 'sequence_score': 1.3164461732501676}, {'selected_codons': [('GCC', 'A')], 'codon_to_score': {'ATA': 1.3182080912319025, 'ATG': 1.3182080912319025, 'ACC': 1.3182080912319025, 'AAC': 1.3182080912319025, 'AAG': 1.3182080912319025, 'AGG': 1.3182080912319025, 'CTA': 1.3182080912319025, 'CTC': 1.3182080912319025, 'CTG': 1.3182080912319025, 'CTT': 1.3182080912319025, 'CCA': 1.3182080912319025, 'CCC': 1.3182080912319025, 'CCG': 1.3182080912319025, 'CCT': 1.3182080912319025, 'CAC': 1.3182080912319025, 'CAT': 1.3182080912319025, 'CAA': 1.3182080912319025, 'CAG': 1.3182080912319025, 'GTA': 1.3182080912319025, 'GTC': 1.3182080912319025, 'GTG': 1.3182080912319025, 'GTT': 1.3182080912319025, 'GCT': 1.3182080912319025, 'GAC': 1.3182080912319025, 'GAT': 1.3182080912319025, 'GAA': 1.3182080912319025, 'GAG': 1.3182080912319025, 'GGG': 1.3182080912319025, 'TCG': 1.3182080912319025, 'TTC': 1.3182080912319025, 'TTT': 1.3182080912319025, 'TTA': 1.3182080912319025, 'TTG': 1.3182080912319025, 'TAC': 1.3182080912319025, 'TAT': 1.3182080912319025, 'TGC': 1.3182080912319025, 'TGT': 1.3182080912319025, 'TGA': 1.3182080912319025, 'TGG': 1.3182080912319025, 'ATC': 1.2696027085151331, 'ATT': 1.2490873597556016, 'ACA': 1.0802221504536818, 'ACG': 1.1772246707901497, 'ACT': 1.2100212896132385, 'AAT': 1.3166745730386331, 'AAA': 1.3083337543011562, 'AGC': 1.3037693795724015, 'AGT': 1.3127399124783403, 'AGA': 1.2900748515307798, 'CGA': 1.3132287350666179, 'CGC': 1.3041962761508443, 'CGG': 1.310279841077966, 'CGT': 1.3058660456299753, 'GCA': 1.317429917847437, 'GCC': 1.3271294459146956, 'GCG': 1.32072721104743, 'GGA': 1.263272042621796, 'GGC': 1.2874034686507083, 'GGT': 1.3100287180217218, 'TCA': 1.2969667417629989, 'TCC': 1.3136818345768795, 'TCT': 1.3012952341163797, 'TAA': 1.298219267461922, 'TAG': 1.316280812159798}, 'sequence_score': 1.3271294459146956}, {'selected_codons': [('ATA', 'I'), ('ATG', 'M'), ('ACC', 'T'), ('AAC', 'N'), ('AAG', 'K'), ('AGG', 'R'), ('CTA', 'L'), ('CTC', 'L'), ('CTG', 'L'), ('CTT', 'L'), ('CCA', 'P'), ('CCC', 'P'), ('CCG', 'P'), ('CCT', 'P'), ('CAC', 'H'), ('CAT', 'H'), ('CAA', 'Q'), ('CAG', 'Q'), ('GTA', 'V'), ('GTC', 'V'), ('GTG', 'V'), ('GTT', 'V'), ('GCC', 'A'), ('GAC', 'D'), ('GAT', 'D'), ('GAA', 'E'), ('GAG', 'E'), ('GGG', 'G'), ('TCG', 'S'), ('TTC', 'F'), ('TTT', 'F'), ('TTA', 'L'), ('TTG', 'L'), ('TAC', 'Y'), ('TAT', 'Y'), ('TGC', 'C'), ('TGT', 'C'), ('TGA', '_'), ('TGG', 'W')], 'codon_to_score': {'ATA': 1.3210296796611976, 'ATG': 1.3210296796611976, 'ACC': 1.3210296796611976, 'AAC': 1.3210296796611976, 'AAG': 1.3210296796611976, 'AGG': 1.3210296796611976, 'CTA': 1.3210296796611976, 'CTC': 1.3210296796611976, 'CTG': 1.3210296796611976, 'CTT': 1.3210296796611976, 'CCA': 1.3210296796611976, 'CCC': 1.3210296796611976, 'CCG': 1.3210296796611976, 'CCT': 1.3210296796611976, 'CAC': 1.3210296796611976, 'CAT': 1.3210296796611976, 'CAA': 1.3210296796611976, 'CAG': 1.3210296796611976, 'GTA': 1.3210296796611976, 'GTC': 1.3210296796611976, 'GTG': 1.3210296796611976, 'GTT': 1.3210296796611976, 'GCC': 1.3210296796611976, 'GAC': 1.3210296796611976, 'GAT': 1.3210296796611976, 'GAA': 1.3210296796611976, 'GAG': 1.3210296796611976, 'GGG': 1.3210296796611976, 'TCG': 1.3210296796611976, 'TTC': 1.3210296796611976, 'TTT': 1.3210296796611976, 'TTA': 1.3210296796611976, 'TTG': 1.3210296796611976, 'TAC': 1.3210296796611976, 'TAT': 1.3210296796611976, 'TGC': 1.3210296796611976, 'TGT': 1.3210296796611976, 'TGA': 1.3210296796611976, 'TGG': 1.3210296796611976, 'ATC': 1.275711369910516, 'ATT': 1.255517336981766, 'ACA': 1.0881943347817706, 'ACG': 1.183388735933502, 'ACT': 1.2154628123342508, 'AAT': 1.3194384487448594, 'AAA': 1.3116396219207007, 'AGC': 1.3071701466169863, 'AGT': 1.3157096548324163, 'AGA': 1.2938620252252506, 'CGA': 1.316362137087533, 'CGC': 1.3080053546693544, 'CGG': 1.3135633165980023, 'CGT': 1.3096700417410194, 'GCA': 1.3115767739254858, 'GCG': 1.3148086886790944, 'GCT': 1.3123333720183112, 'GGA': 1.2676606925146248, 'GGC': 1.2918215280105247, 'GGT': 1.3137637475686577, 'TCA': 1.3004424717845575, 'TCC': 1.3167347844579074, 'TCT': 1.304760364044827, 'TAA': 1.301859126919474, 'TAG': 1.3189430186307098}, 'sequence_score': 1.3210296796611976}]}, {'initial_sequence': 'ATGAAGAGGATCAGTACGACTATTACTACGACAATTACAATTACGACCGGCAATGGAGCAGGCTGA', 'final_sequence': 'ATGAAGAGGATATCGACCACCATAACCACCACCATAACCATAACCACCGGGAACGGGGCCGGGTGA', 'iterations_count': 7, 'aa_to_optimal_codon': defaultdict(<class 'str'>, {'T': 'ACC', 'I': 'ATA', 'G': 'GGG', 'A': 'GCC', 'S': 'TCG', 'N': 'AAC', 'M': 'ATG', 'K': 'AAG', 'R': 'AGG', 'L': 'TTG', 'P': 'CCT', 'H': 'CAT', 'Q': 'CAG', 'V': 'GTT', 'D': 'GAT', 'E': 'GAG', 'F': 'TTT', 'Y': 'TAT', 'C': 'TGT', '_': 'TGA', 'W': 'TGG'}), 'initial_sequence_optimization_score': 1.043083063684371, 'final_sequence_optimization_score': 1.3210296796611976, 'run_time': 9.213509529829025, 'iterations_summary': [{'selected_codons': [('ACC', 'T')], 'codon_to_score': {'ATA': 1.21447704308701, 'ATC': 1.063018639711464, 'ATT': 1.0365628171237817, 'ATG': 1.043083063684371, 'AAT': 1.043083063684371, 'AAG': 1.043083063684371, 'AGT': 1.043083063684371, 'AGG': 1.043083063684371, 'CTA': 1.043083063684371, 'CTC': 1.043083063684371, 'CTG': 1.043083063684371, 'CTT': 1.043083063684371, 'CCA': 1.043083063684371, 'CCC': 1.043083063684371, 'CCG': 1.043083063684371, 'CCT': 1.043083063684371, 'CAC': 1.043083063684371, 'CAT': 1.043083063684371, 'CAA': 1.043083063684371, 'CAG': 1.043083063684371, 'GTA': 1.043083063684371, 'GTC': 1.043083063684371, 'GTG': 1.043083063684371, 'GTT': 1.043083063684371, 'GCA': 1.043083063684371, 'GAC': 1.043083063684371, 'GAT': 1.043083063684371, 'GAA': 1.043083063684371, 'GAG': 1.043083063684371, 'TTC': 1.043083063684371, 'TTT': 1.043083063684371, 'TTA': 1.043083063684371, 'TTG': 1.043083063684371, 'TAC': 1.043083063684371, 'TAT': 1.043083063684371, 'TGC': 1.043083063684371, 'TGT': 1.043083063684371, 'TGA': 1.043083063684371, 'TGG': 1.043083063684371, 'ACA': 0.8828053275188622, 'ACC': 1.3321102234583657, 'ACG': 1.0430990228547405, 'ACT': 1.103424818708633, 'AAC': 1.0447006506282266, 'AAA': 1.024370928501831, 'AGC': 1.0262865644383385, 'AGA': 0.995162880792365, 'CGA': 1.0328133549218386, 'CGC': 1.0138694537000839, 'CGG': 1.0272293443874871, 'CGT': 1.016129722844252, 'GCC': 1.0602365333573114, 'GCG': 1.0482345934060515, 'GCT': 1.0445095071319974, 'GGA': 1.0243348723134142, 'GGC': 1.054185628683481, 'GGG': 1.1193230342061098, 'GGT': 1.0928278798955655, 'TCA': 1.0161743140206194, 'TCC': 1.0435019759027324, 'TCG': 1.0523217488682437, 'TCT': 1.0222650838066298, 'TAA': 1.0074618537312052, 'TAG': 1.0423145045981594}, 'sequence_score': 1.3321102234583657}, {'selected_codons': [('ATA', 'I')], 'codon_to_score': {'ATA': 1.284362217449015, 'ATC': 1.2276563414236887, 'ATT': 1.2056144726495994, 'ATG': 1.211070073880608, 'ACC': 1.211070073880608, 'AAT': 1.211070073880608, 'AAG': 1.211070073880608, 'AGT': 1.211070073880608, 'AGG': 1.211070073880608, 'CTA': 1.211070073880608, 'CTC': 1.211070073880608, 'CTG': 1.211070073880608, 'CTT': 1.211070073880608, 'CCA': 1.211070073880608, 'CCC': 1.211070073880608, 'CCG': 1.211070073880608, 'CCT': 1.211070073880608, 'CAC': 1.211070073880608, 'CAT': 1.211070073880608, 'CAA': 1.211070073880608, 'CAG': 1.211070073880608, 'GTA': 1.211070073880608, 'GTC': 1.211070073880608, 'GTG': 1.211070073880608, 'GTT': 1.211070073880608, 'GCA': 1.211070073880608, 'GAC': 1.211070073880608, 'GAT': 1.211070073880608, 'GAA': 1.211070073880608, 'GAG': 1.211070073880608, 'TTC': 1.211070073880608, 'TTT': 1.211070073880608, 'TTA': 1.211070073880608, 'TTG': 1.211070073880608, 'TAC': 1.211070073880608, 'TAT': 1.211070073880608, 'TGC': 1.211070073880608, 'TGT': 1.211070073880608, 'TGA': 1.211070073880608, 'TGG': 1.211070073880608, 'ACA': 0.9152256553392184, 'ACG': 1.0296806197835005, 'ACT': 1.0699152329981798, 'AAC': 1.2147964538564715, 'AAA': 1.2011613938993049, 'AGC': 1.2021685912983189, 'AGA': 1.1772567673966396, 'CGA': 1.2070217074525678, 'CGC': 1.201596517279253, 'CGG': 1.2041667343894318, 'CGT': 1.2043317191935796, 'GCC': 1.2232674994825672, 'GCG': 1.215955671355462, 'GCT': 1.2119625744015836, 'GGA': 1.1867017165764453, 'GGC': 1.2252410396399516, 'GGG': 1.2545324432020823, 'GGT': 1.2522894681422336, 'TCA': 1.1914622260681835, 'TCC': 1.2140332366839228, 'TCG': 1.218414731217974, 'TCT': 1.1988811565626543, 'TAA': 1.1888957607578854, 'TAG': 1.205375009395062}, 'sequence_score': 1.284362217449015}, {'selected_codons': [('GGG', 'G')], 'codon_to_score': {'ATA': 1.267936767228537, 'ATG': 1.267936767228537, 'ACC': 1.267936767228537, 'AAT': 1.267936767228537, 'AAG': 1.267936767228537, 'AGT': 1.267936767228537, 'AGG': 1.267936767228537, 'CTA': 1.267936767228537, 'CTC': 1.267936767228537, 'CTG': 1.267936767228537, 'CTT': 1.267936767228537, 'CCA': 1.267936767228537, 'CCC': 1.267936767228537, 'CCG': 1.267936767228537, 'CCT': 1.267936767228537, 'CAC': 1.267936767228537, 'CAT': 1.267936767228537, 'CAA': 1.267936767228537, 'CAG': 1.267936767228537, 'GTA': 1.267936767228537, 'GTC': 1.267936767228537, 'GTG': 1.267936767228537, 'GTT': 1.267936767228537, 'GCA': 1.267936767228537, 'GAC': 1.267936767228537, 'GAT': 1.267936767228537, 'GAA': 1.267936767228537, 'GAG': 1.267936767228537, 'TTC': 1.267936767228537, 'TTT': 1.267936767228537, 'TTA': 1.267936767228537, 'TTG': 1.267936767228537, 'TAC': 1.267936767228537, 'TAT': 1.267936767228537, 'TGC': 1.267936767228537, 'TGT': 1.267936767228537, 'TGA': 1.267936767228537, 'TGG': 1.267936767228537, 'ATC': 1.216885629893097, 'ATT': 1.1960099837757028, 'ACA': 1.0247894847242627, 'ACG': 1.1230164141373258, 'ACT': 1.1565090640132774, 'AAC': 1.2696159529892472, 'AAA': 1.2575809637744133, 'AGC': 1.258656967473029, 'AGA': 1.2387078644737577, 'CGA': 1.2626718148147704, 'CGC': 1.2530861911707, 'CGG': 1.259578070209359, 'CGT': 1.2547891118056473, 'GCC': 1.2780268733384872, 'GCG': 1.2713322697111067, 'GCT': 1.2687491164467088, 'GGA': 1.2538810851778217, 'GGC': 1.276308948017226, 'GGG': 1.3078161418844036, 'GGT': 1.2986281888144926, 'TCA': 1.2515901248652492, 'TCC': 1.2689266727611912, 'TCG': 1.2736166018476032, 'TCT': 1.256093143459188, 'TAA': 1.2470866257703366, 'TAG': 1.2660648780952262}, 'sequence_score': 1.3078161418844036}, {'selected_codons': [('GCC', 'A')], 'codon_to_score': {'ATA': 1.3190258235019536, 'ATG': 1.3190258235019536, 'ACC': 1.3190258235019536, 'AAT': 1.3190258235019536, 'AAG': 1.3190258235019536, 'AGT': 1.3190258235019536, 'AGG': 1.3190258235019536, 'CTA': 1.3190258235019536, 'CTC': 1.3190258235019536, 'CTG': 1.3190258235019536, 'CTT': 1.3190258235019536, 'CCA': 1.3190258235019536, 'CCC': 1.3190258235019536, 'CCG': 1.3190258235019536, 'CCT': 1.3190258235019536, 'CAC': 1.3190258235019536, 'CAT': 1.3190258235019536, 'CAA': 1.3190258235019536, 'CAG': 1.3190258235019536, 'GTA': 1.3190258235019536, 'GTC': 1.3190258235019536, 'GTG': 1.3190258235019536, 'GTT': 1.3190258235019536, 'GCA': 1.3190258235019536, 'GAC': 1.3190258235019536, 'GAT': 1.3190258235019536, 'GAA': 1.3190258235019536, 'GAG': 1.3190258235019536, 'GGG': 1.3190258235019536, 'TTC': 1.3190258235019536, 'TTT': 1.3190258235019536, 'TTA': 1.3190258235019536, 'TTG': 1.3190258235019536, 'TAC': 1.3190258235019536, 'TAT': 1.3190258235019536, 'TGC': 1.3190258235019536, 'TGT': 1.3190258235019536, 'TGA': 1.3190258235019536, 'TGG': 1.3190258235019536, 'ATC': 1.2642214094066766, 'ATT': 1.2436503258931086, 'ACA': 1.077006146123537, 'ACG': 1.1754944840348525, 'ACT': 1.208892731823713, 'AAC': 1.3204904621774225, 'AAA': 1.3084029676725542, 'AGC': 1.3095097549715704, 'AGA': 1.2897535768543495, 'CGA': 1.3135050448451593, 'CGC': 1.3032013015445254, 'CGG': 1.3103178352894689, 'CGT': 1.304811586286943, 'GCC': 1.3290642868159737, 'GCG': 1.3223094439468481, 'GCT': 1.3198448975606112, 'GGA': 1.2626002722799925, 'GGC': 1.285605123625139, 'GGT': 1.3089651961198163, 'TCA': 1.302741819575032, 'TCC': 1.319796095253258, 'TCG': 1.3246188171407796, 'TCT': 1.3069814216219717, 'TAA': 1.2979069554285434, 'TAG': 1.3175771518808341}, 'sequence_score': 1.3290642868159737}, {'selected_codons': [('TCG', 'S')], 'codon_to_score': {'ATA': 1.3230456783023015, 'ATG': 1.3230456783023015, 'ACC': 1.3230456783023015, 'AAT': 1.3230456783023015, 'AAG': 1.3230456783023015, 'AGT': 1.3230456783023015, 'AGG': 1.3230456783023015, 'CTA': 1.3230456783023015, 'CTC': 1.3230456783023015, 'CTG': 1.3230456783023015, 'CTT': 1.3230456783023015, 'CCA': 1.3230456783023015, 'CCC': 1.3230456783023015, 'CCG': 1.3230456783023015, 'CCT': 1.3230456783023015, 'CAC': 1.3230456783023015, 'CAT': 1.3230456783023015, 'CAA': 1.3230456783023015, 'CAG': 1.3230456783023015, 'GTA': 1.3230456783023015, 'GTC': 1.3230456783023015, 'GTG': 1.3230456783023015, 'GTT': 1.3230456783023015, 'GCC': 1.3230456783023015, 'GAC': 1.3230456783023015, 'GAT': 1.3230456783023015, 'GAA': 1.3230456783023015, 'GAG': 1.3230456783023015, 'GGG': 1.3230456783023015, 'TTC': 1.3230456783023015, 'TTT': 1.3230456783023015, 'TTA': 1.3230456783023015, 'TTG': 1.3230456783023015, 'TAC': 1.3230456783023015, 'TAT': 1.3230456783023015, 'TGC': 1.3230456783023015, 'TGT': 1.3230456783023015, 'TGA': 1.3230456783023015, 'TGG': 1.3230456783023015, 'ATC': 1.2715654146882864, 'ATT': 1.251317858390163, 'ACA': 1.0862375190569054, 'ACG': 1.182927755154865, 'ACT': 1.215596354401033, 'AAC': 1.3245682910395533, 'AAA': 1.3129203151066648, 'AGC': 1.3139749966692407, 'AGA': 1.2947655850611535, 'CGA': 1.3178451285432051, 'CGC': 1.3082316226553528, 'CGG': 1.3148118542860743, 'CGT': 1.3098362931248893, 'GCA': 1.3132578907146297, 'GCG': 1.316477230050733, 'GCT': 1.3140548146132998, 'GGA': 1.268229123669682, 'GGC': 1.291256144163649, 'GGT': 1.3139187862849546, 'TCA': 1.3072867843182976, 'TCC': 1.3239008550829614, 'TCG': 1.3284842204582403, 'TCT': 1.3115135668032838, 'TAA': 1.3027670551687578, 'TAG': 1.3214339279834857}, 'sequence_score': 1.3284842204582403}, {'selected_codons': [('AAC', 'N')], 'codon_to_score': {'ATA': 1.3231949234116316, 'ATG': 1.3231949234116316, 'ACC': 1.3231949234116316, 'AAT': 1.3231949234116316, 'AAG': 1.3231949234116316, 'AGG': 1.3231949234116316, 'CTA': 1.3231949234116316, 'CTC': 1.3231949234116316, 'CTG': 1.3231949234116316, 'CTT': 1.3231949234116316, 'CCA': 1.3231949234116316, 'CCC': 1.3231949234116316, 'CCG': 1.3231949234116316, 'CCT': 1.3231949234116316, 'CAC': 1.3231949234116316, 'CAT': 1.3231949234116316, 'CAA': 1.3231949234116316, 'CAG': 1.3231949234116316, 'GTA': 1.3231949234116316, 'GTC': 1.3231949234116316, 'GTG': 1.3231949234116316, 'GTT': 1.3231949234116316, 'GCC': 1.3231949234116316, 'GAC': 1.3231949234116316, 'GAT': 1.3231949234116316, 'GAA': 1.3231949234116316, 'GAG': 1.3231949234116316, 'GGG': 1.3231949234116316, 'TCG': 1.3231949234116316, 'TTC': 1.3231949234116316, 'TTT': 1.3231949234116316, 'TTA': 1.3231949234116316, 'TTG': 1.3231949234116316, 'TAC': 1.3231949234116316, 'TAT': 1.3231949234116316, 'TGC': 1.3231949234116316, 'TGT': 1.3231949234116316, 'TGA': 1.3231949234116316, 'TGG': 1.3231949234116316, 'ATC': 1.2746719377729254, 'ATT': 1.2546197203109413, 'ACA': 1.090054519373912, 'ACG': 1.185428264937715, 'ACT': 1.217575628845464, 'AAC': 1.3247877345985144, 'AAA': 1.3134750698986886, 'AGC': 1.3090358333890912, 'AGT': 1.3178671325757683, 'AGA': 1.2956613014677483, 'CGA': 1.3182659655126698, 'CGC': 1.3092588250721329, 'CGG': 1.3153595154357098, 'CGT': 1.310871112850169, 'GCA': 1.313647928037248, 'GCG': 1.3168378357926636, 'GCT': 1.3144200802818258, 'GGA': 1.2695276522384482, 'GGC': 1.2927702206300355, 'GGT': 1.3149161817675525, 'TCA': 1.3024500779762618, 'TCC': 1.3187374868662165, 'TCT': 1.3066231385183396, 'TAA': 1.303577915773392, 'TAG': 1.3214084823058063}, 'sequence_score': 1.3247877345985144}, {'selected_codons': [('ATA', 'I'), ('ATG', 'M'), ('ACC', 'T'), ('AAC', 'N'), ('AAG', 'K'), ('AGG', 'R'), ('CTA', 'L'), ('CTC', 'L'), ('CTG', 'L'), ('CTT', 'L'), ('CCA', 'P'), ('CCC', 'P'), ('CCG', 'P'), ('CCT', 'P'), ('CAC', 'H'), ('CAT', 'H'), ('CAA', 'Q'), ('CAG', 'Q'), ('GTA', 'V'), ('GTC', 'V'), ('GTG', 'V'), ('GTT', 'V'), ('GCC', 'A'), ('GAC', 'D'), ('GAT', 'D'), ('GAA', 'E'), ('GAG', 'E'), ('GGG', 'G'), ('TCG', 'S'), ('TTC', 'F'), ('TTT', 'F'), ('TTA', 'L'), ('TTG', 'L'), ('TAC', 'Y'), ('TAT', 'Y'), ('TGC', 'C'), ('TGT', 'C'), ('TGA', '_'), ('TGG', 'W')], 'codon_to_score': {'ATA': 1.3210296796611976, 'ATG': 1.3210296796611976, 'ACC': 1.3210296796611976, 'AAC': 1.3210296796611976, 'AAG': 1.3210296796611976, 'AGG': 1.3210296796611976, 'CTA': 1.3210296796611976, 'CTC': 1.3210296796611976, 'CTG': 1.3210296796611976, 'CTT': 1.3210296796611976, 'CCA': 1.3210296796611976, 'CCC': 1.3210296796611976, 'CCG': 1.3210296796611976, 'CCT': 1.3210296796611976, 'CAC': 1.3210296796611976, 'CAT': 1.3210296796611976, 'CAA': 1.3210296796611976, 'CAG': 1.3210296796611976, 'GTA': 1.3210296796611976, 'GTC': 1.3210296796611976, 'GTG': 1.3210296796611976, 'GTT': 1.3210296796611976, 'GCC': 1.3210296796611976, 'GAC': 1.3210296796611976, 'GAT': 1.3210296796611976, 'GAA': 1.3210296796611976, 'GAG': 1.3210296796611976, 'GGG': 1.3210296796611976, 'TCG': 1.3210296796611976, 'TTC': 1.3210296796611976, 'TTT': 1.3210296796611976, 'TTA': 1.3210296796611976, 'TTG': 1.3210296796611976, 'TAC': 1.3210296796611976, 'TAT': 1.3210296796611976, 'TGC': 1.3210296796611976, 'TGT': 1.3210296796611976, 'TGA': 1.3210296796611976, 'TGG': 1.3210296796611976, 'ATC': 1.275711369910516, 'ATT': 1.255517336981766, 'ACA': 1.0881943347817706, 'ACG': 1.183388735933502, 'ACT': 1.2154628123342508, 'AAT': 1.3194384487448594, 'AAA': 1.3116396219207007, 'AGC': 1.3071701466169863, 'AGT': 1.3157096548324163, 'AGA': 1.2938620252252506, 'CGA': 1.316362137087533, 'CGC': 1.3080053546693544, 'CGG': 1.3135633165980023, 'CGT': 1.3096700417410194, 'GCA': 1.3115767739254858, 'GCG': 1.3148086886790944, 'GCT': 1.3123333720183112, 'GGA': 1.2676606925146248, 'GGC': 1.2918215280105247, 'GGT': 1.3137637475686577, 'TCA': 1.3004424717845575, 'TCC': 1.3167347844579074, 'TCT': 1.304760364044827, 'TAA': 1.301859126919474, 'TAG': 1.3189430186307098}, 'sequence_score': 1.3210296796611976}]}, {'initial_sequence': 'ATGAAACGAATTTCGACTACCATAACTACTACTATTACGATAACGACCGGCAATGGGGCCGGTTAA', 'final_sequence': 'ATGAAGAGGATATCGACCACCATAACCACCACCATAACCATAACCACCGGGAACGGGGCCGGGTGA', 'iterations_count': 8, 'aa_to_optimal_codon': defaultdict(<class 'str'>, {'T': 'ACC', 'I': 'ATA', '_': 'TGA', 'G': 'GGG', 'K': 'AAG', 'R': 'AGG', 'N': 'AAC', 'M': 'ATG', 'L': 'TTG', 'P': 'CCT', 'H': 'CAT', 'Q': 'CAG', 'V': 'GTT', 'A': 'GCC', 'D': 'GAT', 'E': 'GAG', 'S': 'TCG', 'F': 'TTT', 'Y': 'TAT', 'C': 'TGT', 'W': 'TGG'}), 'initial_sequence_optimization_score': 1.204406006805683, 'final_sequence_optimization_score': 1.3210296796611976, 'run_time': 10.48263269662857, 'iterations_summary': [{'selected_codons': [('ACC', 'T')], 'codon_to_score': {'ATA': 1.289463732846962, 'ATC': 1.1647615256744002, 'ATT': 1.134729800890173, 'ATG': 1.204406006805683, 'AAT': 1.204406006805683, 'AAA': 1.204406006805683, 'CTA': 1.204406006805683, 'CTC': 1.204406006805683, 'CTG': 1.204406006805683, 'CTT': 1.204406006805683, 'CCA': 1.204406006805683, 'CCC': 1.204406006805683, 'CCG': 1.204406006805683, 'CCT': 1.204406006805683, 'CAC': 1.204406006805683, 'CAT': 1.204406006805683, 'CAA': 1.204406006805683, 'CAG': 1.204406006805683, 'CGA': 1.204406006805683, 'GTA': 1.204406006805683, 'GTC': 1.204406006805683, 'GTG': 1.204406006805683, 'GTT': 1.204406006805683, 'GCC': 1.204406006805683, 'GAC': 1.204406006805683, 'GAT': 1.204406006805683, 'GAA': 1.204406006805683, 'GAG': 1.204406006805683, 'TCG': 1.204406006805683, 'TTC': 1.204406006805683, 'TTT': 1.204406006805683, 'TTA': 1.204406006805683, 'TTG': 1.204406006805683, 'TAC': 1.204406006805683, 'TAT': 1.204406006805683, 'TAA': 1.204406006805683, 'TGC': 1.204406006805683, 'TGT': 1.204406006805683, 'TGG': 1.204406006805683, 'ACA': 0.9482029077516242, 'ACC': 1.3934860345609532, 'ACG': 1.10948019958093, 'ACT': 1.1695423741136661, 'AAC': 1.2065780371539079, 'AAG': 1.225278313559903, 'AGC': 1.1763220422072656, 'AGT': 1.1942465742635666, 'AGA': 1.1623837187273465, 'AGG': 1.2156882697667981, 'CGC': 1.183581413629829, 'CGG': 1.1982366593348084, 'CGT': 1.1861384196491611, 'GCA': 1.1858619161521247, 'GCG': 1.1916162315468952, 'GCT': 1.187386027405343, 'GGA': 1.136355038868622, 'GGC': 1.1697023196163563, 'GGG': 1.2363208839534316, 'GGT': 1.2103929574629735, 'TCA': 1.164860376360842, 'TCC': 1.1950394898093248, 'TCT': 1.1718836354821338, 'TAG': 1.2440103483840366, 'TGA': 1.244963706249112}, 'sequence_score': 1.3934860345609532}, {'selected_codons': [('ATA', 'I')], 'codon_to_score': {'ATA': 1.2997245972822242, 'ATC': 1.2530133529477658, 'ATT': 1.2282966213110382, 'ATG': 1.261617429524113, 'ACC': 1.261617429524113, 'AAT': 1.261617429524113, 'AAA': 1.261617429524113, 'CTA': 1.261617429524113, 'CTC': 1.261617429524113, 'CTG': 1.261617429524113, 'CTT': 1.261617429524113, 'CCA': 1.261617429524113, 'CCC': 1.261617429524113, 'CCG': 1.261617429524113, 'CCT': 1.261617429524113, 'CAC': 1.261617429524113, 'CAT': 1.261617429524113, 'CAA': 1.261617429524113, 'CAG': 1.261617429524113, 'CGA': 1.261617429524113, 'GTA': 1.261617429524113, 'GTC': 1.261617429524113, 'GTG': 1.261617429524113, 'GTT': 1.261617429524113, 'GCC': 1.261617429524113, 'GAC': 1.261617429524113, 'GAT': 1.261617429524113, 'GAA': 1.261617429524113, 'GAG': 1.261617429524113, 'TCG': 1.261617429524113, 'TTC': 1.261617429524113, 'TTT': 1.261617429524113, 'TTA': 1.261617429524113, 'TTG': 1.261617429524113, 'TAC': 1.261617429524113, 'TAT': 1.261617429524113, 'TAA': 1.261617429524113, 'TGC': 1.261617429524113, 'TGT': 1.261617429524113, 'TGG': 1.261617429524113, 'ACA': 0.9613861288450669, 'ACG': 1.078107221790809, 'ACT': 1.1189877243786477, 'AAC': 1.2652769530718257, 'AAG': 1.2719851502758532, 'AGC': 1.2449714056584253, 'AGT': 1.2542541467559438, 'AGA': 1.2319332455009953, 'AGG': 1.2660987105038488, 'CGC': 1.2550644423743045, 'CGG': 1.2585950071258938, 'CGT': 1.2576839898504535, 'GCA': 1.2492597554443017, 'GCG': 1.2541199757960806, 'GCT': 1.2501741365950274, 'GGA': 1.206015865307499, 'GGC': 1.2422909919433565, 'GGG': 1.2741952128327794, 'GGT': 1.2696718945409176, 'TCA': 1.2344196262789655, 'TCC': 1.257029399481909, 'TCT': 1.2416725633536163, 'TAG': 1.2789866147977047, 'TGA': 1.284181936255419}, 'sequence_score': 1.2997245972822242}, {'selected_codons': [('TGA', '_')], 'codon_to_score': {'ATA': 1.2715732067619405, 'ATG': 1.2715732067619405, 'ACC': 1.2715732067619405, 'AAT': 1.2715732067619405, 'AAA': 1.2715732067619405, 'CTA': 1.2715732067619405, 'CTC': 1.2715732067619405, 'CTG': 1.2715732067619405, 'CTT': 1.2715732067619405, 'CCA': 1.2715732067619405, 'CCC': 1.2715732067619405, 'CCG': 1.2715732067619405, 'CCT': 1.2715732067619405, 'CAC': 1.2715732067619405, 'CAT': 1.2715732067619405, 'CAA': 1.2715732067619405, 'CAG': 1.2715732067619405, 'CGA': 1.2715732067619405, 'GTA': 1.2715732067619405, 'GTC': 1.2715732067619405, 'GTG': 1.2715732067619405, 'GTT': 1.2715732067619405, 'GCC': 1.2715732067619405, 'GAC': 1.2715732067619405, 'GAT': 1.2715732067619405, 'GAA': 1.2715732067619405, 'GAG': 1.2715732067619405, 'TCG': 1.2715732067619405, 'TTC': 1.2715732067619405, 'TTT': 1.2715732067619405, 'TTA': 1.2715732067619405, 'TTG': 1.2715732067619405, 'TAC': 1.2715732067619405, 'TAT': 1.2715732067619405, 'TAA': 1.2715732067619405, 'TGC': 1.2715732067619405, 'TGT': 1.2715732067619405, 'TGG': 1.2715732067619405, 'ATC': 1.233678641730649, 'ATT': 1.211067158135592, 'ACA': 1.017597807705722, 'ACG': 1.1193796659776933, 'ACT': 1.1541905181778982, 'AAC': 1.274075022051892, 'AAG': 1.2809118122276184, 'AGC': 1.257135586590041, 'AGT': 1.2656078266561392, 'AGA': 1.24717045162464, 'AGG': 1.2759807643054684, 'CGC': 1.2642450423392022, 'CGG': 1.2687990962645335, 'CGT': 1.2662171288969692, 'GCA': 1.261289249478571, 'GCG': 1.2650860816202902, 'GCT': 1.262080118530903, 'GGA': 1.2277765304531312, 'GGC': 1.2543893949456295, 'GGG': 1.283813204422278, 'GGT': 1.277280571686314, 'TCA': 1.249034869767576, 'TCC': 1.2673544949634439, 'TCT': 1.2544441722265227, 'TAG': 1.2877465883598027, 'TGA': 1.2910148397147934}, 'sequence_score': 1.2910148397147934}, {'selected_codons': [('GGG', 'G')], 'codon_to_score': {'ATA': 1.2840375429016768, 'ATG': 1.2840375429016768, 'ACC': 1.2840375429016768, 'AAT': 1.2840375429016768, 'AAA': 1.2840375429016768, 'CTA': 1.2840375429016768, 'CTC': 1.2840375429016768, 'CTG': 1.2840375429016768, 'CTT': 1.2840375429016768, 'CCA': 1.2840375429016768, 'CCC': 1.2840375429016768, 'CCG': 1.2840375429016768, 'CCT': 1.2840375429016768, 'CAC': 1.2840375429016768, 'CAT': 1.2840375429016768, 'CAA': 1.2840375429016768, 'CAG': 1.2840375429016768, 'CGA': 1.2840375429016768, 'GTA': 1.2840375429016768, 'GTC': 1.2840375429016768, 'GTG': 1.2840375429016768, 'GTT': 1.2840375429016768, 'GCC': 1.2840375429016768, 'GAC': 1.2840375429016768, 'GAT': 1.2840375429016768, 'GAA': 1.2840375429016768, 'GAG': 1.2840375429016768, 'TCG': 1.2840375429016768, 'TTC': 1.2840375429016768, 'TTT': 1.2840375429016768, 'TTA': 1.2840375429016768, 'TTG': 1.2840375429016768, 'TAC': 1.2840375429016768, 'TAT': 1.2840375429016768, 'TGC': 1.2840375429016768, 'TGT': 1.2840375429016768, 'TGA': 1.2840375429016768, 'TGG': 1.2840375429016768, 'ATC': 1.247647492165913, 'ATT': 1.2260555140044178, 'ACA': 1.0415269241501683, 'ACG': 1.1395440498074874, 'ACT': 1.1728147472915669, 'AAC': 1.2863840040979826, 'AAG': 1.2928464313618464, 'AGC': 1.2703908630709846, 'AGT': 1.2784157475222353, 'AGA': 1.2610060024748608, 'AGG': 1.28820501560422, 'CGC': 1.2770676485508974, 'CGG': 1.2814147765638717, 'CGT': 1.2789257363364597, 'GCA': 1.2743348442285323, 'GCG': 1.2779113470664825, 'GCT': 1.2750824614864245, 'GGA': 1.2427731937478348, 'GGC': 1.2677749276233183, 'GGG': 1.2955882903191198, 'GGT': 1.2893974112894673, 'TCA': 1.2627600064414286, 'TCC': 1.280047876430652, 'TCT': 1.2678487856884333, 'TAA': 1.2652896598280714, 'TAG': 1.280767039790304}, 'sequence_score': 1.2955882903191198}, {'selected_codons': [('AAG', 'K')], 'codon_to_score': {'ATA': 1.3062115656189803, 'ATG': 1.3062115656189803, 'ACC': 1.3062115656189803, 'AAT': 1.3062115656189803, 'AAA': 1.3062115656189803, 'CTA': 1.3062115656189803, 'CTC': 1.3062115656189803, 'CTG': 1.3062115656189803, 'CTT': 1.3062115656189803, 'CCA': 1.3062115656189803, 'CCC': 1.3062115656189803, 'CCG': 1.3062115656189803, 'CCT': 1.3062115656189803, 'CAC': 1.3062115656189803, 'CAT': 1.3062115656189803, 'CAA': 1.3062115656189803, 'CAG': 1.3062115656189803, 'CGA': 1.3062115656189803, 'GTA': 1.3062115656189803, 'GTC': 1.3062115656189803, 'GTG': 1.3062115656189803, 'GTT': 1.3062115656189803, 'GCC': 1.3062115656189803, 'GAC': 1.3062115656189803, 'GAT': 1.3062115656189803, 'GAA': 1.3062115656189803, 'GAG': 1.3062115656189803, 'GGG': 1.3062115656189803, 'TCG': 1.3062115656189803, 'TTC': 1.3062115656189803, 'TTT': 1.3062115656189803, 'TTA': 1.3062115656189803, 'TTG': 1.3062115656189803, 'TAC': 1.3062115656189803, 'TAT': 1.3062115656189803, 'TGC': 1.3062115656189803, 'TGT': 1.3062115656189803, 'TGA': 1.3062115656189803, 'TGG': 1.3062115656189803, 'ATC': 1.2613965312717557, 'ATT': 1.2405065012587948, 'ACA': 1.0664231370702186, 'ACG': 1.1638629696882103, 'ACT': 1.196859844153687, 'AAC': 1.3081051907179038, 'AAG': 1.3157522243489346, 'AGC': 1.2919924073519258, 'AGT': 1.3006831044088139, 'AGA': 1.283325205717096, 'AGG': 1.3110152645054272, 'CGC': 1.297581698901808, 'CGG': 1.30334321556063, 'CGT': 1.2992616094935818, 'GCA': 1.2964404769504274, 'GCG': 1.2998261968577962, 'GCT': 1.2972171125898035, 'GGA': 1.2510162803998557, 'GGC': 1.2766752036259414, 'GGT': 1.299286989088231, 'TCA': 1.284914025843508, 'TCC': 1.3018449197764221, 'TCT': 1.2894917105555106, 'TAA': 1.2865729636472283, 'TAG': 1.3038564761489766}, 'sequence_score': 1.3157522243489346}, {'selected_codons': [('AGG', 'R')], 'codon_to_score': {'ATA': 1.3159625581548051, 'ATG': 1.3159625581548051, 'ACC': 1.3159625581548051, 'AAT': 1.3159625581548051, 'AAG': 1.3159625581548051, 'CTA': 1.3159625581548051, 'CTC': 1.3159625581548051, 'CTG': 1.3159625581548051, 'CTT': 1.3159625581548051, 'CCA': 1.3159625581548051, 'CCC': 1.3159625581548051, 'CCG': 1.3159625581548051, 'CCT': 1.3159625581548051, 'CAC': 1.3159625581548051, 'CAT': 1.3159625581548051, 'CAA': 1.3159625581548051, 'CAG': 1.3159625581548051, 'CGA': 1.3159625581548051, 'GTA': 1.3159625581548051, 'GTC': 1.3159625581548051, 'GTG': 1.3159625581548051, 'GTT': 1.3159625581548051, 'GCC': 1.3159625581548051, 'GAC': 1.3159625581548051, 'GAT': 1.3159625581548051, 'GAA': 1.3159625581548051, 'GAG': 1.3159625581548051, 'GGG': 1.3159625581548051, 'TCG': 1.3159625581548051, 'TTC': 1.3159625581548051, 'TTT': 1.3159625581548051, 'TTA': 1.3159625581548051, 'TTG': 1.3159625581548051, 'TAC': 1.3159625581548051, 'TAT': 1.3159625581548051, 'TGC': 1.3159625581548051, 'TGT': 1.3159625581548051, 'TGA': 1.3159625581548051, 'TGG': 1.3159625581548051, 'ATC': 1.269805159303426, 'ATT': 1.249420525765629, 'ACA': 1.080684124695541, 'ACG': 1.1766889872545694, 'ACT': 1.209097715625839, 'AAC': 1.3177067588604423, 'AAA': 1.306411251584117, 'AGC': 1.3018861926713599, 'AGT': 1.31056941731171, 'AGA': 1.293568389401564, 'AGG': 1.3208221186495384, 'CGC': 1.3070951836983946, 'CGG': 1.3130922533132785, 'CGT': 1.3086981280192886, 'GCA': 1.306371969509982, 'GCG': 1.309642697049623, 'GCT': 1.3071402895622923, 'GGA': 1.2618803706758537, 'GGC': 1.286258354215233, 'GGT': 1.308491678968266, 'TCA': 1.2950846379915275, 'TCC': 1.3115918055626363, 'TCT': 1.2994446809143445, 'TAA': 1.2964919248768347, 'TAG': 1.3138801715721844}, 'sequence_score': 1.3208221186495384}, {'selected_codons': [('AAC', 'N')], 'codon_to_score': {'ATA': 1.3231949234116316, 'ATG': 1.3231949234116316, 'ACC': 1.3231949234116316, 'AAT': 1.3231949234116316, 'AAG': 1.3231949234116316, 'AGG': 1.3231949234116316, 'CTA': 1.3231949234116316, 'CTC': 1.3231949234116316, 'CTG': 1.3231949234116316, 'CTT': 1.3231949234116316, 'CCA': 1.3231949234116316, 'CCC': 1.3231949234116316, 'CCG': 1.3231949234116316, 'CCT': 1.3231949234116316, 'CAC': 1.3231949234116316, 'CAT': 1.3231949234116316, 'CAA': 1.3231949234116316, 'CAG': 1.3231949234116316, 'GTA': 1.3231949234116316, 'GTC': 1.3231949234116316, 'GTG': 1.3231949234116316, 'GTT': 1.3231949234116316, 'GCC': 1.3231949234116316, 'GAC': 1.3231949234116316, 'GAT': 1.3231949234116316, 'GAA': 1.3231949234116316, 'GAG': 1.3231949234116316, 'GGG': 1.3231949234116316, 'TCG': 1.3231949234116316, 'TTC': 1.3231949234116316, 'TTT': 1.3231949234116316, 'TTA': 1.3231949234116316, 'TTG': 1.3231949234116316, 'TAC': 1.3231949234116316, 'TAT': 1.3231949234116316, 'TGC': 1.3231949234116316, 'TGT': 1.3231949234116316, 'TGA': 1.3231949234116316, 'TGG': 1.3231949234116316, 'ATC': 1.2746719377729254, 'ATT': 1.2546197203109413, 'ACA': 1.090054519373912, 'ACG': 1.185428264937715, 'ACT': 1.217575628845464, 'AAC': 1.3247877345985144, 'AAA': 1.3134750698986886, 'AGC': 1.3090358333890912, 'AGT': 1.3178671325757683, 'AGA': 1.2956613014677483, 'CGA': 1.3182659655126698, 'CGC': 1.3092588250721329, 'CGG': 1.3153595154357098, 'CGT': 1.310871112850169, 'GCA': 1.313647928037248, 'GCG': 1.3168378357926636, 'GCT': 1.3144200802818258, 'GGA': 1.2695276522384482, 'GGC': 1.2927702206300355, 'GGT': 1.3149161817675525, 'TCA': 1.3024500779762618, 'TCC': 1.3187374868662165, 'TCT': 1.3066231385183396, 'TAA': 1.303577915773392, 'TAG': 1.3214084823058063}, 'sequence_score': 1.3247877345985144}, {'selected_codons': [('ATA', 'I'), ('ATG', 'M'), ('ACC', 'T'), ('AAC', 'N'), ('AAG', 'K'), ('AGG', 'R'), ('CTA', 'L'), ('CTC', 'L'), ('CTG', 'L'), ('CTT', 'L'), ('CCA', 'P'), ('CCC', 'P'), ('CCG', 'P'), ('CCT', 'P'), ('CAC', 'H'), ('CAT', 'H'), ('CAA', 'Q'), ('CAG', 'Q'), ('GTA', 'V'), ('GTC', 'V'), ('GTG', 'V'), ('GTT', 'V'), ('GCC', 'A'), ('GAC', 'D'), ('GAT', 'D'), ('GAA', 'E'), ('GAG', 'E'), ('GGG', 'G'), ('TCG', 'S'), ('TTC', 'F'), ('TTT', 'F'), ('TTA', 'L'), ('TTG', 'L'), ('TAC', 'Y'), ('TAT', 'Y'), ('TGC', 'C'), ('TGT', 'C'), ('TGA', '_'), ('TGG', 'W')], 'codon_to_score': {'ATA': 1.3210296796611976, 'ATG': 1.3210296796611976, 'ACC': 1.3210296796611976, 'AAC': 1.3210296796611976, 'AAG': 1.3210296796611976, 'AGG': 1.3210296796611976, 'CTA': 1.3210296796611976, 'CTC': 1.3210296796611976, 'CTG': 1.3210296796611976, 'CTT': 1.3210296796611976, 'CCA': 1.3210296796611976, 'CCC': 1.3210296796611976, 'CCG': 1.3210296796611976, 'CCT': 1.3210296796611976, 'CAC': 1.3210296796611976, 'CAT': 1.3210296796611976, 'CAA': 1.3210296796611976, 'CAG': 1.3210296796611976, 'GTA': 1.3210296796611976, 'GTC': 1.3210296796611976, 'GTG': 1.3210296796611976, 'GTT': 1.3210296796611976, 'GCC': 1.3210296796611976, 'GAC': 1.3210296796611976, 'GAT': 1.3210296796611976, 'GAA': 1.3210296796611976, 'GAG': 1.3210296796611976, 'GGG': 1.3210296796611976, 'TCG': 1.3210296796611976, 'TTC': 1.3210296796611976, 'TTT': 1.3210296796611976, 'TTA': 1.3210296796611976, 'TTG': 1.3210296796611976, 'TAC': 1.3210296796611976, 'TAT': 1.3210296796611976, 'TGC': 1.3210296796611976, 'TGT': 1.3210296796611976, 'TGA': 1.3210296796611976, 'TGG': 1.3210296796611976, 'ATC': 1.275711369910516, 'ATT': 1.255517336981766, 'ACA': 1.0881943347817706, 'ACG': 1.183388735933502, 'ACT': 1.2154628123342508, 'AAT': 1.3194384487448594, 'AAA': 1.3116396219207007, 'AGC': 1.3071701466169863, 'AGT': 1.3157096548324163, 'AGA': 1.2938620252252506, 'CGA': 1.316362137087533, 'CGC': 1.3080053546693544, 'CGG': 1.3135633165980023, 'CGT': 1.3096700417410194, 'GCA': 1.3115767739254858, 'GCG': 1.3148086886790944, 'GCT': 1.3123333720183112, 'GGA': 1.2676606925146248, 'GGC': 1.2918215280105247, 'GGT': 1.3137637475686577, 'TCA': 1.3004424717845575, 'TCC': 1.3167347844579074, 'TCT': 1.304760364044827, 'TAA': 1.301859126919474, 'TAG': 1.3189430186307098}, 'sequence_score': 1.3210296796611976}]}], 'evaluation': [{'organisms': [{'name': 'Escherichia coli', 'is_wanted': True, 'cai_initial_score': 0.805654002766921, 'cai_final_score': 0.2791622436206114, 'dist_score': -5.727777376982936}, {'name': 'Bacillus subtilis', 'is_wanted': False, 'cai_initial_score': 0.5212027732238987, 'cai_final_score': 0.22051774269176855, 'dist_score': -7.175880852919855}], 'final_sequence': 'ATGAAGAGGATATCGACCACCATAACCACCACCATAACCATAACCACCGGGAACGGGGCCGGGTGA', 'average_distance_score': 0.7240517379684595, 'average_distance_non_normalized_score': -0.11290336430708972, 'weakest_link_score': 0.7240517379684595, 'ratio_score': 1.0366151182031589}, {'organisms': [{'name': 'Escherichia coli', 'is_wanted': True, 'cai_initial_score': 0.805654002766921, 'cai_final_score': 0.2791622436206114, 'dist_score': -5.727777376982936}, {'name': 'Bacillus subtilis', 'is_wanted': False, 'cai_initial_score': 0.5212027732238987, 'cai_final_score': 0.22051774269176855, 'dist_score': -7.175880852919855}], 'final_sequence': 'ATGAAGAGGATATCGACCACCATAACCACCACCATAACCATAACCACCGGGAACGGGGCCGGGTGA', 'average_distance_score': 0.7240517379684595, 'average_distance_non_normalized_score': -0.11290336430708972, 'weakest_link_score': 0.7240517379684595, 'ratio_score': 1.0366151182031589}, {'organisms': [{'name': 'Escherichia coli', 'is_wanted': True, 'cai_initial_score': 0.805654002766921, 'cai_final_score': 0.2791622436206114, 'dist_score': -5.727777376982936}, {'name': 'Bacillus subtilis', 'is_wanted': False, 'cai_initial_score': 0.5212027732238987, 'cai_final_score': 0.22051774269176855, 'dist_score': -7.175880852919855}], 'final_sequence': 'ATGAAGAGGATATCGACCACCATAACCACCACCATAACCATAACCACCGGGAACGGGGCCGGGTGA', 'average_distance_score': 0.7240517379684595, 'average_distance_non_normalized_score': -0.11290336430708972, 'weakest_link_score': 0.7240517379684595, 'ratio_score': 1.0366151182031589}, {'organisms': [{'name': 'Escherichia coli', 'is_wanted': True, 'cai_initial_score': 0.805654002766921, 'cai_final_score': 0.2791622436206114, 'dist_score': -5.727777376982936}, {'name': 'Bacillus subtilis', 'is_wanted': False, 'cai_initial_score': 0.5212027732238987, 'cai_final_score': 0.22051774269176855, 'dist_score': -7.175880852919855}], 'final_sequence': 'ATGAAGAGGATATCGACCACCATAACCACCACCATAACCATAACCACCGGGAACGGGGCCGGGTGA', 'average_distance_score': 0.7240517379684595, 'average_distance_non_normalized_score': -0.11290336430708972, 'weakest_link_score': 0.7240517379684595, 'ratio_score': 1.0366151182031589}], 'final_evaluation': {'final_sequence': 'ATGAAGAGGATATCGACCACCATAACCACCACCATAACCATAACCACCGGGAACGGGGCCGGGTGA', 'average_distance_score': 0.7240517379684595, 'average_distance_non_normalized_score': -0.11290336430708972, 'weakest_link_score': 0.7240517379684595, 'ratio_score': 1.0366151182031589}}\n"
     ]
    }
   ],
   "source": [
    "result = run_modules(inputs[0][1], should_run_output_module=False)\n",
    "orf = get_orf_summary(result)"
   ]
  }
 ],
 "metadata": {
  "kernelspec": {
   "display_name": "Python 3 (ipykernel)",
   "language": "python",
   "name": "python3"
  },
  "language_info": {
   "codemirror_mode": {
    "name": "ipython",
    "version": 3
   },
   "file_extension": ".py",
   "mimetype": "text/x-python",
   "name": "python",
   "nbconvert_exporter": "python",
   "pygments_lexer": "ipython3",
   "version": "3.9.12"
  }
 },
 "nbformat": 4,
 "nbformat_minor": 5
}
